{
 "cells": [
  {
   "cell_type": "markdown",
   "metadata": {},
   "source": []
  },
  {
   "cell_type": "markdown",
   "metadata": {},
   "source": [
    "# Исследование объявлений о продаже квартир\n",
    "\n",
    "В вашем распоряжении данные сервиса Яндекс.Недвижимость! — архив объявлений о продаже квартир в Санкт-Петербурге и соседних населённых пунктов за несколько лет. Нужно научиться определять рыночную стоимость объектов недвижимости. Ваша задача — установить параметры. Это позволит построить автоматизированную систему: она отследит аномалии и мошенническую деятельность. \n",
    "\n",
    "По каждой квартире на продажу доступны два вида данных. Первые вписаны пользователем, вторые — получены автоматически на основе картографических данных. Например, расстояние до центра, аэропорта, ближайшего парка и водоёма. "
   ]
  },
  {
   "cell_type": "markdown",
   "metadata": {},
   "source": [
    "\n",
    "<h1>Введение</h1>\n",
    "\n",
    "Цель задачи определить параметры, влияющие на рыночную стоимость объектов недвижимости.\n",
    "\n",
    "В нашем распоряжении есть файл с архивом объявлений о продажах недвижимости за некоторый период времени, содержащий следущие параметры.\n",
    "\n",
    "Описание параметров.\n",
    "\n",
    "airports_nearest — расстояние до ближайшего аэропорта в метрах (м)<br>\n",
    "balcony — число балконов<br>\n",
    "ceiling_height — высота потолков (м)<br>\n",
    "cityCenters_nearest — расстояние до центра города (м)<br>\n",
    "days_exposition — сколько дней было размещено объявление (от публикации до снятия)<br>\n",
    "first_day_exposition — дата публикации<br>\n",
    "floor — этаж<br>\n",
    "floors_total — всего этажей в доме<br>\n",
    "is_apartment — апартаменты (булев тип)<br>\n",
    "kitchen_area — площадь кухни в квадратных метрах (м²)<br>\n",
    "last_price — цена на момент снятия с публикации<br>\n",
    "living_area — жилая площадь в квадратных метрах (м²)<br>\n",
    "locality_name — название населённого пункта<br>\n",
    "open_plan — свободная планировка (булев тип)<br>\n",
    "parks_around3000 — число парков в радиусе 3 км<br>\n",
    "parks_nearest — расстояние до ближайшего парка (м)<br>\n",
    "ponds_around3000 — число водоёмов в радиусе 3 км<br>\n",
    "ponds_nearest — расстояние до ближайшего водоёма (м)<br>\n",
    "rooms — число комнат<br>\n",
    "studio — квартира-студия (булев тип)<br>\n",
    "total_area — общая площадь квартиры в квадратных метрах (м²)<br>\n",
    "total_images — число фотографий квартиры в объявлении\n",
    "\n",
    "\n",
    "В процессе работы предстоит изучить полученные данные, провести их предварительную обработку, добавить необходимые новые столбцы, после чего провести исследовательский анализ данных.\n"
   ]
  },
  {
   "cell_type": "markdown",
   "metadata": {},
   "source": [
    "### Откройте файл с данными и изучите общую информацию. "
   ]
  },
  {
   "cell_type": "code",
   "execution_count": 1,
   "metadata": {},
   "outputs": [],
   "source": [
    "import pandas as pd\n",
    "import matplotlib.pyplot as plt "
   ]
  },
  {
   "cell_type": "code",
   "execution_count": 2,
   "metadata": {},
   "outputs": [
    {
     "ename": "FileNotFoundError",
     "evalue": "[Errno 2] No such file or directory: '/datasets/real_estate_data.csv'",
     "output_type": "error",
     "traceback": [
      "\u001b[1;31m---------------------------------------------------------------------------\u001b[0m",
      "\u001b[1;31mFileNotFoundError\u001b[0m                         Traceback (most recent call last)",
      "Cell \u001b[1;32mIn[2], line 1\u001b[0m\n\u001b[1;32m----> 1\u001b[0m data \u001b[38;5;241m=\u001b[39m pd\u001b[38;5;241m.\u001b[39mread_csv(\u001b[38;5;124m'\u001b[39m\u001b[38;5;124m/datasets/real_estate_data.csv\u001b[39m\u001b[38;5;124m'\u001b[39m, sep\u001b[38;5;241m=\u001b[39m\u001b[38;5;124m'\u001b[39m\u001b[38;5;130;01m\\t\u001b[39;00m\u001b[38;5;124m'\u001b[39m)\n\u001b[0;32m      2\u001b[0m \u001b[38;5;28mprint\u001b[39m(data\u001b[38;5;241m.\u001b[39minfo())\n\u001b[0;32m      3\u001b[0m data\u001b[38;5;241m.\u001b[39mhist(figsize\u001b[38;5;241m=\u001b[39m(\u001b[38;5;241m15\u001b[39m, \u001b[38;5;241m20\u001b[39m))\n",
      "File \u001b[1;32m~\\anaconda3\\Lib\\site-packages\\pandas\\io\\parsers\\readers.py:912\u001b[0m, in \u001b[0;36mread_csv\u001b[1;34m(filepath_or_buffer, sep, delimiter, header, names, index_col, usecols, dtype, engine, converters, true_values, false_values, skipinitialspace, skiprows, skipfooter, nrows, na_values, keep_default_na, na_filter, verbose, skip_blank_lines, parse_dates, infer_datetime_format, keep_date_col, date_parser, date_format, dayfirst, cache_dates, iterator, chunksize, compression, thousands, decimal, lineterminator, quotechar, quoting, doublequote, escapechar, comment, encoding, encoding_errors, dialect, on_bad_lines, delim_whitespace, low_memory, memory_map, float_precision, storage_options, dtype_backend)\u001b[0m\n\u001b[0;32m    899\u001b[0m kwds_defaults \u001b[38;5;241m=\u001b[39m _refine_defaults_read(\n\u001b[0;32m    900\u001b[0m     dialect,\n\u001b[0;32m    901\u001b[0m     delimiter,\n\u001b[1;32m   (...)\u001b[0m\n\u001b[0;32m    908\u001b[0m     dtype_backend\u001b[38;5;241m=\u001b[39mdtype_backend,\n\u001b[0;32m    909\u001b[0m )\n\u001b[0;32m    910\u001b[0m kwds\u001b[38;5;241m.\u001b[39mupdate(kwds_defaults)\n\u001b[1;32m--> 912\u001b[0m \u001b[38;5;28;01mreturn\u001b[39;00m _read(filepath_or_buffer, kwds)\n",
      "File \u001b[1;32m~\\anaconda3\\Lib\\site-packages\\pandas\\io\\parsers\\readers.py:577\u001b[0m, in \u001b[0;36m_read\u001b[1;34m(filepath_or_buffer, kwds)\u001b[0m\n\u001b[0;32m    574\u001b[0m _validate_names(kwds\u001b[38;5;241m.\u001b[39mget(\u001b[38;5;124m\"\u001b[39m\u001b[38;5;124mnames\u001b[39m\u001b[38;5;124m\"\u001b[39m, \u001b[38;5;28;01mNone\u001b[39;00m))\n\u001b[0;32m    576\u001b[0m \u001b[38;5;66;03m# Create the parser.\u001b[39;00m\n\u001b[1;32m--> 577\u001b[0m parser \u001b[38;5;241m=\u001b[39m TextFileReader(filepath_or_buffer, \u001b[38;5;241m*\u001b[39m\u001b[38;5;241m*\u001b[39mkwds)\n\u001b[0;32m    579\u001b[0m \u001b[38;5;28;01mif\u001b[39;00m chunksize \u001b[38;5;129;01mor\u001b[39;00m iterator:\n\u001b[0;32m    580\u001b[0m     \u001b[38;5;28;01mreturn\u001b[39;00m parser\n",
      "File \u001b[1;32m~\\anaconda3\\Lib\\site-packages\\pandas\\io\\parsers\\readers.py:1407\u001b[0m, in \u001b[0;36mTextFileReader.__init__\u001b[1;34m(self, f, engine, **kwds)\u001b[0m\n\u001b[0;32m   1404\u001b[0m     \u001b[38;5;28mself\u001b[39m\u001b[38;5;241m.\u001b[39moptions[\u001b[38;5;124m\"\u001b[39m\u001b[38;5;124mhas_index_names\u001b[39m\u001b[38;5;124m\"\u001b[39m] \u001b[38;5;241m=\u001b[39m kwds[\u001b[38;5;124m\"\u001b[39m\u001b[38;5;124mhas_index_names\u001b[39m\u001b[38;5;124m\"\u001b[39m]\n\u001b[0;32m   1406\u001b[0m \u001b[38;5;28mself\u001b[39m\u001b[38;5;241m.\u001b[39mhandles: IOHandles \u001b[38;5;241m|\u001b[39m \u001b[38;5;28;01mNone\u001b[39;00m \u001b[38;5;241m=\u001b[39m \u001b[38;5;28;01mNone\u001b[39;00m\n\u001b[1;32m-> 1407\u001b[0m \u001b[38;5;28mself\u001b[39m\u001b[38;5;241m.\u001b[39m_engine \u001b[38;5;241m=\u001b[39m \u001b[38;5;28mself\u001b[39m\u001b[38;5;241m.\u001b[39m_make_engine(f, \u001b[38;5;28mself\u001b[39m\u001b[38;5;241m.\u001b[39mengine)\n",
      "File \u001b[1;32m~\\anaconda3\\Lib\\site-packages\\pandas\\io\\parsers\\readers.py:1661\u001b[0m, in \u001b[0;36mTextFileReader._make_engine\u001b[1;34m(self, f, engine)\u001b[0m\n\u001b[0;32m   1659\u001b[0m     \u001b[38;5;28;01mif\u001b[39;00m \u001b[38;5;124m\"\u001b[39m\u001b[38;5;124mb\u001b[39m\u001b[38;5;124m\"\u001b[39m \u001b[38;5;129;01mnot\u001b[39;00m \u001b[38;5;129;01min\u001b[39;00m mode:\n\u001b[0;32m   1660\u001b[0m         mode \u001b[38;5;241m+\u001b[39m\u001b[38;5;241m=\u001b[39m \u001b[38;5;124m\"\u001b[39m\u001b[38;5;124mb\u001b[39m\u001b[38;5;124m\"\u001b[39m\n\u001b[1;32m-> 1661\u001b[0m \u001b[38;5;28mself\u001b[39m\u001b[38;5;241m.\u001b[39mhandles \u001b[38;5;241m=\u001b[39m get_handle(\n\u001b[0;32m   1662\u001b[0m     f,\n\u001b[0;32m   1663\u001b[0m     mode,\n\u001b[0;32m   1664\u001b[0m     encoding\u001b[38;5;241m=\u001b[39m\u001b[38;5;28mself\u001b[39m\u001b[38;5;241m.\u001b[39moptions\u001b[38;5;241m.\u001b[39mget(\u001b[38;5;124m\"\u001b[39m\u001b[38;5;124mencoding\u001b[39m\u001b[38;5;124m\"\u001b[39m, \u001b[38;5;28;01mNone\u001b[39;00m),\n\u001b[0;32m   1665\u001b[0m     compression\u001b[38;5;241m=\u001b[39m\u001b[38;5;28mself\u001b[39m\u001b[38;5;241m.\u001b[39moptions\u001b[38;5;241m.\u001b[39mget(\u001b[38;5;124m\"\u001b[39m\u001b[38;5;124mcompression\u001b[39m\u001b[38;5;124m\"\u001b[39m, \u001b[38;5;28;01mNone\u001b[39;00m),\n\u001b[0;32m   1666\u001b[0m     memory_map\u001b[38;5;241m=\u001b[39m\u001b[38;5;28mself\u001b[39m\u001b[38;5;241m.\u001b[39moptions\u001b[38;5;241m.\u001b[39mget(\u001b[38;5;124m\"\u001b[39m\u001b[38;5;124mmemory_map\u001b[39m\u001b[38;5;124m\"\u001b[39m, \u001b[38;5;28;01mFalse\u001b[39;00m),\n\u001b[0;32m   1667\u001b[0m     is_text\u001b[38;5;241m=\u001b[39mis_text,\n\u001b[0;32m   1668\u001b[0m     errors\u001b[38;5;241m=\u001b[39m\u001b[38;5;28mself\u001b[39m\u001b[38;5;241m.\u001b[39moptions\u001b[38;5;241m.\u001b[39mget(\u001b[38;5;124m\"\u001b[39m\u001b[38;5;124mencoding_errors\u001b[39m\u001b[38;5;124m\"\u001b[39m, \u001b[38;5;124m\"\u001b[39m\u001b[38;5;124mstrict\u001b[39m\u001b[38;5;124m\"\u001b[39m),\n\u001b[0;32m   1669\u001b[0m     storage_options\u001b[38;5;241m=\u001b[39m\u001b[38;5;28mself\u001b[39m\u001b[38;5;241m.\u001b[39moptions\u001b[38;5;241m.\u001b[39mget(\u001b[38;5;124m\"\u001b[39m\u001b[38;5;124mstorage_options\u001b[39m\u001b[38;5;124m\"\u001b[39m, \u001b[38;5;28;01mNone\u001b[39;00m),\n\u001b[0;32m   1670\u001b[0m )\n\u001b[0;32m   1671\u001b[0m \u001b[38;5;28;01massert\u001b[39;00m \u001b[38;5;28mself\u001b[39m\u001b[38;5;241m.\u001b[39mhandles \u001b[38;5;129;01mis\u001b[39;00m \u001b[38;5;129;01mnot\u001b[39;00m \u001b[38;5;28;01mNone\u001b[39;00m\n\u001b[0;32m   1672\u001b[0m f \u001b[38;5;241m=\u001b[39m \u001b[38;5;28mself\u001b[39m\u001b[38;5;241m.\u001b[39mhandles\u001b[38;5;241m.\u001b[39mhandle\n",
      "File \u001b[1;32m~\\anaconda3\\Lib\\site-packages\\pandas\\io\\common.py:859\u001b[0m, in \u001b[0;36mget_handle\u001b[1;34m(path_or_buf, mode, encoding, compression, memory_map, is_text, errors, storage_options)\u001b[0m\n\u001b[0;32m    854\u001b[0m \u001b[38;5;28;01melif\u001b[39;00m \u001b[38;5;28misinstance\u001b[39m(handle, \u001b[38;5;28mstr\u001b[39m):\n\u001b[0;32m    855\u001b[0m     \u001b[38;5;66;03m# Check whether the filename is to be opened in binary mode.\u001b[39;00m\n\u001b[0;32m    856\u001b[0m     \u001b[38;5;66;03m# Binary mode does not support 'encoding' and 'newline'.\u001b[39;00m\n\u001b[0;32m    857\u001b[0m     \u001b[38;5;28;01mif\u001b[39;00m ioargs\u001b[38;5;241m.\u001b[39mencoding \u001b[38;5;129;01mand\u001b[39;00m \u001b[38;5;124m\"\u001b[39m\u001b[38;5;124mb\u001b[39m\u001b[38;5;124m\"\u001b[39m \u001b[38;5;129;01mnot\u001b[39;00m \u001b[38;5;129;01min\u001b[39;00m ioargs\u001b[38;5;241m.\u001b[39mmode:\n\u001b[0;32m    858\u001b[0m         \u001b[38;5;66;03m# Encoding\u001b[39;00m\n\u001b[1;32m--> 859\u001b[0m         handle \u001b[38;5;241m=\u001b[39m \u001b[38;5;28mopen\u001b[39m(\n\u001b[0;32m    860\u001b[0m             handle,\n\u001b[0;32m    861\u001b[0m             ioargs\u001b[38;5;241m.\u001b[39mmode,\n\u001b[0;32m    862\u001b[0m             encoding\u001b[38;5;241m=\u001b[39mioargs\u001b[38;5;241m.\u001b[39mencoding,\n\u001b[0;32m    863\u001b[0m             errors\u001b[38;5;241m=\u001b[39merrors,\n\u001b[0;32m    864\u001b[0m             newline\u001b[38;5;241m=\u001b[39m\u001b[38;5;124m\"\u001b[39m\u001b[38;5;124m\"\u001b[39m,\n\u001b[0;32m    865\u001b[0m         )\n\u001b[0;32m    866\u001b[0m     \u001b[38;5;28;01melse\u001b[39;00m:\n\u001b[0;32m    867\u001b[0m         \u001b[38;5;66;03m# Binary mode\u001b[39;00m\n\u001b[0;32m    868\u001b[0m         handle \u001b[38;5;241m=\u001b[39m \u001b[38;5;28mopen\u001b[39m(handle, ioargs\u001b[38;5;241m.\u001b[39mmode)\n",
      "\u001b[1;31mFileNotFoundError\u001b[0m: [Errno 2] No such file or directory: '/datasets/real_estate_data.csv'"
     ]
    }
   ],
   "source": [
    "\n",
    "data = pd.read_csv('/datasets/real_estate_data.csv', sep='\\t')\n",
    "print(data.info())\n",
    "data.hist(figsize=(15, 20));"
   ]
  },
  {
   "cell_type": "code",
   "execution_count": null,
   "metadata": {
    "scrolled": true
   },
   "outputs": [],
   "source": [
    "data.head()"
   ]
  },
  {
   "cell_type": "markdown",
   "metadata": {},
   "source": [
    "В полученных данных 22 столбца и 23699 строк с информацией. Гистограммы позволяют примерно понять как распределены числовые значения параметров. Некоторые гистограммы по умолчанию не слишком информативны, но по крайней мере позволяют увидеть разброс значений."
   ]
  },
  {
   "cell_type": "markdown",
   "metadata": {},
   "source": [
    "### Предобработка данных"
   ]
  },
  {
   "cell_type": "markdown",
   "metadata": {},
   "source": [
    "Найдем явные задвоения, если такие имеются. Переименуем столбец cityCenters_nearest."
   ]
  },
  {
   "cell_type": "code",
   "execution_count": null,
   "metadata": {
    "scrolled": true
   },
   "outputs": [],
   "source": [
    "data = data.rename(columns={'cityCenters_nearest':'city_centers_nearest'})\n",
    "data.duplicated().sum()"
   ]
  },
  {
   "cell_type": "markdown",
   "metadata": {},
   "source": [
    "Явных задвоений нет.\n",
    "\n",
    "Пропущенные значения есть в столбцах ceiling_height, floors_total, living_area, is_apartment, kitchen_area, balcony, locality_name, airports_nearest, cityCenters_nearest, parks_around3000, parks_nearest, ponds_around3000, ponds_nearest, days_exposition.  \n",
    "Разберем каждый столбец с пропущенными значениями.  \n",
    "  \n",
    "**Высота потолка.**"
   ]
  },
  {
   "cell_type": "code",
   "execution_count": null,
   "metadata": {},
   "outputs": [],
   "source": [
    "#ceiling_height - высота потолка\n",
    "print(data['ceiling_height'].median())\n",
    "data['ceiling_height'].isna().mean()"
   ]
  },
  {
   "cell_type": "markdown",
   "metadata": {},
   "source": [
    "Доля пустых значений 38,79%. Медианное значение 2,65 выглядит правдоподобно. Заменим пустые значение медианным."
   ]
  },
  {
   "cell_type": "code",
   "execution_count": null,
   "metadata": {},
   "outputs": [],
   "source": [
    "data['ceiling_height'] = data['ceiling_height'].fillna(data['ceiling_height'].median())\n",
    "data['ceiling_height'].isna().sum()"
   ]
  },
  {
   "cell_type": "markdown",
   "metadata": {},
   "source": [
    "**Всего этажей в доме.**"
   ]
  },
  {
   "cell_type": "code",
   "execution_count": null,
   "metadata": {},
   "outputs": [],
   "source": [
    "#floors_total - всего этажей\n",
    "print(data['floors_total'].isna().sum()) # всего пустых  \n",
    "data['floors_total'].isna().mean() #доля пустых\n"
   ]
  },
  {
   "cell_type": "markdown",
   "metadata": {},
   "source": [
    "Незаполнено 86 раз, или всего 0,36%. Удалим незаполненные."
   ]
  },
  {
   "cell_type": "code",
   "execution_count": null,
   "metadata": {},
   "outputs": [],
   "source": [
    "data = data.dropna(subset=['floors_total'])\n",
    "print(data['floors_total'].isna().sum())"
   ]
  },
  {
   "cell_type": "markdown",
   "metadata": {},
   "source": [
    "<i><strike>Незаполнено 86 раз, или всего 0,36%. Не указано количество этажей в строке, но посмотрим, указан ли этаж для таких строк.</strike></i>"
   ]
  },
  {
   "cell_type": "code",
   "execution_count": null,
   "metadata": {
    "scrolled": true
   },
   "outputs": [],
   "source": [
    "#data[data['floors_total'].isna()]['floor'].isna().sum()"
   ]
  },
  {
   "cell_type": "markdown",
   "metadata": {},
   "source": [
    "<i><strike>Пустых значений нет. Заменим пустые значения столбца floors_total на медианное значение столбца floors_total, но если значение floor больше, то возьмем его.\n",
    "</strike></i>"
   ]
  },
  {
   "cell_type": "code",
   "execution_count": null,
   "metadata": {},
   "outputs": [],
   "source": [
    "#медиана по столбцу floors_total\n",
    "#floors_total_median = data['floors_total'].median() \n",
    "#floors_total_median"
   ]
  },
  {
   "cell_type": "code",
   "execution_count": null,
   "metadata": {},
   "outputs": [],
   "source": [
    "#создание столбца, где номер этажа больше чем медиана floors_total\n",
    "#floors_to_add = data[(data['floors_total'].isna()) & (data['floor']>=floors_total_median)]['floor']\n",
    "#print(floors_to_add)\n",
    "#data.loc[(data['floors_total'].isna()) & (data['floor']>=floors_total_median),'floors_total'] = floors_to_add\n",
    "#data['floors_total'].isna().sum()\n",
    "#осталось заполнить"
   ]
  },
  {
   "cell_type": "code",
   "execution_count": null,
   "metadata": {},
   "outputs": [],
   "source": [
    "#data['floors_total'] = data['floors_total'].fillna(floors_total_median)\n",
    "#data['floors_total'].isna().sum()\n",
    "#осталось заполнить"
   ]
  },
  {
   "cell_type": "markdown",
   "metadata": {},
   "source": [
    "**Жилая площадь в квадратных метрах (м²).**"
   ]
  },
  {
   "cell_type": "code",
   "execution_count": null,
   "metadata": {},
   "outputs": [],
   "source": [
    "#living_area - жилая площадь\n",
    "data['living_area'].isna().sum()\n"
   ]
  },
  {
   "cell_type": "markdown",
   "metadata": {},
   "source": [
    "1903 - всего пропусков. Заменим медианным значением."
   ]
  },
  {
   "cell_type": "code",
   "execution_count": null,
   "metadata": {},
   "outputs": [],
   "source": [
    "print('Медиана living_area')\n",
    "print(data['living_area'].median())\n",
    "data['living_area'] = data['living_area'].fillna(data['living_area'].median())\n",
    "print('Осталось пропусков')\n",
    "print(data['living_area'].isna().sum())"
   ]
  },
  {
   "cell_type": "markdown",
   "metadata": {},
   "source": [
    "**Апартаменты или нет.**"
   ]
  },
  {
   "cell_type": "code",
   "execution_count": null,
   "metadata": {},
   "outputs": [],
   "source": [
    "#кол-во пропусков\n",
    "print(data['is_apartment'].isna().sum())\n",
    "#что есть в столбце is_apartment \n",
    "data.groupby('is_apartment')['is_apartment'].count()"
   ]
  },
  {
   "cell_type": "markdown",
   "metadata": {},
   "source": [
    "<i><strike>Подавляющая часть столбца не заполнена, а апартаментов совсем мало. Здесь заменять пропуски не нахожу смысла.</strike></i>  \n",
    "Заполним пустоты как False."
   ]
  },
  {
   "cell_type": "code",
   "execution_count": null,
   "metadata": {},
   "outputs": [],
   "source": [
    "data['is_apartment'] = data['is_apartment'].fillna(False)\n",
    "print(data['is_apartment'].isna().sum())"
   ]
  },
  {
   "cell_type": "markdown",
   "metadata": {},
   "source": [
    "\n",
    "**Площадь кухни в квадратных метрах.**"
   ]
  },
  {
   "cell_type": "code",
   "execution_count": null,
   "metadata": {},
   "outputs": [],
   "source": [
    "#кол-во пропусков\n",
    "print(data['kitchen_area'].isna().sum())"
   ]
  },
  {
   "cell_type": "markdown",
   "metadata": {},
   "source": [
    "Заменим пропуски, но только если в столбце studio значение равно false"
   ]
  },
  {
   "cell_type": "code",
   "execution_count": null,
   "metadata": {},
   "outputs": [],
   "source": [
    "data.loc[(data['studio']==False) & (data['kitchen_area'].isna()==True),'kitchen_area'] = data['kitchen_area'].median()\n",
    "#проверим\n",
    "data[data['kitchen_area'].isna() == True ]['studio'].unique()\n",
    "#data['kitchen_area']\n"
   ]
  },
  {
   "cell_type": "markdown",
   "metadata": {},
   "source": [
    "Все случаи, где значения остались пустые, это студии.  \n",
    "  \n",
    "  \n",
    "**Число балконов.**"
   ]
  },
  {
   "cell_type": "code",
   "execution_count": null,
   "metadata": {
    "scrolled": true
   },
   "outputs": [],
   "source": [
    "#кол-во пропусков\n",
    "print(data['balcony'].isna().sum())\n",
    "#какие значения есть в столбце\n",
    "data['balcony'].unique()\n",
    "#заполним нулями\n",
    "data['balcony'] = data['balcony'].fillna(0)\n",
    "#проверим, после замены\n",
    "print('После замен пропусков')\n",
    "print(data['balcony'].isna().sum())"
   ]
  },
  {
   "cell_type": "markdown",
   "metadata": {},
   "source": [
    "**Название населённого пункта.**"
   ]
  },
  {
   "cell_type": "code",
   "execution_count": null,
   "metadata": {},
   "outputs": [],
   "source": [
    "#кол-во пропусков\n",
    "print(data['locality_name'].isna().sum())"
   ]
  },
  {
   "cell_type": "markdown",
   "metadata": {},
   "source": [
    "<i><strike>49 строк без названия насленного пункта. Оставляю без изменений.</strike></i>  \n",
    "Удаляем незаполненные."
   ]
  },
  {
   "cell_type": "code",
   "execution_count": null,
   "metadata": {},
   "outputs": [],
   "source": [
    "data = data.dropna(subset=['locality_name'])\n",
    "print(data['locality_name'].isna().sum())"
   ]
  },
  {
   "cell_type": "markdown",
   "metadata": {},
   "source": [
    "**Расстояние до ближайшего аэропорта в метрах.**"
   ]
  },
  {
   "cell_type": "code",
   "execution_count": null,
   "metadata": {},
   "outputs": [],
   "source": [
    "#кол-во пропусков\n",
    "print(data['airports_nearest'].isna().sum())"
   ]
  },
  {
   "cell_type": "markdown",
   "metadata": {},
   "source": [
    "5542 пропуска, оставляю без изменений.  \n",
    "\n",
    "**Расстояние до центра города.**"
   ]
  },
  {
   "cell_type": "code",
   "execution_count": null,
   "metadata": {},
   "outputs": [],
   "source": [
    "#кол-во пропусков\n",
    "print(data['city_centers_nearest'].isna().sum())"
   ]
  },
  {
   "cell_type": "markdown",
   "metadata": {},
   "source": [
    "5519 пропусков, оставляю без изменений.  \n",
    "\n",
    "\n",
    "**Число парков в радиусе 3 км и расстояние до ближайшего парка (м).**"
   ]
  },
  {
   "cell_type": "code",
   "execution_count": null,
   "metadata": {},
   "outputs": [],
   "source": [
    "#кол-во пропусков\n",
    "print(data['parks_around3000'].isna().sum())\n",
    "print(data['parks_nearest'].isna().sum())"
   ]
  },
  {
   "cell_type": "markdown",
   "metadata": {},
   "source": [
    "Посмотрим на значения стобца parks_around3000"
   ]
  },
  {
   "cell_type": "code",
   "execution_count": null,
   "metadata": {},
   "outputs": [],
   "source": [
    "data['parks_around3000'].unique()"
   ]
  },
  {
   "cell_type": "markdown",
   "metadata": {},
   "source": [
    "Посмотрим, что в столбце parks_nearest в строках, где в parks_around3000 пропуски и нули."
   ]
  },
  {
   "cell_type": "code",
   "execution_count": null,
   "metadata": {},
   "outputs": [],
   "source": [
    "print(data[data['parks_around3000'].isna()]['parks_nearest'].unique())\n",
    "print(data[data['parks_around3000']==0]['parks_nearest'].unique())"
   ]
  },
  {
   "cell_type": "markdown",
   "metadata": {},
   "source": [
    "В первом случае везде пропуски, во втором пропуски и значения больше 3000 м. Заполняем пропуски в parks_around3000 нулями. Пропуски в parks_nearest не меняем.  \n",
    "\n"
   ]
  },
  {
   "cell_type": "code",
   "execution_count": null,
   "metadata": {},
   "outputs": [],
   "source": [
    "data['parks_around3000'] = data['parks_around3000'].fillna(0)\n",
    "#проверим, после замены\n",
    "print('После замен пропусков')\n",
    "print(data['parks_around3000'].isna().sum())"
   ]
  },
  {
   "cell_type": "markdown",
   "metadata": {},
   "source": [
    "**Число водоёмов в радиусе 3 км и расстояние до ближайшего водоёма (м)**"
   ]
  },
  {
   "cell_type": "code",
   "execution_count": null,
   "metadata": {},
   "outputs": [],
   "source": [
    "# по аналогии с парками\n",
    "# пропуски\n",
    "print(data['ponds_around3000'].isna().sum())\n",
    "print(data['ponds_nearest'].isna().sum())"
   ]
  },
  {
   "cell_type": "code",
   "execution_count": null,
   "metadata": {},
   "outputs": [],
   "source": [
    "#уник.значения ponds_around3000\n",
    "data['ponds_around3000'].unique()"
   ]
  },
  {
   "cell_type": "code",
   "execution_count": null,
   "metadata": {},
   "outputs": [],
   "source": [
    "#что в ponds_nearest, там где в ponds_around3000 ноль или пусто\n",
    "print(data[data['ponds_around3000'].isna()]['ponds_nearest'].unique())\n",
    "print(data[data['ponds_around3000']==0]['ponds_nearest'].unique())"
   ]
  },
  {
   "cell_type": "markdown",
   "metadata": {},
   "source": [
    "Там где ponds_around3000 не заполнено, ponds_nearest не заполнено тоже. Заполняем пропуски в ponds_around3000 нулями. Пропуски в ponds_nearest не меняем."
   ]
  },
  {
   "cell_type": "code",
   "execution_count": null,
   "metadata": {},
   "outputs": [],
   "source": [
    "data['ponds_around3000'] = data['ponds_around3000'].fillna(0)\n",
    "#проверим, после замены\n",
    "print('После замен пропусков')\n",
    "print(data['ponds_around3000'].isna().sum())"
   ]
  },
  {
   "cell_type": "markdown",
   "metadata": {},
   "source": [
    "**Cколько дней было размещено объявление.**"
   ]
  },
  {
   "cell_type": "code",
   "execution_count": null,
   "metadata": {},
   "outputs": [],
   "source": [
    "#кол-во пропусков\n",
    "print(data['days_exposition'].isna().sum())"
   ]
  },
  {
   "cell_type": "markdown",
   "metadata": {},
   "source": [
    "Не все объявления были сняты, т.к. не все объекты недвижимости проданы. Здесь нет смысла ничего менять.  \n",
    "\n",
    "**Причины пропусков.**\n",
    "\n",
    "Основных причин две. Первое - это нежелание людей по какой-либо причине указывать сооответствующие данные, либо же человеку просто не приходит в голову указывать информацию, которая к его квартире не относится, число балконов, например, если в квартире нет балкона. Кроме этого возможны потери данных при загрузке/выгрузке информации из одного источника в другой, это может быть как человеческтй фактор - не указали, что какой-то столбец надо загружать/выгружать, так и технический фактор - информационная система не смогла правильно  обработать столбец и данные не загрузились.\n",
    "\n"
   ]
  },
  {
   "cell_type": "markdown",
   "metadata": {},
   "source": [
    "**Изменение типов данных.**\n",
    "\n",
    "Изменить данные нужно в столбце first_day_exposition, чтобы этот столбец удобнее было использовать в дальнейших вычислениях."
   ]
  },
  {
   "cell_type": "code",
   "execution_count": null,
   "metadata": {},
   "outputs": [],
   "source": [
    "data['first_day_exposition'] = pd.to_datetime(data['first_day_exposition'], format='%Y-%m-%dT%H:%M:%S')\n",
    "data['first_day_exposition'].head()"
   ]
  },
  {
   "cell_type": "markdown",
   "metadata": {},
   "source": [
    "Кроме этого нужно перевести вещественные числа в целые в столбцах \"всего этажей в доме\", \"число балконов\", \"число парков в радиусе 3 км\", \"число водоёмов в радиусе 3 км\"."
   ]
  },
  {
   "cell_type": "code",
   "execution_count": null,
   "metadata": {
    "scrolled": true
   },
   "outputs": [],
   "source": [
    "#до\n",
    "print(data['floors_total'].dtype, data['balcony'].dtype, data['parks_around3000'].dtype, data['ponds_around3000'].dtype)\n",
    "data[['floors_total','balcony','parks_around3000','ponds_around3000']]= data[['floors_total','balcony','parks_around3000','ponds_around3000']].astype('int')\n",
    "#после\n",
    "print(data['floors_total'].dtype, data['balcony'].dtype, data['parks_around3000'].dtype, data['ponds_around3000'].dtype)\n",
    "\n",
    "#data.info()"
   ]
  },
  {
   "cell_type": "markdown",
   "metadata": {},
   "source": [
    "Исходно значение столбца is_apartment было object, но пропуски были заполнены как False. Проверим значение столбца сейчас."
   ]
  },
  {
   "cell_type": "code",
   "execution_count": null,
   "metadata": {
    "scrolled": true
   },
   "outputs": [],
   "source": [
    "print(data['is_apartment'].dtype)"
   ]
  },
  {
   "cell_type": "markdown",
   "metadata": {},
   "source": [
    "В столбце булев тип, изменения не нужны."
   ]
  },
  {
   "cell_type": "markdown",
   "metadata": {},
   "source": [
    "**Устранение неявных дубликатов.**  \n",
    "Неявные дубликаты есть в столбце с названиями населенных пунктов locality_name."
   ]
  },
  {
   "cell_type": "code",
   "execution_count": null,
   "metadata": {
    "scrolled": true
   },
   "outputs": [],
   "source": [
    "data['locality_name'] = (\n",
    "    data['locality_name']\n",
    "    .str.replace('ё', 'е')\n",
    "    .replace(['городской поселок ', 'поселок при железнодорожной станции ', 'коттеджный поселок ',\n",
    "    'поселок станции ', 'деревня ','поселок городского типа ',\n",
    "    'садовое товарищество ','поселок ', 'садоводческое некоммерческое товарищество ',\n",
    "    'при железнодорожной станции ', 'село '], '', regex=True)\n",
    ") \n",
    "#вывод уникальных значений для проверки\n",
    "data['locality_name'].sort_values().unique()"
   ]
  },
  {
   "cell_type": "markdown",
   "metadata": {},
   "source": [
    "На этапе предобработки данных проверены явные задвоения, в отдельных интересующих столбцах заполнены пропуски, изменен с столбец датами для возможности дальнейших операций с ними. Кроме этого обработан столбец с названиями населенных пунктов, разные варианты записи одного и того же населенного пункта приведены к одинакому виду."
   ]
  },
  {
   "cell_type": "markdown",
   "metadata": {},
   "source": [
    "### Посчитайте и добавьте в таблицу новые столбцы\n",
    "\n",
    "\n",
    "**Цена одного квадратного метра**\n",
    "square_meter_price"
   ]
  },
  {
   "cell_type": "code",
   "execution_count": null,
   "metadata": {},
   "outputs": [],
   "source": [
    "data['square_meter_price'] = (data['last_price'] / data['total_area']).round(2) \n",
    "data['square_meter_price'].head()"
   ]
  },
  {
   "cell_type": "markdown",
   "metadata": {},
   "source": [
    "**День недели публикации.**"
   ]
  },
  {
   "cell_type": "code",
   "execution_count": null,
   "metadata": {},
   "outputs": [],
   "source": [
    "data['weekday'] = pd.DatetimeIndex(data['first_day_exposition']).weekday\n",
    "data['weekday'].head()"
   ]
  },
  {
   "cell_type": "markdown",
   "metadata": {},
   "source": [
    "**Месяц публикации.**"
   ]
  },
  {
   "cell_type": "code",
   "execution_count": null,
   "metadata": {},
   "outputs": [],
   "source": [
    "data['month'] = pd.DatetimeIndex(data['first_day_exposition']).month\n",
    "data['month'].head()"
   ]
  },
  {
   "cell_type": "markdown",
   "metadata": {},
   "source": [
    "**Год публикации.**"
   ]
  },
  {
   "cell_type": "code",
   "execution_count": null,
   "metadata": {},
   "outputs": [],
   "source": [
    "data['year'] = pd.DatetimeIndex(data['first_day_exposition']).year\n",
    "data['year'].head()"
   ]
  },
  {
   "cell_type": "markdown",
   "metadata": {},
   "source": [
    "**Тип этажа квартиры.**  \n"
   ]
  },
  {
   "cell_type": "code",
   "execution_count": null,
   "metadata": {},
   "outputs": [],
   "source": [
    "data['floor_type'] = 'другой'\n",
    "data.loc[data['floor'] == data['floors_total'],'floor_type'] = 'последний'\n",
    "data.loc[data['floor'] == 1,'floor_type'] = 'первый'\n",
    "data.groupby('floor_type')['floor_type'].count()"
   ]
  },
  {
   "cell_type": "markdown",
   "metadata": {},
   "source": [
    "**Расстояние до центра города в километрах.**  \n"
   ]
  },
  {
   "cell_type": "code",
   "execution_count": null,
   "metadata": {},
   "outputs": [],
   "source": [
    "data['city_сenter_distance'] = (data['city_centers_nearest'] / 1000).round(0)\n",
    "data['city_сenter_distance'].head()"
   ]
  },
  {
   "cell_type": "markdown",
   "metadata": {},
   "source": [
    "На этом этапе добавлены столбцы, не содержащиеся в исходных данных, но которые понадобятся для дальнейших действий. "
   ]
  },
  {
   "cell_type": "markdown",
   "metadata": {},
   "source": [
    "### Проведите исследовательский анализ данных"
   ]
  },
  {
   "cell_type": "markdown",
   "metadata": {},
   "source": [
    "Рассмотрим определенные параметры и построим для них диаграммы.  \n",
    "\n",
    "**Общая площадь.**\n"
   ]
  },
  {
   "cell_type": "code",
   "execution_count": null,
   "metadata": {},
   "outputs": [],
   "source": [
    "print(data['total_area'].describe())\n",
    "data['total_area'].hist(bins=30)\n",
    "#plt.suptitle(\"suptitle\")\n",
    "#plt.plot('x', 'y')\n",
    "plt.title(\"Распределение квартир\\n с точки зрения общей площади\\n\", fontsize=12, fontweight=\"bold\")\n",
    "plt.xlabel(\"\\nОбщая площадь\", fontsize=12, fontweight=\"bold\")\n",
    "plt.ylabel(\"Количество квартир\\n\",  fontsize=12, fontweight=\"bold\")\n",
    "\n"
   ]
  },
  {
   "cell_type": "markdown",
   "metadata": {},
   "source": [
    "Максимум 900, но больше 300 уже практически ничего не видно. Построим с параметром range."
   ]
  },
  {
   "cell_type": "code",
   "execution_count": null,
   "metadata": {},
   "outputs": [],
   "source": [
    "data['total_area'].hist(bins=30, range=(0,300))\n",
    "plt.title(\"Распределение квартир\\n с точки зрения общей площади.\\nВыборка до 300 кв. метров.\\n\", fontsize=12, fontweight=\"bold\")\n",
    "plt.xlabel(\"\\nОбщая площадь\", fontsize=12, fontweight=\"bold\")\n",
    "plt.ylabel(\"Количество квартир\\n\",  fontsize=12, fontweight=\"bold\")"
   ]
  },
  {
   "cell_type": "markdown",
   "metadata": {},
   "source": [
    "Это похоже на распределение Пуассона, пик приходится на 40-50 м2, квартиры по 12 и 900 кв. метров тоже, полагаю, бывают. Здесь ничего не меняю.  \n",
    "\n",
    "Большинство квартир - это квартиры по 30-50 кв.метров, также достаточно много квартир по 50-70 кв.метров. Квартир больше 70 кв.метров уже существенно меньше - плавное снижение на графике, при этом квартир меньше 30 кв. метров очень мало - график резко обрывается."
   ]
  },
  {
   "cell_type": "markdown",
   "metadata": {},
   "source": [
    "**Жилая площадь.**"
   ]
  },
  {
   "cell_type": "code",
   "execution_count": null,
   "metadata": {},
   "outputs": [],
   "source": [
    "print(data['living_area'].describe())\n",
    "data['living_area'].hist(bins=30)\n",
    "plt.title(\"Распределение квартир\\n с точки зрения жилой площади.\\n\", fontsize=12, fontweight=\"bold\")\n",
    "plt.xlabel(\"\\nЖилая площадь\", fontsize=12, fontweight=\"bold\")\n",
    "plt.ylabel(\"Количество квартир\\n\",  fontsize=12, fontweight=\"bold\")"
   ]
  },
  {
   "cell_type": "markdown",
   "metadata": {},
   "source": [
    "Максимум 409, но больше 200 уже практически ничего не видно. Минимум 2 неправдоподобен. Отсортируем по возрастанию."
   ]
  },
  {
   "cell_type": "code",
   "execution_count": null,
   "metadata": {
    "scrolled": false
   },
   "outputs": [],
   "source": [
    "data.sort_values(by='living_area')['living_area'].head(10)"
   ]
  },
  {
   "cell_type": "markdown",
   "metadata": {},
   "source": [
    "Меньше 5 кв. метров всё же, думаю, не бывает. Удалим строки меньше 5.\n"
   ]
  },
  {
   "cell_type": "code",
   "execution_count": null,
   "metadata": {},
   "outputs": [],
   "source": [
    "indexes_to_drop = data.index[data['living_area']<5]\n",
    "indexes_to_drop\n",
    "data = data.drop(indexes_to_drop,axis=0)\n",
    "len(data)"
   ]
  },
  {
   "cell_type": "code",
   "execution_count": null,
   "metadata": {},
   "outputs": [],
   "source": [
    "#data[data['rooms']==1]['living_area'].hist(bins=30,range=(0,100))\n",
    "data['living_area'].hist(bins=50,range=(0,100))\n",
    "plt.title(\"Распределение квартир\\n с точки зрения жилой площади.\\nВыборка до 100 кв. метров.\\n\", fontsize=12, fontweight=\"bold\")\n",
    "plt.xlabel(\"\\nЖилая площадь\", fontsize=12, fontweight=\"bold\")\n",
    "plt.ylabel(\"Количество квартир\\n\",  fontsize=12, fontweight=\"bold\")\n"
   ]
  },
  {
   "cell_type": "markdown",
   "metadata": {},
   "source": [
    "Это не слишком похоже на распределение Пуассона, т.к. есть два пика, около 18 и около 30. Но возможно такие пики определяются тем, что при увеличении кол-ва жилых комнат, жилая площадь и увеличивается скачкообразно. Построим еще два графика, но с учетом количества комнат."
   ]
  },
  {
   "cell_type": "code",
   "execution_count": null,
   "metadata": {},
   "outputs": [],
   "source": [
    "data[data['rooms']==1]['living_area'].hist(bins=30,range=(0,100))\n",
    "data[data['rooms']==2]['living_area'].hist(bins=30,range=(0,100))\n",
    "\n",
    "plt.title(\"Распределение квартир\\n с точки зрения жилой площади.\\nОднокомнатные и двухкомнатные.\\n\", fontsize=12, fontweight=\"bold\")\n",
    "plt.xlabel(\"\\nЖилая площадь\", fontsize=12, fontweight=\"bold\")\n",
    "plt.ylabel(\"Количество квартир\\n\",  fontsize=12, fontweight=\"bold\")"
   ]
  },
  {
   "cell_type": "markdown",
   "metadata": {},
   "source": [
    "Очевидно, что два пика первой гистограммы определяются графиками жилых площадей однокомнатной и двухкомнатной квартир.  "
   ]
  },
  {
   "cell_type": "markdown",
   "metadata": {},
   "source": [
    "Получилось, что есть два пика, это 18-20 кв. метров, второй пик более выраженный - это 30 кв. метров. После каждого из пиков график снижается достаточно резко, например квартир с жилой площадью 21-27 кв.метров во много раз меньше, чем квартир на любом из пиков. В большую сторону график снижается плавно с 45 кв. метров до 100 кв.метров, в меньшую сторону график резко обрывается на 14 кв.метрах."
   ]
  },
  {
   "cell_type": "markdown",
   "metadata": {},
   "source": [
    "**Площадь кухни.**"
   ]
  },
  {
   "cell_type": "code",
   "execution_count": null,
   "metadata": {},
   "outputs": [],
   "source": [
    "\n",
    "print(data['kitchen_area'].describe())\n",
    "data['kitchen_area'].hist(bins=30, range=(0,50))\n",
    "#data['kitchen_area']\n",
    "plt.title(\"Распределение квартир\\n с точки зрения площади кухни.\\n\\n\", fontsize=12, fontweight=\"bold\")\n",
    "plt.xlabel(\"\\nПлощадь кухни.\", fontsize=12, fontweight=\"bold\")\n",
    "plt.ylabel(\"Количество квартир\\n\",  fontsize=12, fontweight=\"bold\")\n",
    "\n"
   ]
  },
  {
   "cell_type": "code",
   "execution_count": null,
   "metadata": {},
   "outputs": [],
   "source": [
    "data[data['kitchen_area'].isna()==False]['kitchen_area'].sort_values().tail(30)"
   ]
  },
  {
   "cell_type": "markdown",
   "metadata": {},
   "source": [
    "Это похоже на распределение Пуассона, пик около 10, максимум 112, с другой стороны если есть в квартиры в сотни квадратных метров, почему бы там не быть кухням в 112 кв. метров. Не нахожу поводов выбрасывать такие значения только потому, что они слишком большие."
   ]
  },
  {
   "cell_type": "markdown",
   "metadata": {},
   "source": [
    "Получилось, что большинство кухонь находятся в диапазоне от 5 до 12 кв.метров. Кухонь площадью от 15 до 25 кв. метров относительно мало. Кухни площадью больше 25 или меньше 5 кв. метров очень редки."
   ]
  },
  {
   "cell_type": "markdown",
   "metadata": {},
   "source": [
    "**Цена объекта.**"
   ]
  },
  {
   "cell_type": "code",
   "execution_count": null,
   "metadata": {
    "scrolled": false
   },
   "outputs": [],
   "source": [
    "print(data['last_price'].describe())\n",
    "(data['last_price']/1000000).hist(bins=50, range=(0,20))\n",
    "plt.title(\"Распределение квартир\\n с точки зрения цены.\\n\\n\", fontsize=12, fontweight=\"bold\")\n",
    "#x_labels = data['last_price']#*1000000\n",
    "plt.xlabel(\"\\nЦена, млн.руб.\", fontsize=12, fontweight=\"bold\")\n",
    "plt.ylabel(\"Количество квартир\\n\",  fontsize=12, fontweight=\"bold\")"
   ]
  },
  {
   "cell_type": "markdown",
   "metadata": {},
   "source": [
    "Без параметра range гистограмма была не информативна, с параметром range это похоже на распределение Пуассона, пик на 3,5-4 млн. рублей."
   ]
  },
  {
   "cell_type": "markdown",
   "metadata": {},
   "source": [
    "Получилось, что большинство квартир находятся в ценовом диапазоне от 3 до 5 млн.руб. В обе стороны от этих значений график снижается достаточно плавно, хотя в меньшую сторону и более резко, меньше 400 тыс. рублей предложений нет. В большую сторону совсем мало предложений становится примерно на цене в 20 млн.руб."
   ]
  },
  {
   "cell_type": "code",
   "execution_count": null,
   "metadata": {},
   "outputs": [],
   "source": [
    "data['last_price'].sort_values()"
   ]
  },
  {
   "cell_type": "markdown",
   "metadata": {},
   "source": [
    "Квартиру с ценой 12 тыс. рублей удаляю из датафрейма, остальное оставляю.\n"
   ]
  },
  {
   "cell_type": "code",
   "execution_count": null,
   "metadata": {},
   "outputs": [],
   "source": [
    "indexes_to_drop = data.index[data['last_price']<100000]\n",
    "indexes_to_drop\n",
    "data = data.drop(indexes_to_drop,axis=0)\n",
    "len(data)"
   ]
  },
  {
   "cell_type": "markdown",
   "metadata": {},
   "source": [
    "**Количество комнат.**"
   ]
  },
  {
   "cell_type": "code",
   "execution_count": null,
   "metadata": {},
   "outputs": [],
   "source": [
    "print(data['rooms'].describe())\n",
    "data['rooms'].hist(bins=30)\n",
    "plt.title(\"Распределение квартир\\n с точки зрения количества комнат.\\nПредварительный вариант.\\n\", fontsize=12, fontweight=\"bold\")\n",
    "plt.xlabel(\"\\nКоличество комнат\", fontsize=12, fontweight=\"bold\")\n",
    "plt.ylabel(\"Количество квартир\\n\",  fontsize=12, fontweight=\"bold\")"
   ]
  },
  {
   "cell_type": "code",
   "execution_count": null,
   "metadata": {
    "scrolled": true
   },
   "outputs": [],
   "source": [
    "data['rooms'].hist(bins=40,range=(0,10))\n",
    "plt.title(\"Распределение квартир\\n с точки зрения количества комнат.\\nДо десяти комнат.\\n\", fontsize=12, fontweight=\"bold\")\n",
    "plt.xlabel(\"\\nКоличество комнат\", fontsize=12, fontweight=\"bold\")\n",
    "plt.ylabel(\"Количество квартир\\n\",  fontsize=12, fontweight=\"bold\")"
   ]
  },
  {
   "cell_type": "markdown",
   "metadata": {},
   "source": [
    "19 комнат в очень большой квартире может быть, а ноль комнат быть не может. Даже если это студия, то одна комната все равно есть. Нули заменяю единицей."
   ]
  },
  {
   "cell_type": "code",
   "execution_count": null,
   "metadata": {},
   "outputs": [],
   "source": [
    "data.loc[(data['rooms']==0),'rooms'] = 1\n",
    "data['rooms'].hist(bins=20,range=(0,10))\n",
    "plt.title(\"Распределение квартир\\n с точки зрения количества комнат.\\nИтоговый вариант.\\n\", fontsize=12, fontweight=\"bold\")\n",
    "plt.xlabel(\"\\nКоличество комнат\", fontsize=12, fontweight=\"bold\")\n",
    "plt.ylabel(\"Количество квартир\\n\",  fontsize=12, fontweight=\"bold\")"
   ]
  },
  {
   "cell_type": "markdown",
   "metadata": {},
   "source": [
    "Это тоже похоже на распределение Пуассона.  "
   ]
  },
  {
   "cell_type": "markdown",
   "metadata": {},
   "source": [
    "Получилось, что самый, почти одинаково популярный вариант - это квартиры с одной или двумя комнатами. Несколько меньше предложений с тремя комнатами. Предложений с четырьмя комнатами уже во много раз меньше. Предложения с пятью и более комнатами очень редки по сравнению с остальными."
   ]
  },
  {
   "cell_type": "markdown",
   "metadata": {},
   "source": [
    "**Высота потолков.**"
   ]
  },
  {
   "cell_type": "code",
   "execution_count": null,
   "metadata": {},
   "outputs": [],
   "source": [
    "print(data['ceiling_height'].describe())\n",
    "data['ceiling_height'].hist(bins=20, range=(0,10))\n",
    "plt.title(\"Распределение квартир\\n с точки зрения высоты потолков.\\nПредварительный вариант.\\n\", fontsize=12, fontweight=\"bold\")\n",
    "plt.xlabel(\"\\nВысота потолков\", fontsize=12, fontweight=\"bold\")\n",
    "plt.ylabel(\"Количество квартир\\n\",  fontsize=12, fontweight=\"bold\")"
   ]
  },
  {
   "cell_type": "code",
   "execution_count": null,
   "metadata": {},
   "outputs": [],
   "source": [
    "data['ceiling_height'].sort_values().unique()\n",
    "#посмотрим какие разные значения встречаются "
   ]
  },
  {
   "cell_type": "markdown",
   "metadata": {},
   "source": [
    "Видим, что есть целые значения больше 20 - можно предположить, что пропустили запятую. Т.е. превратим, например, 24 в 2,4, но при этом 22,6 и 27,5 менять таким способом не будем, т.к. предполагаю, что здесь может быть другая причина возникновения неадекватного значения.\n"
   ]
  },
  {
   "cell_type": "code",
   "execution_count": null,
   "metadata": {},
   "outputs": [],
   "source": [
    "data.loc[(data['ceiling_height']==24) | (data['ceiling_height']==25) | (data['ceiling_height']==26) | (data['ceiling_height']==27) | (data['ceiling_height']==32),'ceiling_height'] /= 10\n",
    "#какого-то более умного способа не нашел\n",
    "data['ceiling_height'].sort_values().tail(10)"
   ]
  },
  {
   "cell_type": "markdown",
   "metadata": {},
   "source": [
    "Судя по гистограмме выше значения меньше 2 метров и больше 4,5 метров очень редки. Их заменяю медианным значением."
   ]
  },
  {
   "cell_type": "code",
   "execution_count": null,
   "metadata": {},
   "outputs": [],
   "source": [
    "data.loc[(data['ceiling_height']<2) | (data['ceiling_height']>4.5),'ceiling_height'] = data['ceiling_height'].median()\n",
    "data['ceiling_height'].hist(bins= 20,range=(2,4))\n",
    "plt.title(\"Распределение квартир\\n с точки зрения высоты потолков.\\nИтоговый вариант.\\n\", fontsize=12, fontweight=\"bold\")\n",
    "plt.xlabel(\"\\nВысота потолков\", fontsize=12, fontweight=\"bold\")\n",
    "plt.ylabel(\"Количество квартир\\n\",  fontsize=12, fontweight=\"bold\")"
   ]
  },
  {
   "cell_type": "markdown",
   "metadata": {},
   "source": [
    "После преобразований, это тоже похоже на распределение Пуассона.  "
   ]
  },
  {
   "cell_type": "markdown",
   "metadata": {},
   "source": [
    "Получилось, что большинство потолков около 2,7 метра, также много предложений в 2,5 метра, встречаются предложения с потолками в 3 метра, остальные варианты очень редки. "
   ]
  },
  {
   "cell_type": "markdown",
   "metadata": {},
   "source": [
    "**Тип этажа квартиры: «первый», «последний» и «другой».**"
   ]
  },
  {
   "cell_type": "code",
   "execution_count": null,
   "metadata": {},
   "outputs": [],
   "source": [
    "print(data['floor_type'].describe())\n",
    "data['floor_type'].hist()\n",
    "plt.title(\"Распределение квартир\\n с точки этажа.\\n\\n\", fontsize=12, fontweight=\"bold\")\n",
    "plt.xlabel(\"\\nЭтаж\", fontsize=12, fontweight=\"bold\")\n",
    "plt.ylabel(\"Количество квартир\\n\",  fontsize=12, fontweight=\"bold\")"
   ]
  },
  {
   "cell_type": "markdown",
   "metadata": {},
   "source": [
    "Здесь три разных значения, как и должно быть, количества параметра \"другой\" ожидаемо гораздо больше остальных вместе взятых. Ничего не меняю здесь.  \n",
    "\n",
    "**Общее количество этажей в доме.**"
   ]
  },
  {
   "cell_type": "code",
   "execution_count": null,
   "metadata": {},
   "outputs": [],
   "source": [
    "print(data['floors_total'].describe())\n",
    "data['floors_total'].hist(bins=30,range=(0,30))\n",
    "plt.title(\"Распределение квартир\\n с точки количества этажей в доме.\\n\\n\", fontsize=12, fontweight=\"bold\")\n",
    "plt.xlabel(\"\\nКоличество этажей\", fontsize=12, fontweight=\"bold\")\n",
    "plt.ylabel(\"Количество квартир\\n\",  fontsize=12, fontweight=\"bold\")"
   ]
  },
  {
   "cell_type": "code",
   "execution_count": null,
   "metadata": {
    "scrolled": true
   },
   "outputs": [],
   "source": [
    "data['floors_total'].sort_values().tail(10)\n"
   ]
  },
  {
   "cell_type": "markdown",
   "metadata": {},
   "source": [
    "Гистограмма в общем похожа на распределение Пуассона, ничего выдающегося нет, кроме двух домов в 52 и 60 этажей. Посмотрим в каких городах эти дома."
   ]
  },
  {
   "cell_type": "code",
   "execution_count": null,
   "metadata": {
    "scrolled": true
   },
   "outputs": [],
   "source": [
    "data[data['floors_total']>50][['locality_name','floors_total']]"
   ]
  },
  {
   "cell_type": "markdown",
   "metadata": {},
   "source": [
    "Поскольку эти дома в Кронштадте и Санкт-Петербурге, полагаю здесь тоже можно ничего не менять."
   ]
  },
  {
   "cell_type": "markdown",
   "metadata": {},
   "source": [
    "Получилось, что большинство домов - это пяти- и девятиэтажки. В несколько раз меньше домов с 4, 10, 12, 16, 25 этажами, на такие дома тоже встречаются. Остальные варианты более редки."
   ]
  },
  {
   "cell_type": "markdown",
   "metadata": {},
   "source": [
    "**Расстояние до центра города в метрах.**"
   ]
  },
  {
   "cell_type": "code",
   "execution_count": null,
   "metadata": {},
   "outputs": [],
   "source": [
    "print(data['city_centers_nearest'].describe())\n",
    "data['city_centers_nearest'].hist(bins=20)\n",
    "plt.title(\"Распределение квартир\\n с точки зрения расстояния до центра города.\\n\\n\", fontsize=12, fontweight=\"bold\")\n",
    "plt.xlabel(\"\\nДо центра города, м\", fontsize=12, fontweight=\"bold\")\n",
    "plt.ylabel(\"Количество квартир\\n\",  fontsize=12, fontweight=\"bold\")"
   ]
  },
  {
   "cell_type": "markdown",
   "metadata": {},
   "source": [
    "Пик приходится на 10-16 км. Подавляющая часть приходится на расстояние до 20 км., это вероятно Санкт-Петербург, максимальное расстояние 65,97 км, что тоже выглядит правдоподобно, как один из населенных пунктов Ленинградской области. "
   ]
  },
  {
   "cell_type": "code",
   "execution_count": null,
   "metadata": {},
   "outputs": [],
   "source": [
    "data[data['city_centers_nearest']<20000].groupby('locality_name')['locality_name'].count()"
   ]
  },
  {
   "cell_type": "markdown",
   "metadata": {},
   "source": [
    "Парголово и Шушары граничат с Санкт-Петербургом, остальное собственно Санкт-Петербург.  \n",
    "Ничего не меняю здесь.  \n",
    "\n",
    "**Расстояние до ближайшего парка.**"
   ]
  },
  {
   "cell_type": "code",
   "execution_count": null,
   "metadata": {},
   "outputs": [],
   "source": [
    "print(data['parks_nearest'].describe())\n",
    "data['parks_nearest'].hist(bins=20)\n",
    "plt.title(\"Распределение квартир\\n с точки зрения расстояния до ближайшего парка.\\n\\n\", fontsize=12, fontweight=\"bold\")\n",
    "plt.xlabel(\"\\nДо ближайшего парка, м\", fontsize=12, fontweight=\"bold\")\n",
    "plt.ylabel(\"Количество квартир\\n\",  fontsize=12, fontweight=\"bold\")"
   ]
  },
  {
   "cell_type": "markdown",
   "metadata": {},
   "source": [
    "Пик около 500 метров. Похоже на распределение Пуассона. Строк чуть больше 8000, т.е. у большинства домов парков рядом просто нет. Не нахожу, что здесь имеет смысл менять.   "
   ]
  },
  {
   "cell_type": "markdown",
   "metadata": {},
   "source": [
    "Получилось, что парки есть только у одной трети предложений. Но если парк есть, то расстояние до него не больше километра, остальные варианты очень редки."
   ]
  },
  {
   "cell_type": "markdown",
   "metadata": {},
   "source": [
    "**Расстояние до ближайшего аэропорта.**"
   ]
  },
  {
   "cell_type": "code",
   "execution_count": null,
   "metadata": {
    "scrolled": false
   },
   "outputs": [],
   "source": [
    "print(data['airports_nearest'].describe())\n",
    "data['airports_nearest'].hist(bins=50, range=(0,60000))\n",
    "data['airports_nearest'].sort_values().head(5)\n",
    "plt.title(\"Распределение квартир\\n с точки зрения расстояния до ближайшего аэропорта.\\n\\n\", fontsize=12, fontweight=\"bold\")\n",
    "plt.xlabel(\"\\nДо ближайшего аэропорта, м\", fontsize=12, fontweight=\"bold\")\n",
    "plt.ylabel(\"Количество квартир\\n\",  fontsize=12, fontweight=\"bold\")"
   ]
  },
  {
   "cell_type": "markdown",
   "metadata": {},
   "source": [
    "Расстояние от 6,5 км до 84 км. Заполнены не все строки, 18 тыс. строк из 23,7 тыс. Видимо по каким-то причинам часть информации получить или загрузить не удалось. Пустых строк слишком много, чтобы удалять их. Явно выбивается строка с 0. Заменим 0 на еще одну пустую строку."
   ]
  },
  {
   "cell_type": "code",
   "execution_count": null,
   "metadata": {},
   "outputs": [],
   "source": [
    "data.loc[data['airports_nearest']==0,'airports_nearest'] = None\n",
    "#print(data.loc[21085])\n",
    "#print(data['airports_nearest'].describe())\n"
   ]
  },
  {
   "cell_type": "markdown",
   "metadata": {},
   "source": [
    "Получилось, что с точки зрения расстояния до ближайшего аэропорта значения распределены достаточно равномерно. Большинство это 10-28 км, значений от 28 до 55 км значений в основном меньше, но их тоже много. Явно меньше значений на расстояниях меньше 10 и больше 55 км."
   ]
  },
  {
   "cell_type": "markdown",
   "metadata": {},
   "source": [
    "**День недели публикации.**"
   ]
  },
  {
   "cell_type": "code",
   "execution_count": null,
   "metadata": {},
   "outputs": [],
   "source": [
    "data['weekday'].hist(bins=7)\n",
    "plt.title(\"Распределение квартир\\n с точки зрения дня недели.\\n\\n\", fontsize=12, fontweight=\"bold\")\n",
    "plt.xlabel(\"\\nДень недели\", fontsize=12, fontweight=\"bold\")\n",
    "plt.ylabel(\"Количество квартир\\n\",  fontsize=12, fontweight=\"bold\")\n"
   ]
  },
  {
   "cell_type": "markdown",
   "metadata": {},
   "source": [
    "Очевидно, что в выходные объявления размещают примерно в два раза реже, чем в будние дни."
   ]
  },
  {
   "cell_type": "markdown",
   "metadata": {},
   "source": [
    "**Месяц публикации.**"
   ]
  },
  {
   "cell_type": "code",
   "execution_count": null,
   "metadata": {},
   "outputs": [],
   "source": [
    "data['month'].hist(bins=12,range=(1,12))\n",
    "data.groupby('month')['month'].count()\n",
    "plt.title(\"Распределение квартир\\n с точки зрения месяца публикации.\\n\\n\", fontsize=12, fontweight=\"bold\")\n",
    "plt.xlabel(\"\\nМесяц публикации\", fontsize=12, fontweight=\"bold\")\n",
    "plt.ylabel(\"Количество квартир\\n\",  fontsize=12, fontweight=\"bold\")"
   ]
  },
  {
   "cell_type": "markdown",
   "metadata": {},
   "source": [
    "Из гистограммы видно, что количество объявлений больше всего в феврале-апреле, в \"праздничные\" месяцы (январь, май, декабрь) оно резко падает относительно предыдущих периодов. После майского падения, начиная с июня, количество объявлений постепенно растет, к ноябрю почти достигая значений начала года."
   ]
  },
  {
   "cell_type": "markdown",
   "metadata": {},
   "source": [
    "**Насколько быстро продавались квартиры.**"
   ]
  },
  {
   "cell_type": "code",
   "execution_count": null,
   "metadata": {},
   "outputs": [],
   "source": [
    "print(data['days_exposition'].describe())\n",
    "data['days_exposition'].hist(bins=20)\n",
    "plt.title(\"Насколько быстро продавались квартиры.\\n\\n\", fontsize=12, fontweight=\"bold\")\n",
    "plt.xlabel(\"\\nДни\", fontsize=12, fontweight=\"bold\")\n",
    "plt.ylabel(\"Количество квартир\\n\",  fontsize=12, fontweight=\"bold\")\n"
   ]
  },
  {
   "cell_type": "code",
   "execution_count": null,
   "metadata": {},
   "outputs": [],
   "source": [
    "\n",
    "print('Медианное значение: ' + str(data['days_exposition'].median()))\n",
    "print('Среднее значение: ' + str(data['days_exposition'].mean().round(2)))\n",
    "data.boxplot('days_exposition') \n",
    "plt.ylim(-50, 800)\n",
    "#plt.xlim(0, 200) \n",
    "plt.title(\"Диаграмма размаха\\nдней до продажи\\n\", fontsize=12, fontweight=\"bold\")\n",
    "plt.xlabel(\"\\n\", fontsize=12, fontweight=\"bold\")\n",
    "plt.ylabel(\"Дни\\n\",  fontsize=12, fontweight=\"bold\")"
   ]
  },
  {
   "cell_type": "markdown",
   "metadata": {},
   "source": [
    "Продажа обычно занимает 95 дней. Быстрыми продажами могут считаться продажи до 45 дней (попадающие в первый квартиль). Долгими продажи могут считаться продажи больше 232 дней (3 квартиль и дальше), и особенно долгими продажи больше 512, т.е. продажи из зоны выбросов.  \n",
    "\n",
    "**Какие факторы влияют на цену объекта.**  \n",
    "Рассмотрим зависит ли цена от следующих факторов.  \n",
    " \n",
    "**Общая площадь.**\n"
   ]
  },
  {
   "cell_type": "code",
   "execution_count": null,
   "metadata": {
    "scrolled": false
   },
   "outputs": [],
   "source": [
    "#data.sort_values('last_price').plot(x='total_area', y='last_price',kind='scatter')\n",
    "data.sort_values('last_price').plot(x='total_area', y='last_price',kind='scatter')\n",
    "plt.title(\"Зависимость цены от общей площади.\\nПредварительный вариант.\\n\", fontsize=12, fontweight=\"bold\")\n",
    "plt.xlabel(\"\\nОбщая площадь\", fontsize=12, fontweight=\"bold\")\n",
    "plt.ylabel(\"Цена\\n\",  fontsize=12, fontweight=\"bold\")\n"
   ]
  },
  {
   "cell_type": "markdown",
   "metadata": {},
   "source": [
    "По такому графику немного можно сказать. Построим используя range."
   ]
  },
  {
   "cell_type": "code",
   "execution_count": null,
   "metadata": {
    "scrolled": true
   },
   "outputs": [],
   "source": [
    "data.sort_values('last_price').plot(x='total_area', y='last_price',kind='scatter',alpha=0.15,xlim=(0,400), ylim=(0,50000000))\n",
    "plt.title(\"Зависимость цены от общей площади.\\n\\n\", fontsize=12, fontweight=\"bold\")\n",
    "plt.xlabel(\"\\nОбщая площадь\", fontsize=12, fontweight=\"bold\")\n",
    "plt.ylabel(\"Цена\\n\",  fontsize=12, fontweight=\"bold\")\n"
   ]
  },
  {
   "cell_type": "markdown",
   "metadata": {},
   "source": [
    "По такому графику уже можно сделать вывод - чем больше площадь, тем больше цена. <i><strike>зависимость прямая.  </strike></i>\n",
    "\n",
    "Найдем корреляцию между ценой и общей площадью."
   ]
  },
  {
   "cell_type": "code",
   "execution_count": null,
   "metadata": {},
   "outputs": [],
   "source": [
    "print(data['last_price'].corr(data['total_area']))"
   ]
  },
  {
   "cell_type": "markdown",
   "metadata": {},
   "source": [
    "Зависимость есть, не прямая, но существенная."
   ]
  },
  {
   "cell_type": "markdown",
   "metadata": {},
   "source": [
    "**Жилая площадь.**"
   ]
  },
  {
   "cell_type": "code",
   "execution_count": null,
   "metadata": {},
   "outputs": [],
   "source": [
    "data.sort_values('last_price').plot(x='living_area', y='last_price',kind='scatter',alpha=0.15,xlim=(0,400), ylim=(0,50000000))\n",
    "plt.title(\"Зависимость цены от жилой площади.\\n\\n\", fontsize=12, fontweight=\"bold\")\n",
    "plt.xlabel(\"\\nЖилая площадь\", fontsize=12, fontweight=\"bold\")\n",
    "plt.ylabel(\"Цена\\n\",  fontsize=12, fontweight=\"bold\")\n"
   ]
  },
  {
   "cell_type": "markdown",
   "metadata": {},
   "source": [
    "Для жилой площади можно такой же вывод, зависимость прямая, и она больше чем у общей площади.  \n",
    "Кроме этого здесь бросается в глаза вертикальная \"линия\" около 30 кв.метров, а также не такая явная, но тоже заметная горизонтальная \"линия\" около 40 млн. руб. И то, и другое выглядит неправдоподобно, возможно это еще одна ошибка в исходных данных."
   ]
  },
  {
   "cell_type": "code",
   "execution_count": null,
   "metadata": {
    "scrolled": true
   },
   "outputs": [],
   "source": [
    "data.sort_values('last_price').plot(x='living_area', y='last_price',kind='scatter',alpha=0.15,xlim=(29,31), ylim=(0,50000000))\n",
    "plt.title(\"Неправдоподобная прямая линия \\nна 30 кв.метрах.\\n\", fontsize=12, fontweight=\"bold\")\n",
    "#plt.xlabel(\"\\nОбщая площадь\", fontsize=12, fontweight=\"bold\")\n",
    "#plt.ylabel(\"Цена\\n\",  fontsize=12, fontweight=\"bold\")\n"
   ]
  },
  {
   "cell_type": "markdown",
   "metadata": {},
   "source": [
    "Найдем корреляцию между ценой и жилой площадью."
   ]
  },
  {
   "cell_type": "code",
   "execution_count": null,
   "metadata": {},
   "outputs": [],
   "source": [
    "print(data['last_price'].corr(data['living_area']))\n",
    "#print(data['living_area'].corr(data['last_price']))"
   ]
  },
  {
   "cell_type": "markdown",
   "metadata": {},
   "source": [
    "Зависимость есть, она достаточно велика, но оказалось, что корреляция между ценой и общей площадью выше."
   ]
  },
  {
   "cell_type": "code",
   "execution_count": null,
   "metadata": {
    "scrolled": true
   },
   "outputs": [],
   "source": [
    "data.sort_values('last_price').plot(x='living_area', y='last_price',kind='scatter',alpha=0.5,xlim=(0,400), ylim=(35000000,45000000))\n",
    "plt.title(\"Неправдоподобная прямая линия \\nна 40 млн.руб.\\n\", fontsize=12, fontweight=\"bold\")"
   ]
  },
  {
   "cell_type": "markdown",
   "metadata": {},
   "source": [
    "**Площадь кухни.**"
   ]
  },
  {
   "cell_type": "code",
   "execution_count": null,
   "metadata": {
    "scrolled": true
   },
   "outputs": [],
   "source": [
    "data.sort_values('last_price').plot(x='kitchen_area', y='last_price',kind='scatter',alpha=0.15,xlim=(0,50), ylim=(0,50000000))\n",
    "plt.title(\"Зависимость цены от площади кухни.\\n\\n\", fontsize=12, fontweight=\"bold\")\n",
    "plt.xlabel(\"\\nПлощадь кухни\", fontsize=12, fontweight=\"bold\")\n",
    "plt.ylabel(\"Цена\\n\",  fontsize=12, fontweight=\"bold\")"
   ]
  },
  {
   "cell_type": "code",
   "execution_count": null,
   "metadata": {
    "scrolled": true
   },
   "outputs": [],
   "source": [
    "#data.pivot_table(index='kitchen_area', values='last_price', aggfunc=sum)\n",
    "data.groupby('kitchen_area')['last_price'].count().sort_values().tail(10)"
   ]
  },
  {
   "cell_type": "code",
   "execution_count": null,
   "metadata": {
    "scrolled": true
   },
   "outputs": [],
   "source": [
    "data[data['kitchen_area']<=20].sort_values('last_price').plot(x='kitchen_area', y='last_price',kind='scatter',alpha=0.15,xlim=(0,21), ylim=(0,50000000))\n",
    "plt.title(\"Часто встречающиеся значения \\nплощади кухни.\\n\", fontsize=12, fontweight=\"bold\")"
   ]
  },
  {
   "cell_type": "markdown",
   "metadata": {},
   "source": [
    "В целом тоже есть прямая зависимость, чем больше площадь кухни, тем больше цена. Одновременно с этим для площади кухни характерен набор верикальных \"линий\", когда для кухня одного размера может быть в квартирах очень разной цены. Но в отличии от графика жилой площади здесь, полагаю, это не выглядит явной ошибкой."
   ]
  },
  {
   "cell_type": "markdown",
   "metadata": {},
   "source": [
    "Найдем корреляцию между ценой и площадью кухни."
   ]
  },
  {
   "cell_type": "code",
   "execution_count": null,
   "metadata": {},
   "outputs": [],
   "source": [
    "print(data['last_price'].corr(data['kitchen_area']))"
   ]
  },
  {
   "cell_type": "markdown",
   "metadata": {},
   "source": [
    "Зависимость есть, но она еще меньше, чем от жилой площади. "
   ]
  },
  {
   "cell_type": "markdown",
   "metadata": {},
   "source": [
    "**Количество комнат.**"
   ]
  },
  {
   "cell_type": "code",
   "execution_count": null,
   "metadata": {},
   "outputs": [],
   "source": [
    "rooms_price_dependance = data.pivot_table(index='rooms', values='last_price', aggfunc=['mean','median','count'])\n",
    "#rooms_price_dependance\n",
    "rooms_price_dependance.columns = ('mean','median','count')\n",
    "rooms_price_dependance.plot(y='median', xlim=(0,8), ylim=(0,30000000),grid=True)\n",
    "print(rooms_price_dependance)\n",
    "plt.title(\"Зависимость цены от количества комнат.\\n\\n\", fontsize=12, fontweight=\"bold\")\n",
    "plt.xlabel(\"\\nКоличество комнат\", fontsize=12, fontweight=\"bold\")\n",
    "plt.ylabel(\"Цена\\n\",  fontsize=12, fontweight=\"bold\")"
   ]
  },
  {
   "cell_type": "markdown",
   "metadata": {},
   "source": [
    "За основной показатель возьмем медиану, больше 8 комнат брать не будем, таких случаев слишком мало. Очевидна прямая зависимость между количеством комнат и ценой, если количество комнат 7 или меньше. Начиная с 8 комнат, случаев мало, каждый индивидуален, поэтому говорить о зависимости не приходится."
   ]
  },
  {
   "cell_type": "markdown",
   "metadata": {},
   "source": [
    "Найдем корреляцию между ценой и количеством комнат."
   ]
  },
  {
   "cell_type": "code",
   "execution_count": null,
   "metadata": {},
   "outputs": [],
   "source": [
    "print(data['last_price'].corr(data['rooms']))"
   ]
  },
  {
   "cell_type": "markdown",
   "metadata": {},
   "source": [
    "Зависимость есть, она невелика, и ещё меньше, чем у предыдущих показателей."
   ]
  },
  {
   "cell_type": "markdown",
   "metadata": {},
   "source": [
    "**Этаж (первый, последний, другой).**"
   ]
  },
  {
   "cell_type": "code",
   "execution_count": null,
   "metadata": {},
   "outputs": [],
   "source": [
    "#floor_type\n",
    "floortype_price_dependance = data.pivot_table(index='floor_type', values='last_price', aggfunc=['mean','median','count'])\n",
    "floortype_price_dependance.columns = ('mean','median','count')\n",
    "floortype_price_dependance.plot(y='median', xlim=(0,2), ylim=(3500000,5500000))\n",
    "print(floortype_price_dependance)\n",
    "plt.title(\"Зависимость цены от этажа\\n\", fontsize=12, fontweight=\"bold\")\n",
    "plt.xlabel(\"\\nЭтаж\", fontsize=12, fontweight=\"bold\")\n",
    "plt.ylabel(\"Цена\\n\",  fontsize=12, fontweight=\"bold\")"
   ]
  },
  {
   "cell_type": "markdown",
   "metadata": {},
   "source": [
    "За основной показатель возьмем медиану. Самые дешевые квартиры на первом этаже, дороже на последнем, наиболее дорогие на \"других\", т.е. не на крайних этажах.\n",
    "\n",
    "**День, месяц и год.**"
   ]
  },
  {
   "cell_type": "code",
   "execution_count": null,
   "metadata": {},
   "outputs": [],
   "source": [
    "data.pivot_table(index='weekday', values='last_price',aggfunc=['mean','median','count']).plot(y='median',grid=True)\n",
    "plt.title(\"Зависимость цены от дня недели\\n\", fontsize=12, fontweight=\"bold\")\n",
    "plt.xlabel(\"\\nДень недели\", fontsize=12, fontweight=\"bold\")\n",
    "plt.ylabel(\"Цена\\n\",  fontsize=12, fontweight=\"bold\")"
   ]
  },
  {
   "cell_type": "markdown",
   "metadata": {},
   "source": [
    "График цены с точки зрения дня недели - не прямая линия, есть некоторые колебания, но нельзя сказать что они существенны."
   ]
  },
  {
   "cell_type": "markdown",
   "metadata": {},
   "source": [
    "Найдем корреляцию между ценой и днем недели."
   ]
  },
  {
   "cell_type": "code",
   "execution_count": null,
   "metadata": {},
   "outputs": [],
   "source": [
    "print(data['last_price'].corr(data['weekday']))"
   ]
  },
  {
   "cell_type": "markdown",
   "metadata": {},
   "source": [
    "Зависимость практически отсутствует."
   ]
  },
  {
   "cell_type": "code",
   "execution_count": null,
   "metadata": {},
   "outputs": [],
   "source": [
    "data.pivot_table(index='month', values='last_price',aggfunc=['mean','median','count']).plot(y='median',grid=True)\n",
    "plt.title(\"Зависимость цены от месяца\\n\", fontsize=12, fontweight=\"bold\")\n",
    "plt.xlabel(\"\\nМесяц\", fontsize=12, fontweight=\"bold\")\n",
    "plt.ylabel(\"Цена\\n\",  fontsize=12, fontweight=\"bold\")"
   ]
  },
  {
   "cell_type": "markdown",
   "metadata": {},
   "source": [
    "С точки месяца, в течение года есть колебания, выделяются - высокие цены в апреле, низкие цены - в мае и особенно в июне."
   ]
  },
  {
   "cell_type": "markdown",
   "metadata": {},
   "source": [
    "Найдем корреляцию между ценой и месяцем."
   ]
  },
  {
   "cell_type": "code",
   "execution_count": null,
   "metadata": {},
   "outputs": [],
   "source": [
    "print(data['last_price'].corr(data['month']))"
   ]
  },
  {
   "cell_type": "markdown",
   "metadata": {},
   "source": [
    "Получается, что в целом зависимость тоже практически отсутствует."
   ]
  },
  {
   "cell_type": "code",
   "execution_count": null,
   "metadata": {},
   "outputs": [],
   "source": [
    "data.pivot_table(index='year', values='last_price',aggfunc=['mean','median','count'])"
   ]
  },
  {
   "cell_type": "code",
   "execution_count": null,
   "metadata": {},
   "outputs": [],
   "source": [
    "data.pivot_table(index='year', values='last_price',aggfunc=['mean','median','count']).plot(y='median',grid=True)\n",
    "plt.title(\"Зависимость цены от года\\n\", fontsize=12, fontweight=\"bold\")\n",
    "plt.xlabel(\"\\nГод\", fontsize=12, fontweight=\"bold\")\n",
    "plt.ylabel(\"Цена\\n\",  fontsize=12, fontweight=\"bold\")"
   ]
  },
  {
   "cell_type": "code",
   "execution_count": null,
   "metadata": {},
   "outputs": [],
   "source": [
    "data.pivot_table(index='year', values='last_price',aggfunc=['mean','median','count']).plot(y='count',grid=True)\n",
    "plt.title(\"Зависимость количества объявлений \\nот года\\n\", fontsize=12, fontweight=\"bold\")\n",
    "plt.xlabel(\"\\nГод\", fontsize=12, fontweight=\"bold\")\n",
    "plt.ylabel(\"Цена\\n\",  fontsize=12, fontweight=\"bold\")\n"
   ]
  },
  {
   "cell_type": "markdown",
   "metadata": {},
   "source": [
    "С точки зрения года, если смотреть на два графика, цены и кол-ва объявлений, то окажется, что цена обратно пропорциональна кол-ву объявлений. Чем больше объявлений, тем ниже цена, а кол-во объявлений от года к году сильно отличается. Поэтому здесь однозначных выводов сделать нельзя, сначала надо разобраться, почему такое разное количество объявлений.  "
   ]
  },
  {
   "cell_type": "markdown",
   "metadata": {},
   "source": [
    "Найдем корреляцию между ценой и годом."
   ]
  },
  {
   "cell_type": "code",
   "execution_count": null,
   "metadata": {},
   "outputs": [],
   "source": [
    "print(data['last_price'].corr(data['year']))"
   ]
  },
  {
   "cell_type": "markdown",
   "metadata": {},
   "source": [
    "Здесь зависимость тоже близка к нулю."
   ]
  },
  {
   "cell_type": "markdown",
   "metadata": {},
   "source": [
    "**Средняя цена одного квадратного метра в 10 населённых пунктах с наибольшим числом объявлений.**"
   ]
  },
  {
   "cell_type": "code",
   "execution_count": null,
   "metadata": {},
   "outputs": [],
   "source": [
    "#data.head()"
   ]
  },
  {
   "cell_type": "code",
   "execution_count": null,
   "metadata": {},
   "outputs": [],
   "source": [
    "max_offers = data.pivot_table(index='locality_name',values='last_price', aggfunc='count').sort_values(by='last_price', ascending=False).head(10)\n",
    "#ten_popular_locs = data.query('locality_name in @max_offers.index').pivot_table(index='locality_name',values='square_meter_price', aggfunc='mean').sort_values(by='square_meter_price', ascending=False).style.format({'square_meter_price': '{:.0f}'})\n",
    "ten_popular_locs =(\n",
    "    data.query('locality_name in @max_offers.index')\n",
    "    .pivot_table(index='locality_name',values='square_meter_price', aggfunc='mean')\n",
    "    .sort_values(by='square_meter_price', ascending=False)\n",
    "    #.style.format({'square_meter_price': '{:.0f}'})\n",
    ")\n",
    "ten_popular_locs"
   ]
  },
  {
   "cell_type": "code",
   "execution_count": null,
   "metadata": {
    "scrolled": true
   },
   "outputs": [],
   "source": [
    "print('Населённый пункт с самой высокой стоимостью квадратного метра: ' + str(ten_popular_locs.index[0]))\n",
    "print('Населённый пункт с самой низкой стоимостью квадратного метра: ' + str(ten_popular_locs.index[9]))\n",
    "# 0 и 9, т.к. сами выбрали, что должно быть 10 строк"
   ]
  },
  {
   "cell_type": "code",
   "execution_count": null,
   "metadata": {},
   "outputs": [],
   "source": [
    "plt.plot(ten_popular_locs['square_meter_price'])\n",
    "plt.xticks(rotation=90)\n",
    "plt.title(\"Средняя цена кв.метра \", fontsize=12, fontweight=\"bold\")\n",
    "plt.grid() "
   ]
  },
  {
   "cell_type": "markdown",
   "metadata": {},
   "source": [
    "**Зависимость цены жилья от расстояния от центра города (на примере Санкт-Петербурга).**"
   ]
  },
  {
   "cell_type": "code",
   "execution_count": null,
   "metadata": {},
   "outputs": [],
   "source": [
    "(\n",
    "    data[data['locality_name']=='Санкт-Петербург'].\n",
    "    pivot_table(index='city_сenter_distance',values='square_meter_price',aggfunc='mean')\n",
    "    .plot(grid=True)\n",
    ")\n",
    "plt.title(\"Зависимость цены от расстояния\\nдо центра города\\n\", fontsize=12, fontweight=\"bold\")\n",
    "plt.xlabel(\"\\nКилометры\", fontsize=12, fontweight=\"bold\")\n",
    "plt.ylabel(\"Цена\\n\",  fontsize=12, fontweight=\"bold\")"
   ]
  },
  {
   "cell_type": "markdown",
   "metadata": {},
   "source": [
    "Цена кв. метра по мере удаления от центра города в целом падает, особенно резкое падение на первых трех километрах. Далее более плавное падение с отдельными всплесками, обусловленными какими-то другими факторами. \n"
   ]
  },
  {
   "cell_type": "markdown",
   "metadata": {},
   "source": [
    "На этом этапе более подробно изучены некоторые параметры исходных данных, выбивающиеся неадекватные значения удалены. Рассмотрено как быстро продавались квартиры. Рассмотрена зависимость цены от общей и жилой площади, площади кухни, количества комнат, этажа и даты размещения. Рассчитана средняя цена квадратного метра в 10 населенных пунктах с наибольшим количеством объявлений. Также рассмотрена зависимость средней цены квадратного метра от расстояния от центра Санкт-Петербурга."
   ]
  },
  {
   "cell_type": "markdown",
   "metadata": {},
   "source": [
    "### Общий вывод"
   ]
  },
  {
   "cell_type": "markdown",
   "metadata": {},
   "source": [
    "Целью задачи было установить параметры влияющие на цену объекта недвижимости. По итогу работы можно сделать следующие выводы:   \n",
    "    - с точки зрения площади, цена напрямую зависит от жилой площади, в меньшей степени от общей площади, в еще меньшей степени от площади кухни;  \n",
    "    - с точки зрения количества комнат, цена зависит напрямую от количества комнат, но до определенной степени, при большом количестве комнат явной зависимости нет;  \n",
    "    - с точки зрения этажа, не первый и не последний этаж самые дорогие, дешевле жилье на последнем этаже, самое дешевое на первом этаже;  \n",
    "    - с точки зрения даты размещения, выделяются самые высокие цены в апреле, низкие цены в мае и особенно в июне, влияние дня недели несущественно;  \n",
    "    - наибольшая средняя цена квадратного метра в Санкт-Петербурге, Пушкине и Кудрово;  \n",
    "    - если брать 10 наиболее популярных с точки зрения количества объявлений населенных пунктов, то средняя цена в самом популярном населенном пункте, Санкт-Петербурге, почти в два раза отличается от цены последнего по популярности, Выборга;  \n",
    "    - цена жилья в Санкт-Петербурге явно зависит от расстояния от центра города, особенно это проявляется на первых трех километрах, далее зависимость в целом тоже сохраняется, но возможно и влияние других факторов.\n",
    "    "
   ]
  },
  {
   "cell_type": "markdown",
   "metadata": {},
   "source": [
    "**Чек-лист готовности проекта**\n",
    "\n",
    "Поставьте 'x' в выполненных пунктах. Далее нажмите Shift+Enter."
   ]
  },
  {
   "cell_type": "markdown",
   "metadata": {},
   "source": [
    "- [x]  открыт файл\n",
    "- [x]  файлы изучены (выведены первые строки, метод `info()`, гистограммы и т.д.)\n",
    "- [x]  определены пропущенные значения\n",
    "- [x]  заполнены пропущенные значения там, где это возможно\n",
    "- [x]  есть пояснение, какие пропущенные значения обнаружены\n",
    "- [x]  изменены типы данных\n",
    "- [x]  есть пояснение, в каких столбцах изменены типы и почему\n",
    "- [x]  устранены неявные дубликаты в названиях населённых пунктов\n",
    "- [x]  устранены редкие и выбивающиеся значения (аномалии) во всех столбцах\n",
    "- [x]  посчитано и добавлено в таблицу: цена одного квадратного метра\n",
    "- [x]  посчитано и добавлено в таблицу: день публикации объявления (0 - понедельник, 1 - вторник и т.д.)\n",
    "- [x]  посчитано и добавлено в таблицу: месяц публикации объявления\n",
    "- [x]  посчитано и добавлено в таблицу: год публикации объявления\n",
    "- [x]  посчитано и добавлено в таблицу: тип этажа квартиры (значения — «первый», «последний», «другой»)\n",
    "- [x]  посчитано и добавлено в таблицу: расстояние в км до центра города\n",
    "- [x]  изучены и описаны следующие параметры:\n",
    "        - общая площадь;\n",
    "        - жилая площадь;\n",
    "        - площадь кухни;\n",
    "        - цена объекта;\n",
    "        - количество комнат;\n",
    "        - высота потолков;\n",
    "        - этаж квартиры;\n",
    "        - тип этажа квартиры («первый», «последний», «другой»);\n",
    "        - общее количество этажей в доме;\n",
    "        - расстояние до центра города в метрах;\n",
    "        - расстояние до ближайшего аэропорта;\n",
    "        - расстояние до ближайшего парка;\n",
    "        - день и месяц публикации объявления\n",
    "- [x]  построены гистограммы для каждого параметра\n",
    "- [x]  выполнено задание: \"Изучите, как быстро продавались квартиры (столбец days_exposition). Этот параметр показывает, сколько дней «висело» каждое объявление.\n",
    "    - Постройте гистограмму.\n",
    "    - Посчитайте среднее и медиану.\n",
    "    - В ячейке типа markdown опишите, сколько обычно занимает продажа. Какие продажи можно считать быстрыми, а какие — необычно долгими?\"\n",
    "- [x]  выполнено задание: \"Какие факторы больше всего влияют на общую (полную) стоимость объекта? Постройте графики, которые покажут зависимость цены от указанных ниже параметров. Для подготовки данных перед визуализацией вы можете использовать сводные таблицы.\"\n",
    "        - общей площади;\n",
    "        - жилой площади;\n",
    "        - площади кухни;\n",
    "        - количество комнат;\n",
    "        - типа этажа, на котором расположена квартира (первый, последний, другой);\n",
    "        - даты размещения (день недели, месяц, год);\n",
    "- [x]  выполнено задание: \"Посчитайте среднюю цену одного квадратного метра в 10 населённых пунктах с наибольшим числом объявлений. Выделите населённые пункты с самой высокой и низкой стоимостью квадратного метра. Эти данные можно найти по имени в столбце `locality_name`.\"\n",
    "- [x]  выполнено задание: \"Ранее вы посчитали расстояние до центра в километрах. Теперь выделите квартиры в Санкт-Петербурге с помощью столбца `locality_name` и вычислите среднюю цену каждого километра. Опишите, как стоимость объектов зависит от расстояния до центра города.\"\n",
    "- [x]  в каждом этапе есть промежуточные выводы\n",
    "- [x]  есть общий вывод"
   ]
  },
  {
   "cell_type": "code",
   "execution_count": null,
   "metadata": {},
   "outputs": [],
   "source": []
  }
 ],
 "metadata": {
  "ExecuteTimeLog": [
   {
    "duration": 61,
    "start_time": "2023-10-21T16:02:51.234Z"
   },
   {
    "duration": 729,
    "start_time": "2023-10-21T16:03:11.173Z"
   },
   {
    "duration": 140,
    "start_time": "2023-10-21T16:03:23.889Z"
   },
   {
    "duration": 154,
    "start_time": "2023-10-21T16:03:45.939Z"
   },
   {
    "duration": 115,
    "start_time": "2023-10-21T16:03:56.077Z"
   },
   {
    "duration": 120,
    "start_time": "2023-10-21T16:06:04.561Z"
   },
   {
    "duration": 120,
    "start_time": "2023-10-21T16:06:21.364Z"
   },
   {
    "duration": 124,
    "start_time": "2023-10-21T16:06:28.947Z"
   },
   {
    "duration": 123,
    "start_time": "2023-10-21T16:06:41.294Z"
   },
   {
    "duration": 107,
    "start_time": "2023-10-21T16:07:21.600Z"
   },
   {
    "duration": 115,
    "start_time": "2023-10-21T16:07:38.868Z"
   },
   {
    "duration": 124,
    "start_time": "2023-10-21T16:07:47.508Z"
   },
   {
    "duration": 2210,
    "start_time": "2023-10-21T16:08:17.375Z"
   },
   {
    "duration": 1857,
    "start_time": "2023-10-21T16:09:14.994Z"
   },
   {
    "duration": 47,
    "start_time": "2023-10-22T09:53:54.241Z"
   },
   {
    "duration": 9,
    "start_time": "2023-10-22T09:54:50.324Z"
   },
   {
    "duration": 7,
    "start_time": "2023-10-22T09:54:59.691Z"
   },
   {
    "duration": 3762,
    "start_time": "2023-10-22T09:55:02.520Z"
   },
   {
    "duration": 12,
    "start_time": "2023-10-22T09:55:06.284Z"
   },
   {
    "duration": 34,
    "start_time": "2023-10-22T09:57:30.622Z"
   },
   {
    "duration": 22,
    "start_time": "2023-10-22T09:57:52.545Z"
   },
   {
    "duration": 56,
    "start_time": "2023-10-22T10:00:00.084Z"
   },
   {
    "duration": 20,
    "start_time": "2023-10-22T10:00:05.916Z"
   },
   {
    "duration": 9,
    "start_time": "2023-10-22T10:00:14.106Z"
   },
   {
    "duration": 12,
    "start_time": "2023-10-22T10:02:25.276Z"
   },
   {
    "duration": 13,
    "start_time": "2023-10-22T10:02:30.624Z"
   },
   {
    "duration": 10,
    "start_time": "2023-10-22T10:02:43.461Z"
   },
   {
    "duration": 8,
    "start_time": "2023-10-22T10:08:58.614Z"
   },
   {
    "duration": 6,
    "start_time": "2023-10-22T10:13:04.195Z"
   },
   {
    "duration": 5,
    "start_time": "2023-10-22T10:13:13.003Z"
   },
   {
    "duration": 7,
    "start_time": "2023-10-22T10:15:32.282Z"
   },
   {
    "duration": 5,
    "start_time": "2023-10-22T10:23:01.750Z"
   },
   {
    "duration": 9,
    "start_time": "2023-10-22T10:23:42.996Z"
   },
   {
    "duration": 8,
    "start_time": "2023-10-22T10:23:55.576Z"
   },
   {
    "duration": 6,
    "start_time": "2023-10-22T10:24:24.795Z"
   },
   {
    "duration": 7,
    "start_time": "2023-10-22T10:24:44.755Z"
   },
   {
    "duration": 7,
    "start_time": "2023-10-22T10:25:01.713Z"
   },
   {
    "duration": 11,
    "start_time": "2023-10-22T10:25:40.598Z"
   },
   {
    "duration": 12,
    "start_time": "2023-10-22T10:26:01.884Z"
   },
   {
    "duration": 8,
    "start_time": "2023-10-22T10:27:16.212Z"
   },
   {
    "duration": 107,
    "start_time": "2023-10-22T10:30:25.007Z"
   },
   {
    "duration": 1615,
    "start_time": "2023-10-22T10:31:41.072Z"
   },
   {
    "duration": 1682,
    "start_time": "2023-10-22T10:32:01.658Z"
   },
   {
    "duration": 51,
    "start_time": "2023-10-22T10:32:10.382Z"
   },
   {
    "duration": 7,
    "start_time": "2023-10-22T10:32:40.287Z"
   },
   {
    "duration": 6,
    "start_time": "2023-10-22T10:32:59.503Z"
   },
   {
    "duration": 7,
    "start_time": "2023-10-22T10:37:17.752Z"
   },
   {
    "duration": 119,
    "start_time": "2023-10-22T10:42:38.519Z"
   },
   {
    "duration": 4,
    "start_time": "2023-10-22T10:49:06.593Z"
   },
   {
    "duration": 5,
    "start_time": "2023-10-22T10:49:16.107Z"
   },
   {
    "duration": 36,
    "start_time": "2023-10-22T10:56:06.473Z"
   },
   {
    "duration": 7,
    "start_time": "2023-10-22T10:56:24.978Z"
   },
   {
    "duration": 3365,
    "start_time": "2023-10-22T11:00:00.300Z"
   },
   {
    "duration": 12,
    "start_time": "2023-10-22T11:00:06.022Z"
   },
   {
    "duration": 4,
    "start_time": "2023-10-22T11:05:48.686Z"
   },
   {
    "duration": 3,
    "start_time": "2023-10-22T11:05:50.445Z"
   },
   {
    "duration": 71,
    "start_time": "2023-10-22T11:05:54.196Z"
   },
   {
    "duration": 177,
    "start_time": "2023-10-22T11:06:49.346Z"
   },
   {
    "duration": 3,
    "start_time": "2023-10-22T11:06:58.109Z"
   },
   {
    "duration": 47,
    "start_time": "2023-10-22T11:07:01.304Z"
   },
   {
    "duration": 23,
    "start_time": "2023-10-22T11:14:50.843Z"
   },
   {
    "duration": 32,
    "start_time": "2023-10-22T11:16:17.741Z"
   },
   {
    "duration": 30,
    "start_time": "2023-10-22T11:16:23.350Z"
   },
   {
    "duration": 2212,
    "start_time": "2023-10-22T11:16:52.993Z"
   },
   {
    "duration": 35,
    "start_time": "2023-10-22T11:16:55.207Z"
   },
   {
    "duration": 6,
    "start_time": "2023-10-22T11:16:55.243Z"
   },
   {
    "duration": 14,
    "start_time": "2023-10-22T11:16:55.251Z"
   },
   {
    "duration": 7,
    "start_time": "2023-10-22T11:16:55.267Z"
   },
   {
    "duration": 9,
    "start_time": "2023-10-22T11:16:55.275Z"
   },
   {
    "duration": 14,
    "start_time": "2023-10-22T11:16:55.285Z"
   },
   {
    "duration": 3042,
    "start_time": "2023-10-22T11:17:09.204Z"
   },
   {
    "duration": 34,
    "start_time": "2023-10-22T11:17:12.249Z"
   },
   {
    "duration": 61,
    "start_time": "2023-10-22T11:17:12.284Z"
   },
   {
    "duration": 50,
    "start_time": "2023-10-22T11:17:12.348Z"
   },
   {
    "duration": 41,
    "start_time": "2023-10-22T11:17:12.400Z"
   },
   {
    "duration": 228,
    "start_time": "2023-10-22T11:17:12.443Z"
   },
   {
    "duration": 116,
    "start_time": "2023-10-22T11:17:12.673Z"
   },
   {
    "duration": 231,
    "start_time": "2023-10-22T11:17:12.791Z"
   },
   {
    "duration": 266,
    "start_time": "2023-10-22T11:18:54.942Z"
   },
   {
    "duration": 12,
    "start_time": "2023-10-22T11:19:36.104Z"
   },
   {
    "duration": 8,
    "start_time": "2023-10-22T11:19:55.069Z"
   },
   {
    "duration": 10,
    "start_time": "2023-10-22T11:20:46.456Z"
   },
   {
    "duration": 82,
    "start_time": "2023-10-22T11:21:01.569Z"
   },
   {
    "duration": 70,
    "start_time": "2023-10-22T11:21:12.503Z"
   },
   {
    "duration": 9,
    "start_time": "2023-10-22T11:21:49.647Z"
   },
   {
    "duration": 15,
    "start_time": "2023-10-22T11:21:55.717Z"
   },
   {
    "duration": 11,
    "start_time": "2023-10-22T11:21:59.872Z"
   },
   {
    "duration": 8,
    "start_time": "2023-10-22T11:22:03.801Z"
   },
   {
    "duration": 3,
    "start_time": "2023-10-22T11:25:10.138Z"
   },
   {
    "duration": 1412,
    "start_time": "2023-10-22T11:25:43.266Z"
   },
   {
    "duration": 37,
    "start_time": "2023-10-22T11:25:52.440Z"
   },
   {
    "duration": 52,
    "start_time": "2023-10-22T11:28:26.148Z"
   },
   {
    "duration": 54,
    "start_time": "2023-10-22T11:28:36.169Z"
   },
   {
    "duration": 94,
    "start_time": "2023-10-22T11:28:45.946Z"
   },
   {
    "duration": 55,
    "start_time": "2023-10-22T11:28:54.147Z"
   },
   {
    "duration": 17,
    "start_time": "2023-10-22T11:29:26.081Z"
   },
   {
    "duration": 8,
    "start_time": "2023-10-22T11:30:11.490Z"
   },
   {
    "duration": 88,
    "start_time": "2023-10-22T11:30:42.879Z"
   },
   {
    "duration": 84,
    "start_time": "2023-10-22T11:30:55.117Z"
   },
   {
    "duration": 7,
    "start_time": "2023-10-22T11:31:09.699Z"
   },
   {
    "duration": 23,
    "start_time": "2023-10-22T11:38:53.998Z"
   },
   {
    "duration": 24,
    "start_time": "2023-10-22T11:39:13.734Z"
   },
   {
    "duration": 26,
    "start_time": "2023-10-22T11:39:25.002Z"
   },
   {
    "duration": 9,
    "start_time": "2023-10-22T11:39:42.901Z"
   },
   {
    "duration": 8,
    "start_time": "2023-10-22T11:40:03.063Z"
   },
   {
    "duration": 59,
    "start_time": "2023-10-22T11:40:19.427Z"
   },
   {
    "duration": 75,
    "start_time": "2023-10-22T11:41:20.662Z"
   },
   {
    "duration": 5,
    "start_time": "2023-10-22T11:41:31.564Z"
   },
   {
    "duration": 8,
    "start_time": "2023-10-22T11:41:37.179Z"
   },
   {
    "duration": 8,
    "start_time": "2023-10-22T11:41:50.846Z"
   },
   {
    "duration": 19,
    "start_time": "2023-10-22T11:42:09.433Z"
   },
   {
    "duration": 11,
    "start_time": "2023-10-22T11:42:35.982Z"
   },
   {
    "duration": 9,
    "start_time": "2023-10-22T11:42:44.984Z"
   },
   {
    "duration": 13,
    "start_time": "2023-10-22T11:42:57.768Z"
   },
   {
    "duration": 11,
    "start_time": "2023-10-22T11:43:31.309Z"
   },
   {
    "duration": 11,
    "start_time": "2023-10-22T11:47:32.853Z"
   },
   {
    "duration": 10,
    "start_time": "2023-10-22T11:47:46.351Z"
   },
   {
    "duration": 19,
    "start_time": "2023-10-22T11:48:01.919Z"
   },
   {
    "duration": 10,
    "start_time": "2023-10-22T11:48:07.754Z"
   },
   {
    "duration": 3027,
    "start_time": "2023-10-22T11:48:20.539Z"
   },
   {
    "duration": 25,
    "start_time": "2023-10-22T11:48:23.568Z"
   },
   {
    "duration": 6,
    "start_time": "2023-10-22T11:48:23.595Z"
   },
   {
    "duration": 35,
    "start_time": "2023-10-22T11:48:23.603Z"
   },
   {
    "duration": 17,
    "start_time": "2023-10-22T11:48:23.641Z"
   },
   {
    "duration": 12,
    "start_time": "2023-10-22T11:48:23.660Z"
   },
   {
    "duration": 22,
    "start_time": "2023-10-22T11:48:23.674Z"
   },
   {
    "duration": 10,
    "start_time": "2023-10-22T11:48:23.698Z"
   },
   {
    "duration": 14,
    "start_time": "2023-10-22T11:49:05.923Z"
   },
   {
    "duration": 11,
    "start_time": "2023-10-22T11:51:11.119Z"
   },
   {
    "duration": 8,
    "start_time": "2023-10-22T11:52:05.275Z"
   },
   {
    "duration": 126,
    "start_time": "2023-10-22T11:55:34.283Z"
   },
   {
    "duration": 126,
    "start_time": "2023-10-22T11:57:18.768Z"
   },
   {
    "duration": 512,
    "start_time": "2023-10-22T11:58:51.749Z"
   },
   {
    "duration": 9,
    "start_time": "2023-10-22T11:59:09.266Z"
   },
   {
    "duration": 3,
    "start_time": "2023-10-22T12:04:16.559Z"
   },
   {
    "duration": 6,
    "start_time": "2023-10-22T12:04:26.739Z"
   },
   {
    "duration": 87,
    "start_time": "2023-10-22T12:09:38.208Z"
   },
   {
    "duration": 83,
    "start_time": "2023-10-22T12:09:44.774Z"
   },
   {
    "duration": 6,
    "start_time": "2023-10-22T12:11:30.888Z"
   },
   {
    "duration": 6,
    "start_time": "2023-10-22T12:12:24.153Z"
   },
   {
    "duration": 6,
    "start_time": "2023-10-22T12:16:40.709Z"
   },
   {
    "duration": 6,
    "start_time": "2023-10-22T12:17:28.195Z"
   },
   {
    "duration": 513,
    "start_time": "2023-10-22T12:19:49.684Z"
   },
   {
    "duration": 7,
    "start_time": "2023-10-22T12:21:22.864Z"
   },
   {
    "duration": 7,
    "start_time": "2023-10-22T12:43:22.197Z"
   },
   {
    "duration": 8,
    "start_time": "2023-10-22T12:50:53.065Z"
   },
   {
    "duration": 86,
    "start_time": "2023-10-22T12:51:39.054Z"
   },
   {
    "duration": 6,
    "start_time": "2023-10-22T12:52:16.756Z"
   },
   {
    "duration": 89,
    "start_time": "2023-10-22T12:53:13.310Z"
   },
   {
    "duration": 6,
    "start_time": "2023-10-22T12:53:29.216Z"
   },
   {
    "duration": 9,
    "start_time": "2023-10-22T12:53:57.888Z"
   },
   {
    "duration": 17,
    "start_time": "2023-10-22T12:54:13.047Z"
   },
   {
    "duration": 16,
    "start_time": "2023-10-22T12:54:19.677Z"
   },
   {
    "duration": 6,
    "start_time": "2023-10-22T14:08:34.789Z"
   },
   {
    "duration": 8,
    "start_time": "2023-10-22T14:26:06.711Z"
   },
   {
    "duration": 15,
    "start_time": "2023-10-22T14:26:29.885Z"
   },
   {
    "duration": 7,
    "start_time": "2023-10-22T14:26:36.498Z"
   },
   {
    "duration": 12,
    "start_time": "2023-10-22T14:30:40.929Z"
   },
   {
    "duration": 18,
    "start_time": "2023-10-22T14:31:38.319Z"
   },
   {
    "duration": 4,
    "start_time": "2023-10-22T14:33:32.162Z"
   },
   {
    "duration": 9,
    "start_time": "2023-10-22T14:34:00.474Z"
   },
   {
    "duration": 7,
    "start_time": "2023-10-22T14:34:09.747Z"
   },
   {
    "duration": 5,
    "start_time": "2023-10-22T14:36:48.582Z"
   },
   {
    "duration": 5,
    "start_time": "2023-10-22T14:37:07.176Z"
   },
   {
    "duration": 5,
    "start_time": "2023-10-22T14:37:13.297Z"
   },
   {
    "duration": 3197,
    "start_time": "2023-10-22T14:37:18.913Z"
   },
   {
    "duration": 41,
    "start_time": "2023-10-22T14:37:22.112Z"
   },
   {
    "duration": 7,
    "start_time": "2023-10-22T14:37:22.155Z"
   },
   {
    "duration": 8,
    "start_time": "2023-10-22T14:37:22.164Z"
   },
   {
    "duration": 14,
    "start_time": "2023-10-22T14:37:22.174Z"
   },
   {
    "duration": 10,
    "start_time": "2023-10-22T14:37:22.190Z"
   },
   {
    "duration": 28,
    "start_time": "2023-10-22T14:37:22.201Z"
   },
   {
    "duration": 18,
    "start_time": "2023-10-22T14:37:22.230Z"
   },
   {
    "duration": 9,
    "start_time": "2023-10-22T14:37:22.249Z"
   },
   {
    "duration": 6,
    "start_time": "2023-10-22T14:37:22.260Z"
   },
   {
    "duration": 113,
    "start_time": "2023-10-22T14:37:22.268Z"
   },
   {
    "duration": 0,
    "start_time": "2023-10-22T14:37:22.384Z"
   },
   {
    "duration": 0,
    "start_time": "2023-10-22T14:37:22.385Z"
   },
   {
    "duration": 0,
    "start_time": "2023-10-22T14:37:22.386Z"
   },
   {
    "duration": 0,
    "start_time": "2023-10-22T14:37:22.387Z"
   },
   {
    "duration": 5,
    "start_time": "2023-10-22T14:37:30.005Z"
   },
   {
    "duration": 2364,
    "start_time": "2023-10-22T14:37:33.905Z"
   },
   {
    "duration": 22,
    "start_time": "2023-10-22T14:37:36.271Z"
   },
   {
    "duration": 57,
    "start_time": "2023-10-22T14:37:36.295Z"
   },
   {
    "duration": 32,
    "start_time": "2023-10-22T14:37:36.355Z"
   },
   {
    "duration": 51,
    "start_time": "2023-10-22T14:37:36.388Z"
   },
   {
    "duration": 19,
    "start_time": "2023-10-22T14:37:36.441Z"
   },
   {
    "duration": 31,
    "start_time": "2023-10-22T14:37:36.461Z"
   },
   {
    "duration": 64,
    "start_time": "2023-10-22T14:37:36.495Z"
   },
   {
    "duration": 52,
    "start_time": "2023-10-22T14:37:36.560Z"
   },
   {
    "duration": 39,
    "start_time": "2023-10-22T14:37:36.616Z"
   },
   {
    "duration": 99,
    "start_time": "2023-10-22T14:37:36.657Z"
   },
   {
    "duration": 0,
    "start_time": "2023-10-22T14:37:36.758Z"
   },
   {
    "duration": 0,
    "start_time": "2023-10-22T14:37:36.760Z"
   },
   {
    "duration": 0,
    "start_time": "2023-10-22T14:37:36.762Z"
   },
   {
    "duration": 0,
    "start_time": "2023-10-22T14:37:36.764Z"
   },
   {
    "duration": 2343,
    "start_time": "2023-10-22T14:37:39.977Z"
   },
   {
    "duration": 36,
    "start_time": "2023-10-22T14:37:42.324Z"
   },
   {
    "duration": 6,
    "start_time": "2023-10-22T14:37:42.362Z"
   },
   {
    "duration": 16,
    "start_time": "2023-10-22T14:37:42.370Z"
   },
   {
    "duration": 7,
    "start_time": "2023-10-22T14:37:42.388Z"
   },
   {
    "duration": 43,
    "start_time": "2023-10-22T14:37:42.397Z"
   },
   {
    "duration": 7,
    "start_time": "2023-10-22T14:37:42.449Z"
   },
   {
    "duration": 13,
    "start_time": "2023-10-22T14:37:42.459Z"
   },
   {
    "duration": 4,
    "start_time": "2023-10-22T14:37:42.474Z"
   },
   {
    "duration": 17,
    "start_time": "2023-10-22T14:37:42.479Z"
   },
   {
    "duration": 121,
    "start_time": "2023-10-22T14:37:42.498Z"
   },
   {
    "duration": 0,
    "start_time": "2023-10-22T14:37:42.621Z"
   },
   {
    "duration": 0,
    "start_time": "2023-10-22T14:37:42.622Z"
   },
   {
    "duration": 0,
    "start_time": "2023-10-22T14:37:42.628Z"
   },
   {
    "duration": 2240,
    "start_time": "2023-10-22T14:37:51.177Z"
   },
   {
    "duration": 39,
    "start_time": "2023-10-22T14:37:53.419Z"
   },
   {
    "duration": 29,
    "start_time": "2023-10-22T14:37:53.460Z"
   },
   {
    "duration": 51,
    "start_time": "2023-10-22T14:37:53.490Z"
   },
   {
    "duration": 30,
    "start_time": "2023-10-22T14:37:53.546Z"
   },
   {
    "duration": 22,
    "start_time": "2023-10-22T14:37:53.577Z"
   },
   {
    "duration": 67,
    "start_time": "2023-10-22T14:37:53.600Z"
   },
   {
    "duration": 46,
    "start_time": "2023-10-22T14:37:53.669Z"
   },
   {
    "duration": 17,
    "start_time": "2023-10-22T14:37:53.717Z"
   },
   {
    "duration": 30,
    "start_time": "2023-10-22T14:37:53.736Z"
   },
   {
    "duration": 107,
    "start_time": "2023-10-22T14:37:53.768Z"
   },
   {
    "duration": 0,
    "start_time": "2023-10-22T14:37:53.878Z"
   },
   {
    "duration": 0,
    "start_time": "2023-10-22T14:37:53.879Z"
   },
   {
    "duration": 0,
    "start_time": "2023-10-22T14:37:53.881Z"
   },
   {
    "duration": 0,
    "start_time": "2023-10-22T14:37:53.883Z"
   },
   {
    "duration": 5,
    "start_time": "2023-10-22T14:37:59.189Z"
   },
   {
    "duration": 2249,
    "start_time": "2023-10-22T14:40:38.568Z"
   },
   {
    "duration": 38,
    "start_time": "2023-10-22T14:40:40.818Z"
   },
   {
    "duration": 6,
    "start_time": "2023-10-22T14:40:40.858Z"
   },
   {
    "duration": 6,
    "start_time": "2023-10-22T14:40:40.866Z"
   },
   {
    "duration": 18,
    "start_time": "2023-10-22T14:40:40.873Z"
   },
   {
    "duration": 14,
    "start_time": "2023-10-22T14:40:40.894Z"
   },
   {
    "duration": 24,
    "start_time": "2023-10-22T14:40:40.910Z"
   },
   {
    "duration": 22,
    "start_time": "2023-10-22T14:40:40.935Z"
   },
   {
    "duration": 5,
    "start_time": "2023-10-22T14:40:40.959Z"
   },
   {
    "duration": 5,
    "start_time": "2023-10-22T14:40:40.966Z"
   },
   {
    "duration": 7,
    "start_time": "2023-10-22T14:40:40.973Z"
   },
   {
    "duration": 9,
    "start_time": "2023-10-22T14:40:40.982Z"
   },
   {
    "duration": 16,
    "start_time": "2023-10-22T14:40:40.993Z"
   },
   {
    "duration": 2213,
    "start_time": "2023-10-22T14:48:27.240Z"
   },
   {
    "duration": 13,
    "start_time": "2023-10-22T14:48:46.074Z"
   },
   {
    "duration": 10,
    "start_time": "2023-10-22T14:48:56.075Z"
   },
   {
    "duration": 14,
    "start_time": "2023-10-22T15:03:00.322Z"
   },
   {
    "duration": 7,
    "start_time": "2023-10-22T15:04:20.102Z"
   },
   {
    "duration": 6,
    "start_time": "2023-10-22T15:06:15.808Z"
   },
   {
    "duration": 5,
    "start_time": "2023-10-22T15:06:33.999Z"
   },
   {
    "duration": 6,
    "start_time": "2023-10-22T15:07:38.624Z"
   },
   {
    "duration": 6,
    "start_time": "2023-10-22T15:07:42.767Z"
   },
   {
    "duration": 2651,
    "start_time": "2023-10-22T15:07:49.051Z"
   },
   {
    "duration": 24,
    "start_time": "2023-10-22T15:07:51.704Z"
   },
   {
    "duration": 16,
    "start_time": "2023-10-22T15:07:51.730Z"
   },
   {
    "duration": 48,
    "start_time": "2023-10-22T15:07:51.748Z"
   },
   {
    "duration": 25,
    "start_time": "2023-10-22T15:07:51.798Z"
   },
   {
    "duration": 44,
    "start_time": "2023-10-22T15:07:51.824Z"
   },
   {
    "duration": 25,
    "start_time": "2023-10-22T15:07:51.870Z"
   },
   {
    "duration": 39,
    "start_time": "2023-10-22T15:07:51.896Z"
   },
   {
    "duration": 58,
    "start_time": "2023-10-22T15:07:51.937Z"
   },
   {
    "duration": 59,
    "start_time": "2023-10-22T15:07:51.998Z"
   },
   {
    "duration": 53,
    "start_time": "2023-10-22T15:07:52.059Z"
   },
   {
    "duration": 67,
    "start_time": "2023-10-22T15:07:52.114Z"
   },
   {
    "duration": 13,
    "start_time": "2023-10-22T15:07:52.184Z"
   },
   {
    "duration": 22,
    "start_time": "2023-10-22T15:07:52.199Z"
   },
   {
    "duration": 18,
    "start_time": "2023-10-22T15:07:52.223Z"
   },
   {
    "duration": 78,
    "start_time": "2023-10-22T15:08:53.878Z"
   },
   {
    "duration": 5,
    "start_time": "2023-10-22T15:09:34.833Z"
   },
   {
    "duration": 4,
    "start_time": "2023-10-22T15:23:53.297Z"
   },
   {
    "duration": 24,
    "start_time": "2023-10-22T15:36:34.577Z"
   },
   {
    "duration": 2075,
    "start_time": "2023-10-22T15:37:17.310Z"
   },
   {
    "duration": 2093,
    "start_time": "2023-10-22T15:37:35.046Z"
   },
   {
    "duration": 29,
    "start_time": "2023-10-22T15:37:52.409Z"
   },
   {
    "duration": 43,
    "start_time": "2023-10-22T15:38:04.546Z"
   },
   {
    "duration": 24,
    "start_time": "2023-10-22T15:38:14.235Z"
   },
   {
    "duration": 4,
    "start_time": "2023-10-22T15:39:01.711Z"
   },
   {
    "duration": 4,
    "start_time": "2023-10-22T16:29:24.030Z"
   },
   {
    "duration": 6,
    "start_time": "2023-10-22T16:29:44.917Z"
   },
   {
    "duration": 4,
    "start_time": "2023-10-22T16:31:58.716Z"
   },
   {
    "duration": 6,
    "start_time": "2023-10-22T16:34:31.249Z"
   },
   {
    "duration": 8,
    "start_time": "2023-10-22T16:37:07.423Z"
   },
   {
    "duration": 7,
    "start_time": "2023-10-22T16:37:16.807Z"
   },
   {
    "duration": 10,
    "start_time": "2023-10-22T16:38:54.902Z"
   },
   {
    "duration": 5,
    "start_time": "2023-10-22T16:45:02.358Z"
   },
   {
    "duration": 5,
    "start_time": "2023-10-22T16:46:19.628Z"
   },
   {
    "duration": 8,
    "start_time": "2023-10-22T16:46:52.470Z"
   },
   {
    "duration": 83,
    "start_time": "2023-10-22T16:52:23.881Z"
   },
   {
    "duration": 3,
    "start_time": "2023-10-22T16:53:06.684Z"
   },
   {
    "duration": 3,
    "start_time": "2023-10-22T16:53:08.539Z"
   },
   {
    "duration": 6,
    "start_time": "2023-10-22T16:53:35.310Z"
   },
   {
    "duration": 5,
    "start_time": "2023-10-22T16:54:03.903Z"
   },
   {
    "duration": 157,
    "start_time": "2023-10-22T17:03:23.001Z"
   },
   {
    "duration": 4,
    "start_time": "2023-10-22T17:04:19.967Z"
   },
   {
    "duration": 7,
    "start_time": "2023-10-22T18:22:26.263Z"
   },
   {
    "duration": 14,
    "start_time": "2023-10-22T18:22:37.821Z"
   },
   {
    "duration": 14,
    "start_time": "2023-10-22T18:22:59.595Z"
   },
   {
    "duration": 11,
    "start_time": "2023-10-22T18:24:53.612Z"
   },
   {
    "duration": 14,
    "start_time": "2023-10-22T18:25:06.242Z"
   },
   {
    "duration": 64,
    "start_time": "2023-10-22T18:36:49.068Z"
   },
   {
    "duration": 55,
    "start_time": "2023-10-22T18:37:09.254Z"
   },
   {
    "duration": 94,
    "start_time": "2023-10-22T18:38:08.152Z"
   },
   {
    "duration": 90,
    "start_time": "2023-10-22T18:38:33.060Z"
   },
   {
    "duration": 106,
    "start_time": "2023-10-22T18:38:42.268Z"
   },
   {
    "duration": 2723,
    "start_time": "2023-10-22T18:38:52.267Z"
   },
   {
    "duration": 31,
    "start_time": "2023-10-22T18:38:54.992Z"
   },
   {
    "duration": 35,
    "start_time": "2023-10-22T18:38:55.024Z"
   },
   {
    "duration": 7,
    "start_time": "2023-10-22T18:38:55.061Z"
   },
   {
    "duration": 16,
    "start_time": "2023-10-22T18:38:55.070Z"
   },
   {
    "duration": 6,
    "start_time": "2023-10-22T18:38:55.087Z"
   },
   {
    "duration": 32,
    "start_time": "2023-10-22T18:38:55.095Z"
   },
   {
    "duration": 6,
    "start_time": "2023-10-22T18:38:55.128Z"
   },
   {
    "duration": 20,
    "start_time": "2023-10-22T18:38:55.135Z"
   },
   {
    "duration": 7,
    "start_time": "2023-10-22T18:38:55.157Z"
   },
   {
    "duration": 7,
    "start_time": "2023-10-22T18:38:55.166Z"
   },
   {
    "duration": 12,
    "start_time": "2023-10-22T18:38:55.174Z"
   },
   {
    "duration": 20,
    "start_time": "2023-10-22T18:38:55.187Z"
   },
   {
    "duration": 4,
    "start_time": "2023-10-22T18:38:55.223Z"
   },
   {
    "duration": 33,
    "start_time": "2023-10-22T18:38:55.229Z"
   },
   {
    "duration": 19,
    "start_time": "2023-10-22T18:38:55.264Z"
   },
   {
    "duration": 7,
    "start_time": "2023-10-22T18:38:55.284Z"
   },
   {
    "duration": 16,
    "start_time": "2023-10-22T18:38:55.292Z"
   },
   {
    "duration": 8,
    "start_time": "2023-10-22T18:38:55.310Z"
   },
   {
    "duration": 5,
    "start_time": "2023-10-22T18:38:55.320Z"
   },
   {
    "duration": 76,
    "start_time": "2023-10-22T18:38:55.327Z"
   },
   {
    "duration": 0,
    "start_time": "2023-10-22T18:38:55.405Z"
   },
   {
    "duration": 0,
    "start_time": "2023-10-22T18:38:55.406Z"
   },
   {
    "duration": 0,
    "start_time": "2023-10-22T18:38:55.407Z"
   },
   {
    "duration": 0,
    "start_time": "2023-10-22T18:38:55.408Z"
   },
   {
    "duration": 0,
    "start_time": "2023-10-22T18:38:55.409Z"
   },
   {
    "duration": 0,
    "start_time": "2023-10-22T18:38:55.410Z"
   },
   {
    "duration": 0,
    "start_time": "2023-10-22T18:38:55.411Z"
   },
   {
    "duration": 0,
    "start_time": "2023-10-22T18:38:55.412Z"
   },
   {
    "duration": 0,
    "start_time": "2023-10-22T18:38:55.413Z"
   },
   {
    "duration": 0,
    "start_time": "2023-10-22T18:38:55.414Z"
   },
   {
    "duration": 89,
    "start_time": "2023-10-22T18:38:57.269Z"
   },
   {
    "duration": 115,
    "start_time": "2023-10-22T18:39:19.745Z"
   },
   {
    "duration": 124,
    "start_time": "2023-10-22T18:45:09.009Z"
   },
   {
    "duration": 153,
    "start_time": "2023-10-22T18:47:20.225Z"
   },
   {
    "duration": 204,
    "start_time": "2023-10-22T18:47:50.788Z"
   },
   {
    "duration": 214,
    "start_time": "2023-10-22T18:49:15.801Z"
   },
   {
    "duration": 218,
    "start_time": "2023-10-22T18:56:38.141Z"
   },
   {
    "duration": 199,
    "start_time": "2023-10-22T18:58:51.393Z"
   },
   {
    "duration": 2839,
    "start_time": "2023-10-22T18:59:31.203Z"
   },
   {
    "duration": 26,
    "start_time": "2023-10-22T18:59:34.044Z"
   },
   {
    "duration": 40,
    "start_time": "2023-10-22T18:59:34.072Z"
   },
   {
    "duration": 9,
    "start_time": "2023-10-22T18:59:34.115Z"
   },
   {
    "duration": 7,
    "start_time": "2023-10-22T18:59:34.126Z"
   },
   {
    "duration": 7,
    "start_time": "2023-10-22T18:59:34.134Z"
   },
   {
    "duration": 6,
    "start_time": "2023-10-22T18:59:34.142Z"
   },
   {
    "duration": 5,
    "start_time": "2023-10-22T18:59:34.149Z"
   },
   {
    "duration": 8,
    "start_time": "2023-10-22T18:59:34.156Z"
   },
   {
    "duration": 9,
    "start_time": "2023-10-22T18:59:34.166Z"
   },
   {
    "duration": 5,
    "start_time": "2023-10-22T18:59:34.176Z"
   },
   {
    "duration": 47,
    "start_time": "2023-10-22T18:59:34.182Z"
   },
   {
    "duration": 10,
    "start_time": "2023-10-22T18:59:34.231Z"
   },
   {
    "duration": 12,
    "start_time": "2023-10-22T18:59:34.242Z"
   },
   {
    "duration": 32,
    "start_time": "2023-10-22T18:59:34.255Z"
   },
   {
    "duration": 237,
    "start_time": "2023-10-22T18:59:34.289Z"
   },
   {
    "duration": 291,
    "start_time": "2023-10-22T18:59:34.528Z"
   },
   {
    "duration": 184,
    "start_time": "2023-10-22T18:59:34.821Z"
   },
   {
    "duration": 192,
    "start_time": "2023-10-22T18:59:35.007Z"
   },
   {
    "duration": 254,
    "start_time": "2023-10-22T18:59:35.201Z"
   },
   {
    "duration": 133,
    "start_time": "2023-10-22T18:59:35.457Z"
   },
   {
    "duration": 0,
    "start_time": "2023-10-22T18:59:35.592Z"
   },
   {
    "duration": 0,
    "start_time": "2023-10-22T18:59:35.593Z"
   },
   {
    "duration": 0,
    "start_time": "2023-10-22T18:59:35.594Z"
   },
   {
    "duration": 0,
    "start_time": "2023-10-22T18:59:35.595Z"
   },
   {
    "duration": 0,
    "start_time": "2023-10-22T18:59:35.596Z"
   },
   {
    "duration": 0,
    "start_time": "2023-10-22T18:59:35.598Z"
   },
   {
    "duration": 0,
    "start_time": "2023-10-22T18:59:35.598Z"
   },
   {
    "duration": 0,
    "start_time": "2023-10-22T18:59:35.599Z"
   },
   {
    "duration": 0,
    "start_time": "2023-10-22T18:59:35.600Z"
   },
   {
    "duration": 0,
    "start_time": "2023-10-22T18:59:35.601Z"
   },
   {
    "duration": 202,
    "start_time": "2023-10-22T18:59:38.274Z"
   },
   {
    "duration": 222,
    "start_time": "2023-10-22T19:01:33.919Z"
   },
   {
    "duration": 2814,
    "start_time": "2023-10-22T19:01:51.784Z"
   },
   {
    "duration": 29,
    "start_time": "2023-10-22T19:01:54.600Z"
   },
   {
    "duration": 39,
    "start_time": "2023-10-22T19:01:54.630Z"
   },
   {
    "duration": 6,
    "start_time": "2023-10-22T19:01:54.671Z"
   },
   {
    "duration": 34,
    "start_time": "2023-10-22T19:01:54.679Z"
   },
   {
    "duration": 8,
    "start_time": "2023-10-22T19:01:54.714Z"
   },
   {
    "duration": 18,
    "start_time": "2023-10-22T19:01:54.724Z"
   },
   {
    "duration": 29,
    "start_time": "2023-10-22T19:01:54.744Z"
   },
   {
    "duration": 83,
    "start_time": "2023-10-22T19:01:54.775Z"
   },
   {
    "duration": 38,
    "start_time": "2023-10-22T19:01:54.860Z"
   },
   {
    "duration": 89,
    "start_time": "2023-10-22T19:01:54.899Z"
   },
   {
    "duration": 75,
    "start_time": "2023-10-22T19:01:54.990Z"
   },
   {
    "duration": 46,
    "start_time": "2023-10-22T19:01:55.067Z"
   },
   {
    "duration": 20,
    "start_time": "2023-10-22T19:01:55.114Z"
   },
   {
    "duration": 179,
    "start_time": "2023-10-22T19:01:55.136Z"
   },
   {
    "duration": 54,
    "start_time": "2023-10-22T19:01:55.316Z"
   },
   {
    "duration": 71,
    "start_time": "2023-10-22T19:01:55.372Z"
   },
   {
    "duration": 129,
    "start_time": "2023-10-22T19:01:55.445Z"
   },
   {
    "duration": 61,
    "start_time": "2023-10-22T19:01:55.576Z"
   },
   {
    "duration": 84,
    "start_time": "2023-10-22T19:01:55.639Z"
   },
   {
    "duration": 279,
    "start_time": "2023-10-22T19:01:55.725Z"
   },
   {
    "duration": 0,
    "start_time": "2023-10-22T19:01:56.006Z"
   },
   {
    "duration": 0,
    "start_time": "2023-10-22T19:01:56.008Z"
   },
   {
    "duration": 0,
    "start_time": "2023-10-22T19:01:56.010Z"
   },
   {
    "duration": 0,
    "start_time": "2023-10-22T19:01:56.012Z"
   },
   {
    "duration": 0,
    "start_time": "2023-10-22T19:01:56.013Z"
   },
   {
    "duration": 0,
    "start_time": "2023-10-22T19:01:56.014Z"
   },
   {
    "duration": 0,
    "start_time": "2023-10-22T19:01:56.015Z"
   },
   {
    "duration": 0,
    "start_time": "2023-10-22T19:01:56.016Z"
   },
   {
    "duration": 0,
    "start_time": "2023-10-22T19:01:56.018Z"
   },
   {
    "duration": 0,
    "start_time": "2023-10-22T19:01:56.021Z"
   },
   {
    "duration": 213,
    "start_time": "2023-10-22T19:01:57.886Z"
   },
   {
    "duration": 4,
    "start_time": "2023-10-22T19:07:57.015Z"
   },
   {
    "duration": 6,
    "start_time": "2023-10-22T19:08:10.688Z"
   },
   {
    "duration": 7,
    "start_time": "2023-10-22T19:09:53.531Z"
   },
   {
    "duration": 7,
    "start_time": "2023-10-22T19:10:07.037Z"
   },
   {
    "duration": 130,
    "start_time": "2023-10-22T19:12:04.211Z"
   },
   {
    "duration": 10,
    "start_time": "2023-10-22T19:13:39.213Z"
   },
   {
    "duration": 12,
    "start_time": "2023-10-22T19:13:54.626Z"
   },
   {
    "duration": 11,
    "start_time": "2023-10-22T19:14:32.701Z"
   },
   {
    "duration": 11,
    "start_time": "2023-10-22T19:15:54.472Z"
   },
   {
    "duration": 75,
    "start_time": "2023-10-22T19:16:28.431Z"
   },
   {
    "duration": 12,
    "start_time": "2023-10-22T19:16:58.959Z"
   },
   {
    "duration": 76,
    "start_time": "2023-10-22T19:18:03.176Z"
   },
   {
    "duration": 1293,
    "start_time": "2023-10-22T19:24:07.398Z"
   },
   {
    "duration": 10,
    "start_time": "2023-10-22T19:24:17.485Z"
   },
   {
    "duration": 11,
    "start_time": "2023-10-22T19:24:49.833Z"
   },
   {
    "duration": 6,
    "start_time": "2023-10-22T19:24:56.483Z"
   },
   {
    "duration": 2345,
    "start_time": "2023-10-22T19:26:35.147Z"
   },
   {
    "duration": 6,
    "start_time": "2023-10-22T19:27:01.530Z"
   },
   {
    "duration": 8,
    "start_time": "2023-10-22T19:27:15.488Z"
   },
   {
    "duration": 33,
    "start_time": "2023-10-22T19:27:59.183Z"
   },
   {
    "duration": 5,
    "start_time": "2023-10-22T19:30:16.924Z"
   },
   {
    "duration": 26,
    "start_time": "2023-10-22T19:30:41.526Z"
   },
   {
    "duration": 12,
    "start_time": "2023-10-22T19:31:22.490Z"
   },
   {
    "duration": 33,
    "start_time": "2023-10-22T19:37:14.287Z"
   },
   {
    "duration": 5,
    "start_time": "2023-10-22T19:39:26.475Z"
   },
   {
    "duration": 10,
    "start_time": "2023-10-22T19:42:30.260Z"
   },
   {
    "duration": 74,
    "start_time": "2023-10-23T19:39:24.493Z"
   },
   {
    "duration": 3007,
    "start_time": "2023-10-23T19:39:32.609Z"
   },
   {
    "duration": 32,
    "start_time": "2023-10-23T19:39:35.618Z"
   },
   {
    "duration": 63,
    "start_time": "2023-10-23T19:39:35.652Z"
   },
   {
    "duration": 8,
    "start_time": "2023-10-23T19:39:35.717Z"
   },
   {
    "duration": 22,
    "start_time": "2023-10-23T19:39:35.726Z"
   },
   {
    "duration": 7,
    "start_time": "2023-10-23T19:39:35.750Z"
   },
   {
    "duration": 11,
    "start_time": "2023-10-23T19:39:35.759Z"
   },
   {
    "duration": 30,
    "start_time": "2023-10-23T19:39:35.771Z"
   },
   {
    "duration": 23,
    "start_time": "2023-10-23T19:39:35.803Z"
   },
   {
    "duration": 10,
    "start_time": "2023-10-23T19:39:35.828Z"
   },
   {
    "duration": 18,
    "start_time": "2023-10-23T19:39:35.839Z"
   },
   {
    "duration": 29,
    "start_time": "2023-10-23T19:39:35.859Z"
   },
   {
    "duration": 55,
    "start_time": "2023-10-23T19:39:35.890Z"
   },
   {
    "duration": 5,
    "start_time": "2023-10-23T19:39:35.947Z"
   },
   {
    "duration": 23,
    "start_time": "2023-10-23T19:39:35.954Z"
   },
   {
    "duration": 22,
    "start_time": "2023-10-23T19:39:35.979Z"
   },
   {
    "duration": 9,
    "start_time": "2023-10-23T19:39:36.003Z"
   },
   {
    "duration": 28,
    "start_time": "2023-10-23T19:39:36.015Z"
   },
   {
    "duration": 23,
    "start_time": "2023-10-23T19:39:36.045Z"
   },
   {
    "duration": 6,
    "start_time": "2023-10-23T19:39:36.071Z"
   },
   {
    "duration": 12,
    "start_time": "2023-10-23T19:39:36.079Z"
   },
   {
    "duration": 10,
    "start_time": "2023-10-23T19:39:36.093Z"
   },
   {
    "duration": 15,
    "start_time": "2023-10-23T19:39:36.105Z"
   },
   {
    "duration": 9,
    "start_time": "2023-10-23T19:39:36.122Z"
   },
   {
    "duration": 44,
    "start_time": "2023-10-23T19:39:36.133Z"
   },
   {
    "duration": 22,
    "start_time": "2023-10-23T19:39:36.178Z"
   },
   {
    "duration": 30,
    "start_time": "2023-10-23T19:39:36.202Z"
   },
   {
    "duration": 28,
    "start_time": "2023-10-23T19:39:36.236Z"
   },
   {
    "duration": 21,
    "start_time": "2023-10-23T19:39:36.265Z"
   },
   {
    "duration": 232,
    "start_time": "2023-10-23T19:39:36.287Z"
   },
   {
    "duration": 7,
    "start_time": "2023-10-23T19:39:36.520Z"
   },
   {
    "duration": 65,
    "start_time": "2023-10-23T19:39:36.528Z"
   },
   {
    "duration": 27,
    "start_time": "2023-10-23T19:39:36.595Z"
   },
   {
    "duration": 25,
    "start_time": "2023-10-23T19:39:36.623Z"
   },
   {
    "duration": 42,
    "start_time": "2023-10-23T19:39:36.650Z"
   },
   {
    "duration": 61,
    "start_time": "2023-10-23T19:39:36.694Z"
   },
   {
    "duration": 2799,
    "start_time": "2023-10-23T19:40:03.947Z"
   },
   {
    "duration": 26,
    "start_time": "2023-10-23T19:40:06.748Z"
   },
   {
    "duration": 28,
    "start_time": "2023-10-23T19:40:06.776Z"
   },
   {
    "duration": 6,
    "start_time": "2023-10-23T19:40:06.805Z"
   },
   {
    "duration": 23,
    "start_time": "2023-10-23T19:40:06.823Z"
   },
   {
    "duration": 16,
    "start_time": "2023-10-23T19:40:06.848Z"
   },
   {
    "duration": 31,
    "start_time": "2023-10-23T19:40:06.866Z"
   },
   {
    "duration": 14,
    "start_time": "2023-10-23T19:40:06.899Z"
   },
   {
    "duration": 11,
    "start_time": "2023-10-23T19:40:06.915Z"
   },
   {
    "duration": 9,
    "start_time": "2023-10-23T19:40:06.927Z"
   },
   {
    "duration": 5,
    "start_time": "2023-10-23T19:40:06.937Z"
   },
   {
    "duration": 7,
    "start_time": "2023-10-23T19:40:06.944Z"
   },
   {
    "duration": 10,
    "start_time": "2023-10-23T19:40:06.952Z"
   },
   {
    "duration": 6,
    "start_time": "2023-10-23T19:40:06.965Z"
   },
   {
    "duration": 15,
    "start_time": "2023-10-23T19:40:06.973Z"
   },
   {
    "duration": 6,
    "start_time": "2023-10-23T19:40:06.990Z"
   },
   {
    "duration": 5,
    "start_time": "2023-10-23T19:40:07.025Z"
   },
   {
    "duration": 12,
    "start_time": "2023-10-23T19:40:07.032Z"
   },
   {
    "duration": 6,
    "start_time": "2023-10-23T19:40:07.046Z"
   },
   {
    "duration": 8,
    "start_time": "2023-10-23T19:40:07.054Z"
   },
   {
    "duration": 20,
    "start_time": "2023-10-23T19:40:07.063Z"
   },
   {
    "duration": 13,
    "start_time": "2023-10-23T19:40:07.084Z"
   },
   {
    "duration": 5,
    "start_time": "2023-10-23T19:40:07.098Z"
   },
   {
    "duration": 20,
    "start_time": "2023-10-23T19:40:07.105Z"
   },
   {
    "duration": 5,
    "start_time": "2023-10-23T19:40:07.127Z"
   },
   {
    "duration": 15,
    "start_time": "2023-10-23T19:40:07.133Z"
   },
   {
    "duration": 5,
    "start_time": "2023-10-23T19:40:07.150Z"
   },
   {
    "duration": 5,
    "start_time": "2023-10-23T19:40:07.157Z"
   },
   {
    "duration": 22,
    "start_time": "2023-10-23T19:40:07.163Z"
   },
   {
    "duration": 240,
    "start_time": "2023-10-23T19:40:07.187Z"
   },
   {
    "duration": 7,
    "start_time": "2023-10-23T19:40:07.429Z"
   },
   {
    "duration": 22,
    "start_time": "2023-10-23T19:40:07.437Z"
   },
   {
    "duration": 12,
    "start_time": "2023-10-23T19:40:07.461Z"
   },
   {
    "duration": 6,
    "start_time": "2023-10-23T19:40:07.475Z"
   },
   {
    "duration": 15,
    "start_time": "2023-10-23T19:40:07.483Z"
   },
   {
    "duration": 7,
    "start_time": "2023-10-23T19:40:07.499Z"
   },
   {
    "duration": 123,
    "start_time": "2023-10-23T19:40:07.523Z"
   },
   {
    "duration": 150,
    "start_time": "2023-10-23T19:40:29.258Z"
   },
   {
    "duration": 114,
    "start_time": "2023-10-23T19:41:31.153Z"
   },
   {
    "duration": 156,
    "start_time": "2023-10-23T19:41:38.304Z"
   },
   {
    "duration": 167,
    "start_time": "2023-10-23T19:41:42.507Z"
   },
   {
    "duration": 81,
    "start_time": "2023-10-23T19:44:14.660Z"
   },
   {
    "duration": 180,
    "start_time": "2023-10-23T19:44:50.376Z"
   },
   {
    "duration": 343,
    "start_time": "2023-10-23T19:45:01.018Z"
   },
   {
    "duration": 193,
    "start_time": "2023-10-23T19:45:19.339Z"
   },
   {
    "duration": 204,
    "start_time": "2023-10-23T19:45:44.993Z"
   },
   {
    "duration": 225,
    "start_time": "2023-10-23T19:45:52.802Z"
   },
   {
    "duration": 203,
    "start_time": "2023-10-23T19:46:03.409Z"
   },
   {
    "duration": 237,
    "start_time": "2023-10-23T19:46:51.942Z"
   },
   {
    "duration": 306,
    "start_time": "2023-10-23T19:47:11.249Z"
   },
   {
    "duration": 162,
    "start_time": "2023-10-23T19:47:51.131Z"
   },
   {
    "duration": 146,
    "start_time": "2023-10-23T19:50:53.634Z"
   },
   {
    "duration": 112,
    "start_time": "2023-10-23T19:52:06.793Z"
   },
   {
    "duration": 78,
    "start_time": "2023-10-23T19:52:36.730Z"
   },
   {
    "duration": 748,
    "start_time": "2023-10-23T19:54:29.092Z"
   },
   {
    "duration": 159,
    "start_time": "2023-10-23T20:00:51.158Z"
   },
   {
    "duration": 160,
    "start_time": "2023-10-23T20:01:06.516Z"
   },
   {
    "duration": 4,
    "start_time": "2023-10-23T20:02:37.835Z"
   },
   {
    "duration": 153,
    "start_time": "2023-10-23T20:07:14.466Z"
   },
   {
    "duration": 171,
    "start_time": "2023-10-23T20:08:01.224Z"
   },
   {
    "duration": 77,
    "start_time": "2023-10-23T20:10:35.335Z"
   },
   {
    "duration": 360,
    "start_time": "2023-10-23T20:11:05.626Z"
   },
   {
    "duration": 192,
    "start_time": "2023-10-23T20:11:21.369Z"
   },
   {
    "duration": 184,
    "start_time": "2023-10-23T20:11:31.003Z"
   },
   {
    "duration": 188,
    "start_time": "2023-10-23T20:11:38.259Z"
   },
   {
    "duration": 185,
    "start_time": "2023-10-23T20:12:01.137Z"
   },
   {
    "duration": 152,
    "start_time": "2023-10-23T20:12:40.608Z"
   },
   {
    "duration": 327,
    "start_time": "2023-10-23T20:15:48.499Z"
   },
   {
    "duration": 158,
    "start_time": "2023-10-23T20:15:53.287Z"
   },
   {
    "duration": 157,
    "start_time": "2023-10-23T20:16:07.926Z"
   },
   {
    "duration": 151,
    "start_time": "2023-10-23T20:16:12.285Z"
   },
   {
    "duration": 158,
    "start_time": "2023-10-23T20:16:19.576Z"
   },
   {
    "duration": 153,
    "start_time": "2023-10-23T20:16:27.248Z"
   },
   {
    "duration": 152,
    "start_time": "2023-10-23T20:16:31.079Z"
   },
   {
    "duration": 281,
    "start_time": "2023-10-23T20:16:34.919Z"
   },
   {
    "duration": 144,
    "start_time": "2023-10-23T20:16:43.039Z"
   },
   {
    "duration": 156,
    "start_time": "2023-10-23T20:16:50.625Z"
   },
   {
    "duration": 153,
    "start_time": "2023-10-23T20:16:56.996Z"
   },
   {
    "duration": 191,
    "start_time": "2023-10-23T20:17:05.737Z"
   },
   {
    "duration": 158,
    "start_time": "2023-10-23T20:17:13.097Z"
   },
   {
    "duration": 154,
    "start_time": "2023-10-23T20:17:45.240Z"
   },
   {
    "duration": 172,
    "start_time": "2023-10-23T20:18:51.131Z"
   },
   {
    "duration": 48,
    "start_time": "2023-10-23T20:43:25.210Z"
   },
   {
    "duration": 11,
    "start_time": "2023-10-23T20:43:41.501Z"
   },
   {
    "duration": 13,
    "start_time": "2023-10-23T20:45:04.409Z"
   },
   {
    "duration": 77,
    "start_time": "2023-10-23T20:55:52.138Z"
   },
   {
    "duration": 90,
    "start_time": "2023-10-23T20:56:00.144Z"
   },
   {
    "duration": 3,
    "start_time": "2023-10-23T20:56:13.897Z"
   },
   {
    "duration": 5,
    "start_time": "2023-10-23T20:56:21.823Z"
   },
   {
    "duration": 10,
    "start_time": "2023-10-23T20:57:07.711Z"
   },
   {
    "duration": 8,
    "start_time": "2023-10-23T20:57:21.491Z"
   },
   {
    "duration": 6,
    "start_time": "2023-10-23T20:57:38.820Z"
   },
   {
    "duration": 13,
    "start_time": "2023-10-23T20:57:44.619Z"
   },
   {
    "duration": 176,
    "start_time": "2023-10-23T20:57:53.738Z"
   },
   {
    "duration": 6,
    "start_time": "2023-10-23T20:58:01.781Z"
   },
   {
    "duration": 2691,
    "start_time": "2023-10-23T20:58:16.587Z"
   },
   {
    "duration": 31,
    "start_time": "2023-10-23T20:58:19.280Z"
   },
   {
    "duration": 34,
    "start_time": "2023-10-23T20:58:19.313Z"
   },
   {
    "duration": 6,
    "start_time": "2023-10-23T20:58:19.349Z"
   },
   {
    "duration": 7,
    "start_time": "2023-10-23T20:58:19.357Z"
   },
   {
    "duration": 8,
    "start_time": "2023-10-23T20:58:19.365Z"
   },
   {
    "duration": 6,
    "start_time": "2023-10-23T20:58:19.375Z"
   },
   {
    "duration": 47,
    "start_time": "2023-10-23T20:58:19.383Z"
   },
   {
    "duration": 11,
    "start_time": "2023-10-23T20:58:19.432Z"
   },
   {
    "duration": 7,
    "start_time": "2023-10-23T20:58:19.445Z"
   },
   {
    "duration": 7,
    "start_time": "2023-10-23T20:58:19.454Z"
   },
   {
    "duration": 9,
    "start_time": "2023-10-23T20:58:19.463Z"
   },
   {
    "duration": 52,
    "start_time": "2023-10-23T20:58:19.474Z"
   },
   {
    "duration": 11,
    "start_time": "2023-10-23T20:58:19.527Z"
   },
   {
    "duration": 9,
    "start_time": "2023-10-23T20:58:19.540Z"
   },
   {
    "duration": 6,
    "start_time": "2023-10-23T20:58:19.550Z"
   },
   {
    "duration": 4,
    "start_time": "2023-10-23T20:58:19.558Z"
   },
   {
    "duration": 6,
    "start_time": "2023-10-23T20:58:19.564Z"
   },
   {
    "duration": 7,
    "start_time": "2023-10-23T20:58:19.571Z"
   },
   {
    "duration": 6,
    "start_time": "2023-10-23T20:58:19.579Z"
   },
   {
    "duration": 39,
    "start_time": "2023-10-23T20:58:19.587Z"
   },
   {
    "duration": 8,
    "start_time": "2023-10-23T20:58:19.628Z"
   },
   {
    "duration": 5,
    "start_time": "2023-10-23T20:58:19.638Z"
   },
   {
    "duration": 4,
    "start_time": "2023-10-23T20:58:19.645Z"
   },
   {
    "duration": 5,
    "start_time": "2023-10-23T20:58:19.651Z"
   },
   {
    "duration": 8,
    "start_time": "2023-10-23T20:58:19.657Z"
   },
   {
    "duration": 5,
    "start_time": "2023-10-23T20:58:19.666Z"
   },
   {
    "duration": 5,
    "start_time": "2023-10-23T20:58:19.724Z"
   },
   {
    "duration": 24,
    "start_time": "2023-10-23T20:58:19.731Z"
   },
   {
    "duration": 247,
    "start_time": "2023-10-23T20:58:19.757Z"
   },
   {
    "duration": 7,
    "start_time": "2023-10-23T20:58:20.006Z"
   },
   {
    "duration": 16,
    "start_time": "2023-10-23T20:58:20.014Z"
   },
   {
    "duration": 11,
    "start_time": "2023-10-23T20:58:20.032Z"
   },
   {
    "duration": 7,
    "start_time": "2023-10-23T20:58:20.045Z"
   },
   {
    "duration": 12,
    "start_time": "2023-10-23T20:58:20.055Z"
   },
   {
    "duration": 16,
    "start_time": "2023-10-23T20:58:20.068Z"
   },
   {
    "duration": 176,
    "start_time": "2023-10-23T20:58:20.085Z"
   },
   {
    "duration": 190,
    "start_time": "2023-10-23T20:58:20.263Z"
   },
   {
    "duration": 169,
    "start_time": "2023-10-23T20:58:20.455Z"
   },
   {
    "duration": 17,
    "start_time": "2023-10-23T20:58:20.626Z"
   },
   {
    "duration": 11,
    "start_time": "2023-10-23T20:58:20.644Z"
   },
   {
    "duration": 188,
    "start_time": "2023-10-23T20:58:20.656Z"
   },
   {
    "duration": 97,
    "start_time": "2023-10-23T20:58:20.846Z"
   },
   {
    "duration": 5,
    "start_time": "2023-10-23T20:58:34.523Z"
   },
   {
    "duration": 171,
    "start_time": "2023-10-23T20:58:39.173Z"
   },
   {
    "duration": 129,
    "start_time": "2023-10-23T20:58:40.799Z"
   },
   {
    "duration": 267,
    "start_time": "2023-10-23T20:59:03.751Z"
   },
   {
    "duration": 190,
    "start_time": "2023-10-23T20:59:28.836Z"
   },
   {
    "duration": 203,
    "start_time": "2023-10-23T20:59:35.033Z"
   },
   {
    "duration": 10,
    "start_time": "2023-10-23T20:59:55.265Z"
   },
   {
    "duration": 168,
    "start_time": "2023-10-23T20:59:59.701Z"
   },
   {
    "duration": 120,
    "start_time": "2023-10-23T21:00:07.320Z"
   },
   {
    "duration": 134,
    "start_time": "2023-10-23T21:00:16.052Z"
   },
   {
    "duration": 6,
    "start_time": "2023-10-23T21:00:26.151Z"
   },
   {
    "duration": 2854,
    "start_time": "2023-10-23T21:00:33.588Z"
   },
   {
    "duration": 28,
    "start_time": "2023-10-23T21:00:36.444Z"
   },
   {
    "duration": 35,
    "start_time": "2023-10-23T21:00:36.474Z"
   },
   {
    "duration": 9,
    "start_time": "2023-10-23T21:00:36.510Z"
   },
   {
    "duration": 26,
    "start_time": "2023-10-23T21:00:36.523Z"
   },
   {
    "duration": 15,
    "start_time": "2023-10-23T21:00:36.551Z"
   },
   {
    "duration": 10,
    "start_time": "2023-10-23T21:00:36.567Z"
   },
   {
    "duration": 56,
    "start_time": "2023-10-23T21:00:36.579Z"
   },
   {
    "duration": 36,
    "start_time": "2023-10-23T21:00:36.638Z"
   },
   {
    "duration": 27,
    "start_time": "2023-10-23T21:00:36.675Z"
   },
   {
    "duration": 41,
    "start_time": "2023-10-23T21:00:36.704Z"
   },
   {
    "duration": 29,
    "start_time": "2023-10-23T21:00:36.747Z"
   },
   {
    "duration": 15,
    "start_time": "2023-10-23T21:00:36.778Z"
   },
   {
    "duration": 5,
    "start_time": "2023-10-23T21:00:36.796Z"
   },
   {
    "duration": 19,
    "start_time": "2023-10-23T21:00:36.803Z"
   },
   {
    "duration": 9,
    "start_time": "2023-10-23T21:00:36.824Z"
   },
   {
    "duration": 52,
    "start_time": "2023-10-23T21:00:36.835Z"
   },
   {
    "duration": 28,
    "start_time": "2023-10-23T21:00:36.889Z"
   },
   {
    "duration": 59,
    "start_time": "2023-10-23T21:00:36.919Z"
   },
   {
    "duration": 40,
    "start_time": "2023-10-23T21:00:36.980Z"
   },
   {
    "duration": 109,
    "start_time": "2023-10-23T21:00:37.022Z"
   },
   {
    "duration": 26,
    "start_time": "2023-10-23T21:00:37.132Z"
   },
   {
    "duration": 25,
    "start_time": "2023-10-23T21:00:37.160Z"
   },
   {
    "duration": 18,
    "start_time": "2023-10-23T21:00:37.186Z"
   },
   {
    "duration": 15,
    "start_time": "2023-10-23T21:00:37.205Z"
   },
   {
    "duration": 9,
    "start_time": "2023-10-23T21:00:37.222Z"
   },
   {
    "duration": 10,
    "start_time": "2023-10-23T21:00:37.233Z"
   },
   {
    "duration": 30,
    "start_time": "2023-10-23T21:00:37.244Z"
   },
   {
    "duration": 22,
    "start_time": "2023-10-23T21:00:37.276Z"
   },
   {
    "duration": 239,
    "start_time": "2023-10-23T21:00:37.299Z"
   },
   {
    "duration": 8,
    "start_time": "2023-10-23T21:00:37.540Z"
   },
   {
    "duration": 18,
    "start_time": "2023-10-23T21:00:37.550Z"
   },
   {
    "duration": 31,
    "start_time": "2023-10-23T21:00:37.570Z"
   },
   {
    "duration": 11,
    "start_time": "2023-10-23T21:00:37.603Z"
   },
   {
    "duration": 142,
    "start_time": "2023-10-23T21:00:37.616Z"
   },
   {
    "duration": 76,
    "start_time": "2023-10-23T21:00:37.761Z"
   },
   {
    "duration": 166,
    "start_time": "2023-10-23T21:00:37.838Z"
   },
   {
    "duration": 164,
    "start_time": "2023-10-23T21:00:38.006Z"
   },
   {
    "duration": 208,
    "start_time": "2023-10-23T21:00:38.172Z"
   },
   {
    "duration": 19,
    "start_time": "2023-10-23T21:00:38.381Z"
   },
   {
    "duration": 21,
    "start_time": "2023-10-23T21:00:38.405Z"
   },
   {
    "duration": 147,
    "start_time": "2023-10-23T21:00:38.428Z"
   },
   {
    "duration": 14,
    "start_time": "2023-10-23T21:00:48.638Z"
   },
   {
    "duration": 141,
    "start_time": "2023-10-23T21:00:52.338Z"
   },
   {
    "duration": 275,
    "start_time": "2023-10-23T21:01:01.411Z"
   },
   {
    "duration": 249,
    "start_time": "2023-10-23T21:02:07.185Z"
   },
   {
    "duration": 256,
    "start_time": "2023-10-23T21:02:17.639Z"
   },
   {
    "duration": 192,
    "start_time": "2023-10-23T21:06:38.333Z"
   },
   {
    "duration": 174,
    "start_time": "2023-10-23T21:06:41.247Z"
   },
   {
    "duration": 131,
    "start_time": "2023-10-23T21:11:38.610Z"
   },
   {
    "duration": 149,
    "start_time": "2023-10-23T21:14:15.443Z"
   },
   {
    "duration": 151,
    "start_time": "2023-10-23T21:14:45.765Z"
   },
   {
    "duration": 11,
    "start_time": "2023-10-23T21:15:16.472Z"
   },
   {
    "duration": 12,
    "start_time": "2023-10-23T21:16:38.422Z"
   },
   {
    "duration": 10,
    "start_time": "2023-10-23T21:18:03.082Z"
   },
   {
    "duration": 10,
    "start_time": "2023-10-23T21:18:17.638Z"
   },
   {
    "duration": 11,
    "start_time": "2023-10-23T21:18:40.406Z"
   },
   {
    "duration": 8,
    "start_time": "2023-10-23T21:19:08.244Z"
   },
   {
    "duration": 4,
    "start_time": "2023-10-23T21:19:27.235Z"
   },
   {
    "duration": 7,
    "start_time": "2023-10-23T21:19:59.559Z"
   },
   {
    "duration": 7,
    "start_time": "2023-10-23T21:20:10.714Z"
   },
   {
    "duration": 13,
    "start_time": "2023-10-23T21:21:40.257Z"
   },
   {
    "duration": 7,
    "start_time": "2023-10-23T21:23:40.119Z"
   },
   {
    "duration": 7,
    "start_time": "2023-10-23T21:23:58.453Z"
   },
   {
    "duration": 16,
    "start_time": "2023-10-23T21:24:13.174Z"
   },
   {
    "duration": 47,
    "start_time": "2023-10-23T21:24:31.049Z"
   },
   {
    "duration": 9,
    "start_time": "2023-10-23T21:25:55.686Z"
   },
   {
    "duration": 36,
    "start_time": "2023-10-23T21:26:17.578Z"
   },
   {
    "duration": 16,
    "start_time": "2023-10-23T21:26:36.433Z"
   },
   {
    "duration": 48,
    "start_time": "2023-10-23T21:28:55.590Z"
   },
   {
    "duration": 4,
    "start_time": "2023-10-23T21:30:55.990Z"
   },
   {
    "duration": 2836,
    "start_time": "2023-10-23T21:31:49.492Z"
   },
   {
    "duration": 29,
    "start_time": "2023-10-23T21:31:52.330Z"
   },
   {
    "duration": 33,
    "start_time": "2023-10-23T21:31:52.361Z"
   },
   {
    "duration": 7,
    "start_time": "2023-10-23T21:31:52.396Z"
   },
   {
    "duration": 7,
    "start_time": "2023-10-23T21:31:52.424Z"
   },
   {
    "duration": 14,
    "start_time": "2023-10-23T21:31:52.433Z"
   },
   {
    "duration": 39,
    "start_time": "2023-10-23T21:31:52.449Z"
   },
   {
    "duration": 87,
    "start_time": "2023-10-23T21:31:52.490Z"
   },
   {
    "duration": 71,
    "start_time": "2023-10-23T21:31:52.579Z"
   },
   {
    "duration": 84,
    "start_time": "2023-10-23T21:31:52.654Z"
   },
   {
    "duration": 98,
    "start_time": "2023-10-23T21:31:52.740Z"
   },
   {
    "duration": 47,
    "start_time": "2023-10-23T21:31:52.840Z"
   },
   {
    "duration": 115,
    "start_time": "2023-10-23T21:31:52.889Z"
   },
   {
    "duration": 33,
    "start_time": "2023-10-23T21:31:53.005Z"
   },
   {
    "duration": 68,
    "start_time": "2023-10-23T21:31:53.039Z"
   },
   {
    "duration": 55,
    "start_time": "2023-10-23T21:31:53.108Z"
   },
   {
    "duration": 66,
    "start_time": "2023-10-23T21:31:53.164Z"
   },
   {
    "duration": 24,
    "start_time": "2023-10-23T21:31:53.233Z"
   },
   {
    "duration": 27,
    "start_time": "2023-10-23T21:31:53.259Z"
   },
   {
    "duration": 22,
    "start_time": "2023-10-23T21:31:53.288Z"
   },
   {
    "duration": 19,
    "start_time": "2023-10-23T21:31:53.312Z"
   },
   {
    "duration": 27,
    "start_time": "2023-10-23T21:31:53.332Z"
   },
   {
    "duration": 20,
    "start_time": "2023-10-23T21:31:53.361Z"
   },
   {
    "duration": 19,
    "start_time": "2023-10-23T21:31:53.382Z"
   },
   {
    "duration": 17,
    "start_time": "2023-10-23T21:31:53.403Z"
   },
   {
    "duration": 9,
    "start_time": "2023-10-23T21:31:53.422Z"
   },
   {
    "duration": 26,
    "start_time": "2023-10-23T21:31:53.433Z"
   },
   {
    "duration": 19,
    "start_time": "2023-10-23T21:31:53.462Z"
   },
   {
    "duration": 28,
    "start_time": "2023-10-23T21:31:53.483Z"
   },
   {
    "duration": 245,
    "start_time": "2023-10-23T21:31:53.513Z"
   },
   {
    "duration": 7,
    "start_time": "2023-10-23T21:31:53.760Z"
   },
   {
    "duration": 78,
    "start_time": "2023-10-23T21:31:53.768Z"
   },
   {
    "duration": 25,
    "start_time": "2023-10-23T21:31:53.848Z"
   },
   {
    "duration": 71,
    "start_time": "2023-10-23T21:31:53.875Z"
   },
   {
    "duration": 21,
    "start_time": "2023-10-23T21:31:53.947Z"
   },
   {
    "duration": 9,
    "start_time": "2023-10-23T21:31:53.970Z"
   },
   {
    "duration": 176,
    "start_time": "2023-10-23T21:31:53.981Z"
   },
   {
    "duration": 172,
    "start_time": "2023-10-23T21:31:54.159Z"
   },
   {
    "duration": 176,
    "start_time": "2023-10-23T21:31:54.333Z"
   },
   {
    "duration": 24,
    "start_time": "2023-10-23T21:31:54.511Z"
   },
   {
    "duration": 11,
    "start_time": "2023-10-23T21:31:54.537Z"
   },
   {
    "duration": 223,
    "start_time": "2023-10-23T21:31:54.549Z"
   },
   {
    "duration": 209,
    "start_time": "2023-10-23T21:31:54.774Z"
   },
   {
    "duration": 11,
    "start_time": "2023-10-23T21:31:54.984Z"
   },
   {
    "duration": 47,
    "start_time": "2023-10-23T21:32:50.150Z"
   },
   {
    "duration": 12,
    "start_time": "2023-10-23T21:32:58.242Z"
   },
   {
    "duration": 17,
    "start_time": "2023-10-23T21:33:11.100Z"
   },
   {
    "duration": 2668,
    "start_time": "2023-10-23T21:33:58.696Z"
   },
   {
    "duration": 28,
    "start_time": "2023-10-23T21:34:01.366Z"
   },
   {
    "duration": 62,
    "start_time": "2023-10-23T21:34:01.396Z"
   },
   {
    "duration": 20,
    "start_time": "2023-10-23T21:34:01.460Z"
   },
   {
    "duration": 28,
    "start_time": "2023-10-23T21:34:01.482Z"
   },
   {
    "duration": 24,
    "start_time": "2023-10-23T21:34:01.512Z"
   },
   {
    "duration": 40,
    "start_time": "2023-10-23T21:34:01.539Z"
   },
   {
    "duration": 30,
    "start_time": "2023-10-23T21:34:01.582Z"
   },
   {
    "duration": 31,
    "start_time": "2023-10-23T21:34:01.614Z"
   },
   {
    "duration": 10,
    "start_time": "2023-10-23T21:34:01.649Z"
   },
   {
    "duration": 39,
    "start_time": "2023-10-23T21:34:01.661Z"
   },
   {
    "duration": 36,
    "start_time": "2023-10-23T21:34:01.702Z"
   },
   {
    "duration": 20,
    "start_time": "2023-10-23T21:34:01.740Z"
   },
   {
    "duration": 49,
    "start_time": "2023-10-23T21:34:01.762Z"
   },
   {
    "duration": 11,
    "start_time": "2023-10-23T21:34:01.813Z"
   },
   {
    "duration": 8,
    "start_time": "2023-10-23T21:34:01.826Z"
   },
   {
    "duration": 21,
    "start_time": "2023-10-23T21:34:01.835Z"
   },
   {
    "duration": 24,
    "start_time": "2023-10-23T21:34:01.858Z"
   },
   {
    "duration": 15,
    "start_time": "2023-10-23T21:34:01.884Z"
   },
   {
    "duration": 51,
    "start_time": "2023-10-23T21:34:01.900Z"
   },
   {
    "duration": 38,
    "start_time": "2023-10-23T21:34:01.953Z"
   },
   {
    "duration": 45,
    "start_time": "2023-10-23T21:34:01.993Z"
   },
   {
    "duration": 44,
    "start_time": "2023-10-23T21:34:02.040Z"
   },
   {
    "duration": 30,
    "start_time": "2023-10-23T21:34:02.086Z"
   },
   {
    "duration": 28,
    "start_time": "2023-10-23T21:34:02.118Z"
   },
   {
    "duration": 30,
    "start_time": "2023-10-23T21:34:02.148Z"
   },
   {
    "duration": 30,
    "start_time": "2023-10-23T21:34:02.180Z"
   },
   {
    "duration": 34,
    "start_time": "2023-10-23T21:34:02.214Z"
   },
   {
    "duration": 63,
    "start_time": "2023-10-23T21:34:02.250Z"
   },
   {
    "duration": 243,
    "start_time": "2023-10-23T21:34:02.315Z"
   },
   {
    "duration": 6,
    "start_time": "2023-10-23T21:34:02.560Z"
   },
   {
    "duration": 27,
    "start_time": "2023-10-23T21:34:02.568Z"
   },
   {
    "duration": 47,
    "start_time": "2023-10-23T21:34:02.597Z"
   },
   {
    "duration": 42,
    "start_time": "2023-10-23T21:34:02.646Z"
   },
   {
    "duration": 43,
    "start_time": "2023-10-23T21:34:02.690Z"
   },
   {
    "duration": 106,
    "start_time": "2023-10-23T21:34:02.734Z"
   },
   {
    "duration": 510,
    "start_time": "2023-10-23T21:34:02.842Z"
   },
   {
    "duration": 159,
    "start_time": "2023-10-23T21:34:03.354Z"
   },
   {
    "duration": 166,
    "start_time": "2023-10-23T21:34:03.515Z"
   },
   {
    "duration": 20,
    "start_time": "2023-10-23T21:34:03.683Z"
   },
   {
    "duration": 20,
    "start_time": "2023-10-23T21:34:03.705Z"
   },
   {
    "duration": 182,
    "start_time": "2023-10-23T21:34:03.727Z"
   },
   {
    "duration": 199,
    "start_time": "2023-10-23T21:34:03.910Z"
   },
   {
    "duration": 18,
    "start_time": "2023-10-23T21:34:04.110Z"
   },
   {
    "duration": 11,
    "start_time": "2023-10-23T21:34:43.554Z"
   },
   {
    "duration": 10,
    "start_time": "2023-10-23T21:35:28.182Z"
   },
   {
    "duration": 10,
    "start_time": "2023-10-23T21:35:38.538Z"
   },
   {
    "duration": 12,
    "start_time": "2023-10-23T21:35:54.840Z"
   },
   {
    "duration": 236,
    "start_time": "2023-10-23T21:38:47.237Z"
   },
   {
    "duration": 12,
    "start_time": "2023-10-23T21:39:53.540Z"
   },
   {
    "duration": 11,
    "start_time": "2023-10-23T21:40:32.963Z"
   },
   {
    "duration": 10,
    "start_time": "2023-10-23T21:41:04.274Z"
   },
   {
    "duration": 2860,
    "start_time": "2023-10-23T21:41:14.210Z"
   },
   {
    "duration": 29,
    "start_time": "2023-10-23T21:41:17.071Z"
   },
   {
    "duration": 36,
    "start_time": "2023-10-23T21:41:17.102Z"
   },
   {
    "duration": 6,
    "start_time": "2023-10-23T21:41:17.139Z"
   },
   {
    "duration": 11,
    "start_time": "2023-10-23T21:41:17.148Z"
   },
   {
    "duration": 30,
    "start_time": "2023-10-23T21:41:17.161Z"
   },
   {
    "duration": 20,
    "start_time": "2023-10-23T21:41:17.193Z"
   },
   {
    "duration": 43,
    "start_time": "2023-10-23T21:41:17.214Z"
   },
   {
    "duration": 18,
    "start_time": "2023-10-23T21:41:17.258Z"
   },
   {
    "duration": 5,
    "start_time": "2023-10-23T21:41:17.278Z"
   },
   {
    "duration": 5,
    "start_time": "2023-10-23T21:41:17.285Z"
   },
   {
    "duration": 9,
    "start_time": "2023-10-23T21:41:17.292Z"
   },
   {
    "duration": 25,
    "start_time": "2023-10-23T21:41:17.303Z"
   },
   {
    "duration": 11,
    "start_time": "2023-10-23T21:41:17.332Z"
   },
   {
    "duration": 19,
    "start_time": "2023-10-23T21:41:17.345Z"
   },
   {
    "duration": 15,
    "start_time": "2023-10-23T21:41:17.366Z"
   },
   {
    "duration": 60,
    "start_time": "2023-10-23T21:41:17.382Z"
   },
   {
    "duration": 28,
    "start_time": "2023-10-23T21:41:17.443Z"
   },
   {
    "duration": 25,
    "start_time": "2023-10-23T21:41:17.472Z"
   },
   {
    "duration": 18,
    "start_time": "2023-10-23T21:41:17.499Z"
   },
   {
    "duration": 20,
    "start_time": "2023-10-23T21:41:17.519Z"
   },
   {
    "duration": 20,
    "start_time": "2023-10-23T21:41:17.540Z"
   },
   {
    "duration": 11,
    "start_time": "2023-10-23T21:41:17.562Z"
   },
   {
    "duration": 19,
    "start_time": "2023-10-23T21:41:17.574Z"
   },
   {
    "duration": 25,
    "start_time": "2023-10-23T21:41:17.594Z"
   },
   {
    "duration": 45,
    "start_time": "2023-10-23T21:41:17.620Z"
   },
   {
    "duration": 59,
    "start_time": "2023-10-23T21:41:17.667Z"
   },
   {
    "duration": 64,
    "start_time": "2023-10-23T21:41:17.728Z"
   },
   {
    "duration": 95,
    "start_time": "2023-10-23T21:41:17.793Z"
   },
   {
    "duration": 239,
    "start_time": "2023-10-23T21:41:17.890Z"
   },
   {
    "duration": 6,
    "start_time": "2023-10-23T21:41:18.131Z"
   },
   {
    "duration": 10,
    "start_time": "2023-10-23T21:41:18.138Z"
   },
   {
    "duration": 21,
    "start_time": "2023-10-23T21:41:18.149Z"
   },
   {
    "duration": 6,
    "start_time": "2023-10-23T21:41:18.172Z"
   },
   {
    "duration": 14,
    "start_time": "2023-10-23T21:41:18.180Z"
   },
   {
    "duration": 6,
    "start_time": "2023-10-23T21:41:18.196Z"
   },
   {
    "duration": 177,
    "start_time": "2023-10-23T21:41:18.203Z"
   },
   {
    "duration": 160,
    "start_time": "2023-10-23T21:41:18.382Z"
   },
   {
    "duration": 175,
    "start_time": "2023-10-23T21:41:18.544Z"
   },
   {
    "duration": 18,
    "start_time": "2023-10-23T21:41:18.721Z"
   },
   {
    "duration": 52,
    "start_time": "2023-10-23T21:41:18.743Z"
   },
   {
    "duration": 292,
    "start_time": "2023-10-23T21:41:18.798Z"
   },
   {
    "duration": 210,
    "start_time": "2023-10-23T21:41:19.093Z"
   },
   {
    "duration": 251,
    "start_time": "2023-10-23T21:41:19.306Z"
   },
   {
    "duration": 11,
    "start_time": "2023-10-23T21:41:19.559Z"
   },
   {
    "duration": 10,
    "start_time": "2023-10-23T21:42:27.100Z"
   },
   {
    "duration": 92,
    "start_time": "2023-10-23T21:43:35.679Z"
   },
   {
    "duration": 44,
    "start_time": "2023-10-23T21:43:42.244Z"
   },
   {
    "duration": 78,
    "start_time": "2023-10-23T21:44:23.773Z"
   },
   {
    "duration": 29,
    "start_time": "2023-10-23T21:44:34.022Z"
   },
   {
    "duration": 14,
    "start_time": "2023-10-23T21:44:51.340Z"
   },
   {
    "duration": 11,
    "start_time": "2023-10-23T21:45:02.358Z"
   },
   {
    "duration": 14,
    "start_time": "2023-10-23T21:45:20.033Z"
   },
   {
    "duration": 11,
    "start_time": "2023-10-23T21:45:32.725Z"
   },
   {
    "duration": 13,
    "start_time": "2023-10-23T21:45:41.792Z"
   },
   {
    "duration": 75,
    "start_time": "2023-10-23T21:49:46.742Z"
   },
   {
    "duration": 54,
    "start_time": "2023-10-24T19:21:10.084Z"
   },
   {
    "duration": 3322,
    "start_time": "2023-10-24T19:21:19.296Z"
   },
   {
    "duration": 39,
    "start_time": "2023-10-24T19:21:22.620Z"
   },
   {
    "duration": 31,
    "start_time": "2023-10-24T19:21:22.661Z"
   },
   {
    "duration": 20,
    "start_time": "2023-10-24T19:21:22.694Z"
   },
   {
    "duration": 8,
    "start_time": "2023-10-24T19:21:22.717Z"
   },
   {
    "duration": 17,
    "start_time": "2023-10-24T19:21:22.726Z"
   },
   {
    "duration": 8,
    "start_time": "2023-10-24T19:21:22.745Z"
   },
   {
    "duration": 8,
    "start_time": "2023-10-24T19:21:22.756Z"
   },
   {
    "duration": 46,
    "start_time": "2023-10-24T19:21:22.766Z"
   },
   {
    "duration": 7,
    "start_time": "2023-10-24T19:21:22.813Z"
   },
   {
    "duration": 22,
    "start_time": "2023-10-24T19:21:22.822Z"
   },
   {
    "duration": 9,
    "start_time": "2023-10-24T19:21:22.846Z"
   },
   {
    "duration": 13,
    "start_time": "2023-10-24T19:21:22.857Z"
   },
   {
    "duration": 4,
    "start_time": "2023-10-24T19:21:22.874Z"
   },
   {
    "duration": 31,
    "start_time": "2023-10-24T19:21:22.879Z"
   },
   {
    "duration": 49,
    "start_time": "2023-10-24T19:21:22.912Z"
   },
   {
    "duration": 8,
    "start_time": "2023-10-24T19:21:22.963Z"
   },
   {
    "duration": 14,
    "start_time": "2023-10-24T19:21:22.974Z"
   },
   {
    "duration": 12,
    "start_time": "2023-10-24T19:21:22.990Z"
   },
   {
    "duration": 22,
    "start_time": "2023-10-24T19:21:23.004Z"
   },
   {
    "duration": 9,
    "start_time": "2023-10-24T19:21:23.028Z"
   },
   {
    "duration": 21,
    "start_time": "2023-10-24T19:21:23.039Z"
   },
   {
    "duration": 23,
    "start_time": "2023-10-24T19:21:23.062Z"
   },
   {
    "duration": 12,
    "start_time": "2023-10-24T19:21:23.088Z"
   },
   {
    "duration": 15,
    "start_time": "2023-10-24T19:21:23.102Z"
   },
   {
    "duration": 11,
    "start_time": "2023-10-24T19:21:23.120Z"
   },
   {
    "duration": 26,
    "start_time": "2023-10-24T19:21:23.133Z"
   },
   {
    "duration": 22,
    "start_time": "2023-10-24T19:21:23.161Z"
   },
   {
    "duration": 37,
    "start_time": "2023-10-24T19:21:23.185Z"
   },
   {
    "duration": 310,
    "start_time": "2023-10-24T19:21:23.224Z"
   },
   {
    "duration": 9,
    "start_time": "2023-10-24T19:21:23.537Z"
   },
   {
    "duration": 24,
    "start_time": "2023-10-24T19:21:23.547Z"
   },
   {
    "duration": 36,
    "start_time": "2023-10-24T19:21:23.573Z"
   },
   {
    "duration": 31,
    "start_time": "2023-10-24T19:21:23.610Z"
   },
   {
    "duration": 40,
    "start_time": "2023-10-24T19:21:23.643Z"
   },
   {
    "duration": 15,
    "start_time": "2023-10-24T19:21:23.685Z"
   },
   {
    "duration": 200,
    "start_time": "2023-10-24T19:21:23.702Z"
   },
   {
    "duration": 176,
    "start_time": "2023-10-24T19:21:23.903Z"
   },
   {
    "duration": 178,
    "start_time": "2023-10-24T19:21:24.080Z"
   },
   {
    "duration": 19,
    "start_time": "2023-10-24T19:21:24.260Z"
   },
   {
    "duration": 30,
    "start_time": "2023-10-24T19:21:24.283Z"
   },
   {
    "duration": 208,
    "start_time": "2023-10-24T19:21:24.315Z"
   },
   {
    "duration": 287,
    "start_time": "2023-10-24T19:21:24.525Z"
   },
   {
    "duration": 156,
    "start_time": "2023-10-24T19:21:24.813Z"
   },
   {
    "duration": 11,
    "start_time": "2023-10-24T19:21:24.971Z"
   },
   {
    "duration": 191,
    "start_time": "2023-10-24T19:21:24.984Z"
   },
   {
    "duration": 148,
    "start_time": "2023-10-24T19:26:38.955Z"
   },
   {
    "duration": 184,
    "start_time": "2023-10-24T19:27:04.687Z"
   },
   {
    "duration": 199,
    "start_time": "2023-10-24T19:27:10.411Z"
   },
   {
    "duration": 200,
    "start_time": "2023-10-24T19:29:28.997Z"
   },
   {
    "duration": 245,
    "start_time": "2023-10-24T19:29:36.029Z"
   },
   {
    "duration": 192,
    "start_time": "2023-10-24T19:29:40.958Z"
   },
   {
    "duration": 289,
    "start_time": "2023-10-24T19:29:46.506Z"
   },
   {
    "duration": 188,
    "start_time": "2023-10-24T19:31:56.249Z"
   },
   {
    "duration": 205,
    "start_time": "2023-10-24T19:32:30.608Z"
   },
   {
    "duration": 203,
    "start_time": "2023-10-24T19:33:00.156Z"
   },
   {
    "duration": 214,
    "start_time": "2023-10-24T19:33:05.396Z"
   },
   {
    "duration": 8,
    "start_time": "2023-10-24T19:37:12.226Z"
   },
   {
    "duration": 189,
    "start_time": "2023-10-24T19:42:28.959Z"
   },
   {
    "duration": 144,
    "start_time": "2023-10-24T19:42:39.584Z"
   },
   {
    "duration": 292,
    "start_time": "2023-10-24T19:43:26.831Z"
   },
   {
    "duration": 199,
    "start_time": "2023-10-24T19:43:52.367Z"
   },
   {
    "duration": 167,
    "start_time": "2023-10-24T19:45:39.738Z"
   },
   {
    "duration": 181,
    "start_time": "2023-10-24T19:45:54.735Z"
   },
   {
    "duration": 223,
    "start_time": "2023-10-24T19:46:00.559Z"
   },
   {
    "duration": 13,
    "start_time": "2023-10-24T19:58:30.844Z"
   },
   {
    "duration": 8,
    "start_time": "2023-10-24T20:09:24.511Z"
   },
   {
    "duration": 153,
    "start_time": "2023-10-24T20:12:58.973Z"
   },
   {
    "duration": 166,
    "start_time": "2023-10-24T20:13:19.244Z"
   },
   {
    "duration": 159,
    "start_time": "2023-10-24T20:16:31.187Z"
   },
   {
    "duration": 128,
    "start_time": "2023-10-24T20:16:41.662Z"
   },
   {
    "duration": 274,
    "start_time": "2023-10-24T20:16:50.150Z"
   },
   {
    "duration": 135,
    "start_time": "2023-10-24T20:17:09.274Z"
   },
   {
    "duration": 170,
    "start_time": "2023-10-24T20:17:28.657Z"
   },
   {
    "duration": 40,
    "start_time": "2023-10-24T20:25:51.214Z"
   },
   {
    "duration": 7,
    "start_time": "2023-10-24T20:26:07.597Z"
   },
   {
    "duration": 6,
    "start_time": "2023-10-24T20:26:13.489Z"
   },
   {
    "duration": 69,
    "start_time": "2023-10-24T20:26:40.777Z"
   },
   {
    "duration": 9,
    "start_time": "2023-10-24T20:27:05.592Z"
   },
   {
    "duration": 14,
    "start_time": "2023-10-24T20:27:12.074Z"
   },
   {
    "duration": 35,
    "start_time": "2023-10-24T20:27:51.216Z"
   },
   {
    "duration": 6,
    "start_time": "2023-10-24T20:32:47.645Z"
   },
   {
    "duration": 166,
    "start_time": "2023-10-24T20:32:58.331Z"
   },
   {
    "duration": 2624,
    "start_time": "2023-10-24T20:33:11.358Z"
   },
   {
    "duration": 27,
    "start_time": "2023-10-24T20:33:13.984Z"
   },
   {
    "duration": 29,
    "start_time": "2023-10-24T20:33:14.012Z"
   },
   {
    "duration": 5,
    "start_time": "2023-10-24T20:33:14.043Z"
   },
   {
    "duration": 7,
    "start_time": "2023-10-24T20:33:14.050Z"
   },
   {
    "duration": 5,
    "start_time": "2023-10-24T20:33:14.059Z"
   },
   {
    "duration": 15,
    "start_time": "2023-10-24T20:33:14.065Z"
   },
   {
    "duration": 27,
    "start_time": "2023-10-24T20:33:14.081Z"
   },
   {
    "duration": 10,
    "start_time": "2023-10-24T20:33:14.109Z"
   },
   {
    "duration": 5,
    "start_time": "2023-10-24T20:33:14.120Z"
   },
   {
    "duration": 13,
    "start_time": "2023-10-24T20:33:14.126Z"
   },
   {
    "duration": 12,
    "start_time": "2023-10-24T20:33:14.141Z"
   },
   {
    "duration": 11,
    "start_time": "2023-10-24T20:33:14.154Z"
   },
   {
    "duration": 3,
    "start_time": "2023-10-24T20:33:14.169Z"
   },
   {
    "duration": 39,
    "start_time": "2023-10-24T20:33:14.174Z"
   },
   {
    "duration": 7,
    "start_time": "2023-10-24T20:33:14.215Z"
   },
   {
    "duration": 5,
    "start_time": "2023-10-24T20:33:14.223Z"
   },
   {
    "duration": 11,
    "start_time": "2023-10-24T20:33:14.230Z"
   },
   {
    "duration": 13,
    "start_time": "2023-10-24T20:33:14.243Z"
   },
   {
    "duration": 9,
    "start_time": "2023-10-24T20:33:14.258Z"
   },
   {
    "duration": 11,
    "start_time": "2023-10-24T20:33:14.269Z"
   },
   {
    "duration": 26,
    "start_time": "2023-10-24T20:33:14.281Z"
   },
   {
    "duration": 14,
    "start_time": "2023-10-24T20:33:14.308Z"
   },
   {
    "duration": 18,
    "start_time": "2023-10-24T20:33:14.323Z"
   },
   {
    "duration": 14,
    "start_time": "2023-10-24T20:33:14.342Z"
   },
   {
    "duration": 7,
    "start_time": "2023-10-24T20:33:14.358Z"
   },
   {
    "duration": 10,
    "start_time": "2023-10-24T20:33:14.367Z"
   },
   {
    "duration": 9,
    "start_time": "2023-10-24T20:33:14.378Z"
   },
   {
    "duration": 13,
    "start_time": "2023-10-24T20:33:14.388Z"
   },
   {
    "duration": 225,
    "start_time": "2023-10-24T20:33:14.403Z"
   },
   {
    "duration": 7,
    "start_time": "2023-10-24T20:33:14.630Z"
   },
   {
    "duration": 11,
    "start_time": "2023-10-24T20:33:14.638Z"
   },
   {
    "duration": 7,
    "start_time": "2023-10-24T20:33:14.650Z"
   },
   {
    "duration": 7,
    "start_time": "2023-10-24T20:33:14.664Z"
   },
   {
    "duration": 35,
    "start_time": "2023-10-24T20:33:14.673Z"
   },
   {
    "duration": 6,
    "start_time": "2023-10-24T20:33:14.709Z"
   },
   {
    "duration": 153,
    "start_time": "2023-10-24T20:33:14.717Z"
   },
   {
    "duration": 159,
    "start_time": "2023-10-24T20:33:14.871Z"
   },
   {
    "duration": 159,
    "start_time": "2023-10-24T20:33:15.032Z"
   },
   {
    "duration": 23,
    "start_time": "2023-10-24T20:33:15.192Z"
   },
   {
    "duration": 9,
    "start_time": "2023-10-24T20:33:15.219Z"
   },
   {
    "duration": 204,
    "start_time": "2023-10-24T20:33:15.229Z"
   },
   {
    "duration": 200,
    "start_time": "2023-10-24T20:33:15.435Z"
   },
   {
    "duration": 244,
    "start_time": "2023-10-24T20:33:15.637Z"
   },
   {
    "duration": 11,
    "start_time": "2023-10-24T20:33:15.884Z"
   },
   {
    "duration": 223,
    "start_time": "2023-10-24T20:33:15.906Z"
   },
   {
    "duration": 8,
    "start_time": "2023-10-24T20:33:16.131Z"
   },
   {
    "duration": 16,
    "start_time": "2023-10-24T20:33:16.141Z"
   },
   {
    "duration": 184,
    "start_time": "2023-10-24T20:33:16.159Z"
   },
   {
    "duration": 225,
    "start_time": "2023-10-24T20:33:16.345Z"
   },
   {
    "duration": 206,
    "start_time": "2023-10-24T20:33:16.573Z"
   },
   {
    "duration": 2644,
    "start_time": "2023-10-24T20:33:37.114Z"
   },
   {
    "duration": 27,
    "start_time": "2023-10-24T20:33:39.760Z"
   },
   {
    "duration": 35,
    "start_time": "2023-10-24T20:33:39.789Z"
   },
   {
    "duration": 8,
    "start_time": "2023-10-24T20:33:39.827Z"
   },
   {
    "duration": 6,
    "start_time": "2023-10-24T20:33:39.837Z"
   },
   {
    "duration": 12,
    "start_time": "2023-10-24T20:33:39.845Z"
   },
   {
    "duration": 7,
    "start_time": "2023-10-24T20:33:39.858Z"
   },
   {
    "duration": 10,
    "start_time": "2023-10-24T20:33:39.866Z"
   },
   {
    "duration": 33,
    "start_time": "2023-10-24T20:33:39.877Z"
   },
   {
    "duration": 5,
    "start_time": "2023-10-24T20:33:39.913Z"
   },
   {
    "duration": 7,
    "start_time": "2023-10-24T20:33:39.919Z"
   },
   {
    "duration": 9,
    "start_time": "2023-10-24T20:33:39.927Z"
   },
   {
    "duration": 10,
    "start_time": "2023-10-24T20:33:39.937Z"
   },
   {
    "duration": 4,
    "start_time": "2023-10-24T20:33:39.950Z"
   },
   {
    "duration": 11,
    "start_time": "2023-10-24T20:33:39.955Z"
   },
   {
    "duration": 45,
    "start_time": "2023-10-24T20:33:39.967Z"
   },
   {
    "duration": 26,
    "start_time": "2023-10-24T20:33:40.013Z"
   },
   {
    "duration": 9,
    "start_time": "2023-10-24T20:33:40.040Z"
   },
   {
    "duration": 12,
    "start_time": "2023-10-24T20:33:40.050Z"
   },
   {
    "duration": 12,
    "start_time": "2023-10-24T20:33:40.063Z"
   },
   {
    "duration": 10,
    "start_time": "2023-10-24T20:33:40.077Z"
   },
   {
    "duration": 13,
    "start_time": "2023-10-24T20:33:40.089Z"
   },
   {
    "duration": 4,
    "start_time": "2023-10-24T20:33:40.104Z"
   },
   {
    "duration": 9,
    "start_time": "2023-10-24T20:33:40.110Z"
   },
   {
    "duration": 9,
    "start_time": "2023-10-24T20:33:40.121Z"
   },
   {
    "duration": 8,
    "start_time": "2023-10-24T20:33:40.131Z"
   },
   {
    "duration": 4,
    "start_time": "2023-10-24T20:33:40.141Z"
   },
   {
    "duration": 4,
    "start_time": "2023-10-24T20:33:40.146Z"
   },
   {
    "duration": 16,
    "start_time": "2023-10-24T20:33:40.152Z"
   },
   {
    "duration": 252,
    "start_time": "2023-10-24T20:33:40.170Z"
   },
   {
    "duration": 6,
    "start_time": "2023-10-24T20:33:40.424Z"
   },
   {
    "duration": 20,
    "start_time": "2023-10-24T20:33:40.432Z"
   },
   {
    "duration": 8,
    "start_time": "2023-10-24T20:33:40.453Z"
   },
   {
    "duration": 7,
    "start_time": "2023-10-24T20:33:40.462Z"
   },
   {
    "duration": 10,
    "start_time": "2023-10-24T20:33:40.471Z"
   },
   {
    "duration": 29,
    "start_time": "2023-10-24T20:33:40.483Z"
   },
   {
    "duration": 160,
    "start_time": "2023-10-24T20:33:40.514Z"
   },
   {
    "duration": 166,
    "start_time": "2023-10-24T20:33:40.675Z"
   },
   {
    "duration": 167,
    "start_time": "2023-10-24T20:33:40.843Z"
   },
   {
    "duration": 17,
    "start_time": "2023-10-24T20:33:41.012Z"
   },
   {
    "duration": 10,
    "start_time": "2023-10-24T20:33:41.034Z"
   },
   {
    "duration": 203,
    "start_time": "2023-10-24T20:33:41.045Z"
   },
   {
    "duration": 216,
    "start_time": "2023-10-24T20:33:41.250Z"
   },
   {
    "duration": 241,
    "start_time": "2023-10-24T20:33:41.467Z"
   },
   {
    "duration": 11,
    "start_time": "2023-10-24T20:33:41.710Z"
   },
   {
    "duration": 224,
    "start_time": "2023-10-24T20:33:41.723Z"
   },
   {
    "duration": 9,
    "start_time": "2023-10-24T20:33:41.950Z"
   },
   {
    "duration": 8,
    "start_time": "2023-10-24T20:33:41.960Z"
   },
   {
    "duration": 202,
    "start_time": "2023-10-24T20:33:41.970Z"
   },
   {
    "duration": 188,
    "start_time": "2023-10-24T20:33:42.174Z"
   },
   {
    "duration": 199,
    "start_time": "2023-10-24T20:33:42.363Z"
   },
   {
    "duration": 128,
    "start_time": "2023-10-24T20:34:13.012Z"
   },
   {
    "duration": 130,
    "start_time": "2023-10-24T20:34:18.853Z"
   },
   {
    "duration": 132,
    "start_time": "2023-10-24T20:34:24.398Z"
   },
   {
    "duration": 127,
    "start_time": "2023-10-24T20:34:29.556Z"
   },
   {
    "duration": 67,
    "start_time": "2023-10-24T20:39:08.883Z"
   },
   {
    "duration": 162,
    "start_time": "2023-10-24T20:44:37.222Z"
   },
   {
    "duration": 249,
    "start_time": "2023-10-24T20:46:17.152Z"
   },
   {
    "duration": 152,
    "start_time": "2023-10-24T20:46:35.227Z"
   },
   {
    "duration": 169,
    "start_time": "2023-10-24T20:47:12.237Z"
   },
   {
    "duration": 136,
    "start_time": "2023-10-24T20:47:18.117Z"
   },
   {
    "duration": 6,
    "start_time": "2023-10-24T20:53:39.133Z"
   },
   {
    "duration": 7,
    "start_time": "2023-10-24T20:53:59.040Z"
   },
   {
    "duration": 9,
    "start_time": "2023-10-24T21:03:20.500Z"
   },
   {
    "duration": 9,
    "start_time": "2023-10-24T21:04:14.431Z"
   },
   {
    "duration": 75,
    "start_time": "2023-10-24T21:07:45.472Z"
   },
   {
    "duration": 6,
    "start_time": "2023-10-24T21:08:04.232Z"
   },
   {
    "duration": 8,
    "start_time": "2023-10-24T21:08:12.222Z"
   },
   {
    "duration": 9,
    "start_time": "2023-10-24T21:08:26.242Z"
   },
   {
    "duration": 12,
    "start_time": "2023-10-24T21:08:33.175Z"
   },
   {
    "duration": 10,
    "start_time": "2023-10-24T21:08:45.891Z"
   },
   {
    "duration": 80,
    "start_time": "2023-10-24T21:09:11.567Z"
   },
   {
    "duration": 8,
    "start_time": "2023-10-24T21:09:48.562Z"
   },
   {
    "duration": 101,
    "start_time": "2023-10-24T21:10:34.200Z"
   },
   {
    "duration": 21,
    "start_time": "2023-10-24T21:10:39.254Z"
   },
   {
    "duration": 9,
    "start_time": "2023-10-24T21:11:11.747Z"
   },
   {
    "duration": 9,
    "start_time": "2023-10-24T21:11:27.794Z"
   },
   {
    "duration": 10,
    "start_time": "2023-10-24T21:13:09.944Z"
   },
   {
    "duration": 2762,
    "start_time": "2023-10-24T21:13:29.532Z"
   },
   {
    "duration": 26,
    "start_time": "2023-10-24T21:13:32.296Z"
   },
   {
    "duration": 52,
    "start_time": "2023-10-24T21:13:32.323Z"
   },
   {
    "duration": 6,
    "start_time": "2023-10-24T21:13:32.378Z"
   },
   {
    "duration": 28,
    "start_time": "2023-10-24T21:13:32.385Z"
   },
   {
    "duration": 16,
    "start_time": "2023-10-24T21:13:32.415Z"
   },
   {
    "duration": 8,
    "start_time": "2023-10-24T21:13:32.432Z"
   },
   {
    "duration": 35,
    "start_time": "2023-10-24T21:13:32.442Z"
   },
   {
    "duration": 10,
    "start_time": "2023-10-24T21:13:32.479Z"
   },
   {
    "duration": 6,
    "start_time": "2023-10-24T21:13:32.491Z"
   },
   {
    "duration": 22,
    "start_time": "2023-10-24T21:13:32.498Z"
   },
   {
    "duration": 40,
    "start_time": "2023-10-24T21:13:32.521Z"
   },
   {
    "duration": 15,
    "start_time": "2023-10-24T21:13:32.563Z"
   },
   {
    "duration": 18,
    "start_time": "2023-10-24T21:13:32.579Z"
   },
   {
    "duration": 39,
    "start_time": "2023-10-24T21:13:32.599Z"
   },
   {
    "duration": 24,
    "start_time": "2023-10-24T21:13:32.639Z"
   },
   {
    "duration": 32,
    "start_time": "2023-10-24T21:13:32.666Z"
   },
   {
    "duration": 28,
    "start_time": "2023-10-24T21:13:32.700Z"
   },
   {
    "duration": 37,
    "start_time": "2023-10-24T21:13:32.730Z"
   },
   {
    "duration": 15,
    "start_time": "2023-10-24T21:13:32.769Z"
   },
   {
    "duration": 11,
    "start_time": "2023-10-24T21:13:32.786Z"
   },
   {
    "duration": 11,
    "start_time": "2023-10-24T21:13:32.799Z"
   },
   {
    "duration": 50,
    "start_time": "2023-10-24T21:13:32.812Z"
   },
   {
    "duration": 18,
    "start_time": "2023-10-24T21:13:32.864Z"
   },
   {
    "duration": 19,
    "start_time": "2023-10-24T21:13:32.884Z"
   },
   {
    "duration": 49,
    "start_time": "2023-10-24T21:13:32.906Z"
   },
   {
    "duration": 32,
    "start_time": "2023-10-24T21:13:32.957Z"
   },
   {
    "duration": 20,
    "start_time": "2023-10-24T21:13:32.994Z"
   },
   {
    "duration": 19,
    "start_time": "2023-10-24T21:13:33.016Z"
   },
   {
    "duration": 228,
    "start_time": "2023-10-24T21:13:33.037Z"
   },
   {
    "duration": 7,
    "start_time": "2023-10-24T21:13:33.267Z"
   },
   {
    "duration": 32,
    "start_time": "2023-10-24T21:13:33.276Z"
   },
   {
    "duration": 11,
    "start_time": "2023-10-24T21:13:33.309Z"
   },
   {
    "duration": 13,
    "start_time": "2023-10-24T21:13:33.322Z"
   },
   {
    "duration": 17,
    "start_time": "2023-10-24T21:13:33.338Z"
   },
   {
    "duration": 14,
    "start_time": "2023-10-24T21:13:33.356Z"
   },
   {
    "duration": 164,
    "start_time": "2023-10-24T21:13:33.372Z"
   },
   {
    "duration": 161,
    "start_time": "2023-10-24T21:13:33.538Z"
   },
   {
    "duration": 167,
    "start_time": "2023-10-24T21:13:33.701Z"
   },
   {
    "duration": 20,
    "start_time": "2023-10-24T21:13:33.869Z"
   },
   {
    "duration": 20,
    "start_time": "2023-10-24T21:13:33.890Z"
   },
   {
    "duration": 194,
    "start_time": "2023-10-24T21:13:33.912Z"
   },
   {
    "duration": 208,
    "start_time": "2023-10-24T21:13:34.108Z"
   },
   {
    "duration": 249,
    "start_time": "2023-10-24T21:13:34.317Z"
   },
   {
    "duration": 10,
    "start_time": "2023-10-24T21:13:34.568Z"
   },
   {
    "duration": 225,
    "start_time": "2023-10-24T21:13:34.580Z"
   },
   {
    "duration": 8,
    "start_time": "2023-10-24T21:13:34.807Z"
   },
   {
    "duration": 12,
    "start_time": "2023-10-24T21:13:34.817Z"
   },
   {
    "duration": 193,
    "start_time": "2023-10-24T21:13:34.831Z"
   },
   {
    "duration": 184,
    "start_time": "2023-10-24T21:13:35.027Z"
   },
   {
    "duration": 151,
    "start_time": "2023-10-24T21:13:35.213Z"
   },
   {
    "duration": 167,
    "start_time": "2023-10-24T21:13:35.366Z"
   },
   {
    "duration": 7,
    "start_time": "2023-10-24T21:13:35.534Z"
   },
   {
    "duration": 8,
    "start_time": "2023-10-24T21:13:35.543Z"
   },
   {
    "duration": 8,
    "start_time": "2023-10-24T21:13:58.501Z"
   },
   {
    "duration": 14,
    "start_time": "2023-10-24T21:14:30.372Z"
   },
   {
    "duration": 6,
    "start_time": "2023-10-24T21:15:00.093Z"
   },
   {
    "duration": 10,
    "start_time": "2023-10-24T21:16:14.880Z"
   },
   {
    "duration": 11,
    "start_time": "2023-10-24T21:16:49.072Z"
   },
   {
    "duration": 165,
    "start_time": "2023-10-24T21:21:23.369Z"
   },
   {
    "duration": 169,
    "start_time": "2023-10-24T21:21:36.678Z"
   },
   {
    "duration": 153,
    "start_time": "2023-10-24T21:21:49.678Z"
   },
   {
    "duration": 137,
    "start_time": "2023-10-24T21:21:58.976Z"
   },
   {
    "duration": 7,
    "start_time": "2023-10-24T21:22:57.215Z"
   },
   {
    "duration": 218,
    "start_time": "2023-10-24T21:23:14.752Z"
   },
   {
    "duration": 135,
    "start_time": "2023-10-24T21:23:34.195Z"
   },
   {
    "duration": 140,
    "start_time": "2023-10-24T21:23:55.656Z"
   },
   {
    "duration": 126,
    "start_time": "2023-10-24T21:24:24.361Z"
   },
   {
    "duration": 157,
    "start_time": "2023-10-24T21:32:10.309Z"
   },
   {
    "duration": 123,
    "start_time": "2023-10-24T21:32:28.263Z"
   },
   {
    "duration": 117,
    "start_time": "2023-10-24T21:33:27.661Z"
   },
   {
    "duration": 109,
    "start_time": "2023-10-24T21:35:37.049Z"
   },
   {
    "duration": 118,
    "start_time": "2023-10-24T21:51:14.387Z"
   },
   {
    "duration": 144,
    "start_time": "2023-10-24T21:52:03.480Z"
   },
   {
    "duration": 129,
    "start_time": "2023-10-24T21:52:19.019Z"
   },
   {
    "duration": 8,
    "start_time": "2023-10-24T21:59:20.293Z"
   },
   {
    "duration": 69,
    "start_time": "2023-10-24T22:06:11.778Z"
   },
   {
    "duration": 7,
    "start_time": "2023-10-24T22:06:33.823Z"
   },
   {
    "duration": 9,
    "start_time": "2023-10-24T22:07:12.023Z"
   },
   {
    "duration": 25,
    "start_time": "2023-10-24T22:08:32.099Z"
   },
   {
    "duration": 6,
    "start_time": "2023-10-24T22:08:39.588Z"
   },
   {
    "duration": 1392,
    "start_time": "2023-10-24T22:09:01.501Z"
   },
   {
    "duration": 986,
    "start_time": "2023-10-24T22:09:19.472Z"
   },
   {
    "duration": 9,
    "start_time": "2023-10-24T22:09:42.001Z"
   },
   {
    "duration": 85,
    "start_time": "2023-10-24T22:11:54.537Z"
   },
   {
    "duration": 132,
    "start_time": "2023-10-24T22:16:32.923Z"
   },
   {
    "duration": 134,
    "start_time": "2023-10-24T22:19:49.310Z"
   },
   {
    "duration": 90,
    "start_time": "2023-10-24T22:23:45.749Z"
   },
   {
    "duration": 11,
    "start_time": "2023-10-24T22:26:14.525Z"
   },
   {
    "duration": 91,
    "start_time": "2023-10-24T22:26:41.522Z"
   },
   {
    "duration": 26,
    "start_time": "2023-10-24T22:26:46.127Z"
   },
   {
    "duration": 1536,
    "start_time": "2023-10-24T22:27:46.172Z"
   },
   {
    "duration": 10,
    "start_time": "2023-10-24T22:28:04.202Z"
   },
   {
    "duration": 85,
    "start_time": "2023-10-24T22:31:28.280Z"
   },
   {
    "duration": 10,
    "start_time": "2023-10-24T22:31:45.583Z"
   },
   {
    "duration": 10,
    "start_time": "2023-10-24T22:32:11.099Z"
   },
   {
    "duration": 234,
    "start_time": "2023-10-24T22:35:59.552Z"
   },
   {
    "duration": 141,
    "start_time": "2023-10-24T22:36:44.175Z"
   },
   {
    "duration": 140,
    "start_time": "2023-10-24T22:46:57.863Z"
   },
   {
    "duration": 142,
    "start_time": "2023-10-24T22:47:12.690Z"
   },
   {
    "duration": 122,
    "start_time": "2023-10-24T22:54:54.373Z"
   },
   {
    "duration": 131,
    "start_time": "2023-10-24T22:57:35.167Z"
   },
   {
    "duration": 77,
    "start_time": "2023-10-24T23:01:21.188Z"
   },
   {
    "duration": 21,
    "start_time": "2023-10-24T23:03:54.596Z"
   },
   {
    "duration": 7,
    "start_time": "2023-10-24T23:04:19.775Z"
   },
   {
    "duration": 6,
    "start_time": "2023-10-24T23:05:00.569Z"
   },
   {
    "duration": 8,
    "start_time": "2023-10-24T23:05:11.170Z"
   },
   {
    "duration": 7,
    "start_time": "2023-10-24T23:05:17.800Z"
   },
   {
    "duration": 1249,
    "start_time": "2023-10-24T23:05:43.592Z"
   },
   {
    "duration": 11,
    "start_time": "2023-10-24T23:06:04.663Z"
   },
   {
    "duration": 14,
    "start_time": "2023-10-24T23:06:34.289Z"
   },
   {
    "duration": 15,
    "start_time": "2023-10-24T23:06:43.118Z"
   },
   {
    "duration": 2665,
    "start_time": "2023-10-24T23:06:48.873Z"
   },
   {
    "duration": 29,
    "start_time": "2023-10-24T23:06:51.540Z"
   },
   {
    "duration": 37,
    "start_time": "2023-10-24T23:06:51.571Z"
   },
   {
    "duration": 6,
    "start_time": "2023-10-24T23:06:51.610Z"
   },
   {
    "duration": 22,
    "start_time": "2023-10-24T23:06:51.617Z"
   },
   {
    "duration": 17,
    "start_time": "2023-10-24T23:06:51.641Z"
   },
   {
    "duration": 6,
    "start_time": "2023-10-24T23:06:51.660Z"
   },
   {
    "duration": 26,
    "start_time": "2023-10-24T23:06:51.668Z"
   },
   {
    "duration": 29,
    "start_time": "2023-10-24T23:06:51.697Z"
   },
   {
    "duration": 24,
    "start_time": "2023-10-24T23:06:51.730Z"
   },
   {
    "duration": 40,
    "start_time": "2023-10-24T23:06:51.756Z"
   },
   {
    "duration": 32,
    "start_time": "2023-10-24T23:06:51.798Z"
   },
   {
    "duration": 38,
    "start_time": "2023-10-24T23:06:51.832Z"
   },
   {
    "duration": 15,
    "start_time": "2023-10-24T23:06:51.871Z"
   },
   {
    "duration": 23,
    "start_time": "2023-10-24T23:06:51.887Z"
   },
   {
    "duration": 25,
    "start_time": "2023-10-24T23:06:51.911Z"
   },
   {
    "duration": 26,
    "start_time": "2023-10-24T23:06:51.938Z"
   },
   {
    "duration": 31,
    "start_time": "2023-10-24T23:06:51.966Z"
   },
   {
    "duration": 15,
    "start_time": "2023-10-24T23:06:51.999Z"
   },
   {
    "duration": 38,
    "start_time": "2023-10-24T23:06:52.016Z"
   },
   {
    "duration": 16,
    "start_time": "2023-10-24T23:06:52.055Z"
   },
   {
    "duration": 33,
    "start_time": "2023-10-24T23:06:52.072Z"
   },
   {
    "duration": 31,
    "start_time": "2023-10-24T23:06:52.107Z"
   },
   {
    "duration": 20,
    "start_time": "2023-10-24T23:06:52.139Z"
   },
   {
    "duration": 35,
    "start_time": "2023-10-24T23:06:52.161Z"
   },
   {
    "duration": 32,
    "start_time": "2023-10-24T23:06:52.198Z"
   },
   {
    "duration": 11,
    "start_time": "2023-10-24T23:06:52.232Z"
   },
   {
    "duration": 38,
    "start_time": "2023-10-24T23:06:52.247Z"
   },
   {
    "duration": 20,
    "start_time": "2023-10-24T23:06:52.287Z"
   },
   {
    "duration": 225,
    "start_time": "2023-10-24T23:06:52.309Z"
   },
   {
    "duration": 7,
    "start_time": "2023-10-24T23:06:52.535Z"
   },
   {
    "duration": 50,
    "start_time": "2023-10-24T23:06:52.544Z"
   },
   {
    "duration": 46,
    "start_time": "2023-10-24T23:06:52.595Z"
   },
   {
    "duration": 40,
    "start_time": "2023-10-24T23:06:52.643Z"
   },
   {
    "duration": 29,
    "start_time": "2023-10-24T23:06:52.685Z"
   },
   {
    "duration": 26,
    "start_time": "2023-10-24T23:06:52.716Z"
   },
   {
    "duration": 164,
    "start_time": "2023-10-24T23:06:52.744Z"
   },
   {
    "duration": 159,
    "start_time": "2023-10-24T23:06:52.910Z"
   },
   {
    "duration": 162,
    "start_time": "2023-10-24T23:06:53.071Z"
   },
   {
    "duration": 19,
    "start_time": "2023-10-24T23:06:53.235Z"
   },
   {
    "duration": 10,
    "start_time": "2023-10-24T23:06:53.256Z"
   },
   {
    "duration": 200,
    "start_time": "2023-10-24T23:06:53.267Z"
   },
   {
    "duration": 205,
    "start_time": "2023-10-24T23:06:53.469Z"
   },
   {
    "duration": 252,
    "start_time": "2023-10-24T23:06:53.676Z"
   },
   {
    "duration": 12,
    "start_time": "2023-10-24T23:06:53.929Z"
   },
   {
    "duration": 212,
    "start_time": "2023-10-24T23:06:53.942Z"
   },
   {
    "duration": 8,
    "start_time": "2023-10-24T23:06:54.156Z"
   },
   {
    "duration": 20,
    "start_time": "2023-10-24T23:06:54.166Z"
   },
   {
    "duration": 178,
    "start_time": "2023-10-24T23:06:54.187Z"
   },
   {
    "duration": 176,
    "start_time": "2023-10-24T23:06:54.367Z"
   },
   {
    "duration": 142,
    "start_time": "2023-10-24T23:06:54.545Z"
   },
   {
    "duration": 159,
    "start_time": "2023-10-24T23:06:54.689Z"
   },
   {
    "duration": 8,
    "start_time": "2023-10-24T23:06:54.850Z"
   },
   {
    "duration": 29,
    "start_time": "2023-10-24T23:06:54.860Z"
   },
   {
    "duration": 140,
    "start_time": "2023-10-24T23:06:54.891Z"
   },
   {
    "duration": 146,
    "start_time": "2023-10-24T23:06:55.033Z"
   },
   {
    "duration": 177,
    "start_time": "2023-10-24T23:06:55.181Z"
   },
   {
    "duration": 7,
    "start_time": "2023-10-24T23:06:55.359Z"
   },
   {
    "duration": 29,
    "start_time": "2023-10-24T23:06:55.367Z"
   },
   {
    "duration": 167,
    "start_time": "2023-10-24T23:06:55.398Z"
   },
   {
    "duration": 11,
    "start_time": "2023-10-24T23:06:55.566Z"
   },
   {
    "duration": 240,
    "start_time": "2023-10-24T23:06:55.578Z"
   },
   {
    "duration": 167,
    "start_time": "2023-10-24T23:06:55.819Z"
   },
   {
    "duration": 31,
    "start_time": "2023-10-24T23:06:55.988Z"
   },
   {
    "duration": 15,
    "start_time": "2023-10-24T23:07:24.289Z"
   },
   {
    "duration": 69,
    "start_time": "2023-10-24T23:07:36.938Z"
   },
   {
    "duration": 16,
    "start_time": "2023-10-24T23:08:44.022Z"
   },
   {
    "duration": 2753,
    "start_time": "2023-10-24T23:08:59.997Z"
   },
   {
    "duration": 28,
    "start_time": "2023-10-24T23:09:02.752Z"
   },
   {
    "duration": 35,
    "start_time": "2023-10-24T23:09:02.782Z"
   },
   {
    "duration": 7,
    "start_time": "2023-10-24T23:09:02.818Z"
   },
   {
    "duration": 25,
    "start_time": "2023-10-24T23:09:02.827Z"
   },
   {
    "duration": 37,
    "start_time": "2023-10-24T23:09:02.853Z"
   },
   {
    "duration": 26,
    "start_time": "2023-10-24T23:09:02.892Z"
   },
   {
    "duration": 14,
    "start_time": "2023-10-24T23:09:02.919Z"
   },
   {
    "duration": 34,
    "start_time": "2023-10-24T23:09:02.934Z"
   },
   {
    "duration": 24,
    "start_time": "2023-10-24T23:09:02.970Z"
   },
   {
    "duration": 27,
    "start_time": "2023-10-24T23:09:02.996Z"
   },
   {
    "duration": 30,
    "start_time": "2023-10-24T23:09:03.025Z"
   },
   {
    "duration": 26,
    "start_time": "2023-10-24T23:09:03.057Z"
   },
   {
    "duration": 23,
    "start_time": "2023-10-24T23:09:03.086Z"
   },
   {
    "duration": 35,
    "start_time": "2023-10-24T23:09:03.111Z"
   },
   {
    "duration": 14,
    "start_time": "2023-10-24T23:09:03.147Z"
   },
   {
    "duration": 22,
    "start_time": "2023-10-24T23:09:03.162Z"
   },
   {
    "duration": 17,
    "start_time": "2023-10-24T23:09:03.186Z"
   },
   {
    "duration": 27,
    "start_time": "2023-10-24T23:09:03.205Z"
   },
   {
    "duration": 39,
    "start_time": "2023-10-24T23:09:03.234Z"
   },
   {
    "duration": 11,
    "start_time": "2023-10-24T23:09:03.275Z"
   },
   {
    "duration": 26,
    "start_time": "2023-10-24T23:09:03.287Z"
   },
   {
    "duration": 22,
    "start_time": "2023-10-24T23:09:03.315Z"
   },
   {
    "duration": 12,
    "start_time": "2023-10-24T23:09:03.339Z"
   },
   {
    "duration": 32,
    "start_time": "2023-10-24T23:09:03.353Z"
   },
   {
    "duration": 18,
    "start_time": "2023-10-24T23:09:03.386Z"
   },
   {
    "duration": 5,
    "start_time": "2023-10-24T23:09:03.405Z"
   },
   {
    "duration": 26,
    "start_time": "2023-10-24T23:09:03.411Z"
   },
   {
    "duration": 42,
    "start_time": "2023-10-24T23:09:03.438Z"
   },
   {
    "duration": 245,
    "start_time": "2023-10-24T23:09:03.482Z"
   },
   {
    "duration": 7,
    "start_time": "2023-10-24T23:09:03.729Z"
   },
   {
    "duration": 40,
    "start_time": "2023-10-24T23:09:03.737Z"
   },
   {
    "duration": 36,
    "start_time": "2023-10-24T23:09:03.779Z"
   },
   {
    "duration": 28,
    "start_time": "2023-10-24T23:09:03.816Z"
   },
   {
    "duration": 25,
    "start_time": "2023-10-24T23:09:03.846Z"
   },
   {
    "duration": 19,
    "start_time": "2023-10-24T23:09:03.873Z"
   },
   {
    "duration": 185,
    "start_time": "2023-10-24T23:09:03.894Z"
   },
   {
    "duration": 154,
    "start_time": "2023-10-24T23:09:04.081Z"
   },
   {
    "duration": 162,
    "start_time": "2023-10-24T23:09:04.236Z"
   },
   {
    "duration": 22,
    "start_time": "2023-10-24T23:09:04.399Z"
   },
   {
    "duration": 9,
    "start_time": "2023-10-24T23:09:04.425Z"
   },
   {
    "duration": 193,
    "start_time": "2023-10-24T23:09:04.436Z"
   },
   {
    "duration": 207,
    "start_time": "2023-10-24T23:09:04.631Z"
   },
   {
    "duration": 261,
    "start_time": "2023-10-24T23:09:04.840Z"
   },
   {
    "duration": 12,
    "start_time": "2023-10-24T23:09:05.106Z"
   },
   {
    "duration": 221,
    "start_time": "2023-10-24T23:09:05.119Z"
   },
   {
    "duration": 7,
    "start_time": "2023-10-24T23:09:05.342Z"
   },
   {
    "duration": 21,
    "start_time": "2023-10-24T23:09:05.351Z"
   },
   {
    "duration": 189,
    "start_time": "2023-10-24T23:09:05.374Z"
   },
   {
    "duration": 183,
    "start_time": "2023-10-24T23:09:05.565Z"
   },
   {
    "duration": 143,
    "start_time": "2023-10-24T23:09:05.750Z"
   },
   {
    "duration": 206,
    "start_time": "2023-10-24T23:09:05.895Z"
   },
   {
    "duration": 7,
    "start_time": "2023-10-24T23:09:06.106Z"
   },
   {
    "duration": 27,
    "start_time": "2023-10-24T23:09:06.115Z"
   },
   {
    "duration": 150,
    "start_time": "2023-10-24T23:09:06.143Z"
   },
   {
    "duration": 142,
    "start_time": "2023-10-24T23:09:06.294Z"
   },
   {
    "duration": 156,
    "start_time": "2023-10-24T23:09:06.437Z"
   },
   {
    "duration": 14,
    "start_time": "2023-10-24T23:09:06.595Z"
   },
   {
    "duration": 25,
    "start_time": "2023-10-24T23:09:06.611Z"
   },
   {
    "duration": 151,
    "start_time": "2023-10-24T23:09:06.638Z"
   },
   {
    "duration": 11,
    "start_time": "2023-10-24T23:09:06.791Z"
   },
   {
    "duration": 252,
    "start_time": "2023-10-24T23:09:06.806Z"
   },
   {
    "duration": 154,
    "start_time": "2023-10-24T23:09:07.061Z"
   },
   {
    "duration": 12,
    "start_time": "2023-10-24T23:09:07.217Z"
   },
   {
    "duration": 4,
    "start_time": "2023-10-24T23:09:36.166Z"
   },
   {
    "duration": 119,
    "start_time": "2023-10-24T23:12:50.510Z"
   },
   {
    "duration": 105,
    "start_time": "2023-10-24T23:12:59.153Z"
   },
   {
    "duration": 111,
    "start_time": "2023-10-24T23:13:38.772Z"
   },
   {
    "duration": 104,
    "start_time": "2023-10-24T23:13:47.812Z"
   },
   {
    "duration": 107,
    "start_time": "2023-10-24T23:13:53.753Z"
   },
   {
    "duration": 92,
    "start_time": "2023-10-24T23:17:41.128Z"
   },
   {
    "duration": 123,
    "start_time": "2023-10-24T23:18:22.142Z"
   },
   {
    "duration": 121,
    "start_time": "2023-10-24T23:18:40.387Z"
   },
   {
    "duration": 123,
    "start_time": "2023-10-24T23:18:48.940Z"
   },
   {
    "duration": 114,
    "start_time": "2023-10-24T23:18:53.759Z"
   },
   {
    "duration": 109,
    "start_time": "2023-10-24T23:18:58.237Z"
   },
   {
    "duration": 185,
    "start_time": "2023-10-24T23:20:27.932Z"
   },
   {
    "duration": 220,
    "start_time": "2023-10-24T23:20:33.820Z"
   },
   {
    "duration": 126,
    "start_time": "2023-10-24T23:21:10.402Z"
   },
   {
    "duration": 52,
    "start_time": "2023-10-25T19:47:21.711Z"
   },
   {
    "duration": 3094,
    "start_time": "2023-10-25T19:47:28.197Z"
   },
   {
    "duration": 28,
    "start_time": "2023-10-25T19:47:31.293Z"
   },
   {
    "duration": 53,
    "start_time": "2023-10-25T19:47:31.323Z"
   },
   {
    "duration": 22,
    "start_time": "2023-10-25T19:47:31.377Z"
   },
   {
    "duration": 34,
    "start_time": "2023-10-25T19:47:31.402Z"
   },
   {
    "duration": 22,
    "start_time": "2023-10-25T19:47:31.438Z"
   },
   {
    "duration": 35,
    "start_time": "2023-10-25T19:47:31.462Z"
   },
   {
    "duration": 39,
    "start_time": "2023-10-25T19:47:31.499Z"
   },
   {
    "duration": 36,
    "start_time": "2023-10-25T19:47:31.539Z"
   },
   {
    "duration": 20,
    "start_time": "2023-10-25T19:47:31.576Z"
   },
   {
    "duration": 22,
    "start_time": "2023-10-25T19:47:31.598Z"
   },
   {
    "duration": 39,
    "start_time": "2023-10-25T19:47:31.622Z"
   },
   {
    "duration": 24,
    "start_time": "2023-10-25T19:47:31.663Z"
   },
   {
    "duration": 19,
    "start_time": "2023-10-25T19:47:31.691Z"
   },
   {
    "duration": 32,
    "start_time": "2023-10-25T19:47:31.712Z"
   },
   {
    "duration": 12,
    "start_time": "2023-10-25T19:47:31.745Z"
   },
   {
    "duration": 17,
    "start_time": "2023-10-25T19:47:31.759Z"
   },
   {
    "duration": 15,
    "start_time": "2023-10-25T19:47:31.778Z"
   },
   {
    "duration": 13,
    "start_time": "2023-10-25T19:47:31.794Z"
   },
   {
    "duration": 20,
    "start_time": "2023-10-25T19:47:31.809Z"
   },
   {
    "duration": 16,
    "start_time": "2023-10-25T19:47:31.831Z"
   },
   {
    "duration": 27,
    "start_time": "2023-10-25T19:47:31.849Z"
   },
   {
    "duration": 15,
    "start_time": "2023-10-25T19:47:31.878Z"
   },
   {
    "duration": 11,
    "start_time": "2023-10-25T19:47:31.895Z"
   },
   {
    "duration": 12,
    "start_time": "2023-10-25T19:47:31.907Z"
   },
   {
    "duration": 21,
    "start_time": "2023-10-25T19:47:31.921Z"
   },
   {
    "duration": 23,
    "start_time": "2023-10-25T19:47:31.944Z"
   },
   {
    "duration": 20,
    "start_time": "2023-10-25T19:47:31.969Z"
   },
   {
    "duration": 25,
    "start_time": "2023-10-25T19:47:31.991Z"
   },
   {
    "duration": 262,
    "start_time": "2023-10-25T19:47:32.017Z"
   },
   {
    "duration": 7,
    "start_time": "2023-10-25T19:47:32.281Z"
   },
   {
    "duration": 19,
    "start_time": "2023-10-25T19:47:32.289Z"
   },
   {
    "duration": 8,
    "start_time": "2023-10-25T19:47:32.310Z"
   },
   {
    "duration": 21,
    "start_time": "2023-10-25T19:47:32.319Z"
   },
   {
    "duration": 38,
    "start_time": "2023-10-25T19:47:32.343Z"
   },
   {
    "duration": 43,
    "start_time": "2023-10-25T19:47:32.383Z"
   },
   {
    "duration": 162,
    "start_time": "2023-10-25T19:47:32.428Z"
   },
   {
    "duration": 167,
    "start_time": "2023-10-25T19:47:32.592Z"
   },
   {
    "duration": 169,
    "start_time": "2023-10-25T19:47:32.761Z"
   },
   {
    "duration": 17,
    "start_time": "2023-10-25T19:47:32.932Z"
   },
   {
    "duration": 10,
    "start_time": "2023-10-25T19:47:32.953Z"
   },
   {
    "duration": 212,
    "start_time": "2023-10-25T19:47:32.964Z"
   },
   {
    "duration": 320,
    "start_time": "2023-10-25T19:47:33.178Z"
   },
   {
    "duration": 162,
    "start_time": "2023-10-25T19:47:33.500Z"
   },
   {
    "duration": 12,
    "start_time": "2023-10-25T19:47:33.663Z"
   },
   {
    "duration": 227,
    "start_time": "2023-10-25T19:47:33.676Z"
   },
   {
    "duration": 8,
    "start_time": "2023-10-25T19:47:33.905Z"
   },
   {
    "duration": 9,
    "start_time": "2023-10-25T19:47:33.915Z"
   },
   {
    "duration": 203,
    "start_time": "2023-10-25T19:47:33.926Z"
   },
   {
    "duration": 205,
    "start_time": "2023-10-25T19:47:34.131Z"
   },
   {
    "duration": 152,
    "start_time": "2023-10-25T19:47:34.338Z"
   },
   {
    "duration": 205,
    "start_time": "2023-10-25T19:47:34.492Z"
   },
   {
    "duration": 10,
    "start_time": "2023-10-25T19:47:34.706Z"
   },
   {
    "duration": 14,
    "start_time": "2023-10-25T19:47:34.718Z"
   },
   {
    "duration": 202,
    "start_time": "2023-10-25T19:47:34.733Z"
   },
   {
    "duration": 171,
    "start_time": "2023-10-25T19:47:34.937Z"
   },
   {
    "duration": 251,
    "start_time": "2023-10-25T19:47:35.110Z"
   },
   {
    "duration": 8,
    "start_time": "2023-10-25T19:47:35.363Z"
   },
   {
    "duration": 43,
    "start_time": "2023-10-25T19:47:35.372Z"
   },
   {
    "duration": 162,
    "start_time": "2023-10-25T19:47:35.417Z"
   },
   {
    "duration": 11,
    "start_time": "2023-10-25T19:47:35.582Z"
   },
   {
    "duration": 182,
    "start_time": "2023-10-25T19:47:35.594Z"
   },
   {
    "duration": 165,
    "start_time": "2023-10-25T19:47:35.778Z"
   },
   {
    "duration": 6,
    "start_time": "2023-10-25T19:47:35.945Z"
   },
   {
    "duration": 135,
    "start_time": "2023-10-25T19:47:35.953Z"
   },
   {
    "duration": 146,
    "start_time": "2023-10-25T19:47:36.089Z"
   },
   {
    "duration": 175,
    "start_time": "2023-10-25T19:47:36.237Z"
   },
   {
    "duration": 148,
    "start_time": "2023-10-25T19:48:27.276Z"
   },
   {
    "duration": 149,
    "start_time": "2023-10-25T19:48:35.409Z"
   },
   {
    "duration": 6,
    "start_time": "2023-10-25T19:54:17.187Z"
   },
   {
    "duration": 5,
    "start_time": "2023-10-25T19:54:36.438Z"
   },
   {
    "duration": 7,
    "start_time": "2023-10-25T19:54:45.676Z"
   },
   {
    "duration": 145,
    "start_time": "2023-10-25T19:58:50.250Z"
   },
   {
    "duration": 879,
    "start_time": "2023-10-25T19:59:43.501Z"
   },
   {
    "duration": 44,
    "start_time": "2023-10-25T19:59:53.704Z"
   },
   {
    "duration": 129,
    "start_time": "2023-10-25T20:00:16.406Z"
   },
   {
    "duration": 149,
    "start_time": "2023-10-25T20:00:55.980Z"
   },
   {
    "duration": 128,
    "start_time": "2023-10-25T20:02:33.928Z"
   },
   {
    "duration": 130,
    "start_time": "2023-10-25T20:02:58.105Z"
   },
   {
    "duration": 137,
    "start_time": "2023-10-25T20:03:09.084Z"
   },
   {
    "duration": 116,
    "start_time": "2023-10-25T20:03:20.403Z"
   },
   {
    "duration": 125,
    "start_time": "2023-10-25T20:03:32.244Z"
   },
   {
    "duration": 132,
    "start_time": "2023-10-25T20:04:35.829Z"
   },
   {
    "duration": 129,
    "start_time": "2023-10-25T20:04:45.049Z"
   },
   {
    "duration": 141,
    "start_time": "2023-10-25T20:05:12.183Z"
   },
   {
    "duration": 137,
    "start_time": "2023-10-25T20:05:31.245Z"
   },
   {
    "duration": 133,
    "start_time": "2023-10-25T20:13:06.799Z"
   },
   {
    "duration": 135,
    "start_time": "2023-10-25T20:13:19.231Z"
   },
   {
    "duration": 127,
    "start_time": "2023-10-25T20:15:24.057Z"
   },
   {
    "duration": 224,
    "start_time": "2023-10-25T20:15:51.178Z"
   },
   {
    "duration": 138,
    "start_time": "2023-10-25T20:16:03.621Z"
   },
   {
    "duration": 183,
    "start_time": "2023-10-25T20:47:45.999Z"
   },
   {
    "duration": 195,
    "start_time": "2023-10-25T20:48:58.346Z"
   },
   {
    "duration": 195,
    "start_time": "2023-10-25T20:53:25.372Z"
   },
   {
    "duration": 214,
    "start_time": "2023-10-25T20:56:14.775Z"
   },
   {
    "duration": 200,
    "start_time": "2023-10-25T20:56:56.989Z"
   },
   {
    "duration": 190,
    "start_time": "2023-10-25T20:57:02.817Z"
   },
   {
    "duration": 223,
    "start_time": "2023-10-25T20:57:07.101Z"
   },
   {
    "duration": 220,
    "start_time": "2023-10-25T20:57:34.247Z"
   },
   {
    "duration": 211,
    "start_time": "2023-10-25T20:57:52.501Z"
   },
   {
    "duration": 210,
    "start_time": "2023-10-25T20:58:00.178Z"
   },
   {
    "duration": 208,
    "start_time": "2023-10-25T20:58:50.902Z"
   },
   {
    "duration": 197,
    "start_time": "2023-10-25T20:58:56.232Z"
   },
   {
    "duration": 192,
    "start_time": "2023-10-25T21:01:11.511Z"
   },
   {
    "duration": 205,
    "start_time": "2023-10-25T21:21:02.715Z"
   },
   {
    "duration": 214,
    "start_time": "2023-10-25T21:21:33.246Z"
   },
   {
    "duration": 189,
    "start_time": "2023-10-25T21:22:17.333Z"
   },
   {
    "duration": 196,
    "start_time": "2023-10-25T21:23:13.125Z"
   },
   {
    "duration": 225,
    "start_time": "2023-10-25T21:26:24.291Z"
   },
   {
    "duration": 327,
    "start_time": "2023-10-25T21:26:32.385Z"
   },
   {
    "duration": 83,
    "start_time": "2023-10-25T21:27:55.713Z"
   },
   {
    "duration": 10,
    "start_time": "2023-10-25T21:28:15.745Z"
   },
   {
    "duration": 177,
    "start_time": "2023-10-25T21:28:27.292Z"
   },
   {
    "duration": 161,
    "start_time": "2023-10-25T21:29:53.142Z"
   },
   {
    "duration": 173,
    "start_time": "2023-10-25T21:34:19.315Z"
   },
   {
    "duration": 181,
    "start_time": "2023-10-25T21:34:36.204Z"
   },
   {
    "duration": 185,
    "start_time": "2023-10-25T21:35:12.689Z"
   },
   {
    "duration": 177,
    "start_time": "2023-10-25T21:35:41.628Z"
   },
   {
    "duration": 174,
    "start_time": "2023-10-25T21:36:21.614Z"
   },
   {
    "duration": 184,
    "start_time": "2023-10-25T21:36:32.207Z"
   },
   {
    "duration": 182,
    "start_time": "2023-10-25T21:36:41.206Z"
   },
   {
    "duration": 161,
    "start_time": "2023-10-25T21:36:56.084Z"
   },
   {
    "duration": 7,
    "start_time": "2023-10-25T21:50:39.761Z"
   },
   {
    "duration": 196,
    "start_time": "2023-10-25T21:51:12.294Z"
   },
   {
    "duration": 208,
    "start_time": "2023-10-25T21:51:28.673Z"
   },
   {
    "duration": 196,
    "start_time": "2023-10-25T21:52:13.271Z"
   },
   {
    "duration": 162,
    "start_time": "2023-10-25T21:54:08.479Z"
   },
   {
    "duration": 206,
    "start_time": "2023-10-25T21:54:24.281Z"
   },
   {
    "duration": 219,
    "start_time": "2023-10-25T21:55:00.493Z"
   },
   {
    "duration": 195,
    "start_time": "2023-10-25T21:55:37.413Z"
   },
   {
    "duration": 8,
    "start_time": "2023-10-25T21:57:23.260Z"
   },
   {
    "duration": 8,
    "start_time": "2023-10-25T21:58:00.390Z"
   },
   {
    "duration": 8,
    "start_time": "2023-10-25T21:58:10.744Z"
   },
   {
    "duration": 10,
    "start_time": "2023-10-25T21:58:18.555Z"
   },
   {
    "duration": 11,
    "start_time": "2023-10-25T21:58:25.880Z"
   },
   {
    "duration": 8,
    "start_time": "2023-10-25T21:59:16.403Z"
   },
   {
    "duration": 8,
    "start_time": "2023-10-25T21:59:30.776Z"
   },
   {
    "duration": 17,
    "start_time": "2023-10-25T21:59:38.019Z"
   },
   {
    "duration": 16,
    "start_time": "2023-10-25T22:00:35.212Z"
   },
   {
    "duration": 9,
    "start_time": "2023-10-25T22:02:01.566Z"
   },
   {
    "duration": 117,
    "start_time": "2023-10-25T22:02:14.673Z"
   },
   {
    "duration": 118,
    "start_time": "2023-10-25T22:02:43.327Z"
   },
   {
    "duration": 116,
    "start_time": "2023-10-25T22:03:00.271Z"
   },
   {
    "duration": 157,
    "start_time": "2023-10-25T22:03:28.104Z"
   },
   {
    "duration": 187,
    "start_time": "2023-10-25T22:03:35.785Z"
   },
   {
    "duration": 330,
    "start_time": "2023-10-25T22:04:02.473Z"
   },
   {
    "duration": 177,
    "start_time": "2023-10-25T22:04:13.641Z"
   },
   {
    "duration": 7,
    "start_time": "2023-10-25T22:04:25.095Z"
   },
   {
    "duration": 8,
    "start_time": "2023-10-25T22:04:44.306Z"
   },
   {
    "duration": 8,
    "start_time": "2023-10-25T22:05:19.779Z"
   },
   {
    "duration": 8,
    "start_time": "2023-10-25T22:06:26.570Z"
   },
   {
    "duration": 158,
    "start_time": "2023-10-25T22:08:50.075Z"
   },
   {
    "duration": 164,
    "start_time": "2023-10-25T22:09:13.820Z"
   },
   {
    "duration": 8,
    "start_time": "2023-10-25T22:11:03.443Z"
   },
   {
    "duration": 204,
    "start_time": "2023-10-25T22:11:21.672Z"
   },
   {
    "duration": 18,
    "start_time": "2023-10-25T22:25:05.123Z"
   },
   {
    "duration": 11,
    "start_time": "2023-10-25T22:25:25.323Z"
   },
   {
    "duration": 16,
    "start_time": "2023-10-25T22:25:45.077Z"
   },
   {
    "duration": 8,
    "start_time": "2023-10-25T22:27:50.940Z"
   },
   {
    "duration": 9,
    "start_time": "2023-10-25T22:27:59.279Z"
   },
   {
    "duration": 15,
    "start_time": "2023-10-25T22:28:08.824Z"
   },
   {
    "duration": 15,
    "start_time": "2023-10-25T22:29:29.265Z"
   },
   {
    "duration": 21,
    "start_time": "2023-10-25T22:30:06.498Z"
   },
   {
    "duration": 30,
    "start_time": "2023-10-25T22:33:06.998Z"
   },
   {
    "duration": 21,
    "start_time": "2023-10-25T22:36:46.476Z"
   },
   {
    "duration": 173,
    "start_time": "2023-10-25T22:36:52.309Z"
   },
   {
    "duration": 20,
    "start_time": "2023-10-25T22:38:31.586Z"
   },
   {
    "duration": 28,
    "start_time": "2023-10-25T22:38:36.460Z"
   },
   {
    "duration": 1199,
    "start_time": "2023-10-25T22:39:16.017Z"
   },
   {
    "duration": 38,
    "start_time": "2023-10-25T22:39:26.462Z"
   },
   {
    "duration": 31,
    "start_time": "2023-10-25T22:39:54.003Z"
   },
   {
    "duration": 37,
    "start_time": "2023-10-25T22:40:00.249Z"
   },
   {
    "duration": 28,
    "start_time": "2023-10-25T22:40:06.262Z"
   },
   {
    "duration": 28,
    "start_time": "2023-10-25T22:41:01.643Z"
   },
   {
    "duration": 1140,
    "start_time": "2023-10-25T22:41:21.524Z"
   },
   {
    "duration": 27,
    "start_time": "2023-10-25T22:41:49.063Z"
   },
   {
    "duration": 36,
    "start_time": "2023-10-25T22:42:11.164Z"
   },
   {
    "duration": 29,
    "start_time": "2023-10-25T22:42:27.332Z"
   },
   {
    "duration": 1183,
    "start_time": "2023-10-25T22:42:38.373Z"
   },
   {
    "duration": 1150,
    "start_time": "2023-10-25T22:44:17.192Z"
   },
   {
    "duration": 156,
    "start_time": "2023-10-25T22:44:36.118Z"
   },
   {
    "duration": 174,
    "start_time": "2023-10-25T22:45:38.410Z"
   },
   {
    "duration": 161,
    "start_time": "2023-10-25T22:46:17.348Z"
   },
   {
    "duration": 169,
    "start_time": "2023-10-25T22:46:30.716Z"
   },
   {
    "duration": 153,
    "start_time": "2023-10-25T22:46:37.842Z"
   },
   {
    "duration": 159,
    "start_time": "2023-10-25T22:47:14.734Z"
   },
   {
    "duration": 167,
    "start_time": "2023-10-25T22:47:22.134Z"
   },
   {
    "duration": 168,
    "start_time": "2023-10-25T22:47:27.714Z"
   },
   {
    "duration": 76,
    "start_time": "2023-10-25T22:52:31.609Z"
   },
   {
    "duration": 9,
    "start_time": "2023-10-25T22:59:18.630Z"
   },
   {
    "duration": 23,
    "start_time": "2023-10-25T22:59:30.948Z"
   },
   {
    "duration": 21,
    "start_time": "2023-10-25T22:59:55.766Z"
   },
   {
    "duration": 30,
    "start_time": "2023-10-25T23:00:16.302Z"
   },
   {
    "duration": 148,
    "start_time": "2023-10-25T23:01:51.969Z"
   },
   {
    "duration": 150,
    "start_time": "2023-10-25T23:02:30.576Z"
   },
   {
    "duration": 146,
    "start_time": "2023-10-25T23:02:35.608Z"
   },
   {
    "duration": 147,
    "start_time": "2023-10-25T23:02:39.572Z"
   },
   {
    "duration": 144,
    "start_time": "2023-10-25T23:02:53.193Z"
   },
   {
    "duration": 162,
    "start_time": "2023-10-25T23:02:58.924Z"
   },
   {
    "duration": 155,
    "start_time": "2023-10-25T23:03:30.622Z"
   },
   {
    "duration": 142,
    "start_time": "2023-10-25T23:03:41.425Z"
   },
   {
    "duration": 162,
    "start_time": "2023-10-25T23:03:50.298Z"
   },
   {
    "duration": 26,
    "start_time": "2023-10-25T23:16:06.771Z"
   },
   {
    "duration": 64,
    "start_time": "2023-10-25T23:17:29.156Z"
   },
   {
    "duration": 171,
    "start_time": "2023-10-25T23:17:38.415Z"
   },
   {
    "duration": 158,
    "start_time": "2023-10-25T23:23:10.324Z"
   },
   {
    "duration": 162,
    "start_time": "2023-10-25T23:29:37.373Z"
   },
   {
    "duration": 325,
    "start_time": "2023-10-25T23:30:36.251Z"
   },
   {
    "duration": 150,
    "start_time": "2023-10-25T23:30:43.486Z"
   },
   {
    "duration": 143,
    "start_time": "2023-10-25T23:30:49.420Z"
   },
   {
    "duration": 73,
    "start_time": "2023-10-25T23:31:36.216Z"
   },
   {
    "duration": 164,
    "start_time": "2023-10-25T23:31:46.031Z"
   },
   {
    "duration": 149,
    "start_time": "2023-10-25T23:32:00.870Z"
   },
   {
    "duration": 26,
    "start_time": "2023-10-25T23:32:19.916Z"
   },
   {
    "duration": 156,
    "start_time": "2023-10-25T23:34:00.419Z"
   },
   {
    "duration": 79,
    "start_time": "2023-10-25T23:34:18.562Z"
   },
   {
    "duration": 158,
    "start_time": "2023-10-25T23:34:24.097Z"
   },
   {
    "duration": 80,
    "start_time": "2023-10-25T23:38:58.440Z"
   },
   {
    "duration": 16,
    "start_time": "2023-10-25T23:47:33.019Z"
   },
   {
    "duration": 15,
    "start_time": "2023-10-25T23:47:54.817Z"
   },
   {
    "duration": 20,
    "start_time": "2023-10-25T23:48:08.675Z"
   },
   {
    "duration": 19,
    "start_time": "2023-10-25T23:48:31.632Z"
   },
   {
    "duration": 16,
    "start_time": "2023-10-25T23:48:59.367Z"
   },
   {
    "duration": 16,
    "start_time": "2023-10-25T23:49:19.775Z"
   },
   {
    "duration": 65,
    "start_time": "2023-10-25T23:53:34.733Z"
   },
   {
    "duration": 82,
    "start_time": "2023-10-25T23:53:42.651Z"
   },
   {
    "duration": 49,
    "start_time": "2023-10-25T23:54:30.418Z"
   },
   {
    "duration": 15,
    "start_time": "2023-10-25T23:54:40.434Z"
   },
   {
    "duration": 13,
    "start_time": "2023-10-25T23:56:04.508Z"
   },
   {
    "duration": 10,
    "start_time": "2023-10-25T23:59:06.713Z"
   },
   {
    "duration": 14,
    "start_time": "2023-10-25T23:59:20.074Z"
   },
   {
    "duration": 16,
    "start_time": "2023-10-25T23:59:40.775Z"
   },
   {
    "duration": 17,
    "start_time": "2023-10-25T23:59:47.035Z"
   },
   {
    "duration": 23,
    "start_time": "2023-10-26T00:00:05.083Z"
   },
   {
    "duration": 21,
    "start_time": "2023-10-26T00:01:46.060Z"
   },
   {
    "duration": 17,
    "start_time": "2023-10-26T00:02:02.291Z"
   },
   {
    "duration": 18,
    "start_time": "2023-10-26T00:02:22.855Z"
   },
   {
    "duration": 17,
    "start_time": "2023-10-26T00:02:26.827Z"
   },
   {
    "duration": 13,
    "start_time": "2023-10-26T00:02:30.405Z"
   },
   {
    "duration": 16,
    "start_time": "2023-10-26T00:03:11.427Z"
   },
   {
    "duration": 17,
    "start_time": "2023-10-26T00:03:20.016Z"
   },
   {
    "duration": 51,
    "start_time": "2023-10-26T00:07:05.373Z"
   },
   {
    "duration": 19,
    "start_time": "2023-10-26T00:07:20.029Z"
   },
   {
    "duration": 59,
    "start_time": "2023-10-26T00:09:08.505Z"
   },
   {
    "duration": 30,
    "start_time": "2023-10-26T00:10:39.178Z"
   },
   {
    "duration": 24,
    "start_time": "2023-10-26T00:10:57.142Z"
   },
   {
    "duration": 34,
    "start_time": "2023-10-26T00:11:11.393Z"
   },
   {
    "duration": 94,
    "start_time": "2023-10-26T00:11:33.515Z"
   },
   {
    "duration": 33,
    "start_time": "2023-10-26T00:11:44.576Z"
   },
   {
    "duration": 25,
    "start_time": "2023-10-26T00:12:11.238Z"
   },
   {
    "duration": 50,
    "start_time": "2023-10-26T19:26:14.388Z"
   },
   {
    "duration": 3032,
    "start_time": "2023-10-26T19:26:17.533Z"
   },
   {
    "duration": 31,
    "start_time": "2023-10-26T19:26:20.567Z"
   },
   {
    "duration": 39,
    "start_time": "2023-10-26T19:26:20.600Z"
   },
   {
    "duration": 29,
    "start_time": "2023-10-26T19:26:20.641Z"
   },
   {
    "duration": 13,
    "start_time": "2023-10-26T19:26:20.672Z"
   },
   {
    "duration": 40,
    "start_time": "2023-10-26T19:26:20.687Z"
   },
   {
    "duration": 21,
    "start_time": "2023-10-26T19:26:20.728Z"
   },
   {
    "duration": 50,
    "start_time": "2023-10-26T19:26:20.751Z"
   },
   {
    "duration": 54,
    "start_time": "2023-10-26T19:26:20.803Z"
   },
   {
    "duration": 37,
    "start_time": "2023-10-26T19:26:20.860Z"
   },
   {
    "duration": 31,
    "start_time": "2023-10-26T19:26:20.899Z"
   },
   {
    "duration": 28,
    "start_time": "2023-10-26T19:26:20.932Z"
   },
   {
    "duration": 32,
    "start_time": "2023-10-26T19:26:20.962Z"
   },
   {
    "duration": 14,
    "start_time": "2023-10-26T19:26:20.996Z"
   },
   {
    "duration": 19,
    "start_time": "2023-10-26T19:26:21.012Z"
   },
   {
    "duration": 28,
    "start_time": "2023-10-26T19:26:21.033Z"
   },
   {
    "duration": 11,
    "start_time": "2023-10-26T19:26:21.063Z"
   },
   {
    "duration": 32,
    "start_time": "2023-10-26T19:26:21.076Z"
   },
   {
    "duration": 25,
    "start_time": "2023-10-26T19:26:21.110Z"
   },
   {
    "duration": 23,
    "start_time": "2023-10-26T19:26:21.137Z"
   },
   {
    "duration": 15,
    "start_time": "2023-10-26T19:26:21.161Z"
   },
   {
    "duration": 16,
    "start_time": "2023-10-26T19:26:21.178Z"
   },
   {
    "duration": 20,
    "start_time": "2023-10-26T19:26:21.196Z"
   },
   {
    "duration": 16,
    "start_time": "2023-10-26T19:26:21.218Z"
   },
   {
    "duration": 15,
    "start_time": "2023-10-26T19:26:21.235Z"
   },
   {
    "duration": 10,
    "start_time": "2023-10-26T19:26:21.251Z"
   },
   {
    "duration": 5,
    "start_time": "2023-10-26T19:26:21.262Z"
   },
   {
    "duration": 4,
    "start_time": "2023-10-26T19:26:21.271Z"
   },
   {
    "duration": 59,
    "start_time": "2023-10-26T19:26:21.277Z"
   },
   {
    "duration": 230,
    "start_time": "2023-10-26T19:26:21.338Z"
   },
   {
    "duration": 7,
    "start_time": "2023-10-26T19:26:21.570Z"
   },
   {
    "duration": 21,
    "start_time": "2023-10-26T19:26:21.578Z"
   },
   {
    "duration": 10,
    "start_time": "2023-10-26T19:26:21.601Z"
   },
   {
    "duration": 26,
    "start_time": "2023-10-26T19:26:21.613Z"
   },
   {
    "duration": 12,
    "start_time": "2023-10-26T19:26:21.641Z"
   },
   {
    "duration": 12,
    "start_time": "2023-10-26T19:26:21.655Z"
   },
   {
    "duration": 162,
    "start_time": "2023-10-26T19:26:21.669Z"
   },
   {
    "duration": 164,
    "start_time": "2023-10-26T19:26:21.833Z"
   },
   {
    "duration": 176,
    "start_time": "2023-10-26T19:26:21.999Z"
   },
   {
    "duration": 19,
    "start_time": "2023-10-26T19:26:22.178Z"
   },
   {
    "duration": 10,
    "start_time": "2023-10-26T19:26:22.199Z"
   },
   {
    "duration": 223,
    "start_time": "2023-10-26T19:26:22.210Z"
   },
   {
    "duration": 313,
    "start_time": "2023-10-26T19:26:22.435Z"
   },
   {
    "duration": 178,
    "start_time": "2023-10-26T19:26:22.750Z"
   },
   {
    "duration": 13,
    "start_time": "2023-10-26T19:26:22.930Z"
   },
   {
    "duration": 245,
    "start_time": "2023-10-26T19:26:22.945Z"
   },
   {
    "duration": 10,
    "start_time": "2023-10-26T19:26:23.193Z"
   },
   {
    "duration": 9,
    "start_time": "2023-10-26T19:26:23.205Z"
   },
   {
    "duration": 206,
    "start_time": "2023-10-26T19:26:23.217Z"
   },
   {
    "duration": 182,
    "start_time": "2023-10-26T19:26:23.425Z"
   },
   {
    "duration": 152,
    "start_time": "2023-10-26T19:26:23.609Z"
   },
   {
    "duration": 179,
    "start_time": "2023-10-26T19:26:23.766Z"
   },
   {
    "duration": 9,
    "start_time": "2023-10-26T19:26:23.947Z"
   },
   {
    "duration": 14,
    "start_time": "2023-10-26T19:26:23.969Z"
   },
   {
    "duration": 155,
    "start_time": "2023-10-26T19:26:23.985Z"
   },
   {
    "duration": 144,
    "start_time": "2023-10-26T19:26:24.142Z"
   },
   {
    "duration": 247,
    "start_time": "2023-10-26T19:26:24.288Z"
   },
   {
    "duration": 7,
    "start_time": "2023-10-26T19:26:24.537Z"
   },
   {
    "duration": 22,
    "start_time": "2023-10-26T19:26:24.546Z"
   },
   {
    "duration": 161,
    "start_time": "2023-10-26T19:26:24.569Z"
   },
   {
    "duration": 11,
    "start_time": "2023-10-26T19:26:24.732Z"
   },
   {
    "duration": 182,
    "start_time": "2023-10-26T19:26:24.744Z"
   },
   {
    "duration": 153,
    "start_time": "2023-10-26T19:26:24.928Z"
   },
   {
    "duration": 5,
    "start_time": "2023-10-26T19:26:25.082Z"
   },
   {
    "duration": 144,
    "start_time": "2023-10-26T19:26:25.089Z"
   },
   {
    "duration": 148,
    "start_time": "2023-10-26T19:26:25.235Z"
   },
   {
    "duration": 170,
    "start_time": "2023-10-26T19:26:25.386Z"
   },
   {
    "duration": 145,
    "start_time": "2023-10-26T19:26:25.558Z"
   },
   {
    "duration": 211,
    "start_time": "2023-10-26T19:26:25.704Z"
   },
   {
    "duration": 212,
    "start_time": "2023-10-26T19:26:25.917Z"
   },
   {
    "duration": 208,
    "start_time": "2023-10-26T19:26:26.130Z"
   },
   {
    "duration": 196,
    "start_time": "2023-10-26T19:26:26.339Z"
   },
   {
    "duration": 183,
    "start_time": "2023-10-26T19:26:26.536Z"
   },
   {
    "duration": 328,
    "start_time": "2023-10-26T19:26:26.720Z"
   },
   {
    "duration": 7,
    "start_time": "2023-10-26T19:26:27.049Z"
   },
   {
    "duration": 215,
    "start_time": "2023-10-26T19:26:27.067Z"
   },
   {
    "duration": 171,
    "start_time": "2023-10-26T19:26:27.283Z"
   },
   {
    "duration": 167,
    "start_time": "2023-10-26T19:26:27.455Z"
   },
   {
    "duration": 174,
    "start_time": "2023-10-26T19:26:27.624Z"
   },
   {
    "duration": 176,
    "start_time": "2023-10-26T19:26:27.800Z"
   },
   {
    "duration": 26,
    "start_time": "2023-10-26T19:26:27.978Z"
   },
   {
    "duration": 181,
    "start_time": "2023-10-26T19:26:28.009Z"
   },
   {
    "duration": 172,
    "start_time": "2023-10-26T19:26:28.192Z"
   },
   {
    "duration": 27,
    "start_time": "2023-10-26T19:26:28.366Z"
   },
   {
    "duration": 64,
    "start_time": "2023-10-26T19:27:19.933Z"
   },
   {
    "duration": 65,
    "start_time": "2023-10-26T19:28:24.971Z"
   },
   {
    "duration": 27,
    "start_time": "2023-10-26T19:44:59.692Z"
   },
   {
    "duration": 29,
    "start_time": "2023-10-26T19:45:10.584Z"
   },
   {
    "duration": 29,
    "start_time": "2023-10-26T19:45:22.456Z"
   },
   {
    "duration": 28,
    "start_time": "2023-10-26T19:45:43.460Z"
   },
   {
    "duration": 28,
    "start_time": "2023-10-26T19:45:51.724Z"
   },
   {
    "duration": 30,
    "start_time": "2023-10-26T19:46:11.446Z"
   },
   {
    "duration": 27,
    "start_time": "2023-10-26T19:46:18.501Z"
   },
   {
    "duration": 31,
    "start_time": "2023-10-26T19:46:26.071Z"
   },
   {
    "duration": 26,
    "start_time": "2023-10-26T19:47:38.365Z"
   },
   {
    "duration": 27,
    "start_time": "2023-10-26T19:48:04.266Z"
   },
   {
    "duration": 30,
    "start_time": "2023-10-26T19:48:19.936Z"
   },
   {
    "duration": 28,
    "start_time": "2023-10-26T19:48:32.941Z"
   },
   {
    "duration": 25,
    "start_time": "2023-10-26T19:48:38.094Z"
   },
   {
    "duration": 26,
    "start_time": "2023-10-26T19:48:47.075Z"
   },
   {
    "duration": 26,
    "start_time": "2023-10-26T19:48:52.733Z"
   },
   {
    "duration": 267,
    "start_time": "2023-10-26T19:49:40.976Z"
   },
   {
    "duration": 24,
    "start_time": "2023-10-26T19:49:51.031Z"
   },
   {
    "duration": 38,
    "start_time": "2023-10-26T19:50:03.235Z"
   },
   {
    "duration": 28,
    "start_time": "2023-10-26T19:50:29.005Z"
   },
   {
    "duration": 26,
    "start_time": "2023-10-26T19:50:54.253Z"
   },
   {
    "duration": 28,
    "start_time": "2023-10-26T19:51:08.220Z"
   },
   {
    "duration": 30,
    "start_time": "2023-10-26T19:51:17.934Z"
   },
   {
    "duration": 27,
    "start_time": "2023-10-26T19:51:25.169Z"
   },
   {
    "duration": 35,
    "start_time": "2023-10-26T19:52:00.775Z"
   },
   {
    "duration": 30,
    "start_time": "2023-10-26T19:52:20.639Z"
   },
   {
    "duration": 24,
    "start_time": "2023-10-26T19:52:55.658Z"
   },
   {
    "duration": 28,
    "start_time": "2023-10-26T19:53:01.284Z"
   },
   {
    "duration": 0,
    "start_time": "2023-10-26T19:53:26.859Z"
   },
   {
    "duration": 28,
    "start_time": "2023-10-26T19:53:29.385Z"
   },
   {
    "duration": 28,
    "start_time": "2023-10-26T19:53:42.445Z"
   },
   {
    "duration": 26,
    "start_time": "2023-10-26T19:53:51.510Z"
   },
   {
    "duration": 25,
    "start_time": "2023-10-26T19:54:04.144Z"
   },
   {
    "duration": 26,
    "start_time": "2023-10-26T19:54:13.016Z"
   },
   {
    "duration": 28,
    "start_time": "2023-10-26T19:54:16.879Z"
   },
   {
    "duration": 684,
    "start_time": "2023-10-26T19:59:04.337Z"
   },
   {
    "duration": 8,
    "start_time": "2023-10-26T19:59:24.359Z"
   },
   {
    "duration": 4,
    "start_time": "2023-10-26T19:59:36.538Z"
   },
   {
    "duration": 5,
    "start_time": "2023-10-26T19:59:59.939Z"
   },
   {
    "duration": 5,
    "start_time": "2023-10-26T20:01:10.078Z"
   },
   {
    "duration": 7,
    "start_time": "2023-10-26T20:02:46.510Z"
   },
   {
    "duration": 44,
    "start_time": "2023-10-26T20:21:40.372Z"
   },
   {
    "duration": 20,
    "start_time": "2023-10-26T20:24:31.921Z"
   },
   {
    "duration": 21,
    "start_time": "2023-10-26T20:25:12.104Z"
   },
   {
    "duration": 21,
    "start_time": "2023-10-26T20:25:27.043Z"
   },
   {
    "duration": 21,
    "start_time": "2023-10-26T20:25:36.633Z"
   },
   {
    "duration": 181,
    "start_time": "2023-10-26T20:25:53.169Z"
   },
   {
    "duration": 167,
    "start_time": "2023-10-26T20:26:14.450Z"
   },
   {
    "duration": 172,
    "start_time": "2023-10-26T20:26:21.669Z"
   },
   {
    "duration": 158,
    "start_time": "2023-10-26T20:26:32.420Z"
   },
   {
    "duration": 19,
    "start_time": "2023-10-26T20:26:37.731Z"
   },
   {
    "duration": 175,
    "start_time": "2023-10-26T20:26:43.226Z"
   },
   {
    "duration": 168,
    "start_time": "2023-10-26T20:27:11.851Z"
   },
   {
    "duration": 157,
    "start_time": "2023-10-26T20:29:09.509Z"
   },
   {
    "duration": 290,
    "start_time": "2023-10-26T20:29:17.569Z"
   },
   {
    "duration": 204,
    "start_time": "2023-10-26T20:29:28.668Z"
   },
   {
    "duration": 185,
    "start_time": "2023-10-26T20:29:32.569Z"
   },
   {
    "duration": 172,
    "start_time": "2023-10-26T20:29:43.386Z"
   },
   {
    "duration": 550,
    "start_time": "2023-10-26T20:37:05.026Z"
   },
   {
    "duration": 227,
    "start_time": "2023-10-27T03:31:04.905Z"
   },
   {
    "duration": 246,
    "start_time": "2023-10-27T03:31:41.886Z"
   },
   {
    "duration": 241,
    "start_time": "2023-10-27T03:34:08.533Z"
   },
   {
    "duration": 226,
    "start_time": "2023-10-27T03:34:17.531Z"
   },
   {
    "duration": 2778,
    "start_time": "2023-10-27T03:35:05.855Z"
   },
   {
    "duration": 32,
    "start_time": "2023-10-27T03:35:08.635Z"
   },
   {
    "duration": 33,
    "start_time": "2023-10-27T03:35:08.668Z"
   },
   {
    "duration": 7,
    "start_time": "2023-10-27T03:35:08.703Z"
   },
   {
    "duration": 22,
    "start_time": "2023-10-27T03:35:08.712Z"
   },
   {
    "duration": 7,
    "start_time": "2023-10-27T03:35:08.736Z"
   },
   {
    "duration": 23,
    "start_time": "2023-10-27T03:35:08.745Z"
   },
   {
    "duration": 12,
    "start_time": "2023-10-27T03:35:08.769Z"
   },
   {
    "duration": 16,
    "start_time": "2023-10-27T03:35:08.782Z"
   },
   {
    "duration": 20,
    "start_time": "2023-10-27T03:35:08.801Z"
   },
   {
    "duration": 10,
    "start_time": "2023-10-27T03:35:08.823Z"
   },
   {
    "duration": 8,
    "start_time": "2023-10-27T03:35:08.834Z"
   },
   {
    "duration": 24,
    "start_time": "2023-10-27T03:35:08.844Z"
   },
   {
    "duration": 4,
    "start_time": "2023-10-27T03:35:08.869Z"
   },
   {
    "duration": 14,
    "start_time": "2023-10-27T03:35:08.875Z"
   },
   {
    "duration": 9,
    "start_time": "2023-10-27T03:35:08.891Z"
   },
   {
    "duration": 14,
    "start_time": "2023-10-27T03:35:08.901Z"
   },
   {
    "duration": 18,
    "start_time": "2023-10-27T03:35:08.917Z"
   },
   {
    "duration": 135,
    "start_time": "2023-10-27T03:35:08.937Z"
   },
   {
    "duration": 200,
    "start_time": "2023-10-27T03:35:09.074Z"
   },
   {
    "duration": 80,
    "start_time": "2023-10-27T03:35:09.277Z"
   },
   {
    "duration": 103,
    "start_time": "2023-10-27T03:35:09.359Z"
   },
   {
    "duration": 28,
    "start_time": "2023-10-27T03:35:09.464Z"
   },
   {
    "duration": 11,
    "start_time": "2023-10-27T03:35:09.493Z"
   },
   {
    "duration": 10,
    "start_time": "2023-10-27T03:35:09.506Z"
   },
   {
    "duration": 13,
    "start_time": "2023-10-27T03:35:09.518Z"
   },
   {
    "duration": 5,
    "start_time": "2023-10-27T03:35:09.533Z"
   },
   {
    "duration": 4,
    "start_time": "2023-10-27T03:35:09.543Z"
   },
   {
    "duration": 12,
    "start_time": "2023-10-27T03:35:09.548Z"
   },
   {
    "duration": 256,
    "start_time": "2023-10-27T03:35:09.561Z"
   },
   {
    "duration": 7,
    "start_time": "2023-10-27T03:35:09.818Z"
   },
   {
    "duration": 14,
    "start_time": "2023-10-27T03:35:09.827Z"
   },
   {
    "duration": 25,
    "start_time": "2023-10-27T03:35:09.843Z"
   },
   {
    "duration": 8,
    "start_time": "2023-10-27T03:35:09.869Z"
   },
   {
    "duration": 12,
    "start_time": "2023-10-27T03:35:09.879Z"
   },
   {
    "duration": 27,
    "start_time": "2023-10-27T03:35:09.893Z"
   },
   {
    "duration": 174,
    "start_time": "2023-10-27T03:35:09.922Z"
   },
   {
    "duration": 183,
    "start_time": "2023-10-27T03:35:10.099Z"
   },
   {
    "duration": 179,
    "start_time": "2023-10-27T03:35:10.284Z"
   },
   {
    "duration": 18,
    "start_time": "2023-10-27T03:35:10.467Z"
   },
   {
    "duration": 12,
    "start_time": "2023-10-27T03:35:10.487Z"
   },
   {
    "duration": 241,
    "start_time": "2023-10-27T03:35:10.500Z"
   },
   {
    "duration": 244,
    "start_time": "2023-10-27T03:35:10.743Z"
   },
   {
    "duration": 292,
    "start_time": "2023-10-27T03:35:10.988Z"
   },
   {
    "duration": 13,
    "start_time": "2023-10-27T03:35:11.282Z"
   },
   {
    "duration": 241,
    "start_time": "2023-10-27T03:35:11.296Z"
   },
   {
    "duration": 9,
    "start_time": "2023-10-27T03:35:11.539Z"
   },
   {
    "duration": 24,
    "start_time": "2023-10-27T03:35:11.550Z"
   },
   {
    "duration": 192,
    "start_time": "2023-10-27T03:35:11.576Z"
   },
   {
    "duration": 181,
    "start_time": "2023-10-27T03:35:11.770Z"
   },
   {
    "duration": 149,
    "start_time": "2023-10-27T03:35:11.953Z"
   },
   {
    "duration": 177,
    "start_time": "2023-10-27T03:35:12.104Z"
   },
   {
    "duration": 10,
    "start_time": "2023-10-27T03:35:12.283Z"
   },
   {
    "duration": 13,
    "start_time": "2023-10-27T03:35:12.295Z"
   },
   {
    "duration": 165,
    "start_time": "2023-10-27T03:35:12.310Z"
   },
   {
    "duration": 140,
    "start_time": "2023-10-27T03:35:12.476Z"
   },
   {
    "duration": 167,
    "start_time": "2023-10-27T03:35:12.618Z"
   },
   {
    "duration": 9,
    "start_time": "2023-10-27T03:35:12.787Z"
   },
   {
    "duration": 16,
    "start_time": "2023-10-27T03:35:12.797Z"
   },
   {
    "duration": 169,
    "start_time": "2023-10-27T03:35:12.815Z"
   },
   {
    "duration": 13,
    "start_time": "2023-10-27T03:35:12.985Z"
   },
   {
    "duration": 295,
    "start_time": "2023-10-27T03:35:12.999Z"
   },
   {
    "duration": 159,
    "start_time": "2023-10-27T03:35:13.296Z"
   },
   {
    "duration": 12,
    "start_time": "2023-10-27T03:35:13.457Z"
   },
   {
    "duration": 130,
    "start_time": "2023-10-27T03:35:13.470Z"
   },
   {
    "duration": 138,
    "start_time": "2023-10-27T03:35:13.602Z"
   },
   {
    "duration": 189,
    "start_time": "2023-10-27T03:35:13.742Z"
   },
   {
    "duration": 140,
    "start_time": "2023-10-27T03:35:13.933Z"
   },
   {
    "duration": 208,
    "start_time": "2023-10-27T03:35:14.075Z"
   },
   {
    "duration": 214,
    "start_time": "2023-10-27T03:35:14.285Z"
   },
   {
    "duration": 212,
    "start_time": "2023-10-27T03:35:14.501Z"
   },
   {
    "duration": 192,
    "start_time": "2023-10-27T03:35:14.715Z"
   },
   {
    "duration": 187,
    "start_time": "2023-10-27T03:35:14.909Z"
   },
   {
    "duration": 220,
    "start_time": "2023-10-27T03:35:15.097Z"
   },
   {
    "duration": 9,
    "start_time": "2023-10-27T03:35:15.318Z"
   },
   {
    "duration": 223,
    "start_time": "2023-10-27T03:35:15.329Z"
   },
   {
    "duration": 183,
    "start_time": "2023-10-27T03:35:15.554Z"
   },
   {
    "duration": 295,
    "start_time": "2023-10-27T03:35:15.739Z"
   },
   {
    "duration": 174,
    "start_time": "2023-10-27T03:35:16.036Z"
   },
   {
    "duration": 184,
    "start_time": "2023-10-27T03:35:16.211Z"
   },
   {
    "duration": 26,
    "start_time": "2023-10-27T03:35:16.397Z"
   },
   {
    "duration": 176,
    "start_time": "2023-10-27T03:35:16.430Z"
   },
   {
    "duration": 149,
    "start_time": "2023-10-27T03:35:16.608Z"
   },
   {
    "duration": 25,
    "start_time": "2023-10-27T03:35:16.767Z"
   },
   {
    "duration": 34,
    "start_time": "2023-10-27T03:35:16.794Z"
   },
   {
    "duration": 30,
    "start_time": "2023-10-27T03:35:16.830Z"
   },
   {
    "duration": 238,
    "start_time": "2023-10-27T03:35:16.862Z"
   },
   {
    "duration": 96,
    "start_time": "2023-10-27T03:44:59.881Z"
   },
   {
    "duration": 125,
    "start_time": "2023-10-27T03:49:06.297Z"
   },
   {
    "duration": 86,
    "start_time": "2023-10-27T04:00:22.078Z"
   },
   {
    "duration": 10,
    "start_time": "2023-10-27T05:26:00.383Z"
   },
   {
    "duration": 2,
    "start_time": "2023-10-27T05:43:48.187Z"
   },
   {
    "duration": 4298,
    "start_time": "2023-10-27T05:51:47.344Z"
   },
   {
    "duration": 36,
    "start_time": "2023-10-27T05:51:51.644Z"
   },
   {
    "duration": 91,
    "start_time": "2023-10-27T05:51:51.682Z"
   },
   {
    "duration": 13,
    "start_time": "2023-10-27T05:51:51.776Z"
   },
   {
    "duration": 33,
    "start_time": "2023-10-27T05:51:51.796Z"
   },
   {
    "duration": 26,
    "start_time": "2023-10-27T05:51:51.831Z"
   },
   {
    "duration": 27,
    "start_time": "2023-10-27T05:51:51.859Z"
   },
   {
    "duration": 22,
    "start_time": "2023-10-27T05:51:51.888Z"
   },
   {
    "duration": 34,
    "start_time": "2023-10-27T05:51:51.911Z"
   },
   {
    "duration": 9,
    "start_time": "2023-10-27T05:51:51.949Z"
   },
   {
    "duration": 6,
    "start_time": "2023-10-27T05:51:51.961Z"
   },
   {
    "duration": 31,
    "start_time": "2023-10-27T05:51:51.970Z"
   },
   {
    "duration": 23,
    "start_time": "2023-10-27T05:51:52.003Z"
   },
   {
    "duration": 5,
    "start_time": "2023-10-27T05:51:52.028Z"
   },
   {
    "duration": 31,
    "start_time": "2023-10-27T05:51:52.035Z"
   },
   {
    "duration": 8,
    "start_time": "2023-10-27T05:51:52.069Z"
   },
   {
    "duration": 33,
    "start_time": "2023-10-27T05:51:52.078Z"
   },
   {
    "duration": 12,
    "start_time": "2023-10-27T05:51:52.114Z"
   },
   {
    "duration": 9,
    "start_time": "2023-10-27T05:51:52.128Z"
   },
   {
    "duration": 66,
    "start_time": "2023-10-27T05:51:52.139Z"
   },
   {
    "duration": 24,
    "start_time": "2023-10-27T05:51:52.207Z"
   },
   {
    "duration": 71,
    "start_time": "2023-10-27T05:51:52.233Z"
   },
   {
    "duration": 57,
    "start_time": "2023-10-27T05:51:52.306Z"
   },
   {
    "duration": 47,
    "start_time": "2023-10-27T05:51:52.365Z"
   },
   {
    "duration": 38,
    "start_time": "2023-10-27T05:51:52.413Z"
   },
   {
    "duration": 40,
    "start_time": "2023-10-27T05:51:52.453Z"
   },
   {
    "duration": 10,
    "start_time": "2023-10-27T05:51:52.494Z"
   },
   {
    "duration": 34,
    "start_time": "2023-10-27T05:51:52.509Z"
   },
   {
    "duration": 77,
    "start_time": "2023-10-27T05:51:52.545Z"
   },
   {
    "duration": 302,
    "start_time": "2023-10-27T05:51:52.624Z"
   },
   {
    "duration": 20,
    "start_time": "2023-10-27T05:51:52.928Z"
   },
   {
    "duration": 15,
    "start_time": "2023-10-27T05:51:52.951Z"
   },
   {
    "duration": 20,
    "start_time": "2023-10-27T05:51:52.967Z"
   },
   {
    "duration": 20,
    "start_time": "2023-10-27T05:51:52.988Z"
   },
   {
    "duration": 20,
    "start_time": "2023-10-27T05:51:53.010Z"
   },
   {
    "duration": 7,
    "start_time": "2023-10-27T05:51:53.031Z"
   },
   {
    "duration": 191,
    "start_time": "2023-10-27T05:51:53.039Z"
   },
   {
    "duration": 183,
    "start_time": "2023-10-27T05:51:53.232Z"
   },
   {
    "duration": 200,
    "start_time": "2023-10-27T05:51:53.417Z"
   },
   {
    "duration": 35,
    "start_time": "2023-10-27T05:51:53.619Z"
   },
   {
    "duration": 13,
    "start_time": "2023-10-27T05:51:53.657Z"
   },
   {
    "duration": 250,
    "start_time": "2023-10-27T05:51:53.672Z"
   },
   {
    "duration": 366,
    "start_time": "2023-10-27T05:51:53.924Z"
   },
   {
    "duration": 198,
    "start_time": "2023-10-27T05:51:54.292Z"
   },
   {
    "duration": 13,
    "start_time": "2023-10-27T05:51:54.491Z"
   },
   {
    "duration": 286,
    "start_time": "2023-10-27T05:51:54.506Z"
   },
   {
    "duration": 10,
    "start_time": "2023-10-27T05:51:54.794Z"
   },
   {
    "duration": 40,
    "start_time": "2023-10-27T05:51:54.806Z"
   },
   {
    "duration": 237,
    "start_time": "2023-10-27T05:51:54.848Z"
   },
   {
    "duration": 279,
    "start_time": "2023-10-27T05:51:55.087Z"
   },
   {
    "duration": 203,
    "start_time": "2023-10-27T05:51:55.368Z"
   },
   {
    "duration": 189,
    "start_time": "2023-10-27T05:51:55.573Z"
   },
   {
    "duration": 8,
    "start_time": "2023-10-27T05:51:55.765Z"
   },
   {
    "duration": 37,
    "start_time": "2023-10-27T05:51:55.774Z"
   },
   {
    "duration": 183,
    "start_time": "2023-10-27T05:51:55.813Z"
   },
   {
    "duration": 160,
    "start_time": "2023-10-27T05:51:55.998Z"
   },
   {
    "duration": 263,
    "start_time": "2023-10-27T05:51:56.163Z"
   },
   {
    "duration": 20,
    "start_time": "2023-10-27T05:51:56.428Z"
   },
   {
    "duration": 14,
    "start_time": "2023-10-27T05:51:56.461Z"
   },
   {
    "duration": 189,
    "start_time": "2023-10-27T05:51:56.478Z"
   },
   {
    "duration": 11,
    "start_time": "2023-10-27T05:51:56.669Z"
   },
   {
    "duration": 211,
    "start_time": "2023-10-27T05:51:56.682Z"
   },
   {
    "duration": 203,
    "start_time": "2023-10-27T05:51:56.895Z"
   },
   {
    "duration": 6,
    "start_time": "2023-10-27T05:51:57.100Z"
   },
   {
    "duration": 169,
    "start_time": "2023-10-27T05:51:57.108Z"
   },
   {
    "duration": 157,
    "start_time": "2023-10-27T05:51:57.279Z"
   },
   {
    "duration": 204,
    "start_time": "2023-10-27T05:51:57.438Z"
   },
   {
    "duration": 193,
    "start_time": "2023-10-27T05:51:57.644Z"
   },
   {
    "duration": 251,
    "start_time": "2023-10-27T05:51:57.839Z"
   },
   {
    "duration": 250,
    "start_time": "2023-10-27T05:51:58.093Z"
   },
   {
    "duration": 251,
    "start_time": "2023-10-27T05:51:58.344Z"
   },
   {
    "duration": 219,
    "start_time": "2023-10-27T05:51:58.597Z"
   },
   {
    "duration": 219,
    "start_time": "2023-10-27T05:51:58.818Z"
   },
   {
    "duration": 350,
    "start_time": "2023-10-27T05:51:59.038Z"
   },
   {
    "duration": 8,
    "start_time": "2023-10-27T05:51:59.390Z"
   },
   {
    "duration": 275,
    "start_time": "2023-10-27T05:51:59.400Z"
   },
   {
    "duration": 201,
    "start_time": "2023-10-27T05:51:59.677Z"
   },
   {
    "duration": 195,
    "start_time": "2023-10-27T05:51:59.879Z"
   },
   {
    "duration": 213,
    "start_time": "2023-10-27T05:52:00.076Z"
   },
   {
    "duration": 210,
    "start_time": "2023-10-27T05:52:00.291Z"
   },
   {
    "duration": 26,
    "start_time": "2023-10-27T05:52:00.503Z"
   },
   {
    "duration": 232,
    "start_time": "2023-10-27T05:52:00.546Z"
   },
   {
    "duration": 183,
    "start_time": "2023-10-27T05:52:00.780Z"
   },
   {
    "duration": 3,
    "start_time": "2023-10-27T05:52:00.966Z"
   },
   {
    "duration": 85,
    "start_time": "2023-10-27T05:52:00.970Z"
   },
   {
    "duration": 45,
    "start_time": "2023-10-27T05:52:01.058Z"
   },
   {
    "duration": 239,
    "start_time": "2023-10-27T05:52:01.106Z"
   },
   {
    "duration": 6,
    "start_time": "2023-10-27T06:12:34.736Z"
   },
   {
    "duration": 17,
    "start_time": "2023-10-27T08:48:17.129Z"
   },
   {
    "duration": 17,
    "start_time": "2023-10-27T08:49:26.471Z"
   },
   {
    "duration": 837,
    "start_time": "2023-10-28T15:31:27.090Z"
   },
   {
    "duration": 1993,
    "start_time": "2023-10-28T15:31:27.928Z"
   },
   {
    "duration": 36,
    "start_time": "2023-10-28T15:31:29.923Z"
   },
   {
    "duration": 25,
    "start_time": "2023-10-28T15:31:29.961Z"
   },
   {
    "duration": 6,
    "start_time": "2023-10-28T15:31:29.987Z"
   },
   {
    "duration": 5,
    "start_time": "2023-10-28T15:31:29.994Z"
   },
   {
    "duration": 40,
    "start_time": "2023-10-28T15:31:30.001Z"
   },
   {
    "duration": 11,
    "start_time": "2023-10-28T15:31:30.042Z"
   },
   {
    "duration": 31,
    "start_time": "2023-10-28T15:31:30.055Z"
   },
   {
    "duration": 38,
    "start_time": "2023-10-28T15:31:30.090Z"
   },
   {
    "duration": 38,
    "start_time": "2023-10-28T15:31:30.130Z"
   },
   {
    "duration": 22,
    "start_time": "2023-10-28T15:31:30.170Z"
   },
   {
    "duration": 46,
    "start_time": "2023-10-28T15:31:30.193Z"
   },
   {
    "duration": 19,
    "start_time": "2023-10-28T15:31:30.241Z"
   },
   {
    "duration": 37,
    "start_time": "2023-10-28T15:31:30.262Z"
   },
   {
    "duration": 47,
    "start_time": "2023-10-28T15:31:30.300Z"
   },
   {
    "duration": 40,
    "start_time": "2023-10-28T15:31:30.349Z"
   },
   {
    "duration": 23,
    "start_time": "2023-10-28T15:31:30.391Z"
   },
   {
    "duration": 29,
    "start_time": "2023-10-28T15:31:30.416Z"
   },
   {
    "duration": 32,
    "start_time": "2023-10-28T15:31:30.447Z"
   },
   {
    "duration": 26,
    "start_time": "2023-10-28T15:31:30.481Z"
   },
   {
    "duration": 36,
    "start_time": "2023-10-28T15:31:30.509Z"
   },
   {
    "duration": 26,
    "start_time": "2023-10-28T15:31:30.546Z"
   },
   {
    "duration": 40,
    "start_time": "2023-10-28T15:31:30.574Z"
   },
   {
    "duration": 24,
    "start_time": "2023-10-28T15:31:30.615Z"
   },
   {
    "duration": 36,
    "start_time": "2023-10-28T15:31:30.641Z"
   },
   {
    "duration": 36,
    "start_time": "2023-10-28T15:31:30.679Z"
   },
   {
    "duration": 50,
    "start_time": "2023-10-28T15:31:30.719Z"
   },
   {
    "duration": 65,
    "start_time": "2023-10-28T15:31:30.770Z"
   },
   {
    "duration": 107,
    "start_time": "2023-10-28T15:31:30.837Z"
   },
   {
    "duration": 283,
    "start_time": "2023-10-28T15:31:30.946Z"
   },
   {
    "duration": 10,
    "start_time": "2023-10-28T15:31:31.230Z"
   },
   {
    "duration": 34,
    "start_time": "2023-10-28T15:31:31.241Z"
   },
   {
    "duration": 60,
    "start_time": "2023-10-28T15:31:31.276Z"
   },
   {
    "duration": 42,
    "start_time": "2023-10-28T15:31:31.338Z"
   },
   {
    "duration": 43,
    "start_time": "2023-10-28T15:31:31.382Z"
   },
   {
    "duration": 19,
    "start_time": "2023-10-28T15:31:31.427Z"
   },
   {
    "duration": 157,
    "start_time": "2023-10-28T15:31:31.448Z"
   },
   {
    "duration": 149,
    "start_time": "2023-10-28T15:31:31.606Z"
   },
   {
    "duration": 150,
    "start_time": "2023-10-28T15:31:31.757Z"
   },
   {
    "duration": 14,
    "start_time": "2023-10-28T15:31:31.908Z"
   },
   {
    "duration": 18,
    "start_time": "2023-10-28T15:31:31.923Z"
   },
   {
    "duration": 188,
    "start_time": "2023-10-28T15:31:31.942Z"
   },
   {
    "duration": 174,
    "start_time": "2023-10-28T15:31:32.131Z"
   },
   {
    "duration": 208,
    "start_time": "2023-10-28T15:31:32.306Z"
   },
   {
    "duration": 25,
    "start_time": "2023-10-28T15:31:32.516Z"
   },
   {
    "duration": 223,
    "start_time": "2023-10-28T15:31:32.542Z"
   },
   {
    "duration": 10,
    "start_time": "2023-10-28T15:31:32.767Z"
   },
   {
    "duration": 9,
    "start_time": "2023-10-28T15:31:32.778Z"
   },
   {
    "duration": 184,
    "start_time": "2023-10-28T15:31:32.789Z"
   },
   {
    "duration": 192,
    "start_time": "2023-10-28T15:31:32.975Z"
   },
   {
    "duration": 158,
    "start_time": "2023-10-28T15:31:33.169Z"
   },
   {
    "duration": 167,
    "start_time": "2023-10-28T15:31:33.328Z"
   },
   {
    "duration": 6,
    "start_time": "2023-10-28T15:31:33.497Z"
   },
   {
    "duration": 10,
    "start_time": "2023-10-28T15:31:33.505Z"
   },
   {
    "duration": 141,
    "start_time": "2023-10-28T15:31:33.516Z"
   },
   {
    "duration": 135,
    "start_time": "2023-10-28T15:31:33.658Z"
   },
   {
    "duration": 133,
    "start_time": "2023-10-28T15:31:33.795Z"
   },
   {
    "duration": 14,
    "start_time": "2023-10-28T15:31:33.930Z"
   },
   {
    "duration": 8,
    "start_time": "2023-10-28T15:31:33.945Z"
   },
   {
    "duration": 140,
    "start_time": "2023-10-28T15:31:33.955Z"
   },
   {
    "duration": 10,
    "start_time": "2023-10-28T15:31:34.096Z"
   },
   {
    "duration": 207,
    "start_time": "2023-10-28T15:31:34.107Z"
   },
   {
    "duration": 130,
    "start_time": "2023-10-28T15:31:34.315Z"
   },
   {
    "duration": 4,
    "start_time": "2023-10-28T15:31:34.446Z"
   },
   {
    "duration": 115,
    "start_time": "2023-10-28T15:31:34.451Z"
   },
   {
    "duration": 120,
    "start_time": "2023-10-28T15:31:34.567Z"
   },
   {
    "duration": 137,
    "start_time": "2023-10-28T15:31:34.689Z"
   },
   {
    "duration": 128,
    "start_time": "2023-10-28T15:31:34.827Z"
   },
   {
    "duration": 190,
    "start_time": "2023-10-28T15:31:34.956Z"
   },
   {
    "duration": 191,
    "start_time": "2023-10-28T15:31:35.147Z"
   },
   {
    "duration": 188,
    "start_time": "2023-10-28T15:31:35.340Z"
   },
   {
    "duration": 168,
    "start_time": "2023-10-28T15:31:35.529Z"
   },
   {
    "duration": 153,
    "start_time": "2023-10-28T15:31:35.698Z"
   },
   {
    "duration": 179,
    "start_time": "2023-10-28T15:31:35.852Z"
   },
   {
    "duration": 13,
    "start_time": "2023-10-28T15:31:36.032Z"
   },
   {
    "duration": 217,
    "start_time": "2023-10-28T15:31:36.047Z"
   },
   {
    "duration": 177,
    "start_time": "2023-10-28T15:31:36.266Z"
   },
   {
    "duration": 221,
    "start_time": "2023-10-28T15:31:36.445Z"
   },
   {
    "duration": 158,
    "start_time": "2023-10-28T15:31:36.668Z"
   },
   {
    "duration": 147,
    "start_time": "2023-10-28T15:31:36.827Z"
   },
   {
    "duration": 21,
    "start_time": "2023-10-28T15:31:36.979Z"
   },
   {
    "duration": 152,
    "start_time": "2023-10-28T15:31:37.001Z"
   },
   {
    "duration": 144,
    "start_time": "2023-10-28T15:31:37.154Z"
   },
   {
    "duration": 2,
    "start_time": "2023-10-28T15:31:37.300Z"
   },
   {
    "duration": 41,
    "start_time": "2023-10-28T15:31:37.303Z"
   },
   {
    "duration": 3,
    "start_time": "2023-10-28T15:31:37.345Z"
   },
   {
    "duration": 157,
    "start_time": "2023-10-28T15:31:37.349Z"
   },
   {
    "duration": 111,
    "start_time": "2023-10-28T15:34:13.768Z"
   },
   {
    "duration": 2,
    "start_time": "2023-10-28T15:51:10.439Z"
   },
   {
    "duration": 3,
    "start_time": "2023-10-28T15:51:33.010Z"
   },
   {
    "duration": 627,
    "start_time": "2023-10-28T15:51:47.637Z"
   },
   {
    "duration": 1692,
    "start_time": "2023-10-28T15:51:48.265Z"
   },
   {
    "duration": 23,
    "start_time": "2023-10-28T15:51:49.958Z"
   },
   {
    "duration": 24,
    "start_time": "2023-10-28T15:51:49.983Z"
   },
   {
    "duration": 6,
    "start_time": "2023-10-28T15:51:50.009Z"
   },
   {
    "duration": 28,
    "start_time": "2023-10-28T15:51:50.016Z"
   },
   {
    "duration": 5,
    "start_time": "2023-10-28T15:51:50.045Z"
   },
   {
    "duration": 7,
    "start_time": "2023-10-28T15:51:50.051Z"
   },
   {
    "duration": 8,
    "start_time": "2023-10-28T15:51:50.060Z"
   },
   {
    "duration": 8,
    "start_time": "2023-10-28T15:51:50.071Z"
   },
   {
    "duration": 3,
    "start_time": "2023-10-28T15:51:50.081Z"
   },
   {
    "duration": 4,
    "start_time": "2023-10-28T15:51:50.085Z"
   },
   {
    "duration": 8,
    "start_time": "2023-10-28T15:51:50.090Z"
   },
   {
    "duration": 7,
    "start_time": "2023-10-28T15:51:50.100Z"
   },
   {
    "duration": 36,
    "start_time": "2023-10-28T15:51:50.108Z"
   },
   {
    "duration": 4,
    "start_time": "2023-10-28T15:51:50.145Z"
   },
   {
    "duration": 10,
    "start_time": "2023-10-28T15:51:50.150Z"
   },
   {
    "duration": 6,
    "start_time": "2023-10-28T15:51:50.162Z"
   },
   {
    "duration": 4,
    "start_time": "2023-10-28T15:51:50.169Z"
   },
   {
    "duration": 4,
    "start_time": "2023-10-28T15:51:50.175Z"
   },
   {
    "duration": 4,
    "start_time": "2023-10-28T15:51:50.180Z"
   },
   {
    "duration": 5,
    "start_time": "2023-10-28T15:51:50.185Z"
   },
   {
    "duration": 52,
    "start_time": "2023-10-28T15:51:50.191Z"
   },
   {
    "duration": 8,
    "start_time": "2023-10-28T15:51:50.245Z"
   },
   {
    "duration": 5,
    "start_time": "2023-10-28T15:51:50.254Z"
   },
   {
    "duration": 4,
    "start_time": "2023-10-28T15:51:50.261Z"
   },
   {
    "duration": 5,
    "start_time": "2023-10-28T15:51:50.266Z"
   },
   {
    "duration": 8,
    "start_time": "2023-10-28T15:51:50.275Z"
   },
   {
    "duration": 5,
    "start_time": "2023-10-28T15:51:50.284Z"
   },
   {
    "duration": 51,
    "start_time": "2023-10-28T15:51:50.290Z"
   },
   {
    "duration": 11,
    "start_time": "2023-10-28T15:51:50.343Z"
   },
   {
    "duration": 243,
    "start_time": "2023-10-28T15:51:50.356Z"
   },
   {
    "duration": 6,
    "start_time": "2023-10-28T15:51:50.600Z"
   },
   {
    "duration": 9,
    "start_time": "2023-10-28T15:51:50.607Z"
   },
   {
    "duration": 13,
    "start_time": "2023-10-28T15:51:50.617Z"
   },
   {
    "duration": 6,
    "start_time": "2023-10-28T15:51:50.639Z"
   },
   {
    "duration": 11,
    "start_time": "2023-10-28T15:51:50.646Z"
   },
   {
    "duration": 6,
    "start_time": "2023-10-28T15:51:50.658Z"
   },
   {
    "duration": 154,
    "start_time": "2023-10-28T15:51:50.665Z"
   },
   {
    "duration": 137,
    "start_time": "2023-10-28T15:51:50.821Z"
   },
   {
    "duration": 148,
    "start_time": "2023-10-28T15:51:50.959Z"
   },
   {
    "duration": 14,
    "start_time": "2023-10-28T15:51:51.108Z"
   },
   {
    "duration": 39,
    "start_time": "2023-10-28T15:51:51.123Z"
   },
   {
    "duration": 147,
    "start_time": "2023-10-28T15:51:51.164Z"
   },
   {
    "duration": 168,
    "start_time": "2023-10-28T15:51:51.312Z"
   },
   {
    "duration": 233,
    "start_time": "2023-10-28T15:51:51.481Z"
   },
   {
    "duration": 13,
    "start_time": "2023-10-28T15:51:51.716Z"
   },
   {
    "duration": 175,
    "start_time": "2023-10-28T15:51:51.739Z"
   },
   {
    "duration": 8,
    "start_time": "2023-10-28T15:51:51.916Z"
   },
   {
    "duration": 16,
    "start_time": "2023-10-28T15:51:51.925Z"
   },
   {
    "duration": 156,
    "start_time": "2023-10-28T15:51:51.943Z"
   },
   {
    "duration": 146,
    "start_time": "2023-10-28T15:51:52.101Z"
   },
   {
    "duration": 122,
    "start_time": "2023-10-28T15:51:52.248Z"
   },
   {
    "duration": 176,
    "start_time": "2023-10-28T15:51:52.371Z"
   },
   {
    "duration": 9,
    "start_time": "2023-10-28T15:51:52.549Z"
   },
   {
    "duration": 13,
    "start_time": "2023-10-28T15:51:52.559Z"
   },
   {
    "duration": 166,
    "start_time": "2023-10-28T15:51:52.574Z"
   },
   {
    "duration": 130,
    "start_time": "2023-10-28T15:51:52.741Z"
   },
   {
    "duration": 138,
    "start_time": "2023-10-28T15:51:52.873Z"
   },
   {
    "duration": 5,
    "start_time": "2023-10-28T15:51:53.013Z"
   },
   {
    "duration": 20,
    "start_time": "2023-10-28T15:51:53.020Z"
   },
   {
    "duration": 126,
    "start_time": "2023-10-28T15:51:53.041Z"
   },
   {
    "duration": 9,
    "start_time": "2023-10-28T15:51:53.169Z"
   },
   {
    "duration": 197,
    "start_time": "2023-10-28T15:51:53.179Z"
   },
   {
    "duration": 135,
    "start_time": "2023-10-28T15:51:53.378Z"
   },
   {
    "duration": 5,
    "start_time": "2023-10-28T15:51:53.515Z"
   },
   {
    "duration": 148,
    "start_time": "2023-10-28T15:51:53.522Z"
   },
   {
    "duration": 115,
    "start_time": "2023-10-28T15:51:53.672Z"
   },
   {
    "duration": 129,
    "start_time": "2023-10-28T15:51:53.788Z"
   },
   {
    "duration": 114,
    "start_time": "2023-10-28T15:51:53.919Z"
   },
   {
    "duration": 178,
    "start_time": "2023-10-28T15:51:54.039Z"
   },
   {
    "duration": 189,
    "start_time": "2023-10-28T15:51:54.218Z"
   },
   {
    "duration": 189,
    "start_time": "2023-10-28T15:51:54.409Z"
   },
   {
    "duration": 158,
    "start_time": "2023-10-28T15:51:54.600Z"
   },
   {
    "duration": 154,
    "start_time": "2023-10-28T15:51:54.760Z"
   },
   {
    "duration": 226,
    "start_time": "2023-10-28T15:51:54.916Z"
   },
   {
    "duration": 6,
    "start_time": "2023-10-28T15:51:55.143Z"
   },
   {
    "duration": 196,
    "start_time": "2023-10-28T15:51:55.151Z"
   },
   {
    "duration": 146,
    "start_time": "2023-10-28T15:51:55.348Z"
   },
   {
    "duration": 215,
    "start_time": "2023-10-28T15:51:55.496Z"
   },
   {
    "duration": 148,
    "start_time": "2023-10-28T15:51:55.712Z"
   },
   {
    "duration": 152,
    "start_time": "2023-10-28T15:51:55.865Z"
   },
   {
    "duration": 32,
    "start_time": "2023-10-28T15:51:56.019Z"
   },
   {
    "duration": 154,
    "start_time": "2023-10-28T15:51:56.052Z"
   },
   {
    "duration": 154,
    "start_time": "2023-10-28T15:51:56.207Z"
   },
   {
    "duration": 3,
    "start_time": "2023-10-28T15:51:56.363Z"
   },
   {
    "duration": 30,
    "start_time": "2023-10-28T15:51:56.367Z"
   },
   {
    "duration": 4,
    "start_time": "2023-10-28T15:51:56.398Z"
   },
   {
    "duration": 159,
    "start_time": "2023-10-28T15:51:56.403Z"
   },
   {
    "duration": 3,
    "start_time": "2023-10-28T15:52:15.579Z"
   },
   {
    "duration": 7,
    "start_time": "2023-10-28T15:57:11.794Z"
   },
   {
    "duration": 6,
    "start_time": "2023-10-28T15:57:24.930Z"
   },
   {
    "duration": 7,
    "start_time": "2023-10-28T16:04:20.590Z"
   },
   {
    "duration": 8,
    "start_time": "2023-10-28T16:04:40.371Z"
   },
   {
    "duration": 623,
    "start_time": "2023-10-28T16:04:45.590Z"
   },
   {
    "duration": 1758,
    "start_time": "2023-10-28T16:04:46.215Z"
   },
   {
    "duration": 21,
    "start_time": "2023-10-28T16:04:47.977Z"
   },
   {
    "duration": 41,
    "start_time": "2023-10-28T16:04:48.000Z"
   },
   {
    "duration": 7,
    "start_time": "2023-10-28T16:04:48.042Z"
   },
   {
    "duration": 17,
    "start_time": "2023-10-28T16:04:48.050Z"
   },
   {
    "duration": 68,
    "start_time": "2023-10-28T16:04:48.068Z"
   },
   {
    "duration": 0,
    "start_time": "2023-10-28T16:04:48.140Z"
   },
   {
    "duration": 0,
    "start_time": "2023-10-28T16:04:48.141Z"
   },
   {
    "duration": 0,
    "start_time": "2023-10-28T16:04:48.141Z"
   },
   {
    "duration": 0,
    "start_time": "2023-10-28T16:04:48.143Z"
   },
   {
    "duration": 0,
    "start_time": "2023-10-28T16:04:48.143Z"
   },
   {
    "duration": 0,
    "start_time": "2023-10-28T16:04:48.144Z"
   },
   {
    "duration": 0,
    "start_time": "2023-10-28T16:04:48.145Z"
   },
   {
    "duration": 0,
    "start_time": "2023-10-28T16:04:48.146Z"
   },
   {
    "duration": 0,
    "start_time": "2023-10-28T16:04:48.147Z"
   },
   {
    "duration": 0,
    "start_time": "2023-10-28T16:04:48.148Z"
   },
   {
    "duration": 0,
    "start_time": "2023-10-28T16:04:48.148Z"
   },
   {
    "duration": 0,
    "start_time": "2023-10-28T16:04:48.149Z"
   },
   {
    "duration": 0,
    "start_time": "2023-10-28T16:04:48.150Z"
   },
   {
    "duration": 0,
    "start_time": "2023-10-28T16:04:48.151Z"
   },
   {
    "duration": 0,
    "start_time": "2023-10-28T16:04:48.151Z"
   },
   {
    "duration": 0,
    "start_time": "2023-10-28T16:04:48.152Z"
   },
   {
    "duration": 0,
    "start_time": "2023-10-28T16:04:48.153Z"
   },
   {
    "duration": 0,
    "start_time": "2023-10-28T16:04:48.154Z"
   },
   {
    "duration": 0,
    "start_time": "2023-10-28T16:04:48.155Z"
   },
   {
    "duration": 0,
    "start_time": "2023-10-28T16:04:48.156Z"
   },
   {
    "duration": 0,
    "start_time": "2023-10-28T16:04:48.157Z"
   },
   {
    "duration": 0,
    "start_time": "2023-10-28T16:04:48.157Z"
   },
   {
    "duration": 0,
    "start_time": "2023-10-28T16:04:48.158Z"
   },
   {
    "duration": 0,
    "start_time": "2023-10-28T16:04:48.159Z"
   },
   {
    "duration": 0,
    "start_time": "2023-10-28T16:04:48.160Z"
   },
   {
    "duration": 0,
    "start_time": "2023-10-28T16:04:48.161Z"
   },
   {
    "duration": 0,
    "start_time": "2023-10-28T16:04:48.161Z"
   },
   {
    "duration": 0,
    "start_time": "2023-10-28T16:04:48.162Z"
   },
   {
    "duration": 0,
    "start_time": "2023-10-28T16:04:48.163Z"
   },
   {
    "duration": 0,
    "start_time": "2023-10-28T16:04:48.163Z"
   },
   {
    "duration": 0,
    "start_time": "2023-10-28T16:04:48.164Z"
   },
   {
    "duration": 0,
    "start_time": "2023-10-28T16:04:48.165Z"
   },
   {
    "duration": 0,
    "start_time": "2023-10-28T16:04:48.166Z"
   },
   {
    "duration": 0,
    "start_time": "2023-10-28T16:04:48.167Z"
   },
   {
    "duration": 1,
    "start_time": "2023-10-28T16:04:48.167Z"
   },
   {
    "duration": 0,
    "start_time": "2023-10-28T16:04:48.168Z"
   },
   {
    "duration": 0,
    "start_time": "2023-10-28T16:04:48.169Z"
   },
   {
    "duration": 0,
    "start_time": "2023-10-28T16:04:48.170Z"
   },
   {
    "duration": 0,
    "start_time": "2023-10-28T16:04:48.171Z"
   },
   {
    "duration": 0,
    "start_time": "2023-10-28T16:04:48.171Z"
   },
   {
    "duration": 0,
    "start_time": "2023-10-28T16:04:48.172Z"
   },
   {
    "duration": 0,
    "start_time": "2023-10-28T16:04:48.173Z"
   },
   {
    "duration": 0,
    "start_time": "2023-10-28T16:04:48.174Z"
   },
   {
    "duration": 0,
    "start_time": "2023-10-28T16:04:48.174Z"
   },
   {
    "duration": 0,
    "start_time": "2023-10-28T16:04:48.175Z"
   },
   {
    "duration": 0,
    "start_time": "2023-10-28T16:04:48.176Z"
   },
   {
    "duration": 0,
    "start_time": "2023-10-28T16:04:48.239Z"
   },
   {
    "duration": 0,
    "start_time": "2023-10-28T16:04:48.240Z"
   },
   {
    "duration": 1,
    "start_time": "2023-10-28T16:04:48.241Z"
   },
   {
    "duration": 0,
    "start_time": "2023-10-28T16:04:48.242Z"
   },
   {
    "duration": 0,
    "start_time": "2023-10-28T16:04:48.243Z"
   },
   {
    "duration": 0,
    "start_time": "2023-10-28T16:04:48.244Z"
   },
   {
    "duration": 0,
    "start_time": "2023-10-28T16:04:48.244Z"
   },
   {
    "duration": 0,
    "start_time": "2023-10-28T16:04:48.245Z"
   },
   {
    "duration": 0,
    "start_time": "2023-10-28T16:04:48.246Z"
   },
   {
    "duration": 0,
    "start_time": "2023-10-28T16:04:48.246Z"
   },
   {
    "duration": 0,
    "start_time": "2023-10-28T16:04:48.247Z"
   },
   {
    "duration": 1,
    "start_time": "2023-10-28T16:04:48.248Z"
   },
   {
    "duration": 0,
    "start_time": "2023-10-28T16:04:48.249Z"
   },
   {
    "duration": 0,
    "start_time": "2023-10-28T16:04:48.250Z"
   },
   {
    "duration": 0,
    "start_time": "2023-10-28T16:04:48.251Z"
   },
   {
    "duration": 0,
    "start_time": "2023-10-28T16:04:48.252Z"
   },
   {
    "duration": 0,
    "start_time": "2023-10-28T16:04:48.253Z"
   },
   {
    "duration": 0,
    "start_time": "2023-10-28T16:04:48.253Z"
   },
   {
    "duration": 0,
    "start_time": "2023-10-28T16:04:48.254Z"
   },
   {
    "duration": 0,
    "start_time": "2023-10-28T16:04:48.255Z"
   },
   {
    "duration": 0,
    "start_time": "2023-10-28T16:04:48.256Z"
   },
   {
    "duration": 0,
    "start_time": "2023-10-28T16:04:48.256Z"
   },
   {
    "duration": 0,
    "start_time": "2023-10-28T16:04:48.257Z"
   },
   {
    "duration": 0,
    "start_time": "2023-10-28T16:04:48.258Z"
   },
   {
    "duration": 1,
    "start_time": "2023-10-28T16:04:48.258Z"
   },
   {
    "duration": 0,
    "start_time": "2023-10-28T16:04:48.259Z"
   },
   {
    "duration": 0,
    "start_time": "2023-10-28T16:04:48.260Z"
   },
   {
    "duration": 0,
    "start_time": "2023-10-28T16:04:48.261Z"
   },
   {
    "duration": 0,
    "start_time": "2023-10-28T16:04:48.262Z"
   },
   {
    "duration": 0,
    "start_time": "2023-10-28T16:04:48.263Z"
   },
   {
    "duration": 0,
    "start_time": "2023-10-28T16:04:48.264Z"
   },
   {
    "duration": 1,
    "start_time": "2023-10-28T16:04:48.264Z"
   },
   {
    "duration": 0,
    "start_time": "2023-10-28T16:04:48.265Z"
   },
   {
    "duration": 0,
    "start_time": "2023-10-28T16:04:48.266Z"
   },
   {
    "duration": 0,
    "start_time": "2023-10-28T16:04:48.267Z"
   },
   {
    "duration": 0,
    "start_time": "2023-10-28T16:04:48.268Z"
   },
   {
    "duration": 0,
    "start_time": "2023-10-28T16:04:48.269Z"
   },
   {
    "duration": 0,
    "start_time": "2023-10-28T16:04:48.269Z"
   },
   {
    "duration": 5,
    "start_time": "2023-10-28T16:05:04.947Z"
   },
   {
    "duration": 8,
    "start_time": "2023-10-28T16:05:09.635Z"
   },
   {
    "duration": 7,
    "start_time": "2023-10-28T16:06:02.062Z"
   },
   {
    "duration": 645,
    "start_time": "2023-10-28T16:06:06.651Z"
   },
   {
    "duration": 1728,
    "start_time": "2023-10-28T16:06:07.297Z"
   },
   {
    "duration": 30,
    "start_time": "2023-10-28T16:06:09.027Z"
   },
   {
    "duration": 36,
    "start_time": "2023-10-28T16:06:09.059Z"
   },
   {
    "duration": 6,
    "start_time": "2023-10-28T16:06:09.096Z"
   },
   {
    "duration": 12,
    "start_time": "2023-10-28T16:06:09.103Z"
   },
   {
    "duration": 4,
    "start_time": "2023-10-28T16:06:09.117Z"
   },
   {
    "duration": 11,
    "start_time": "2023-10-28T16:06:09.139Z"
   },
   {
    "duration": 2,
    "start_time": "2023-10-28T16:06:09.151Z"
   },
   {
    "duration": 2,
    "start_time": "2023-10-28T16:06:09.155Z"
   },
   {
    "duration": 4,
    "start_time": "2023-10-28T16:06:09.159Z"
   },
   {
    "duration": 3,
    "start_time": "2023-10-28T16:06:09.164Z"
   },
   {
    "duration": 3,
    "start_time": "2023-10-28T16:06:09.168Z"
   },
   {
    "duration": 3,
    "start_time": "2023-10-28T16:06:09.172Z"
   },
   {
    "duration": 5,
    "start_time": "2023-10-28T16:06:09.176Z"
   },
   {
    "duration": 6,
    "start_time": "2023-10-28T16:06:09.182Z"
   },
   {
    "duration": 8,
    "start_time": "2023-10-28T16:06:09.189Z"
   },
   {
    "duration": 50,
    "start_time": "2023-10-28T16:06:09.198Z"
   },
   {
    "duration": 12,
    "start_time": "2023-10-28T16:06:09.249Z"
   },
   {
    "duration": 4,
    "start_time": "2023-10-28T16:06:09.263Z"
   },
   {
    "duration": 4,
    "start_time": "2023-10-28T16:06:09.269Z"
   },
   {
    "duration": 11,
    "start_time": "2023-10-28T16:06:09.274Z"
   },
   {
    "duration": 4,
    "start_time": "2023-10-28T16:06:09.287Z"
   },
   {
    "duration": 5,
    "start_time": "2023-10-28T16:06:09.293Z"
   },
   {
    "duration": 7,
    "start_time": "2023-10-28T16:06:09.300Z"
   },
   {
    "duration": 14,
    "start_time": "2023-10-28T16:06:09.309Z"
   },
   {
    "duration": 5,
    "start_time": "2023-10-28T16:06:09.340Z"
   },
   {
    "duration": 16,
    "start_time": "2023-10-28T16:06:09.351Z"
   },
   {
    "duration": 13,
    "start_time": "2023-10-28T16:06:09.369Z"
   },
   {
    "duration": 13,
    "start_time": "2023-10-28T16:06:09.383Z"
   },
   {
    "duration": 5,
    "start_time": "2023-10-28T16:06:09.397Z"
   },
   {
    "duration": 5,
    "start_time": "2023-10-28T16:06:09.403Z"
   },
   {
    "duration": 9,
    "start_time": "2023-10-28T16:06:09.410Z"
   },
   {
    "duration": 240,
    "start_time": "2023-10-28T16:06:09.439Z"
   },
   {
    "duration": 5,
    "start_time": "2023-10-28T16:06:09.681Z"
   },
   {
    "duration": 7,
    "start_time": "2023-10-28T16:06:09.687Z"
   },
   {
    "duration": 15,
    "start_time": "2023-10-28T16:06:09.695Z"
   },
   {
    "duration": 18,
    "start_time": "2023-10-28T16:06:09.711Z"
   },
   {
    "duration": 18,
    "start_time": "2023-10-28T16:06:09.730Z"
   },
   {
    "duration": 5,
    "start_time": "2023-10-28T16:06:09.749Z"
   },
   {
    "duration": 136,
    "start_time": "2023-10-28T16:06:09.755Z"
   },
   {
    "duration": 135,
    "start_time": "2023-10-28T16:06:09.892Z"
   },
   {
    "duration": 145,
    "start_time": "2023-10-28T16:06:10.028Z"
   },
   {
    "duration": 15,
    "start_time": "2023-10-28T16:06:10.174Z"
   },
   {
    "duration": 9,
    "start_time": "2023-10-28T16:06:10.190Z"
   },
   {
    "duration": 169,
    "start_time": "2023-10-28T16:06:10.200Z"
   },
   {
    "duration": 176,
    "start_time": "2023-10-28T16:06:10.370Z"
   },
   {
    "duration": 192,
    "start_time": "2023-10-28T16:06:10.548Z"
   },
   {
    "duration": 10,
    "start_time": "2023-10-28T16:06:10.741Z"
   },
   {
    "duration": 179,
    "start_time": "2023-10-28T16:06:10.752Z"
   },
   {
    "duration": 10,
    "start_time": "2023-10-28T16:06:10.933Z"
   },
   {
    "duration": 7,
    "start_time": "2023-10-28T16:06:10.945Z"
   },
   {
    "duration": 165,
    "start_time": "2023-10-28T16:06:10.953Z"
   },
   {
    "duration": 149,
    "start_time": "2023-10-28T16:06:11.119Z"
   },
   {
    "duration": 122,
    "start_time": "2023-10-28T16:06:11.269Z"
   },
   {
    "duration": 133,
    "start_time": "2023-10-28T16:06:11.393Z"
   },
   {
    "duration": 7,
    "start_time": "2023-10-28T16:06:11.527Z"
   },
   {
    "duration": 9,
    "start_time": "2023-10-28T16:06:11.539Z"
   },
   {
    "duration": 122,
    "start_time": "2023-10-28T16:06:11.549Z"
   },
   {
    "duration": 114,
    "start_time": "2023-10-28T16:06:11.673Z"
   },
   {
    "duration": 136,
    "start_time": "2023-10-28T16:06:11.789Z"
   },
   {
    "duration": 14,
    "start_time": "2023-10-28T16:06:11.927Z"
   },
   {
    "duration": 10,
    "start_time": "2023-10-28T16:06:11.942Z"
   },
   {
    "duration": 134,
    "start_time": "2023-10-28T16:06:11.953Z"
   },
   {
    "duration": 9,
    "start_time": "2023-10-28T16:06:12.088Z"
   },
   {
    "duration": 194,
    "start_time": "2023-10-28T16:06:12.099Z"
   },
   {
    "duration": 130,
    "start_time": "2023-10-28T16:06:12.294Z"
   },
   {
    "duration": 16,
    "start_time": "2023-10-28T16:06:12.426Z"
   },
   {
    "duration": 137,
    "start_time": "2023-10-28T16:06:12.444Z"
   },
   {
    "duration": 131,
    "start_time": "2023-10-28T16:06:12.582Z"
   },
   {
    "duration": 134,
    "start_time": "2023-10-28T16:06:12.715Z"
   },
   {
    "duration": 116,
    "start_time": "2023-10-28T16:06:12.850Z"
   },
   {
    "duration": 177,
    "start_time": "2023-10-28T16:06:12.967Z"
   },
   {
    "duration": 185,
    "start_time": "2023-10-28T16:06:13.145Z"
   },
   {
    "duration": 174,
    "start_time": "2023-10-28T16:06:13.331Z"
   },
   {
    "duration": 162,
    "start_time": "2023-10-28T16:06:13.507Z"
   },
   {
    "duration": 140,
    "start_time": "2023-10-28T16:06:13.670Z"
   },
   {
    "duration": 178,
    "start_time": "2023-10-28T16:06:13.811Z"
   },
   {
    "duration": 6,
    "start_time": "2023-10-28T16:06:13.990Z"
   },
   {
    "duration": 191,
    "start_time": "2023-10-28T16:06:13.997Z"
   },
   {
    "duration": 140,
    "start_time": "2023-10-28T16:06:14.189Z"
   },
   {
    "duration": 206,
    "start_time": "2023-10-28T16:06:14.341Z"
   },
   {
    "duration": 142,
    "start_time": "2023-10-28T16:06:14.549Z"
   },
   {
    "duration": 149,
    "start_time": "2023-10-28T16:06:14.692Z"
   },
   {
    "duration": 21,
    "start_time": "2023-10-28T16:06:14.843Z"
   },
   {
    "duration": 145,
    "start_time": "2023-10-28T16:06:14.865Z"
   },
   {
    "duration": 137,
    "start_time": "2023-10-28T16:06:15.011Z"
   },
   {
    "duration": 2,
    "start_time": "2023-10-28T16:06:15.150Z"
   },
   {
    "duration": 30,
    "start_time": "2023-10-28T16:06:15.154Z"
   },
   {
    "duration": 3,
    "start_time": "2023-10-28T16:06:15.186Z"
   },
   {
    "duration": 151,
    "start_time": "2023-10-28T16:06:15.190Z"
   },
   {
    "duration": 7,
    "start_time": "2023-10-28T16:07:57.982Z"
   },
   {
    "duration": 7,
    "start_time": "2023-10-28T16:08:06.594Z"
   },
   {
    "duration": 10,
    "start_time": "2023-10-28T16:08:17.850Z"
   },
   {
    "duration": 5,
    "start_time": "2023-10-28T16:08:50.438Z"
   },
   {
    "duration": 569,
    "start_time": "2023-10-28T16:09:06.293Z"
   },
   {
    "duration": 1733,
    "start_time": "2023-10-28T16:09:06.863Z"
   },
   {
    "duration": 23,
    "start_time": "2023-10-28T16:09:08.597Z"
   },
   {
    "duration": 35,
    "start_time": "2023-10-28T16:09:08.622Z"
   },
   {
    "duration": 6,
    "start_time": "2023-10-28T16:09:08.659Z"
   },
   {
    "duration": 6,
    "start_time": "2023-10-28T16:09:08.666Z"
   },
   {
    "duration": 7,
    "start_time": "2023-10-28T16:09:08.673Z"
   },
   {
    "duration": 11,
    "start_time": "2023-10-28T16:09:08.681Z"
   },
   {
    "duration": 6,
    "start_time": "2023-10-28T16:09:08.693Z"
   },
   {
    "duration": 3,
    "start_time": "2023-10-28T16:09:08.700Z"
   },
   {
    "duration": 6,
    "start_time": "2023-10-28T16:09:08.704Z"
   },
   {
    "duration": 28,
    "start_time": "2023-10-28T16:09:08.711Z"
   },
   {
    "duration": 3,
    "start_time": "2023-10-28T16:09:08.741Z"
   },
   {
    "duration": 2,
    "start_time": "2023-10-28T16:09:08.747Z"
   },
   {
    "duration": 6,
    "start_time": "2023-10-28T16:09:08.750Z"
   },
   {
    "duration": 6,
    "start_time": "2023-10-28T16:09:08.757Z"
   },
   {
    "duration": 12,
    "start_time": "2023-10-28T16:09:08.764Z"
   },
   {
    "duration": 4,
    "start_time": "2023-10-28T16:09:08.777Z"
   },
   {
    "duration": 14,
    "start_time": "2023-10-28T16:09:08.782Z"
   },
   {
    "duration": 5,
    "start_time": "2023-10-28T16:09:08.797Z"
   },
   {
    "duration": 3,
    "start_time": "2023-10-28T16:09:08.804Z"
   },
   {
    "duration": 8,
    "start_time": "2023-10-28T16:09:08.839Z"
   },
   {
    "duration": 5,
    "start_time": "2023-10-28T16:09:08.848Z"
   },
   {
    "duration": 8,
    "start_time": "2023-10-28T16:09:08.854Z"
   },
   {
    "duration": 4,
    "start_time": "2023-10-28T16:09:08.863Z"
   },
   {
    "duration": 9,
    "start_time": "2023-10-28T16:09:08.868Z"
   },
   {
    "duration": 3,
    "start_time": "2023-10-28T16:09:08.879Z"
   },
   {
    "duration": 7,
    "start_time": "2023-10-28T16:09:08.884Z"
   },
   {
    "duration": 5,
    "start_time": "2023-10-28T16:09:08.892Z"
   },
   {
    "duration": 46,
    "start_time": "2023-10-28T16:09:08.898Z"
   },
   {
    "duration": 4,
    "start_time": "2023-10-28T16:09:08.946Z"
   },
   {
    "duration": 4,
    "start_time": "2023-10-28T16:09:08.951Z"
   },
   {
    "duration": 13,
    "start_time": "2023-10-28T16:09:08.956Z"
   },
   {
    "duration": 247,
    "start_time": "2023-10-28T16:09:08.971Z"
   },
   {
    "duration": 7,
    "start_time": "2023-10-28T16:09:09.220Z"
   },
   {
    "duration": 6,
    "start_time": "2023-10-28T16:09:09.239Z"
   },
   {
    "duration": 6,
    "start_time": "2023-10-28T16:09:09.246Z"
   },
   {
    "duration": 5,
    "start_time": "2023-10-28T16:09:09.253Z"
   },
   {
    "duration": 12,
    "start_time": "2023-10-28T16:09:09.259Z"
   },
   {
    "duration": 8,
    "start_time": "2023-10-28T16:09:09.273Z"
   },
   {
    "duration": 154,
    "start_time": "2023-10-28T16:09:09.285Z"
   },
   {
    "duration": 134,
    "start_time": "2023-10-28T16:09:09.441Z"
   },
   {
    "duration": 141,
    "start_time": "2023-10-28T16:09:09.576Z"
   },
   {
    "duration": 21,
    "start_time": "2023-10-28T16:09:09.719Z"
   },
   {
    "duration": 8,
    "start_time": "2023-10-28T16:09:09.741Z"
   },
   {
    "duration": 158,
    "start_time": "2023-10-28T16:09:09.750Z"
   },
   {
    "duration": 174,
    "start_time": "2023-10-28T16:09:09.909Z"
   },
   {
    "duration": 195,
    "start_time": "2023-10-28T16:09:10.084Z"
   },
   {
    "duration": 10,
    "start_time": "2023-10-28T16:09:10.280Z"
   },
   {
    "duration": 267,
    "start_time": "2023-10-28T16:09:10.292Z"
   },
   {
    "duration": 7,
    "start_time": "2023-10-28T16:09:10.561Z"
   },
   {
    "duration": 167,
    "start_time": "2023-10-28T16:09:10.569Z"
   },
   {
    "duration": 149,
    "start_time": "2023-10-28T16:09:10.738Z"
   },
   {
    "duration": 153,
    "start_time": "2023-10-28T16:09:10.889Z"
   },
   {
    "duration": 123,
    "start_time": "2023-10-28T16:09:11.043Z"
   },
   {
    "duration": 130,
    "start_time": "2023-10-28T16:09:11.167Z"
   },
   {
    "duration": 6,
    "start_time": "2023-10-28T16:09:11.298Z"
   },
   {
    "duration": 79,
    "start_time": "2023-10-28T16:09:11.306Z"
   },
   {
    "duration": 146,
    "start_time": "2023-10-28T16:09:11.386Z"
   },
   {
    "duration": 120,
    "start_time": "2023-10-28T16:09:11.539Z"
   },
   {
    "duration": 132,
    "start_time": "2023-10-28T16:09:11.660Z"
   },
   {
    "duration": 6,
    "start_time": "2023-10-28T16:09:11.793Z"
   },
   {
    "duration": 20,
    "start_time": "2023-10-28T16:09:11.801Z"
   },
   {
    "duration": 138,
    "start_time": "2023-10-28T16:09:11.823Z"
   },
   {
    "duration": 10,
    "start_time": "2023-10-28T16:09:11.963Z"
   },
   {
    "duration": 211,
    "start_time": "2023-10-28T16:09:11.975Z"
   },
   {
    "duration": 156,
    "start_time": "2023-10-28T16:09:12.187Z"
   },
   {
    "duration": 4,
    "start_time": "2023-10-28T16:09:12.345Z"
   },
   {
    "duration": 153,
    "start_time": "2023-10-28T16:09:12.350Z"
   },
   {
    "duration": 169,
    "start_time": "2023-10-28T16:09:12.504Z"
   },
   {
    "duration": 147,
    "start_time": "2023-10-28T16:09:12.675Z"
   },
   {
    "duration": 120,
    "start_time": "2023-10-28T16:09:12.823Z"
   },
   {
    "duration": 183,
    "start_time": "2023-10-28T16:09:12.944Z"
   },
   {
    "duration": 186,
    "start_time": "2023-10-28T16:09:13.128Z"
   },
   {
    "duration": 187,
    "start_time": "2023-10-28T16:09:13.315Z"
   },
   {
    "duration": 165,
    "start_time": "2023-10-28T16:09:13.503Z"
   },
   {
    "duration": 147,
    "start_time": "2023-10-28T16:09:13.670Z"
   },
   {
    "duration": 172,
    "start_time": "2023-10-28T16:09:13.818Z"
   },
   {
    "duration": 6,
    "start_time": "2023-10-28T16:09:13.992Z"
   },
   {
    "duration": 189,
    "start_time": "2023-10-28T16:09:13.999Z"
   },
   {
    "duration": 145,
    "start_time": "2023-10-28T16:09:14.190Z"
   },
   {
    "duration": 206,
    "start_time": "2023-10-28T16:09:14.339Z"
   },
   {
    "duration": 150,
    "start_time": "2023-10-28T16:09:14.547Z"
   },
   {
    "duration": 143,
    "start_time": "2023-10-28T16:09:14.698Z"
   },
   {
    "duration": 21,
    "start_time": "2023-10-28T16:09:14.842Z"
   },
   {
    "duration": 143,
    "start_time": "2023-10-28T16:09:14.865Z"
   },
   {
    "duration": 132,
    "start_time": "2023-10-28T16:09:15.009Z"
   },
   {
    "duration": 3,
    "start_time": "2023-10-28T16:09:15.142Z"
   },
   {
    "duration": 24,
    "start_time": "2023-10-28T16:09:15.146Z"
   },
   {
    "duration": 3,
    "start_time": "2023-10-28T16:09:15.171Z"
   },
   {
    "duration": 158,
    "start_time": "2023-10-28T16:09:15.176Z"
   },
   {
    "duration": 8,
    "start_time": "2023-10-28T16:09:52.901Z"
   },
   {
    "duration": 8,
    "start_time": "2023-10-28T16:29:34.901Z"
   },
   {
    "duration": 4,
    "start_time": "2023-10-28T16:30:00.980Z"
   },
   {
    "duration": 12,
    "start_time": "2023-10-28T16:39:43.058Z"
   },
   {
    "duration": 13,
    "start_time": "2023-10-28T16:42:21.898Z"
   },
   {
    "duration": 4,
    "start_time": "2023-10-28T17:18:41.378Z"
   },
   {
    "duration": 77,
    "start_time": "2023-10-28T17:19:01.102Z"
   },
   {
    "duration": 7,
    "start_time": "2023-10-28T17:20:07.845Z"
   },
   {
    "duration": 3,
    "start_time": "2023-10-28T17:20:19.787Z"
   },
   {
    "duration": 4,
    "start_time": "2023-10-28T17:20:55.127Z"
   },
   {
    "duration": 6,
    "start_time": "2023-10-28T17:21:11.220Z"
   },
   {
    "duration": 5,
    "start_time": "2023-10-28T17:22:29.366Z"
   },
   {
    "duration": 12,
    "start_time": "2023-10-28T17:24:09.730Z"
   },
   {
    "duration": 24,
    "start_time": "2023-10-28T17:24:36.300Z"
   },
   {
    "duration": 7,
    "start_time": "2023-10-28T17:25:04.376Z"
   },
   {
    "duration": 6,
    "start_time": "2023-10-28T17:25:14.000Z"
   },
   {
    "duration": 611,
    "start_time": "2023-10-28T17:25:19.462Z"
   },
   {
    "duration": 1830,
    "start_time": "2023-10-28T17:25:20.075Z"
   },
   {
    "duration": 21,
    "start_time": "2023-10-28T17:25:21.907Z"
   },
   {
    "duration": 33,
    "start_time": "2023-10-28T17:25:21.939Z"
   },
   {
    "duration": 6,
    "start_time": "2023-10-28T17:25:21.973Z"
   },
   {
    "duration": 5,
    "start_time": "2023-10-28T17:25:21.981Z"
   },
   {
    "duration": 4,
    "start_time": "2023-10-28T17:25:21.987Z"
   },
   {
    "duration": 8,
    "start_time": "2023-10-28T17:25:21.992Z"
   },
   {
    "duration": 1,
    "start_time": "2023-10-28T17:25:22.002Z"
   },
   {
    "duration": 3,
    "start_time": "2023-10-28T17:25:22.039Z"
   },
   {
    "duration": 4,
    "start_time": "2023-10-28T17:25:22.044Z"
   },
   {
    "duration": 2,
    "start_time": "2023-10-28T17:25:22.049Z"
   },
   {
    "duration": 7,
    "start_time": "2023-10-28T17:25:22.053Z"
   },
   {
    "duration": 5,
    "start_time": "2023-10-28T17:25:22.062Z"
   },
   {
    "duration": 8,
    "start_time": "2023-10-28T17:25:22.069Z"
   },
   {
    "duration": 6,
    "start_time": "2023-10-28T17:25:22.078Z"
   },
   {
    "duration": 4,
    "start_time": "2023-10-28T17:25:22.085Z"
   },
   {
    "duration": 8,
    "start_time": "2023-10-28T17:25:22.091Z"
   },
   {
    "duration": 46,
    "start_time": "2023-10-28T17:25:22.100Z"
   },
   {
    "duration": 6,
    "start_time": "2023-10-28T17:25:22.147Z"
   },
   {
    "duration": 10,
    "start_time": "2023-10-28T17:25:22.155Z"
   },
   {
    "duration": 3,
    "start_time": "2023-10-28T17:25:22.167Z"
   },
   {
    "duration": 4,
    "start_time": "2023-10-28T17:25:22.172Z"
   },
   {
    "duration": 5,
    "start_time": "2023-10-28T17:25:22.177Z"
   },
   {
    "duration": 4,
    "start_time": "2023-10-28T17:25:22.183Z"
   },
   {
    "duration": 52,
    "start_time": "2023-10-28T17:25:22.188Z"
   },
   {
    "duration": 8,
    "start_time": "2023-10-28T17:25:22.241Z"
   },
   {
    "duration": 5,
    "start_time": "2023-10-28T17:25:22.254Z"
   },
   {
    "duration": 4,
    "start_time": "2023-10-28T17:25:22.261Z"
   },
   {
    "duration": 8,
    "start_time": "2023-10-28T17:25:22.267Z"
   },
   {
    "duration": 5,
    "start_time": "2023-10-28T17:25:22.276Z"
   },
   {
    "duration": 3,
    "start_time": "2023-10-28T17:25:22.283Z"
   },
   {
    "duration": 56,
    "start_time": "2023-10-28T17:25:22.288Z"
   },
   {
    "duration": 13,
    "start_time": "2023-10-28T17:25:22.347Z"
   },
   {
    "duration": 329,
    "start_time": "2023-10-28T17:25:22.361Z"
   },
   {
    "duration": 8,
    "start_time": "2023-10-28T17:25:22.691Z"
   },
   {
    "duration": 8,
    "start_time": "2023-10-28T17:25:22.700Z"
   },
   {
    "duration": 7,
    "start_time": "2023-10-28T17:25:22.709Z"
   },
   {
    "duration": 30,
    "start_time": "2023-10-28T17:25:22.717Z"
   },
   {
    "duration": 13,
    "start_time": "2023-10-28T17:25:22.751Z"
   },
   {
    "duration": 6,
    "start_time": "2023-10-28T17:25:22.765Z"
   },
   {
    "duration": 149,
    "start_time": "2023-10-28T17:25:22.772Z"
   },
   {
    "duration": 139,
    "start_time": "2023-10-28T17:25:22.923Z"
   },
   {
    "duration": 145,
    "start_time": "2023-10-28T17:25:23.064Z"
   },
   {
    "duration": 14,
    "start_time": "2023-10-28T17:25:23.210Z"
   },
   {
    "duration": 19,
    "start_time": "2023-10-28T17:25:23.225Z"
   },
   {
    "duration": 164,
    "start_time": "2023-10-28T17:25:23.246Z"
   },
   {
    "duration": 173,
    "start_time": "2023-10-28T17:25:23.411Z"
   },
   {
    "duration": 209,
    "start_time": "2023-10-28T17:25:23.585Z"
   },
   {
    "duration": 9,
    "start_time": "2023-10-28T17:25:23.796Z"
   },
   {
    "duration": 190,
    "start_time": "2023-10-28T17:25:23.807Z"
   },
   {
    "duration": 7,
    "start_time": "2023-10-28T17:25:23.998Z"
   },
   {
    "duration": 14,
    "start_time": "2023-10-28T17:25:24.006Z"
   },
   {
    "duration": 170,
    "start_time": "2023-10-28T17:25:24.021Z"
   },
   {
    "duration": 154,
    "start_time": "2023-10-28T17:25:24.193Z"
   },
   {
    "duration": 130,
    "start_time": "2023-10-28T17:25:24.349Z"
   },
   {
    "duration": 145,
    "start_time": "2023-10-28T17:25:24.480Z"
   },
   {
    "duration": 14,
    "start_time": "2023-10-28T17:25:24.626Z"
   },
   {
    "duration": 13,
    "start_time": "2023-10-28T17:25:24.644Z"
   },
   {
    "duration": 132,
    "start_time": "2023-10-28T17:25:24.659Z"
   },
   {
    "duration": 118,
    "start_time": "2023-10-28T17:25:24.792Z"
   },
   {
    "duration": 140,
    "start_time": "2023-10-28T17:25:24.912Z"
   },
   {
    "duration": 6,
    "start_time": "2023-10-28T17:25:25.054Z"
   },
   {
    "duration": 27,
    "start_time": "2023-10-28T17:25:25.061Z"
   },
   {
    "duration": 132,
    "start_time": "2023-10-28T17:25:25.090Z"
   },
   {
    "duration": 11,
    "start_time": "2023-10-28T17:25:25.223Z"
   },
   {
    "duration": 200,
    "start_time": "2023-10-28T17:25:25.235Z"
   },
   {
    "duration": 128,
    "start_time": "2023-10-28T17:25:25.439Z"
   },
   {
    "duration": 4,
    "start_time": "2023-10-28T17:25:25.568Z"
   },
   {
    "duration": 151,
    "start_time": "2023-10-28T17:25:25.573Z"
   },
   {
    "duration": 115,
    "start_time": "2023-10-28T17:25:25.726Z"
   },
   {
    "duration": 137,
    "start_time": "2023-10-28T17:25:25.842Z"
   },
   {
    "duration": 117,
    "start_time": "2023-10-28T17:25:25.980Z"
   },
   {
    "duration": 190,
    "start_time": "2023-10-28T17:25:26.099Z"
   },
   {
    "duration": 195,
    "start_time": "2023-10-28T17:25:26.291Z"
   },
   {
    "duration": 183,
    "start_time": "2023-10-28T17:25:26.487Z"
   },
   {
    "duration": 154,
    "start_time": "2023-10-28T17:25:26.672Z"
   },
   {
    "duration": 152,
    "start_time": "2023-10-28T17:25:26.828Z"
   },
   {
    "duration": 181,
    "start_time": "2023-10-28T17:25:26.981Z"
   },
   {
    "duration": 7,
    "start_time": "2023-10-28T17:25:27.164Z"
   },
   {
    "duration": 218,
    "start_time": "2023-10-28T17:25:27.172Z"
   },
   {
    "duration": 167,
    "start_time": "2023-10-28T17:25:27.396Z"
   },
   {
    "duration": 220,
    "start_time": "2023-10-28T17:25:27.565Z"
   },
   {
    "duration": 145,
    "start_time": "2023-10-28T17:25:27.787Z"
   },
   {
    "duration": 157,
    "start_time": "2023-10-28T17:25:27.939Z"
   },
   {
    "duration": 23,
    "start_time": "2023-10-28T17:25:28.097Z"
   },
   {
    "duration": 160,
    "start_time": "2023-10-28T17:25:28.121Z"
   },
   {
    "duration": 140,
    "start_time": "2023-10-28T17:25:28.283Z"
   },
   {
    "duration": 2,
    "start_time": "2023-10-28T17:25:28.424Z"
   },
   {
    "duration": 38,
    "start_time": "2023-10-28T17:25:28.428Z"
   },
   {
    "duration": 3,
    "start_time": "2023-10-28T17:25:28.468Z"
   },
   {
    "duration": 158,
    "start_time": "2023-10-28T17:25:28.472Z"
   },
   {
    "duration": 5,
    "start_time": "2023-10-28T17:27:02.770Z"
   },
   {
    "duration": 6,
    "start_time": "2023-10-28T17:28:47.278Z"
   },
   {
    "duration": 6,
    "start_time": "2023-10-28T17:29:05.370Z"
   },
   {
    "duration": 7,
    "start_time": "2023-10-28T17:29:12.399Z"
   },
   {
    "duration": 6,
    "start_time": "2023-10-28T17:29:26.592Z"
   },
   {
    "duration": 6,
    "start_time": "2023-10-28T17:29:29.246Z"
   },
   {
    "duration": 658,
    "start_time": "2023-10-28T17:30:14.249Z"
   },
   {
    "duration": 1840,
    "start_time": "2023-10-28T17:30:14.908Z"
   },
   {
    "duration": 26,
    "start_time": "2023-10-28T17:30:16.750Z"
   },
   {
    "duration": 25,
    "start_time": "2023-10-28T17:30:16.778Z"
   },
   {
    "duration": 6,
    "start_time": "2023-10-28T17:30:16.804Z"
   },
   {
    "duration": 21,
    "start_time": "2023-10-28T17:30:16.811Z"
   },
   {
    "duration": 11,
    "start_time": "2023-10-28T17:30:16.834Z"
   },
   {
    "duration": 10,
    "start_time": "2023-10-28T17:30:16.846Z"
   },
   {
    "duration": 3,
    "start_time": "2023-10-28T17:30:16.858Z"
   },
   {
    "duration": 5,
    "start_time": "2023-10-28T17:30:16.863Z"
   },
   {
    "duration": 6,
    "start_time": "2023-10-28T17:30:16.869Z"
   },
   {
    "duration": 7,
    "start_time": "2023-10-28T17:30:16.876Z"
   },
   {
    "duration": 19,
    "start_time": "2023-10-28T17:30:16.884Z"
   },
   {
    "duration": 24,
    "start_time": "2023-10-28T17:30:16.904Z"
   },
   {
    "duration": 9,
    "start_time": "2023-10-28T17:30:16.929Z"
   },
   {
    "duration": 14,
    "start_time": "2023-10-28T17:30:16.939Z"
   },
   {
    "duration": 8,
    "start_time": "2023-10-28T17:30:16.954Z"
   },
   {
    "duration": 9,
    "start_time": "2023-10-28T17:30:16.963Z"
   },
   {
    "duration": 7,
    "start_time": "2023-10-28T17:30:16.974Z"
   },
   {
    "duration": 20,
    "start_time": "2023-10-28T17:30:16.982Z"
   },
   {
    "duration": 12,
    "start_time": "2023-10-28T17:30:17.003Z"
   },
   {
    "duration": 7,
    "start_time": "2023-10-28T17:30:17.016Z"
   },
   {
    "duration": 18,
    "start_time": "2023-10-28T17:30:17.024Z"
   },
   {
    "duration": 6,
    "start_time": "2023-10-28T17:30:17.046Z"
   },
   {
    "duration": 5,
    "start_time": "2023-10-28T17:30:17.054Z"
   },
   {
    "duration": 10,
    "start_time": "2023-10-28T17:30:17.060Z"
   },
   {
    "duration": 5,
    "start_time": "2023-10-28T17:30:17.071Z"
   },
   {
    "duration": 8,
    "start_time": "2023-10-28T17:30:17.080Z"
   },
   {
    "duration": 4,
    "start_time": "2023-10-28T17:30:17.090Z"
   },
   {
    "duration": 7,
    "start_time": "2023-10-28T17:30:17.096Z"
   },
   {
    "duration": 37,
    "start_time": "2023-10-28T17:30:17.105Z"
   },
   {
    "duration": 8,
    "start_time": "2023-10-28T17:30:17.144Z"
   },
   {
    "duration": 13,
    "start_time": "2023-10-28T17:30:17.154Z"
   },
   {
    "duration": 10,
    "start_time": "2023-10-28T17:30:17.168Z"
   },
   {
    "duration": 7,
    "start_time": "2023-10-28T17:30:17.180Z"
   },
   {
    "duration": 291,
    "start_time": "2023-10-28T17:30:17.188Z"
   },
   {
    "duration": 5,
    "start_time": "2023-10-28T17:30:17.481Z"
   },
   {
    "duration": 13,
    "start_time": "2023-10-28T17:30:17.487Z"
   },
   {
    "duration": 5,
    "start_time": "2023-10-28T17:30:17.501Z"
   },
   {
    "duration": 10,
    "start_time": "2023-10-28T17:30:17.507Z"
   },
   {
    "duration": 28,
    "start_time": "2023-10-28T17:30:17.518Z"
   },
   {
    "duration": 9,
    "start_time": "2023-10-28T17:30:17.548Z"
   },
   {
    "duration": 148,
    "start_time": "2023-10-28T17:30:17.559Z"
   },
   {
    "duration": 137,
    "start_time": "2023-10-28T17:30:17.709Z"
   },
   {
    "duration": 147,
    "start_time": "2023-10-28T17:30:17.848Z"
   },
   {
    "duration": 13,
    "start_time": "2023-10-28T17:30:17.997Z"
   },
   {
    "duration": 6,
    "start_time": "2023-10-28T17:30:18.012Z"
   },
   {
    "duration": 175,
    "start_time": "2023-10-28T17:30:18.019Z"
   },
   {
    "duration": 181,
    "start_time": "2023-10-28T17:30:18.195Z"
   },
   {
    "duration": 200,
    "start_time": "2023-10-28T17:30:18.377Z"
   },
   {
    "duration": 10,
    "start_time": "2023-10-28T17:30:18.579Z"
   },
   {
    "duration": 191,
    "start_time": "2023-10-28T17:30:18.591Z"
   },
   {
    "duration": 7,
    "start_time": "2023-10-28T17:30:18.784Z"
   },
   {
    "duration": 7,
    "start_time": "2023-10-28T17:30:18.793Z"
   },
   {
    "duration": 181,
    "start_time": "2023-10-28T17:30:18.801Z"
   },
   {
    "duration": 155,
    "start_time": "2023-10-28T17:30:18.984Z"
   },
   {
    "duration": 135,
    "start_time": "2023-10-28T17:30:19.141Z"
   },
   {
    "duration": 133,
    "start_time": "2023-10-28T17:30:19.278Z"
   },
   {
    "duration": 6,
    "start_time": "2023-10-28T17:30:19.413Z"
   },
   {
    "duration": 29,
    "start_time": "2023-10-28T17:30:19.420Z"
   },
   {
    "duration": 124,
    "start_time": "2023-10-28T17:30:19.450Z"
   },
   {
    "duration": 123,
    "start_time": "2023-10-28T17:30:19.575Z"
   },
   {
    "duration": 132,
    "start_time": "2023-10-28T17:30:19.699Z"
   },
   {
    "duration": 14,
    "start_time": "2023-10-28T17:30:19.832Z"
   },
   {
    "duration": 10,
    "start_time": "2023-10-28T17:30:19.848Z"
   },
   {
    "duration": 134,
    "start_time": "2023-10-28T17:30:19.860Z"
   },
   {
    "duration": 11,
    "start_time": "2023-10-28T17:30:19.995Z"
   },
   {
    "duration": 213,
    "start_time": "2023-10-28T17:30:20.007Z"
   },
   {
    "duration": 138,
    "start_time": "2023-10-28T17:30:20.221Z"
   },
   {
    "duration": 4,
    "start_time": "2023-10-28T17:30:20.360Z"
   },
   {
    "duration": 134,
    "start_time": "2023-10-28T17:30:20.365Z"
   },
   {
    "duration": 122,
    "start_time": "2023-10-28T17:30:20.500Z"
   },
   {
    "duration": 149,
    "start_time": "2023-10-28T17:30:20.624Z"
   },
   {
    "duration": 123,
    "start_time": "2023-10-28T17:30:20.774Z"
   },
   {
    "duration": 193,
    "start_time": "2023-10-28T17:30:20.899Z"
   },
   {
    "duration": 192,
    "start_time": "2023-10-28T17:30:21.093Z"
   },
   {
    "duration": 190,
    "start_time": "2023-10-28T17:30:21.287Z"
   },
   {
    "duration": 151,
    "start_time": "2023-10-28T17:30:21.478Z"
   },
   {
    "duration": 155,
    "start_time": "2023-10-28T17:30:21.631Z"
   },
   {
    "duration": 185,
    "start_time": "2023-10-28T17:30:21.788Z"
   },
   {
    "duration": 6,
    "start_time": "2023-10-28T17:30:21.975Z"
   },
   {
    "duration": 198,
    "start_time": "2023-10-28T17:30:21.986Z"
   },
   {
    "duration": 148,
    "start_time": "2023-10-28T17:30:22.185Z"
   },
   {
    "duration": 257,
    "start_time": "2023-10-28T17:30:22.339Z"
   },
   {
    "duration": 181,
    "start_time": "2023-10-28T17:30:22.598Z"
   },
   {
    "duration": 148,
    "start_time": "2023-10-28T17:30:22.780Z"
   },
   {
    "duration": 29,
    "start_time": "2023-10-28T17:30:22.929Z"
   },
   {
    "duration": 150,
    "start_time": "2023-10-28T17:30:22.959Z"
   },
   {
    "duration": 144,
    "start_time": "2023-10-28T17:30:23.111Z"
   },
   {
    "duration": 3,
    "start_time": "2023-10-28T17:30:23.257Z"
   },
   {
    "duration": 26,
    "start_time": "2023-10-28T17:30:23.261Z"
   },
   {
    "duration": 3,
    "start_time": "2023-10-28T17:30:23.289Z"
   },
   {
    "duration": 163,
    "start_time": "2023-10-28T17:30:23.294Z"
   },
   {
    "duration": 5,
    "start_time": "2023-10-28T17:31:10.624Z"
   },
   {
    "duration": 7,
    "start_time": "2023-10-28T17:31:29.875Z"
   },
   {
    "duration": 67,
    "start_time": "2023-10-28T17:33:32.059Z"
   },
   {
    "duration": 78,
    "start_time": "2023-10-28T17:33:43.424Z"
   },
   {
    "duration": 74,
    "start_time": "2023-10-28T17:34:21.686Z"
   },
   {
    "duration": 1566,
    "start_time": "2023-10-28T17:35:06.741Z"
   },
   {
    "duration": 12,
    "start_time": "2023-10-28T17:35:27.514Z"
   },
   {
    "duration": 14,
    "start_time": "2023-10-28T17:35:51.265Z"
   },
   {
    "duration": 596,
    "start_time": "2023-10-28T17:36:08.503Z"
   },
   {
    "duration": 1698,
    "start_time": "2023-10-28T17:36:09.101Z"
   },
   {
    "duration": 23,
    "start_time": "2023-10-28T17:36:10.801Z"
   },
   {
    "duration": 24,
    "start_time": "2023-10-28T17:36:10.840Z"
   },
   {
    "duration": 6,
    "start_time": "2023-10-28T17:36:10.865Z"
   },
   {
    "duration": 6,
    "start_time": "2023-10-28T17:36:10.872Z"
   },
   {
    "duration": 5,
    "start_time": "2023-10-28T17:36:10.879Z"
   },
   {
    "duration": 12,
    "start_time": "2023-10-28T17:36:10.886Z"
   },
   {
    "duration": 2,
    "start_time": "2023-10-28T17:36:10.899Z"
   },
   {
    "duration": 11,
    "start_time": "2023-10-28T17:36:10.903Z"
   },
   {
    "duration": 2,
    "start_time": "2023-10-28T17:36:10.940Z"
   },
   {
    "duration": 5,
    "start_time": "2023-10-28T17:36:10.943Z"
   },
   {
    "duration": 7,
    "start_time": "2023-10-28T17:36:10.949Z"
   },
   {
    "duration": 14,
    "start_time": "2023-10-28T17:36:10.957Z"
   },
   {
    "duration": 8,
    "start_time": "2023-10-28T17:36:10.972Z"
   },
   {
    "duration": 8,
    "start_time": "2023-10-28T17:36:10.982Z"
   },
   {
    "duration": 3,
    "start_time": "2023-10-28T17:36:10.991Z"
   },
   {
    "duration": 9,
    "start_time": "2023-10-28T17:36:10.996Z"
   },
   {
    "duration": 34,
    "start_time": "2023-10-28T17:36:11.006Z"
   },
   {
    "duration": 6,
    "start_time": "2023-10-28T17:36:11.041Z"
   },
   {
    "duration": 19,
    "start_time": "2023-10-28T17:36:11.048Z"
   },
   {
    "duration": 10,
    "start_time": "2023-10-28T17:36:11.068Z"
   },
   {
    "duration": 9,
    "start_time": "2023-10-28T17:36:11.080Z"
   },
   {
    "duration": 15,
    "start_time": "2023-10-28T17:36:11.091Z"
   },
   {
    "duration": 6,
    "start_time": "2023-10-28T17:36:11.107Z"
   },
   {
    "duration": 6,
    "start_time": "2023-10-28T17:36:11.114Z"
   },
   {
    "duration": 17,
    "start_time": "2023-10-28T17:36:11.122Z"
   },
   {
    "duration": 4,
    "start_time": "2023-10-28T17:36:11.144Z"
   },
   {
    "duration": 11,
    "start_time": "2023-10-28T17:36:11.149Z"
   },
   {
    "duration": 11,
    "start_time": "2023-10-28T17:36:11.161Z"
   },
   {
    "duration": 4,
    "start_time": "2023-10-28T17:36:11.173Z"
   },
   {
    "duration": 13,
    "start_time": "2023-10-28T17:36:11.179Z"
   },
   {
    "duration": 14,
    "start_time": "2023-10-28T17:36:11.194Z"
   },
   {
    "duration": 9,
    "start_time": "2023-10-28T17:36:11.209Z"
   },
   {
    "duration": 23,
    "start_time": "2023-10-28T17:36:11.220Z"
   },
   {
    "duration": 232,
    "start_time": "2023-10-28T17:36:11.245Z"
   },
   {
    "duration": 6,
    "start_time": "2023-10-28T17:36:11.479Z"
   },
   {
    "duration": 5,
    "start_time": "2023-10-28T17:36:11.487Z"
   },
   {
    "duration": 6,
    "start_time": "2023-10-28T17:36:11.493Z"
   },
   {
    "duration": 5,
    "start_time": "2023-10-28T17:36:11.500Z"
   },
   {
    "duration": 38,
    "start_time": "2023-10-28T17:36:11.506Z"
   },
   {
    "duration": 6,
    "start_time": "2023-10-28T17:36:11.545Z"
   },
   {
    "duration": 145,
    "start_time": "2023-10-28T17:36:11.552Z"
   },
   {
    "duration": 137,
    "start_time": "2023-10-28T17:36:11.698Z"
   },
   {
    "duration": 130,
    "start_time": "2023-10-28T17:36:11.839Z"
   },
   {
    "duration": 14,
    "start_time": "2023-10-28T17:36:11.971Z"
   },
   {
    "duration": 6,
    "start_time": "2023-10-28T17:36:11.987Z"
   },
   {
    "duration": 166,
    "start_time": "2023-10-28T17:36:11.995Z"
   },
   {
    "duration": 165,
    "start_time": "2023-10-28T17:36:12.163Z"
   },
   {
    "duration": 236,
    "start_time": "2023-10-28T17:36:12.329Z"
   },
   {
    "duration": 14,
    "start_time": "2023-10-28T17:36:12.567Z"
   },
   {
    "duration": 199,
    "start_time": "2023-10-28T17:36:12.583Z"
   },
   {
    "duration": 7,
    "start_time": "2023-10-28T17:36:12.784Z"
   },
   {
    "duration": 7,
    "start_time": "2023-10-28T17:36:12.793Z"
   },
   {
    "duration": 156,
    "start_time": "2023-10-28T17:36:12.801Z"
   },
   {
    "duration": 156,
    "start_time": "2023-10-28T17:36:12.959Z"
   },
   {
    "duration": 123,
    "start_time": "2023-10-28T17:36:13.117Z"
   },
   {
    "duration": 151,
    "start_time": "2023-10-28T17:36:13.241Z"
   },
   {
    "duration": 7,
    "start_time": "2023-10-28T17:36:13.393Z"
   },
   {
    "duration": 14,
    "start_time": "2023-10-28T17:36:13.402Z"
   },
   {
    "duration": 135,
    "start_time": "2023-10-28T17:36:13.418Z"
   },
   {
    "duration": 147,
    "start_time": "2023-10-28T17:36:13.555Z"
   },
   {
    "duration": 127,
    "start_time": "2023-10-28T17:36:13.703Z"
   },
   {
    "duration": 12,
    "start_time": "2023-10-28T17:36:13.831Z"
   },
   {
    "duration": 11,
    "start_time": "2023-10-28T17:36:13.845Z"
   },
   {
    "duration": 128,
    "start_time": "2023-10-28T17:36:13.858Z"
   },
   {
    "duration": 10,
    "start_time": "2023-10-28T17:36:13.987Z"
   },
   {
    "duration": 204,
    "start_time": "2023-10-28T17:36:13.999Z"
   },
   {
    "duration": 119,
    "start_time": "2023-10-28T17:36:14.204Z"
   },
   {
    "duration": 4,
    "start_time": "2023-10-28T17:36:14.324Z"
   },
   {
    "duration": 115,
    "start_time": "2023-10-28T17:36:14.339Z"
   },
   {
    "duration": 114,
    "start_time": "2023-10-28T17:36:14.455Z"
   },
   {
    "duration": 133,
    "start_time": "2023-10-28T17:36:14.571Z"
   },
   {
    "duration": 106,
    "start_time": "2023-10-28T17:36:14.705Z"
   },
   {
    "duration": 178,
    "start_time": "2023-10-28T17:36:14.813Z"
   },
   {
    "duration": 175,
    "start_time": "2023-10-28T17:36:14.993Z"
   },
   {
    "duration": 179,
    "start_time": "2023-10-28T17:36:15.169Z"
   },
   {
    "duration": 152,
    "start_time": "2023-10-28T17:36:15.349Z"
   },
   {
    "duration": 155,
    "start_time": "2023-10-28T17:36:15.502Z"
   },
   {
    "duration": 181,
    "start_time": "2023-10-28T17:36:15.658Z"
   },
   {
    "duration": 7,
    "start_time": "2023-10-28T17:36:15.841Z"
   },
   {
    "duration": 193,
    "start_time": "2023-10-28T17:36:15.854Z"
   },
   {
    "duration": 155,
    "start_time": "2023-10-28T17:36:16.049Z"
   },
   {
    "duration": 220,
    "start_time": "2023-10-28T17:36:16.206Z"
   },
   {
    "duration": 142,
    "start_time": "2023-10-28T17:36:16.427Z"
   },
   {
    "duration": 155,
    "start_time": "2023-10-28T17:36:16.570Z"
   },
   {
    "duration": 37,
    "start_time": "2023-10-28T17:36:16.727Z"
   },
   {
    "duration": 146,
    "start_time": "2023-10-28T17:36:16.765Z"
   },
   {
    "duration": 132,
    "start_time": "2023-10-28T17:36:16.912Z"
   },
   {
    "duration": 3,
    "start_time": "2023-10-28T17:36:17.045Z"
   },
   {
    "duration": 27,
    "start_time": "2023-10-28T17:36:17.049Z"
   },
   {
    "duration": 3,
    "start_time": "2023-10-28T17:36:17.078Z"
   },
   {
    "duration": 148,
    "start_time": "2023-10-28T17:36:17.082Z"
   },
   {
    "duration": 8,
    "start_time": "2023-10-28T17:42:29.049Z"
   },
   {
    "duration": 7,
    "start_time": "2023-10-28T17:45:08.039Z"
   },
   {
    "duration": 80,
    "start_time": "2023-10-28T17:48:43.994Z"
   },
   {
    "duration": 1441,
    "start_time": "2023-10-28T17:48:55.613Z"
   },
   {
    "duration": 6,
    "start_time": "2023-10-28T17:49:10.956Z"
   },
   {
    "duration": 601,
    "start_time": "2023-10-28T17:50:08.307Z"
   },
   {
    "duration": 1706,
    "start_time": "2023-10-28T17:50:08.910Z"
   },
   {
    "duration": 30,
    "start_time": "2023-10-28T17:50:10.617Z"
   },
   {
    "duration": 24,
    "start_time": "2023-10-28T17:50:10.649Z"
   },
   {
    "duration": 5,
    "start_time": "2023-10-28T17:50:10.675Z"
   },
   {
    "duration": 32,
    "start_time": "2023-10-28T17:50:10.681Z"
   },
   {
    "duration": 39,
    "start_time": "2023-10-28T17:50:10.715Z"
   },
   {
    "duration": 28,
    "start_time": "2023-10-28T17:50:10.756Z"
   },
   {
    "duration": 13,
    "start_time": "2023-10-28T17:50:10.786Z"
   },
   {
    "duration": 32,
    "start_time": "2023-10-28T17:50:10.802Z"
   },
   {
    "duration": 17,
    "start_time": "2023-10-28T17:50:10.835Z"
   },
   {
    "duration": 24,
    "start_time": "2023-10-28T17:50:10.854Z"
   },
   {
    "duration": 13,
    "start_time": "2023-10-28T17:50:10.881Z"
   },
   {
    "duration": 9,
    "start_time": "2023-10-28T17:50:10.896Z"
   },
   {
    "duration": 13,
    "start_time": "2023-10-28T17:50:10.907Z"
   },
   {
    "duration": 8,
    "start_time": "2023-10-28T17:50:10.922Z"
   },
   {
    "duration": 4,
    "start_time": "2023-10-28T17:50:10.932Z"
   },
   {
    "duration": 21,
    "start_time": "2023-10-28T17:50:10.937Z"
   },
   {
    "duration": 10,
    "start_time": "2023-10-28T17:50:10.961Z"
   },
   {
    "duration": 14,
    "start_time": "2023-10-28T17:50:10.972Z"
   },
   {
    "duration": 14,
    "start_time": "2023-10-28T17:50:10.988Z"
   },
   {
    "duration": 4,
    "start_time": "2023-10-28T17:50:11.003Z"
   },
   {
    "duration": 35,
    "start_time": "2023-10-28T17:50:11.008Z"
   },
   {
    "duration": 26,
    "start_time": "2023-10-28T17:50:11.045Z"
   },
   {
    "duration": 16,
    "start_time": "2023-10-28T17:50:11.072Z"
   },
   {
    "duration": 12,
    "start_time": "2023-10-28T17:50:11.090Z"
   },
   {
    "duration": 4,
    "start_time": "2023-10-28T17:50:11.104Z"
   },
   {
    "duration": 5,
    "start_time": "2023-10-28T17:50:11.112Z"
   },
   {
    "duration": 4,
    "start_time": "2023-10-28T17:50:11.118Z"
   },
   {
    "duration": 12,
    "start_time": "2023-10-28T17:50:11.123Z"
   },
   {
    "duration": 7,
    "start_time": "2023-10-28T17:50:11.136Z"
   },
   {
    "duration": 3,
    "start_time": "2023-10-28T17:50:11.145Z"
   },
   {
    "duration": 9,
    "start_time": "2023-10-28T17:50:11.149Z"
   },
   {
    "duration": 8,
    "start_time": "2023-10-28T17:50:11.160Z"
   },
   {
    "duration": 10,
    "start_time": "2023-10-28T17:50:11.170Z"
   },
   {
    "duration": 264,
    "start_time": "2023-10-28T17:50:11.182Z"
   },
   {
    "duration": 7,
    "start_time": "2023-10-28T17:50:11.447Z"
   },
   {
    "duration": 7,
    "start_time": "2023-10-28T17:50:11.455Z"
   },
   {
    "duration": 6,
    "start_time": "2023-10-28T17:50:11.463Z"
   },
   {
    "duration": 5,
    "start_time": "2023-10-28T17:50:11.470Z"
   },
   {
    "duration": 10,
    "start_time": "2023-10-28T17:50:11.476Z"
   },
   {
    "duration": 5,
    "start_time": "2023-10-28T17:50:11.488Z"
   },
   {
    "duration": 167,
    "start_time": "2023-10-28T17:50:11.495Z"
   },
   {
    "duration": 136,
    "start_time": "2023-10-28T17:50:11.663Z"
   },
   {
    "duration": 142,
    "start_time": "2023-10-28T17:50:11.800Z"
   },
   {
    "duration": 14,
    "start_time": "2023-10-28T17:50:11.943Z"
   },
   {
    "duration": 7,
    "start_time": "2023-10-28T17:50:11.958Z"
   },
   {
    "duration": 169,
    "start_time": "2023-10-28T17:50:11.966Z"
   },
   {
    "duration": 171,
    "start_time": "2023-10-28T17:50:12.139Z"
   },
   {
    "duration": 237,
    "start_time": "2023-10-28T17:50:12.311Z"
   },
   {
    "duration": 13,
    "start_time": "2023-10-28T17:50:12.550Z"
   },
   {
    "duration": 207,
    "start_time": "2023-10-28T17:50:12.565Z"
   },
   {
    "duration": 7,
    "start_time": "2023-10-28T17:50:12.773Z"
   },
   {
    "duration": 7,
    "start_time": "2023-10-28T17:50:12.782Z"
   },
   {
    "duration": 164,
    "start_time": "2023-10-28T17:50:12.790Z"
   },
   {
    "duration": 149,
    "start_time": "2023-10-28T17:50:12.955Z"
   },
   {
    "duration": 124,
    "start_time": "2023-10-28T17:50:13.105Z"
   },
   {
    "duration": 147,
    "start_time": "2023-10-28T17:50:13.230Z"
   },
   {
    "duration": 6,
    "start_time": "2023-10-28T17:50:13.378Z"
   },
   {
    "duration": 21,
    "start_time": "2023-10-28T17:50:13.386Z"
   },
   {
    "duration": 117,
    "start_time": "2023-10-28T17:50:13.408Z"
   },
   {
    "duration": 135,
    "start_time": "2023-10-28T17:50:13.527Z"
   },
   {
    "duration": 131,
    "start_time": "2023-10-28T17:50:13.663Z"
   },
   {
    "duration": 6,
    "start_time": "2023-10-28T17:50:13.795Z"
   },
   {
    "duration": 7,
    "start_time": "2023-10-28T17:50:13.803Z"
   },
   {
    "duration": 139,
    "start_time": "2023-10-28T17:50:13.811Z"
   },
   {
    "duration": 10,
    "start_time": "2023-10-28T17:50:13.951Z"
   },
   {
    "duration": 208,
    "start_time": "2023-10-28T17:50:13.962Z"
   },
   {
    "duration": 129,
    "start_time": "2023-10-28T17:50:14.172Z"
   },
   {
    "duration": 3,
    "start_time": "2023-10-28T17:50:14.303Z"
   },
   {
    "duration": 133,
    "start_time": "2023-10-28T17:50:14.307Z"
   },
   {
    "duration": 114,
    "start_time": "2023-10-28T17:50:14.441Z"
   },
   {
    "duration": 131,
    "start_time": "2023-10-28T17:50:14.556Z"
   },
   {
    "duration": 117,
    "start_time": "2023-10-28T17:50:14.688Z"
   },
   {
    "duration": 179,
    "start_time": "2023-10-28T17:50:14.806Z"
   },
   {
    "duration": 180,
    "start_time": "2023-10-28T17:50:14.987Z"
   },
   {
    "duration": 179,
    "start_time": "2023-10-28T17:50:15.169Z"
   },
   {
    "duration": 151,
    "start_time": "2023-10-28T17:50:15.349Z"
   },
   {
    "duration": 154,
    "start_time": "2023-10-28T17:50:15.501Z"
   },
   {
    "duration": 170,
    "start_time": "2023-10-28T17:50:15.656Z"
   },
   {
    "duration": 16,
    "start_time": "2023-10-28T17:50:15.828Z"
   },
   {
    "duration": 200,
    "start_time": "2023-10-28T17:50:15.850Z"
   },
   {
    "duration": 155,
    "start_time": "2023-10-28T17:50:16.052Z"
   },
   {
    "duration": 236,
    "start_time": "2023-10-28T17:50:16.208Z"
   },
   {
    "duration": 144,
    "start_time": "2023-10-28T17:50:16.445Z"
   },
   {
    "duration": 152,
    "start_time": "2023-10-28T17:50:16.591Z"
   },
   {
    "duration": 22,
    "start_time": "2023-10-28T17:50:16.744Z"
   },
   {
    "duration": 150,
    "start_time": "2023-10-28T17:50:16.767Z"
   },
   {
    "duration": 134,
    "start_time": "2023-10-28T17:50:16.918Z"
   },
   {
    "duration": 3,
    "start_time": "2023-10-28T17:50:17.053Z"
   },
   {
    "duration": 26,
    "start_time": "2023-10-28T17:50:17.057Z"
   },
   {
    "duration": 3,
    "start_time": "2023-10-28T17:50:17.084Z"
   },
   {
    "duration": 160,
    "start_time": "2023-10-28T17:50:17.089Z"
   },
   {
    "duration": 7,
    "start_time": "2023-10-28T17:53:43.281Z"
   },
   {
    "duration": 646,
    "start_time": "2023-10-28T17:53:51.206Z"
   },
   {
    "duration": 1799,
    "start_time": "2023-10-28T17:53:51.853Z"
   },
   {
    "duration": 22,
    "start_time": "2023-10-28T17:53:53.653Z"
   },
   {
    "duration": 25,
    "start_time": "2023-10-28T17:53:53.676Z"
   },
   {
    "duration": 5,
    "start_time": "2023-10-28T17:53:53.702Z"
   },
   {
    "duration": 31,
    "start_time": "2023-10-28T17:53:53.708Z"
   },
   {
    "duration": 6,
    "start_time": "2023-10-28T17:53:53.741Z"
   },
   {
    "duration": 9,
    "start_time": "2023-10-28T17:53:53.749Z"
   },
   {
    "duration": 3,
    "start_time": "2023-10-28T17:53:53.759Z"
   },
   {
    "duration": 2,
    "start_time": "2023-10-28T17:53:53.764Z"
   },
   {
    "duration": 4,
    "start_time": "2023-10-28T17:53:53.768Z"
   },
   {
    "duration": 5,
    "start_time": "2023-10-28T17:53:53.773Z"
   },
   {
    "duration": 5,
    "start_time": "2023-10-28T17:53:53.779Z"
   },
   {
    "duration": 14,
    "start_time": "2023-10-28T17:53:53.785Z"
   },
   {
    "duration": 11,
    "start_time": "2023-10-28T17:53:53.801Z"
   },
   {
    "duration": 30,
    "start_time": "2023-10-28T17:53:53.813Z"
   },
   {
    "duration": 4,
    "start_time": "2023-10-28T17:53:53.845Z"
   },
   {
    "duration": 8,
    "start_time": "2023-10-28T17:53:53.850Z"
   },
   {
    "duration": 6,
    "start_time": "2023-10-28T17:53:53.860Z"
   },
   {
    "duration": 4,
    "start_time": "2023-10-28T17:53:53.867Z"
   },
   {
    "duration": 20,
    "start_time": "2023-10-28T17:53:53.873Z"
   },
   {
    "duration": 3,
    "start_time": "2023-10-28T17:53:53.894Z"
   },
   {
    "duration": 6,
    "start_time": "2023-10-28T17:53:53.899Z"
   },
   {
    "duration": 36,
    "start_time": "2023-10-28T17:53:53.906Z"
   },
   {
    "duration": 4,
    "start_time": "2023-10-28T17:53:53.943Z"
   },
   {
    "duration": 13,
    "start_time": "2023-10-28T17:53:53.948Z"
   },
   {
    "duration": 3,
    "start_time": "2023-10-28T17:53:53.962Z"
   },
   {
    "duration": 6,
    "start_time": "2023-10-28T17:53:53.969Z"
   },
   {
    "duration": 9,
    "start_time": "2023-10-28T17:53:53.976Z"
   },
   {
    "duration": 8,
    "start_time": "2023-10-28T17:53:53.986Z"
   },
   {
    "duration": 4,
    "start_time": "2023-10-28T17:53:53.996Z"
   },
   {
    "duration": 6,
    "start_time": "2023-10-28T17:53:54.001Z"
   },
   {
    "duration": 35,
    "start_time": "2023-10-28T17:53:54.009Z"
   },
   {
    "duration": 8,
    "start_time": "2023-10-28T17:53:54.045Z"
   },
   {
    "duration": 14,
    "start_time": "2023-10-28T17:53:54.054Z"
   },
   {
    "duration": 228,
    "start_time": "2023-10-28T17:53:54.069Z"
   },
   {
    "duration": 6,
    "start_time": "2023-10-28T17:53:54.298Z"
   },
   {
    "duration": 9,
    "start_time": "2023-10-28T17:53:54.305Z"
   },
   {
    "duration": 5,
    "start_time": "2023-10-28T17:53:54.316Z"
   },
   {
    "duration": 20,
    "start_time": "2023-10-28T17:53:54.322Z"
   },
   {
    "duration": 10,
    "start_time": "2023-10-28T17:53:54.343Z"
   },
   {
    "duration": 5,
    "start_time": "2023-10-28T17:53:54.354Z"
   },
   {
    "duration": 146,
    "start_time": "2023-10-28T17:53:54.360Z"
   },
   {
    "duration": 135,
    "start_time": "2023-10-28T17:53:54.507Z"
   },
   {
    "duration": 145,
    "start_time": "2023-10-28T17:53:54.644Z"
   },
   {
    "duration": 13,
    "start_time": "2023-10-28T17:53:54.791Z"
   },
   {
    "duration": 6,
    "start_time": "2023-10-28T17:53:54.806Z"
   },
   {
    "duration": 179,
    "start_time": "2023-10-28T17:53:54.813Z"
   },
   {
    "duration": 171,
    "start_time": "2023-10-28T17:53:54.993Z"
   },
   {
    "duration": 204,
    "start_time": "2023-10-28T17:53:55.166Z"
   },
   {
    "duration": 10,
    "start_time": "2023-10-28T17:53:55.371Z"
   },
   {
    "duration": 173,
    "start_time": "2023-10-28T17:53:55.382Z"
   },
   {
    "duration": 7,
    "start_time": "2023-10-28T17:53:55.557Z"
   },
   {
    "duration": 10,
    "start_time": "2023-10-28T17:53:55.565Z"
   },
   {
    "duration": 160,
    "start_time": "2023-10-28T17:53:55.576Z"
   },
   {
    "duration": 147,
    "start_time": "2023-10-28T17:53:55.739Z"
   },
   {
    "duration": 112,
    "start_time": "2023-10-28T17:53:55.888Z"
   },
   {
    "duration": 137,
    "start_time": "2023-10-28T17:53:56.002Z"
   },
   {
    "duration": 7,
    "start_time": "2023-10-28T17:53:56.141Z"
   },
   {
    "duration": 10,
    "start_time": "2023-10-28T17:53:56.150Z"
   },
   {
    "duration": 136,
    "start_time": "2023-10-28T17:53:56.162Z"
   },
   {
    "duration": 124,
    "start_time": "2023-10-28T17:53:56.299Z"
   },
   {
    "duration": 130,
    "start_time": "2023-10-28T17:53:56.425Z"
   },
   {
    "duration": 5,
    "start_time": "2023-10-28T17:53:56.557Z"
   },
   {
    "duration": 9,
    "start_time": "2023-10-28T17:53:56.563Z"
   },
   {
    "duration": 142,
    "start_time": "2023-10-28T17:53:56.573Z"
   },
   {
    "duration": 10,
    "start_time": "2023-10-28T17:53:56.717Z"
   },
   {
    "duration": 195,
    "start_time": "2023-10-28T17:53:56.728Z"
   },
   {
    "duration": 124,
    "start_time": "2023-10-28T17:53:56.924Z"
   },
   {
    "duration": 3,
    "start_time": "2023-10-28T17:53:57.050Z"
   },
   {
    "duration": 121,
    "start_time": "2023-10-28T17:53:57.054Z"
   },
   {
    "duration": 109,
    "start_time": "2023-10-28T17:53:57.177Z"
   },
   {
    "duration": 130,
    "start_time": "2023-10-28T17:53:57.287Z"
   },
   {
    "duration": 112,
    "start_time": "2023-10-28T17:53:57.418Z"
   },
   {
    "duration": 172,
    "start_time": "2023-10-28T17:53:57.539Z"
   },
   {
    "duration": 178,
    "start_time": "2023-10-28T17:53:57.712Z"
   },
   {
    "duration": 170,
    "start_time": "2023-10-28T17:53:57.891Z"
   },
   {
    "duration": 153,
    "start_time": "2023-10-28T17:53:58.063Z"
   },
   {
    "duration": 149,
    "start_time": "2023-10-28T17:53:58.217Z"
   },
   {
    "duration": 173,
    "start_time": "2023-10-28T17:53:58.367Z"
   },
   {
    "duration": 6,
    "start_time": "2023-10-28T17:53:58.541Z"
   },
   {
    "duration": 185,
    "start_time": "2023-10-28T17:53:58.552Z"
   },
   {
    "duration": 140,
    "start_time": "2023-10-28T17:53:58.740Z"
   },
   {
    "duration": 202,
    "start_time": "2023-10-28T17:53:58.881Z"
   },
   {
    "duration": 138,
    "start_time": "2023-10-28T17:53:59.085Z"
   },
   {
    "duration": 150,
    "start_time": "2023-10-28T17:53:59.224Z"
   },
   {
    "duration": 23,
    "start_time": "2023-10-28T17:53:59.375Z"
   },
   {
    "duration": 146,
    "start_time": "2023-10-28T17:53:59.400Z"
   },
   {
    "duration": 136,
    "start_time": "2023-10-28T17:53:59.547Z"
   },
   {
    "duration": 2,
    "start_time": "2023-10-28T17:53:59.685Z"
   },
   {
    "duration": 30,
    "start_time": "2023-10-28T17:53:59.688Z"
   },
   {
    "duration": 4,
    "start_time": "2023-10-28T17:53:59.719Z"
   },
   {
    "duration": 141,
    "start_time": "2023-10-28T17:53:59.740Z"
   },
   {
    "duration": 8,
    "start_time": "2023-10-28T17:56:10.819Z"
   },
   {
    "duration": 26,
    "start_time": "2023-10-28T17:56:28.630Z"
   },
   {
    "duration": 19,
    "start_time": "2023-10-28T17:59:09.655Z"
   },
   {
    "duration": 18,
    "start_time": "2023-10-28T18:05:49.897Z"
   },
   {
    "duration": 12,
    "start_time": "2023-10-28T18:06:42.557Z"
   },
   {
    "duration": 10,
    "start_time": "2023-10-28T18:06:51.458Z"
   },
   {
    "duration": 11,
    "start_time": "2023-10-28T18:06:56.976Z"
   },
   {
    "duration": 11,
    "start_time": "2023-10-28T18:07:17.860Z"
   },
   {
    "duration": 648,
    "start_time": "2023-10-28T18:07:25.198Z"
   },
   {
    "duration": 1824,
    "start_time": "2023-10-28T18:07:25.848Z"
   },
   {
    "duration": 26,
    "start_time": "2023-10-28T18:07:27.674Z"
   },
   {
    "duration": 44,
    "start_time": "2023-10-28T18:07:27.701Z"
   },
   {
    "duration": 6,
    "start_time": "2023-10-28T18:07:27.747Z"
   },
   {
    "duration": 7,
    "start_time": "2023-10-28T18:07:27.754Z"
   },
   {
    "duration": 6,
    "start_time": "2023-10-28T18:07:27.763Z"
   },
   {
    "duration": 9,
    "start_time": "2023-10-28T18:07:27.771Z"
   },
   {
    "duration": 2,
    "start_time": "2023-10-28T18:07:27.782Z"
   },
   {
    "duration": 8,
    "start_time": "2023-10-28T18:07:27.786Z"
   },
   {
    "duration": 5,
    "start_time": "2023-10-28T18:07:27.796Z"
   },
   {
    "duration": 4,
    "start_time": "2023-10-28T18:07:27.803Z"
   },
   {
    "duration": 5,
    "start_time": "2023-10-28T18:07:27.840Z"
   },
   {
    "duration": 7,
    "start_time": "2023-10-28T18:07:27.850Z"
   },
   {
    "duration": 13,
    "start_time": "2023-10-28T18:07:27.859Z"
   },
   {
    "duration": 7,
    "start_time": "2023-10-28T18:07:27.873Z"
   },
   {
    "duration": 16,
    "start_time": "2023-10-28T18:07:27.882Z"
   },
   {
    "duration": 21,
    "start_time": "2023-10-28T18:07:27.899Z"
   },
   {
    "duration": 22,
    "start_time": "2023-10-28T18:07:27.921Z"
   },
   {
    "duration": 6,
    "start_time": "2023-10-28T18:07:27.944Z"
   },
   {
    "duration": 14,
    "start_time": "2023-10-28T18:07:27.951Z"
   },
   {
    "duration": 10,
    "start_time": "2023-10-28T18:07:27.966Z"
   },
   {
    "duration": 4,
    "start_time": "2023-10-28T18:07:27.978Z"
   },
   {
    "duration": 5,
    "start_time": "2023-10-28T18:07:27.983Z"
   },
   {
    "duration": 12,
    "start_time": "2023-10-28T18:07:27.989Z"
   },
   {
    "duration": 9,
    "start_time": "2023-10-28T18:07:28.002Z"
   },
   {
    "duration": 5,
    "start_time": "2023-10-28T18:07:28.040Z"
   },
   {
    "duration": 10,
    "start_time": "2023-10-28T18:07:28.046Z"
   },
   {
    "duration": 9,
    "start_time": "2023-10-28T18:07:28.057Z"
   },
   {
    "duration": 30,
    "start_time": "2023-10-28T18:07:28.068Z"
   },
   {
    "duration": 9,
    "start_time": "2023-10-28T18:07:28.099Z"
   },
   {
    "duration": 6,
    "start_time": "2023-10-28T18:07:28.110Z"
   },
   {
    "duration": 11,
    "start_time": "2023-10-28T18:07:28.117Z"
   },
   {
    "duration": 16,
    "start_time": "2023-10-28T18:07:28.130Z"
   },
   {
    "duration": 10,
    "start_time": "2023-10-28T18:07:28.147Z"
   },
   {
    "duration": 252,
    "start_time": "2023-10-28T18:07:28.159Z"
   },
   {
    "duration": 7,
    "start_time": "2023-10-28T18:07:28.413Z"
   },
   {
    "duration": 20,
    "start_time": "2023-10-28T18:07:28.422Z"
   },
   {
    "duration": 7,
    "start_time": "2023-10-28T18:07:28.444Z"
   },
   {
    "duration": 8,
    "start_time": "2023-10-28T18:07:28.453Z"
   },
   {
    "duration": 13,
    "start_time": "2023-10-28T18:07:28.468Z"
   },
   {
    "duration": 7,
    "start_time": "2023-10-28T18:07:28.483Z"
   },
   {
    "duration": 171,
    "start_time": "2023-10-28T18:07:28.491Z"
   },
   {
    "duration": 160,
    "start_time": "2023-10-28T18:07:28.664Z"
   },
   {
    "duration": 164,
    "start_time": "2023-10-28T18:07:28.826Z"
   },
   {
    "duration": 16,
    "start_time": "2023-10-28T18:07:28.991Z"
   },
   {
    "duration": 8,
    "start_time": "2023-10-28T18:07:29.009Z"
   },
   {
    "duration": 191,
    "start_time": "2023-10-28T18:07:29.019Z"
   },
   {
    "duration": 194,
    "start_time": "2023-10-28T18:07:29.211Z"
   },
   {
    "duration": 210,
    "start_time": "2023-10-28T18:07:29.406Z"
   },
   {
    "duration": 13,
    "start_time": "2023-10-28T18:07:29.618Z"
   },
   {
    "duration": 183,
    "start_time": "2023-10-28T18:07:29.639Z"
   },
   {
    "duration": 8,
    "start_time": "2023-10-28T18:07:29.823Z"
   },
   {
    "duration": 8,
    "start_time": "2023-10-28T18:07:29.840Z"
   },
   {
    "duration": 161,
    "start_time": "2023-10-28T18:07:29.849Z"
   },
   {
    "duration": 183,
    "start_time": "2023-10-28T18:07:30.011Z"
   },
   {
    "duration": 128,
    "start_time": "2023-10-28T18:07:30.196Z"
   },
   {
    "duration": 141,
    "start_time": "2023-10-28T18:07:30.326Z"
   },
   {
    "duration": 6,
    "start_time": "2023-10-28T18:07:30.469Z"
   },
   {
    "duration": 186,
    "start_time": "2023-10-28T18:07:30.477Z"
   },
   {
    "duration": 133,
    "start_time": "2023-10-28T18:07:30.665Z"
   },
   {
    "duration": 142,
    "start_time": "2023-10-28T18:07:30.800Z"
   },
   {
    "duration": 146,
    "start_time": "2023-10-28T18:07:30.944Z"
   },
   {
    "duration": 7,
    "start_time": "2023-10-28T18:07:31.091Z"
   },
   {
    "duration": 187,
    "start_time": "2023-10-28T18:07:31.099Z"
   },
   {
    "duration": 226,
    "start_time": "2023-10-28T18:07:31.289Z"
   },
   {
    "duration": 12,
    "start_time": "2023-10-28T18:07:31.517Z"
   },
   {
    "duration": 226,
    "start_time": "2023-10-28T18:07:31.530Z"
   },
   {
    "duration": 135,
    "start_time": "2023-10-28T18:07:31.757Z"
   },
   {
    "duration": 4,
    "start_time": "2023-10-28T18:07:31.894Z"
   },
   {
    "duration": 129,
    "start_time": "2023-10-28T18:07:31.899Z"
   },
   {
    "duration": 119,
    "start_time": "2023-10-28T18:07:32.029Z"
   },
   {
    "duration": 147,
    "start_time": "2023-10-28T18:07:32.149Z"
   },
   {
    "duration": 125,
    "start_time": "2023-10-28T18:07:32.297Z"
   },
   {
    "duration": 263,
    "start_time": "2023-10-28T18:07:32.423Z"
   },
   {
    "duration": 178,
    "start_time": "2023-10-28T18:07:32.687Z"
   },
   {
    "duration": 190,
    "start_time": "2023-10-28T18:07:32.867Z"
   },
   {
    "duration": 177,
    "start_time": "2023-10-28T18:07:33.058Z"
   },
   {
    "duration": 159,
    "start_time": "2023-10-28T18:07:33.240Z"
   },
   {
    "duration": 172,
    "start_time": "2023-10-28T18:07:33.400Z"
   },
   {
    "duration": 7,
    "start_time": "2023-10-28T18:07:33.573Z"
   },
   {
    "duration": 198,
    "start_time": "2023-10-28T18:07:33.581Z"
   },
   {
    "duration": 164,
    "start_time": "2023-10-28T18:07:33.780Z"
   },
   {
    "duration": 219,
    "start_time": "2023-10-28T18:07:33.945Z"
   },
   {
    "duration": 149,
    "start_time": "2023-10-28T18:07:34.166Z"
   },
   {
    "duration": 150,
    "start_time": "2023-10-28T18:07:34.317Z"
   },
   {
    "duration": 23,
    "start_time": "2023-10-28T18:07:34.468Z"
   },
   {
    "duration": 173,
    "start_time": "2023-10-28T18:07:34.492Z"
   },
   {
    "duration": 174,
    "start_time": "2023-10-28T18:07:34.668Z"
   },
   {
    "duration": 2,
    "start_time": "2023-10-28T18:07:34.845Z"
   },
   {
    "duration": 46,
    "start_time": "2023-10-28T18:07:34.849Z"
   },
   {
    "duration": 6,
    "start_time": "2023-10-28T18:07:34.897Z"
   },
   {
    "duration": 169,
    "start_time": "2023-10-28T18:07:34.904Z"
   },
   {
    "duration": 12,
    "start_time": "2023-10-28T18:11:07.834Z"
   },
   {
    "duration": 641,
    "start_time": "2023-10-28T18:11:17.416Z"
   },
   {
    "duration": 1758,
    "start_time": "2023-10-28T18:11:18.058Z"
   },
   {
    "duration": 30,
    "start_time": "2023-10-28T18:11:19.817Z"
   },
   {
    "duration": 25,
    "start_time": "2023-10-28T18:11:19.849Z"
   },
   {
    "duration": 7,
    "start_time": "2023-10-28T18:11:19.875Z"
   },
   {
    "duration": 7,
    "start_time": "2023-10-28T18:11:19.883Z"
   },
   {
    "duration": 6,
    "start_time": "2023-10-28T18:11:19.891Z"
   },
   {
    "duration": 44,
    "start_time": "2023-10-28T18:11:19.898Z"
   },
   {
    "duration": 3,
    "start_time": "2023-10-28T18:11:19.943Z"
   },
   {
    "duration": 3,
    "start_time": "2023-10-28T18:11:19.948Z"
   },
   {
    "duration": 3,
    "start_time": "2023-10-28T18:11:19.952Z"
   },
   {
    "duration": 5,
    "start_time": "2023-10-28T18:11:19.956Z"
   },
   {
    "duration": 5,
    "start_time": "2023-10-28T18:11:19.962Z"
   },
   {
    "duration": 6,
    "start_time": "2023-10-28T18:11:19.968Z"
   },
   {
    "duration": 8,
    "start_time": "2023-10-28T18:11:19.976Z"
   },
   {
    "duration": 5,
    "start_time": "2023-10-28T18:11:19.986Z"
   },
   {
    "duration": 48,
    "start_time": "2023-10-28T18:11:19.993Z"
   },
   {
    "duration": 9,
    "start_time": "2023-10-28T18:11:20.042Z"
   },
   {
    "duration": 7,
    "start_time": "2023-10-28T18:11:20.053Z"
   },
   {
    "duration": 9,
    "start_time": "2023-10-28T18:11:20.061Z"
   },
   {
    "duration": 11,
    "start_time": "2023-10-28T18:11:20.071Z"
   },
   {
    "duration": 4,
    "start_time": "2023-10-28T18:11:20.084Z"
   },
   {
    "duration": 5,
    "start_time": "2023-10-28T18:11:20.089Z"
   },
   {
    "duration": 45,
    "start_time": "2023-10-28T18:11:20.095Z"
   },
   {
    "duration": 5,
    "start_time": "2023-10-28T18:11:20.141Z"
   },
   {
    "duration": 9,
    "start_time": "2023-10-28T18:11:20.148Z"
   },
   {
    "duration": 5,
    "start_time": "2023-10-28T18:11:20.158Z"
   },
   {
    "duration": 5,
    "start_time": "2023-10-28T18:11:20.167Z"
   },
   {
    "duration": 10,
    "start_time": "2023-10-28T18:11:20.173Z"
   },
   {
    "duration": 12,
    "start_time": "2023-10-28T18:11:20.184Z"
   },
   {
    "duration": 4,
    "start_time": "2023-10-28T18:11:20.198Z"
   },
   {
    "duration": 40,
    "start_time": "2023-10-28T18:11:20.203Z"
   },
   {
    "duration": 12,
    "start_time": "2023-10-28T18:11:20.245Z"
   },
   {
    "duration": 10,
    "start_time": "2023-10-28T18:11:20.259Z"
   },
   {
    "duration": 9,
    "start_time": "2023-10-28T18:11:20.271Z"
   },
   {
    "duration": 272,
    "start_time": "2023-10-28T18:11:20.281Z"
   },
   {
    "duration": 7,
    "start_time": "2023-10-28T18:11:20.554Z"
   },
   {
    "duration": 11,
    "start_time": "2023-10-28T18:11:20.563Z"
   },
   {
    "duration": 9,
    "start_time": "2023-10-28T18:11:20.576Z"
   },
   {
    "duration": 7,
    "start_time": "2023-10-28T18:11:20.587Z"
   },
   {
    "duration": 12,
    "start_time": "2023-10-28T18:11:20.596Z"
   },
   {
    "duration": 7,
    "start_time": "2023-10-28T18:11:20.642Z"
   },
   {
    "duration": 142,
    "start_time": "2023-10-28T18:11:20.651Z"
   },
   {
    "duration": 154,
    "start_time": "2023-10-28T18:11:20.795Z"
   },
   {
    "duration": 152,
    "start_time": "2023-10-28T18:11:20.951Z"
   },
   {
    "duration": 15,
    "start_time": "2023-10-28T18:11:21.105Z"
   },
   {
    "duration": 20,
    "start_time": "2023-10-28T18:11:21.122Z"
   },
   {
    "duration": 233,
    "start_time": "2023-10-28T18:11:21.144Z"
   },
   {
    "duration": 168,
    "start_time": "2023-10-28T18:11:21.379Z"
   },
   {
    "duration": 219,
    "start_time": "2023-10-28T18:11:21.549Z"
   },
   {
    "duration": 10,
    "start_time": "2023-10-28T18:11:21.770Z"
   },
   {
    "duration": 186,
    "start_time": "2023-10-28T18:11:21.781Z"
   },
   {
    "duration": 7,
    "start_time": "2023-10-28T18:11:21.969Z"
   },
   {
    "duration": 7,
    "start_time": "2023-10-28T18:11:21.977Z"
   },
   {
    "duration": 161,
    "start_time": "2023-10-28T18:11:21.985Z"
   },
   {
    "duration": 155,
    "start_time": "2023-10-28T18:11:22.147Z"
   },
   {
    "duration": 144,
    "start_time": "2023-10-28T18:11:22.303Z"
   },
   {
    "duration": 165,
    "start_time": "2023-10-28T18:11:22.449Z"
   },
   {
    "duration": 8,
    "start_time": "2023-10-28T18:11:22.616Z"
   },
   {
    "duration": 23,
    "start_time": "2023-10-28T18:11:22.626Z"
   },
   {
    "duration": 173,
    "start_time": "2023-10-28T18:11:22.651Z"
   },
   {
    "duration": 133,
    "start_time": "2023-10-28T18:11:22.826Z"
   },
   {
    "duration": 140,
    "start_time": "2023-10-28T18:11:22.960Z"
   },
   {
    "duration": 7,
    "start_time": "2023-10-28T18:11:23.102Z"
   },
   {
    "duration": 7,
    "start_time": "2023-10-28T18:11:23.111Z"
   },
   {
    "duration": 141,
    "start_time": "2023-10-28T18:11:23.119Z"
   },
   {
    "duration": 11,
    "start_time": "2023-10-28T18:11:23.262Z"
   },
   {
    "duration": 204,
    "start_time": "2023-10-28T18:11:23.275Z"
   },
   {
    "duration": 137,
    "start_time": "2023-10-28T18:11:23.480Z"
   },
   {
    "duration": 4,
    "start_time": "2023-10-28T18:11:23.618Z"
   },
   {
    "duration": 125,
    "start_time": "2023-10-28T18:11:23.624Z"
   },
   {
    "duration": 123,
    "start_time": "2023-10-28T18:11:23.751Z"
   },
   {
    "duration": 135,
    "start_time": "2023-10-28T18:11:23.875Z"
   },
   {
    "duration": 117,
    "start_time": "2023-10-28T18:11:24.012Z"
   },
   {
    "duration": 177,
    "start_time": "2023-10-28T18:11:24.131Z"
   },
   {
    "duration": 185,
    "start_time": "2023-10-28T18:11:24.310Z"
   },
   {
    "duration": 176,
    "start_time": "2023-10-28T18:11:24.497Z"
   },
   {
    "duration": 149,
    "start_time": "2023-10-28T18:11:24.675Z"
   },
   {
    "duration": 141,
    "start_time": "2023-10-28T18:11:24.826Z"
   },
   {
    "duration": 187,
    "start_time": "2023-10-28T18:11:24.969Z"
   },
   {
    "duration": 7,
    "start_time": "2023-10-28T18:11:25.157Z"
   },
   {
    "duration": 226,
    "start_time": "2023-10-28T18:11:25.169Z"
   },
   {
    "duration": 190,
    "start_time": "2023-10-28T18:11:25.396Z"
   },
   {
    "duration": 242,
    "start_time": "2023-10-28T18:11:25.588Z"
   },
   {
    "duration": 148,
    "start_time": "2023-10-28T18:11:25.831Z"
   },
   {
    "duration": 166,
    "start_time": "2023-10-28T18:11:25.981Z"
   },
   {
    "duration": 28,
    "start_time": "2023-10-28T18:11:26.149Z"
   },
   {
    "duration": 170,
    "start_time": "2023-10-28T18:11:26.178Z"
   },
   {
    "duration": 147,
    "start_time": "2023-10-28T18:11:26.350Z"
   },
   {
    "duration": 2,
    "start_time": "2023-10-28T18:11:26.498Z"
   },
   {
    "duration": 50,
    "start_time": "2023-10-28T18:11:26.502Z"
   },
   {
    "duration": 3,
    "start_time": "2023-10-28T18:11:26.554Z"
   },
   {
    "duration": 160,
    "start_time": "2023-10-28T18:11:26.559Z"
   },
   {
    "duration": 20,
    "start_time": "2023-10-28T18:12:07.006Z"
   },
   {
    "duration": 14,
    "start_time": "2023-10-28T18:13:06.607Z"
   },
   {
    "duration": 3,
    "start_time": "2023-10-28T18:15:46.389Z"
   },
   {
    "duration": 76,
    "start_time": "2023-10-28T18:31:41.142Z"
   },
   {
    "duration": 141,
    "start_time": "2023-10-28T18:32:57.727Z"
   },
   {
    "duration": 78,
    "start_time": "2023-10-28T18:36:39.652Z"
   },
   {
    "duration": 1507,
    "start_time": "2023-10-28T18:36:51.907Z"
   },
   {
    "duration": 129,
    "start_time": "2023-10-28T18:37:15.422Z"
   },
   {
    "duration": 172,
    "start_time": "2023-10-28T18:40:44.219Z"
   },
   {
    "duration": 9,
    "start_time": "2023-10-28T18:43:42.533Z"
   },
   {
    "duration": 10,
    "start_time": "2023-10-28T18:44:22.179Z"
   },
   {
    "duration": 176,
    "start_time": "2023-10-28T18:50:45.019Z"
   },
   {
    "duration": 175,
    "start_time": "2023-10-28T18:51:01.301Z"
   },
   {
    "duration": 154,
    "start_time": "2023-10-28T18:53:41.465Z"
   },
   {
    "duration": 231,
    "start_time": "2023-10-28T18:53:50.721Z"
   },
   {
    "duration": 159,
    "start_time": "2023-10-28T18:54:14.104Z"
   },
   {
    "duration": 161,
    "start_time": "2023-10-28T18:54:35.993Z"
   },
   {
    "duration": 155,
    "start_time": "2023-10-28T18:57:00.258Z"
   },
   {
    "duration": 151,
    "start_time": "2023-10-28T18:57:32.791Z"
   },
   {
    "duration": 135,
    "start_time": "2023-10-28T18:57:43.357Z"
   },
   {
    "duration": 152,
    "start_time": "2023-10-28T18:57:54.273Z"
   },
   {
    "duration": 153,
    "start_time": "2023-10-28T18:58:01.690Z"
   },
   {
    "duration": 160,
    "start_time": "2023-10-28T18:58:17.119Z"
   },
   {
    "duration": 3,
    "start_time": "2023-10-28T18:58:55.752Z"
   },
   {
    "duration": 153,
    "start_time": "2023-10-28T18:59:04.645Z"
   },
   {
    "duration": 203,
    "start_time": "2023-10-28T19:04:01.607Z"
   },
   {
    "duration": 77,
    "start_time": "2023-10-28T19:04:13.585Z"
   },
   {
    "duration": 155,
    "start_time": "2023-10-28T19:04:18.573Z"
   },
   {
    "duration": 172,
    "start_time": "2023-10-28T19:04:26.476Z"
   },
   {
    "duration": 271,
    "start_time": "2023-10-28T19:04:37.837Z"
   },
   {
    "duration": 173,
    "start_time": "2023-10-28T19:04:44.631Z"
   },
   {
    "duration": 171,
    "start_time": "2023-10-28T19:05:43.581Z"
   },
   {
    "duration": 169,
    "start_time": "2023-10-28T19:05:56.517Z"
   },
   {
    "duration": 164,
    "start_time": "2023-10-28T19:06:07.987Z"
   },
   {
    "duration": 159,
    "start_time": "2023-10-28T19:06:38.435Z"
   },
   {
    "duration": 168,
    "start_time": "2023-10-28T19:06:53.038Z"
   },
   {
    "duration": 146,
    "start_time": "2023-10-28T19:07:05.690Z"
   },
   {
    "duration": 187,
    "start_time": "2023-10-28T19:08:32.369Z"
   },
   {
    "duration": 159,
    "start_time": "2023-10-28T19:08:40.562Z"
   },
   {
    "duration": 164,
    "start_time": "2023-10-28T19:09:44.371Z"
   },
   {
    "duration": 174,
    "start_time": "2023-10-28T19:12:04.632Z"
   },
   {
    "duration": 192,
    "start_time": "2023-10-28T19:13:02.017Z"
   },
   {
    "duration": 204,
    "start_time": "2023-10-28T19:13:18.402Z"
   },
   {
    "duration": 189,
    "start_time": "2023-10-28T19:13:50.627Z"
   },
   {
    "duration": 342,
    "start_time": "2023-10-28T19:15:13.707Z"
   },
   {
    "duration": 205,
    "start_time": "2023-10-28T19:15:27.363Z"
   },
   {
    "duration": 196,
    "start_time": "2023-10-28T19:16:21.262Z"
   },
   {
    "duration": 218,
    "start_time": "2023-10-28T19:16:32.496Z"
   },
   {
    "duration": 214,
    "start_time": "2023-10-28T19:16:46.221Z"
   },
   {
    "duration": 198,
    "start_time": "2023-10-28T19:19:46.155Z"
   },
   {
    "duration": 172,
    "start_time": "2023-10-28T19:19:56.492Z"
   },
   {
    "duration": 150,
    "start_time": "2023-10-28T19:21:15.034Z"
   },
   {
    "duration": 204,
    "start_time": "2023-10-28T19:26:49.795Z"
   },
   {
    "duration": 106,
    "start_time": "2023-10-28T19:29:44.575Z"
   },
   {
    "duration": 75,
    "start_time": "2023-10-28T19:31:29.019Z"
   },
   {
    "duration": 188,
    "start_time": "2023-10-28T19:31:34.719Z"
   },
   {
    "duration": 201,
    "start_time": "2023-10-28T19:32:33.165Z"
   },
   {
    "duration": 227,
    "start_time": "2023-10-28T19:42:19.476Z"
   },
   {
    "duration": 76,
    "start_time": "2023-10-28T19:43:06.786Z"
   },
   {
    "duration": 369,
    "start_time": "2023-10-28T19:43:52.094Z"
   },
   {
    "duration": 178,
    "start_time": "2023-10-28T19:43:59.023Z"
   },
   {
    "duration": 197,
    "start_time": "2023-10-28T19:44:09.550Z"
   },
   {
    "duration": 198,
    "start_time": "2023-10-28T19:44:44.869Z"
   },
   {
    "duration": 176,
    "start_time": "2023-10-28T19:45:52.531Z"
   },
   {
    "duration": 126,
    "start_time": "2023-10-28T19:45:59.967Z"
   },
   {
    "duration": 120,
    "start_time": "2023-10-28T19:46:05.880Z"
   },
   {
    "duration": 127,
    "start_time": "2023-10-28T19:46:20.794Z"
   },
   {
    "duration": 141,
    "start_time": "2023-10-28T19:46:28.218Z"
   },
   {
    "duration": 170,
    "start_time": "2023-10-28T19:47:35.174Z"
   },
   {
    "duration": 160,
    "start_time": "2023-10-28T19:47:58.579Z"
   },
   {
    "duration": 181,
    "start_time": "2023-10-28T19:48:07.315Z"
   },
   {
    "duration": 187,
    "start_time": "2023-10-28T19:48:40.302Z"
   },
   {
    "duration": 177,
    "start_time": "2023-10-28T19:49:24.339Z"
   },
   {
    "duration": 183,
    "start_time": "2023-10-28T19:50:01.350Z"
   },
   {
    "duration": 176,
    "start_time": "2023-10-28T19:53:31.920Z"
   },
   {
    "duration": 156,
    "start_time": "2023-10-28T19:53:51.501Z"
   },
   {
    "duration": 162,
    "start_time": "2023-10-28T19:55:21.771Z"
   },
   {
    "duration": 154,
    "start_time": "2023-10-28T19:55:56.705Z"
   },
   {
    "duration": 147,
    "start_time": "2023-10-28T19:56:27.227Z"
   },
   {
    "duration": 133,
    "start_time": "2023-10-28T19:56:34.016Z"
   },
   {
    "duration": 167,
    "start_time": "2023-10-28T19:57:56.968Z"
   },
   {
    "duration": 149,
    "start_time": "2023-10-28T19:59:59.084Z"
   },
   {
    "duration": 369,
    "start_time": "2023-10-28T20:02:46.505Z"
   },
   {
    "duration": 163,
    "start_time": "2023-10-28T20:03:09.425Z"
   },
   {
    "duration": 146,
    "start_time": "2023-10-28T20:03:23.774Z"
   },
   {
    "duration": 147,
    "start_time": "2023-10-28T20:03:44.390Z"
   },
   {
    "duration": 166,
    "start_time": "2023-10-28T20:03:54.937Z"
   },
   {
    "duration": 135,
    "start_time": "2023-10-28T20:05:49.970Z"
   },
   {
    "duration": 108,
    "start_time": "2023-10-28T20:06:18.259Z"
   },
   {
    "duration": 112,
    "start_time": "2023-10-28T20:06:25.751Z"
   },
   {
    "duration": 5,
    "start_time": "2023-10-28T20:06:33.344Z"
   },
   {
    "duration": 116,
    "start_time": "2023-10-28T20:06:41.154Z"
   },
   {
    "duration": 3,
    "start_time": "2023-10-28T20:06:55.828Z"
   },
   {
    "duration": 157,
    "start_time": "2023-10-28T20:07:02.956Z"
   },
   {
    "duration": 148,
    "start_time": "2023-10-28T20:09:17.749Z"
   },
   {
    "duration": 151,
    "start_time": "2023-10-28T20:09:36.120Z"
   },
   {
    "duration": 140,
    "start_time": "2023-10-28T20:09:43.279Z"
   },
   {
    "duration": 154,
    "start_time": "2023-10-28T20:09:57.947Z"
   },
   {
    "duration": 156,
    "start_time": "2023-10-28T20:13:06.365Z"
   },
   {
    "duration": 150,
    "start_time": "2023-10-28T20:13:38.073Z"
   },
   {
    "duration": 147,
    "start_time": "2023-10-28T20:13:45.704Z"
   },
   {
    "duration": 113,
    "start_time": "2023-10-28T20:14:40.468Z"
   },
   {
    "duration": 115,
    "start_time": "2023-10-28T20:14:48.482Z"
   },
   {
    "duration": 121,
    "start_time": "2023-10-28T20:15:35.277Z"
   },
   {
    "duration": 135,
    "start_time": "2023-10-28T20:15:58.613Z"
   },
   {
    "duration": 139,
    "start_time": "2023-10-28T20:16:24.859Z"
   },
   {
    "duration": 124,
    "start_time": "2023-10-28T20:17:07.397Z"
   },
   {
    "duration": 141,
    "start_time": "2023-10-28T20:17:58.550Z"
   },
   {
    "duration": 118,
    "start_time": "2023-10-28T20:20:18.001Z"
   },
   {
    "duration": 152,
    "start_time": "2023-10-28T20:20:55.706Z"
   },
   {
    "duration": 148,
    "start_time": "2023-10-28T20:22:02.921Z"
   },
   {
    "duration": 124,
    "start_time": "2023-10-28T20:24:46.661Z"
   },
   {
    "duration": 139,
    "start_time": "2023-10-28T20:25:19.200Z"
   },
   {
    "duration": 116,
    "start_time": "2023-10-28T20:26:21.634Z"
   },
   {
    "duration": 8,
    "start_time": "2023-10-28T20:26:29.011Z"
   },
   {
    "duration": 124,
    "start_time": "2023-10-28T20:27:32.386Z"
   },
   {
    "duration": 120,
    "start_time": "2023-10-28T20:30:19.035Z"
   },
   {
    "duration": 118,
    "start_time": "2023-10-28T20:32:23.694Z"
   },
   {
    "duration": 117,
    "start_time": "2023-10-28T20:32:30.894Z"
   },
   {
    "duration": 121,
    "start_time": "2023-10-28T20:32:46.192Z"
   },
   {
    "duration": 143,
    "start_time": "2023-10-28T20:33:14.338Z"
   },
   {
    "duration": 204,
    "start_time": "2023-10-28T20:34:42.489Z"
   },
   {
    "duration": 17,
    "start_time": "2023-10-28T20:35:02.209Z"
   },
   {
    "duration": 185,
    "start_time": "2023-10-28T20:35:13.724Z"
   },
   {
    "duration": 174,
    "start_time": "2023-10-28T20:36:46.529Z"
   },
   {
    "duration": 173,
    "start_time": "2023-10-28T20:37:44.306Z"
   },
   {
    "duration": 11,
    "start_time": "2023-10-28T20:38:07.069Z"
   },
   {
    "duration": 167,
    "start_time": "2023-10-28T20:38:19.154Z"
   },
   {
    "duration": 175,
    "start_time": "2023-10-28T20:40:52.732Z"
   },
   {
    "duration": 417,
    "start_time": "2023-10-28T20:41:24.581Z"
   },
   {
    "duration": 159,
    "start_time": "2023-10-28T20:42:59.924Z"
   },
   {
    "duration": 145,
    "start_time": "2023-10-28T20:43:15.733Z"
   },
   {
    "duration": 149,
    "start_time": "2023-10-28T20:44:26.343Z"
   },
   {
    "duration": 147,
    "start_time": "2023-10-28T20:44:45.466Z"
   },
   {
    "duration": 171,
    "start_time": "2023-10-28T20:45:05.452Z"
   },
   {
    "duration": 161,
    "start_time": "2023-10-28T20:45:17.350Z"
   },
   {
    "duration": 165,
    "start_time": "2023-10-28T20:45:43.313Z"
   },
   {
    "duration": 173,
    "start_time": "2023-10-28T20:47:04.820Z"
   },
   {
    "duration": 171,
    "start_time": "2023-10-28T20:47:31.467Z"
   },
   {
    "duration": 183,
    "start_time": "2023-10-28T20:47:36.329Z"
   },
   {
    "duration": 169,
    "start_time": "2023-10-28T20:47:40.080Z"
   },
   {
    "duration": 175,
    "start_time": "2023-10-28T20:47:51.248Z"
   },
   {
    "duration": 149,
    "start_time": "2023-10-28T20:48:10.619Z"
   },
   {
    "duration": 135,
    "start_time": "2023-10-28T20:48:19.479Z"
   },
   {
    "duration": 133,
    "start_time": "2023-10-28T20:48:36.188Z"
   },
   {
    "duration": 150,
    "start_time": "2023-10-28T20:48:39.974Z"
   },
   {
    "duration": 170,
    "start_time": "2023-10-28T20:49:12.495Z"
   },
   {
    "duration": 147,
    "start_time": "2023-10-28T20:49:20.489Z"
   },
   {
    "duration": 129,
    "start_time": "2023-10-28T20:49:47.769Z"
   },
   {
    "duration": 161,
    "start_time": "2023-10-28T20:50:19.094Z"
   },
   {
    "duration": 143,
    "start_time": "2023-10-28T20:51:22.160Z"
   },
   {
    "duration": 148,
    "start_time": "2023-10-28T20:51:33.798Z"
   },
   {
    "duration": 147,
    "start_time": "2023-10-28T20:51:58.903Z"
   },
   {
    "duration": 183,
    "start_time": "2023-10-28T20:53:40.459Z"
   },
   {
    "duration": 131,
    "start_time": "2023-10-28T20:54:18.044Z"
   },
   {
    "duration": 151,
    "start_time": "2023-10-28T20:54:30.347Z"
   },
   {
    "duration": 144,
    "start_time": "2023-10-28T20:55:53.989Z"
   },
   {
    "duration": 143,
    "start_time": "2023-10-28T20:56:15.434Z"
   },
   {
    "duration": 144,
    "start_time": "2023-10-28T20:56:57.413Z"
   },
   {
    "duration": 4,
    "start_time": "2023-10-28T21:10:01.897Z"
   },
   {
    "duration": 4,
    "start_time": "2023-10-28T21:28:55.468Z"
   },
   {
    "duration": 6,
    "start_time": "2023-10-28T21:30:28.347Z"
   },
   {
    "duration": 4,
    "start_time": "2023-10-28T21:33:50.121Z"
   },
   {
    "duration": 4,
    "start_time": "2023-10-28T21:35:16.757Z"
   },
   {
    "duration": 4,
    "start_time": "2023-10-28T21:39:55.654Z"
   },
   {
    "duration": 85,
    "start_time": "2023-10-28T21:40:45.172Z"
   },
   {
    "duration": 93,
    "start_time": "2023-10-28T21:40:54.824Z"
   },
   {
    "duration": 72,
    "start_time": "2023-10-28T21:40:58.049Z"
   },
   {
    "duration": 5,
    "start_time": "2023-10-28T21:43:22.026Z"
   },
   {
    "duration": 105,
    "start_time": "2023-10-28T21:44:01.506Z"
   },
   {
    "duration": 124,
    "start_time": "2023-10-28T21:47:42.168Z"
   },
   {
    "duration": 116,
    "start_time": "2023-10-28T21:47:50.248Z"
   },
   {
    "duration": 4,
    "start_time": "2023-10-28T21:48:36.457Z"
   },
   {
    "duration": 75,
    "start_time": "2023-10-28T21:53:34.878Z"
   },
   {
    "duration": 4,
    "start_time": "2023-10-28T21:53:55.169Z"
   },
   {
    "duration": 231,
    "start_time": "2023-10-28T22:21:52.441Z"
   },
   {
    "duration": 188,
    "start_time": "2023-10-28T22:22:06.421Z"
   },
   {
    "duration": 46,
    "start_time": "2023-10-29T06:43:35.990Z"
   },
   {
    "duration": 827,
    "start_time": "2023-10-29T06:43:40.546Z"
   },
   {
    "duration": 1951,
    "start_time": "2023-10-29T06:43:41.375Z"
   },
   {
    "duration": 33,
    "start_time": "2023-10-29T06:43:43.327Z"
   },
   {
    "duration": 27,
    "start_time": "2023-10-29T06:43:43.362Z"
   },
   {
    "duration": 5,
    "start_time": "2023-10-29T06:43:43.391Z"
   },
   {
    "duration": 22,
    "start_time": "2023-10-29T06:43:43.397Z"
   },
   {
    "duration": 5,
    "start_time": "2023-10-29T06:43:43.420Z"
   },
   {
    "duration": 24,
    "start_time": "2023-10-29T06:43:43.426Z"
   },
   {
    "duration": 2,
    "start_time": "2023-10-29T06:43:43.451Z"
   },
   {
    "duration": 10,
    "start_time": "2023-10-29T06:43:43.456Z"
   },
   {
    "duration": 15,
    "start_time": "2023-10-29T06:43:43.468Z"
   },
   {
    "duration": 7,
    "start_time": "2023-10-29T06:43:43.484Z"
   },
   {
    "duration": 14,
    "start_time": "2023-10-29T06:43:43.492Z"
   },
   {
    "duration": 15,
    "start_time": "2023-10-29T06:43:43.507Z"
   },
   {
    "duration": 15,
    "start_time": "2023-10-29T06:43:43.523Z"
   },
   {
    "duration": 8,
    "start_time": "2023-10-29T06:43:43.540Z"
   },
   {
    "duration": 5,
    "start_time": "2023-10-29T06:43:43.549Z"
   },
   {
    "duration": 12,
    "start_time": "2023-10-29T06:43:43.556Z"
   },
   {
    "duration": 15,
    "start_time": "2023-10-29T06:43:43.569Z"
   },
   {
    "duration": 12,
    "start_time": "2023-10-29T06:43:43.586Z"
   },
   {
    "duration": 24,
    "start_time": "2023-10-29T06:43:43.599Z"
   },
   {
    "duration": 9,
    "start_time": "2023-10-29T06:43:43.625Z"
   },
   {
    "duration": 12,
    "start_time": "2023-10-29T06:43:43.636Z"
   },
   {
    "duration": 19,
    "start_time": "2023-10-29T06:43:43.649Z"
   },
   {
    "duration": 27,
    "start_time": "2023-10-29T06:43:43.669Z"
   },
   {
    "duration": 19,
    "start_time": "2023-10-29T06:43:43.698Z"
   },
   {
    "duration": 8,
    "start_time": "2023-10-29T06:43:43.718Z"
   },
   {
    "duration": 5,
    "start_time": "2023-10-29T06:43:43.730Z"
   },
   {
    "duration": 21,
    "start_time": "2023-10-29T06:43:43.737Z"
   },
   {
    "duration": 10,
    "start_time": "2023-10-29T06:43:43.759Z"
   },
   {
    "duration": 5,
    "start_time": "2023-10-29T06:43:43.770Z"
   },
   {
    "duration": 7,
    "start_time": "2023-10-29T06:43:43.777Z"
   },
   {
    "duration": 13,
    "start_time": "2023-10-29T06:43:43.785Z"
   },
   {
    "duration": 10,
    "start_time": "2023-10-29T06:43:43.800Z"
   },
   {
    "duration": 5,
    "start_time": "2023-10-29T06:43:43.811Z"
   },
   {
    "duration": 270,
    "start_time": "2023-10-29T06:43:43.817Z"
   },
   {
    "duration": 9,
    "start_time": "2023-10-29T06:43:44.089Z"
   },
   {
    "duration": 12,
    "start_time": "2023-10-29T06:43:44.100Z"
   },
   {
    "duration": 31,
    "start_time": "2023-10-29T06:43:44.114Z"
   },
   {
    "duration": 10,
    "start_time": "2023-10-29T06:43:44.147Z"
   },
   {
    "duration": 24,
    "start_time": "2023-10-29T06:43:44.159Z"
   },
   {
    "duration": 18,
    "start_time": "2023-10-29T06:43:44.186Z"
   },
   {
    "duration": 190,
    "start_time": "2023-10-29T06:43:44.206Z"
   },
   {
    "duration": 189,
    "start_time": "2023-10-29T06:43:44.398Z"
   },
   {
    "duration": 194,
    "start_time": "2023-10-29T06:43:44.588Z"
   },
   {
    "duration": 18,
    "start_time": "2023-10-29T06:43:44.784Z"
   },
   {
    "duration": 7,
    "start_time": "2023-10-29T06:43:44.804Z"
   },
   {
    "duration": 216,
    "start_time": "2023-10-29T06:43:44.812Z"
   },
   {
    "duration": 214,
    "start_time": "2023-10-29T06:43:45.030Z"
   },
   {
    "duration": 257,
    "start_time": "2023-10-29T06:43:45.246Z"
   },
   {
    "duration": 11,
    "start_time": "2023-10-29T06:43:45.505Z"
   },
   {
    "duration": 221,
    "start_time": "2023-10-29T06:43:45.517Z"
   },
   {
    "duration": 8,
    "start_time": "2023-10-29T06:43:45.743Z"
   },
   {
    "duration": 21,
    "start_time": "2023-10-29T06:43:45.752Z"
   },
   {
    "duration": 194,
    "start_time": "2023-10-29T06:43:45.775Z"
   },
   {
    "duration": 188,
    "start_time": "2023-10-29T06:43:45.970Z"
   },
   {
    "duration": 180,
    "start_time": "2023-10-29T06:43:46.160Z"
   },
   {
    "duration": 174,
    "start_time": "2023-10-29T06:43:46.344Z"
   },
   {
    "duration": 7,
    "start_time": "2023-10-29T06:43:46.520Z"
   },
   {
    "duration": 22,
    "start_time": "2023-10-29T06:43:46.528Z"
   },
   {
    "duration": 160,
    "start_time": "2023-10-29T06:43:46.552Z"
   },
   {
    "duration": 152,
    "start_time": "2023-10-29T06:43:46.714Z"
   },
   {
    "duration": 181,
    "start_time": "2023-10-29T06:43:46.868Z"
   },
   {
    "duration": 7,
    "start_time": "2023-10-29T06:43:47.051Z"
   },
   {
    "duration": 9,
    "start_time": "2023-10-29T06:43:47.060Z"
   },
   {
    "duration": 179,
    "start_time": "2023-10-29T06:43:47.071Z"
   },
   {
    "duration": 12,
    "start_time": "2023-10-29T06:43:47.252Z"
   },
   {
    "duration": 279,
    "start_time": "2023-10-29T06:43:47.265Z"
   },
   {
    "duration": 170,
    "start_time": "2023-10-29T06:43:47.545Z"
   },
   {
    "duration": 5,
    "start_time": "2023-10-29T06:43:47.717Z"
   },
   {
    "duration": 163,
    "start_time": "2023-10-29T06:43:47.723Z"
   },
   {
    "duration": 151,
    "start_time": "2023-10-29T06:43:47.888Z"
   },
   {
    "duration": 166,
    "start_time": "2023-10-29T06:43:48.040Z"
   },
   {
    "duration": 148,
    "start_time": "2023-10-29T06:43:48.208Z"
   },
   {
    "duration": 201,
    "start_time": "2023-10-29T06:43:48.358Z"
   },
   {
    "duration": 198,
    "start_time": "2023-10-29T06:43:48.561Z"
   },
   {
    "duration": 4,
    "start_time": "2023-10-29T06:43:48.761Z"
   },
   {
    "duration": 207,
    "start_time": "2023-10-29T06:43:48.766Z"
   },
   {
    "duration": 182,
    "start_time": "2023-10-29T06:43:48.974Z"
   },
   {
    "duration": 4,
    "start_time": "2023-10-29T06:43:49.158Z"
   },
   {
    "duration": 175,
    "start_time": "2023-10-29T06:43:49.164Z"
   },
   {
    "duration": 200,
    "start_time": "2023-10-29T06:43:49.344Z"
   },
   {
    "duration": 7,
    "start_time": "2023-10-29T06:43:49.546Z"
   },
   {
    "duration": 223,
    "start_time": "2023-10-29T06:43:49.555Z"
   },
   {
    "duration": 5,
    "start_time": "2023-10-29T06:43:49.779Z"
   },
   {
    "duration": 188,
    "start_time": "2023-10-29T06:43:49.785Z"
   },
   {
    "duration": 4,
    "start_time": "2023-10-29T06:43:49.975Z"
   },
   {
    "duration": 283,
    "start_time": "2023-10-29T06:43:49.981Z"
   },
   {
    "duration": 186,
    "start_time": "2023-10-29T06:43:50.266Z"
   },
   {
    "duration": 4,
    "start_time": "2023-10-29T06:43:50.454Z"
   },
   {
    "duration": 185,
    "start_time": "2023-10-29T06:43:50.460Z"
   },
   {
    "duration": 5,
    "start_time": "2023-10-29T06:43:50.646Z"
   },
   {
    "duration": 81,
    "start_time": "2023-10-29T06:43:50.652Z"
   },
   {
    "duration": 174,
    "start_time": "2023-10-29T06:43:50.734Z"
   },
   {
    "duration": 162,
    "start_time": "2023-10-29T06:43:50.910Z"
   },
   {
    "duration": 4,
    "start_time": "2023-10-29T06:43:51.074Z"
   },
   {
    "duration": 60,
    "start_time": "2023-10-29T06:43:51.080Z"
   },
   {
    "duration": 54,
    "start_time": "2023-10-29T06:43:51.141Z"
   },
   {
    "duration": 10,
    "start_time": "2023-10-29T06:43:51.196Z"
   },
   {
    "duration": 199,
    "start_time": "2023-10-29T06:43:51.207Z"
   },
   {
    "duration": 181,
    "start_time": "2023-10-29T06:44:12.012Z"
   },
   {
    "duration": 165,
    "start_time": "2023-10-29T06:44:26.562Z"
   },
   {
    "duration": 168,
    "start_time": "2023-10-29T06:45:59.196Z"
   },
   {
    "duration": 160,
    "start_time": "2023-10-29T06:46:14.274Z"
   },
   {
    "duration": 163,
    "start_time": "2023-10-29T06:46:26.395Z"
   },
   {
    "duration": 179,
    "start_time": "2023-10-29T06:46:44.280Z"
   },
   {
    "duration": 161,
    "start_time": "2023-10-29T06:48:25.499Z"
   },
   {
    "duration": 191,
    "start_time": "2023-10-29T06:57:00.113Z"
   },
   {
    "duration": 337,
    "start_time": "2023-10-29T06:57:10.548Z"
   },
   {
    "duration": 201,
    "start_time": "2023-10-29T07:00:09.661Z"
   },
   {
    "duration": 201,
    "start_time": "2023-10-29T07:03:21.484Z"
   },
   {
    "duration": 195,
    "start_time": "2023-10-29T07:03:45.880Z"
   },
   {
    "duration": 192,
    "start_time": "2023-10-29T07:04:00.721Z"
   },
   {
    "duration": 216,
    "start_time": "2023-10-29T07:06:16.672Z"
   },
   {
    "duration": 206,
    "start_time": "2023-10-29T07:06:35.263Z"
   },
   {
    "duration": 195,
    "start_time": "2023-10-29T07:09:16.873Z"
   },
   {
    "duration": 184,
    "start_time": "2023-10-29T07:09:45.093Z"
   },
   {
    "duration": 187,
    "start_time": "2023-10-29T07:10:45.432Z"
   },
   {
    "duration": 165,
    "start_time": "2023-10-29T07:11:00.374Z"
   },
   {
    "duration": 216,
    "start_time": "2023-10-29T07:15:28.510Z"
   },
   {
    "duration": 374,
    "start_time": "2023-10-29T07:15:48.145Z"
   },
   {
    "duration": 678,
    "start_time": "2023-10-29T07:15:57.437Z"
   },
   {
    "duration": 1986,
    "start_time": "2023-10-29T07:15:58.117Z"
   },
   {
    "duration": 40,
    "start_time": "2023-10-29T07:16:00.104Z"
   },
   {
    "duration": 30,
    "start_time": "2023-10-29T07:16:00.146Z"
   },
   {
    "duration": 16,
    "start_time": "2023-10-29T07:16:00.177Z"
   },
   {
    "duration": 26,
    "start_time": "2023-10-29T07:16:00.194Z"
   },
   {
    "duration": 43,
    "start_time": "2023-10-29T07:16:00.222Z"
   },
   {
    "duration": 32,
    "start_time": "2023-10-29T07:16:00.267Z"
   },
   {
    "duration": 40,
    "start_time": "2023-10-29T07:16:00.301Z"
   },
   {
    "duration": 62,
    "start_time": "2023-10-29T07:16:00.343Z"
   },
   {
    "duration": 59,
    "start_time": "2023-10-29T07:16:00.406Z"
   },
   {
    "duration": 130,
    "start_time": "2023-10-29T07:16:00.467Z"
   },
   {
    "duration": 142,
    "start_time": "2023-10-29T07:16:00.599Z"
   },
   {
    "duration": 128,
    "start_time": "2023-10-29T07:16:00.743Z"
   },
   {
    "duration": 84,
    "start_time": "2023-10-29T07:16:00.873Z"
   },
   {
    "duration": 62,
    "start_time": "2023-10-29T07:16:00.958Z"
   },
   {
    "duration": 49,
    "start_time": "2023-10-29T07:16:01.022Z"
   },
   {
    "duration": 144,
    "start_time": "2023-10-29T07:16:01.073Z"
   },
   {
    "duration": 197,
    "start_time": "2023-10-29T07:16:01.219Z"
   },
   {
    "duration": 86,
    "start_time": "2023-10-29T07:16:01.417Z"
   },
   {
    "duration": 38,
    "start_time": "2023-10-29T07:16:01.504Z"
   },
   {
    "duration": 41,
    "start_time": "2023-10-29T07:16:01.544Z"
   },
   {
    "duration": 59,
    "start_time": "2023-10-29T07:16:01.587Z"
   },
   {
    "duration": 33,
    "start_time": "2023-10-29T07:16:01.648Z"
   },
   {
    "duration": 48,
    "start_time": "2023-10-29T07:16:01.683Z"
   },
   {
    "duration": 51,
    "start_time": "2023-10-29T07:16:01.733Z"
   },
   {
    "duration": 23,
    "start_time": "2023-10-29T07:16:01.786Z"
   },
   {
    "duration": 33,
    "start_time": "2023-10-29T07:16:01.813Z"
   },
   {
    "duration": 43,
    "start_time": "2023-10-29T07:16:01.847Z"
   },
   {
    "duration": 34,
    "start_time": "2023-10-29T07:16:01.892Z"
   },
   {
    "duration": 29,
    "start_time": "2023-10-29T07:16:01.927Z"
   },
   {
    "duration": 36,
    "start_time": "2023-10-29T07:16:01.958Z"
   },
   {
    "duration": 144,
    "start_time": "2023-10-29T07:16:01.996Z"
   },
   {
    "duration": 130,
    "start_time": "2023-10-29T07:16:02.142Z"
   },
   {
    "duration": 42,
    "start_time": "2023-10-29T07:16:02.273Z"
   },
   {
    "duration": 228,
    "start_time": "2023-10-29T07:16:02.317Z"
   },
   {
    "duration": 7,
    "start_time": "2023-10-29T07:16:02.547Z"
   },
   {
    "duration": 35,
    "start_time": "2023-10-29T07:16:02.555Z"
   },
   {
    "duration": 32,
    "start_time": "2023-10-29T07:16:02.592Z"
   },
   {
    "duration": 50,
    "start_time": "2023-10-29T07:16:02.625Z"
   },
   {
    "duration": 41,
    "start_time": "2023-10-29T07:16:02.677Z"
   },
   {
    "duration": 63,
    "start_time": "2023-10-29T07:16:02.719Z"
   },
   {
    "duration": 214,
    "start_time": "2023-10-29T07:16:02.783Z"
   },
   {
    "duration": 177,
    "start_time": "2023-10-29T07:16:02.999Z"
   },
   {
    "duration": 214,
    "start_time": "2023-10-29T07:16:03.178Z"
   },
   {
    "duration": 17,
    "start_time": "2023-10-29T07:16:03.393Z"
   },
   {
    "duration": 22,
    "start_time": "2023-10-29T07:16:03.411Z"
   },
   {
    "duration": 195,
    "start_time": "2023-10-29T07:16:03.435Z"
   },
   {
    "duration": 223,
    "start_time": "2023-10-29T07:16:03.632Z"
   },
   {
    "duration": 307,
    "start_time": "2023-10-29T07:16:03.857Z"
   },
   {
    "duration": 13,
    "start_time": "2023-10-29T07:16:04.167Z"
   },
   {
    "duration": 269,
    "start_time": "2023-10-29T07:16:04.182Z"
   },
   {
    "duration": 8,
    "start_time": "2023-10-29T07:16:04.452Z"
   },
   {
    "duration": 14,
    "start_time": "2023-10-29T07:16:04.462Z"
   },
   {
    "duration": 223,
    "start_time": "2023-10-29T07:16:04.477Z"
   },
   {
    "duration": 213,
    "start_time": "2023-10-29T07:16:04.703Z"
   },
   {
    "duration": 196,
    "start_time": "2023-10-29T07:16:04.918Z"
   },
   {
    "duration": 201,
    "start_time": "2023-10-29T07:16:05.117Z"
   },
   {
    "duration": 8,
    "start_time": "2023-10-29T07:16:05.321Z"
   },
   {
    "duration": 22,
    "start_time": "2023-10-29T07:16:05.331Z"
   },
   {
    "duration": 175,
    "start_time": "2023-10-29T07:16:05.354Z"
   },
   {
    "duration": 153,
    "start_time": "2023-10-29T07:16:05.530Z"
   },
   {
    "duration": 180,
    "start_time": "2023-10-29T07:16:05.685Z"
   },
   {
    "duration": 7,
    "start_time": "2023-10-29T07:16:05.866Z"
   },
   {
    "duration": 35,
    "start_time": "2023-10-29T07:16:05.875Z"
   },
   {
    "duration": 186,
    "start_time": "2023-10-29T07:16:05.912Z"
   },
   {
    "duration": 11,
    "start_time": "2023-10-29T07:16:06.100Z"
   },
   {
    "duration": 292,
    "start_time": "2023-10-29T07:16:06.113Z"
   },
   {
    "duration": 177,
    "start_time": "2023-10-29T07:16:06.407Z"
   },
   {
    "duration": 4,
    "start_time": "2023-10-29T07:16:06.586Z"
   },
   {
    "duration": 166,
    "start_time": "2023-10-29T07:16:06.591Z"
   },
   {
    "duration": 150,
    "start_time": "2023-10-29T07:16:06.758Z"
   },
   {
    "duration": 179,
    "start_time": "2023-10-29T07:16:06.910Z"
   },
   {
    "duration": 144,
    "start_time": "2023-10-29T07:16:07.091Z"
   },
   {
    "duration": 213,
    "start_time": "2023-10-29T07:16:07.245Z"
   },
   {
    "duration": 205,
    "start_time": "2023-10-29T07:16:07.460Z"
   },
   {
    "duration": 5,
    "start_time": "2023-10-29T07:16:07.667Z"
   },
   {
    "duration": 208,
    "start_time": "2023-10-29T07:16:07.673Z"
   },
   {
    "duration": 190,
    "start_time": "2023-10-29T07:16:07.883Z"
   },
   {
    "duration": 5,
    "start_time": "2023-10-29T07:16:08.075Z"
   },
   {
    "duration": 192,
    "start_time": "2023-10-29T07:16:08.081Z"
   },
   {
    "duration": 205,
    "start_time": "2023-10-29T07:16:08.279Z"
   },
   {
    "duration": 6,
    "start_time": "2023-10-29T07:16:08.486Z"
   },
   {
    "duration": 218,
    "start_time": "2023-10-29T07:16:08.494Z"
   },
   {
    "duration": 4,
    "start_time": "2023-10-29T07:16:08.714Z"
   },
   {
    "duration": 203,
    "start_time": "2023-10-29T07:16:08.720Z"
   },
   {
    "duration": 3,
    "start_time": "2023-10-29T07:16:08.925Z"
   },
   {
    "duration": 299,
    "start_time": "2023-10-29T07:16:08.930Z"
   },
   {
    "duration": 182,
    "start_time": "2023-10-29T07:16:09.231Z"
   },
   {
    "duration": 5,
    "start_time": "2023-10-29T07:16:09.415Z"
   },
   {
    "duration": 190,
    "start_time": "2023-10-29T07:16:09.421Z"
   },
   {
    "duration": 4,
    "start_time": "2023-10-29T07:16:09.613Z"
   },
   {
    "duration": 38,
    "start_time": "2023-10-29T07:16:09.618Z"
   },
   {
    "duration": 170,
    "start_time": "2023-10-29T07:16:09.658Z"
   },
   {
    "duration": 165,
    "start_time": "2023-10-29T07:16:09.830Z"
   },
   {
    "duration": 5,
    "start_time": "2023-10-29T07:16:09.996Z"
   },
   {
    "duration": 44,
    "start_time": "2023-10-29T07:16:10.002Z"
   },
   {
    "duration": 44,
    "start_time": "2023-10-29T07:16:10.048Z"
   },
   {
    "duration": 3,
    "start_time": "2023-10-29T07:16:10.093Z"
   },
   {
    "duration": 180,
    "start_time": "2023-10-29T07:16:10.098Z"
   },
   {
    "duration": 206,
    "start_time": "2023-10-29T07:16:52.693Z"
   },
   {
    "duration": 207,
    "start_time": "2023-10-29T07:17:18.603Z"
   },
   {
    "duration": 612,
    "start_time": "2023-10-29T07:17:27.792Z"
   },
   {
    "duration": 1948,
    "start_time": "2023-10-29T07:17:28.406Z"
   },
   {
    "duration": 26,
    "start_time": "2023-10-29T07:17:30.355Z"
   },
   {
    "duration": 66,
    "start_time": "2023-10-29T07:17:30.383Z"
   },
   {
    "duration": 24,
    "start_time": "2023-10-29T07:17:30.450Z"
   },
   {
    "duration": 42,
    "start_time": "2023-10-29T07:17:30.476Z"
   },
   {
    "duration": 53,
    "start_time": "2023-10-29T07:17:30.519Z"
   },
   {
    "duration": 45,
    "start_time": "2023-10-29T07:17:30.574Z"
   },
   {
    "duration": 77,
    "start_time": "2023-10-29T07:17:30.621Z"
   },
   {
    "duration": 65,
    "start_time": "2023-10-29T07:17:30.700Z"
   },
   {
    "duration": 53,
    "start_time": "2023-10-29T07:17:30.766Z"
   },
   {
    "duration": 83,
    "start_time": "2023-10-29T07:17:30.821Z"
   },
   {
    "duration": 75,
    "start_time": "2023-10-29T07:17:30.906Z"
   },
   {
    "duration": 74,
    "start_time": "2023-10-29T07:17:30.983Z"
   },
   {
    "duration": 50,
    "start_time": "2023-10-29T07:17:31.058Z"
   },
   {
    "duration": 76,
    "start_time": "2023-10-29T07:17:31.109Z"
   },
   {
    "duration": 49,
    "start_time": "2023-10-29T07:17:31.187Z"
   },
   {
    "duration": 68,
    "start_time": "2023-10-29T07:17:31.238Z"
   },
   {
    "duration": 49,
    "start_time": "2023-10-29T07:17:31.308Z"
   },
   {
    "duration": 140,
    "start_time": "2023-10-29T07:17:31.359Z"
   },
   {
    "duration": 38,
    "start_time": "2023-10-29T07:17:31.500Z"
   },
   {
    "duration": 45,
    "start_time": "2023-10-29T07:17:31.540Z"
   },
   {
    "duration": 24,
    "start_time": "2023-10-29T07:17:31.587Z"
   },
   {
    "duration": 24,
    "start_time": "2023-10-29T07:17:31.613Z"
   },
   {
    "duration": 46,
    "start_time": "2023-10-29T07:17:31.639Z"
   },
   {
    "duration": 67,
    "start_time": "2023-10-29T07:17:31.687Z"
   },
   {
    "duration": 21,
    "start_time": "2023-10-29T07:17:31.756Z"
   },
   {
    "duration": 15,
    "start_time": "2023-10-29T07:17:31.783Z"
   },
   {
    "duration": 18,
    "start_time": "2023-10-29T07:17:31.800Z"
   },
   {
    "duration": 137,
    "start_time": "2023-10-29T07:17:31.820Z"
   },
   {
    "duration": 81,
    "start_time": "2023-10-29T07:17:31.959Z"
   },
   {
    "duration": 58,
    "start_time": "2023-10-29T07:17:32.041Z"
   },
   {
    "duration": 55,
    "start_time": "2023-10-29T07:17:32.101Z"
   },
   {
    "duration": 119,
    "start_time": "2023-10-29T07:17:32.158Z"
   },
   {
    "duration": 39,
    "start_time": "2023-10-29T07:17:32.279Z"
   },
   {
    "duration": 282,
    "start_time": "2023-10-29T07:17:32.320Z"
   },
   {
    "duration": 7,
    "start_time": "2023-10-29T07:17:32.603Z"
   },
   {
    "duration": 29,
    "start_time": "2023-10-29T07:17:32.611Z"
   },
   {
    "duration": 30,
    "start_time": "2023-10-29T07:17:32.642Z"
   },
   {
    "duration": 48,
    "start_time": "2023-10-29T07:17:32.674Z"
   },
   {
    "duration": 47,
    "start_time": "2023-10-29T07:17:32.724Z"
   },
   {
    "duration": 77,
    "start_time": "2023-10-29T07:17:32.773Z"
   },
   {
    "duration": 223,
    "start_time": "2023-10-29T07:17:32.851Z"
   },
   {
    "duration": 192,
    "start_time": "2023-10-29T07:17:33.076Z"
   },
   {
    "duration": 189,
    "start_time": "2023-10-29T07:17:33.269Z"
   },
   {
    "duration": 18,
    "start_time": "2023-10-29T07:17:33.460Z"
   },
   {
    "duration": 8,
    "start_time": "2023-10-29T07:17:33.479Z"
   },
   {
    "duration": 219,
    "start_time": "2023-10-29T07:17:33.489Z"
   },
   {
    "duration": 258,
    "start_time": "2023-10-29T07:17:33.709Z"
   },
   {
    "duration": 323,
    "start_time": "2023-10-29T07:17:33.968Z"
   },
   {
    "duration": 12,
    "start_time": "2023-10-29T07:17:34.293Z"
   },
   {
    "duration": 226,
    "start_time": "2023-10-29T07:17:34.306Z"
   },
   {
    "duration": 16,
    "start_time": "2023-10-29T07:17:34.534Z"
   },
   {
    "duration": 23,
    "start_time": "2023-10-29T07:17:34.551Z"
   },
   {
    "duration": 208,
    "start_time": "2023-10-29T07:17:34.576Z"
   },
   {
    "duration": 231,
    "start_time": "2023-10-29T07:17:34.786Z"
   },
   {
    "duration": 205,
    "start_time": "2023-10-29T07:17:35.019Z"
   },
   {
    "duration": 197,
    "start_time": "2023-10-29T07:17:35.227Z"
   },
   {
    "duration": 7,
    "start_time": "2023-10-29T07:17:35.426Z"
   },
   {
    "duration": 24,
    "start_time": "2023-10-29T07:17:35.435Z"
   },
   {
    "duration": 166,
    "start_time": "2023-10-29T07:17:35.461Z"
   },
   {
    "duration": 154,
    "start_time": "2023-10-29T07:17:35.629Z"
   },
   {
    "duration": 183,
    "start_time": "2023-10-29T07:17:35.784Z"
   },
   {
    "duration": 7,
    "start_time": "2023-10-29T07:17:35.969Z"
   },
   {
    "duration": 28,
    "start_time": "2023-10-29T07:17:35.978Z"
   },
   {
    "duration": 193,
    "start_time": "2023-10-29T07:17:36.008Z"
   },
   {
    "duration": 12,
    "start_time": "2023-10-29T07:17:36.203Z"
   },
   {
    "duration": 296,
    "start_time": "2023-10-29T07:17:36.217Z"
   },
   {
    "duration": 169,
    "start_time": "2023-10-29T07:17:36.515Z"
   },
   {
    "duration": 4,
    "start_time": "2023-10-29T07:17:36.685Z"
   },
   {
    "duration": 171,
    "start_time": "2023-10-29T07:17:36.690Z"
   },
   {
    "duration": 155,
    "start_time": "2023-10-29T07:17:36.863Z"
   },
   {
    "duration": 184,
    "start_time": "2023-10-29T07:17:37.020Z"
   },
   {
    "duration": 142,
    "start_time": "2023-10-29T07:17:37.206Z"
   },
   {
    "duration": 212,
    "start_time": "2023-10-29T07:17:37.350Z"
   },
   {
    "duration": 212,
    "start_time": "2023-10-29T07:17:37.564Z"
   },
   {
    "duration": 6,
    "start_time": "2023-10-29T07:17:37.778Z"
   },
   {
    "duration": 218,
    "start_time": "2023-10-29T07:17:37.786Z"
   },
   {
    "duration": 196,
    "start_time": "2023-10-29T07:17:38.005Z"
   },
   {
    "duration": 5,
    "start_time": "2023-10-29T07:17:38.203Z"
   },
   {
    "duration": 183,
    "start_time": "2023-10-29T07:17:38.209Z"
   },
   {
    "duration": 206,
    "start_time": "2023-10-29T07:17:38.398Z"
   },
   {
    "duration": 7,
    "start_time": "2023-10-29T07:17:38.606Z"
   },
   {
    "duration": 221,
    "start_time": "2023-10-29T07:17:38.615Z"
   },
   {
    "duration": 10,
    "start_time": "2023-10-29T07:17:38.837Z"
   },
   {
    "duration": 197,
    "start_time": "2023-10-29T07:17:38.849Z"
   },
   {
    "duration": 4,
    "start_time": "2023-10-29T07:17:39.048Z"
   },
   {
    "duration": 308,
    "start_time": "2023-10-29T07:17:39.053Z"
   },
   {
    "duration": 189,
    "start_time": "2023-10-29T07:17:39.363Z"
   },
   {
    "duration": 4,
    "start_time": "2023-10-29T07:17:39.553Z"
   },
   {
    "duration": 191,
    "start_time": "2023-10-29T07:17:39.558Z"
   },
   {
    "duration": 4,
    "start_time": "2023-10-29T07:17:39.750Z"
   },
   {
    "duration": 40,
    "start_time": "2023-10-29T07:17:39.756Z"
   },
   {
    "duration": 185,
    "start_time": "2023-10-29T07:17:39.798Z"
   },
   {
    "duration": 180,
    "start_time": "2023-10-29T07:17:39.984Z"
   },
   {
    "duration": 5,
    "start_time": "2023-10-29T07:17:40.166Z"
   },
   {
    "duration": 13,
    "start_time": "2023-10-29T07:17:40.173Z"
   },
   {
    "duration": 42,
    "start_time": "2023-10-29T07:17:40.187Z"
   },
   {
    "duration": 15,
    "start_time": "2023-10-29T07:17:40.230Z"
   },
   {
    "duration": 176,
    "start_time": "2023-10-29T07:17:40.246Z"
   },
   {
    "duration": 186,
    "start_time": "2023-10-29T07:18:26.521Z"
   },
   {
    "duration": 197,
    "start_time": "2023-10-29T07:18:34.451Z"
   },
   {
    "duration": 250,
    "start_time": "2023-10-29T07:19:11.583Z"
   },
   {
    "duration": 201,
    "start_time": "2023-10-29T07:19:31.289Z"
   },
   {
    "duration": 244,
    "start_time": "2023-10-29T07:19:46.304Z"
   },
   {
    "duration": 323,
    "start_time": "2023-10-29T07:28:17.364Z"
   },
   {
    "duration": 202,
    "start_time": "2023-10-29T07:28:33.696Z"
   },
   {
    "duration": 213,
    "start_time": "2023-10-29T07:29:00.250Z"
   },
   {
    "duration": 212,
    "start_time": "2023-10-29T07:29:12.275Z"
   },
   {
    "duration": 193,
    "start_time": "2023-10-29T07:30:35.594Z"
   },
   {
    "duration": 206,
    "start_time": "2023-10-29T07:30:51.700Z"
   },
   {
    "duration": 70,
    "start_time": "2023-10-29T07:40:04.882Z"
   },
   {
    "duration": 154,
    "start_time": "2023-10-29T07:40:35.445Z"
   },
   {
    "duration": 166,
    "start_time": "2023-10-29T07:40:52.505Z"
   },
   {
    "duration": 83,
    "start_time": "2023-10-29T07:41:24.855Z"
   },
   {
    "duration": 158,
    "start_time": "2023-10-29T07:42:19.168Z"
   },
   {
    "duration": 180,
    "start_time": "2023-10-29T07:42:34.428Z"
   },
   {
    "duration": 182,
    "start_time": "2023-10-29T07:42:48.181Z"
   },
   {
    "duration": 67,
    "start_time": "2023-10-29T07:44:37.878Z"
   },
   {
    "duration": 166,
    "start_time": "2023-10-29T07:46:37.553Z"
   },
   {
    "duration": 95,
    "start_time": "2023-10-29T07:47:31.733Z"
   },
   {
    "duration": 309,
    "start_time": "2023-10-29T07:47:43.578Z"
   },
   {
    "duration": 165,
    "start_time": "2023-10-29T07:49:35.454Z"
   },
   {
    "duration": 169,
    "start_time": "2023-10-29T07:49:50.502Z"
   },
   {
    "duration": 200,
    "start_time": "2023-10-29T07:50:04.635Z"
   },
   {
    "duration": 187,
    "start_time": "2023-10-29T07:50:38.309Z"
   },
   {
    "duration": 84,
    "start_time": "2023-10-29T08:07:31.076Z"
   },
   {
    "duration": 186,
    "start_time": "2023-10-29T08:07:37.961Z"
   },
   {
    "duration": 206,
    "start_time": "2023-10-29T08:07:51.930Z"
   },
   {
    "duration": 224,
    "start_time": "2023-10-29T08:07:55.829Z"
   },
   {
    "duration": 133,
    "start_time": "2023-10-29T08:52:51.630Z"
   },
   {
    "duration": 171,
    "start_time": "2023-10-29T08:59:17.152Z"
   },
   {
    "duration": 97,
    "start_time": "2023-10-29T08:59:24.400Z"
   },
   {
    "duration": 82,
    "start_time": "2023-10-29T09:00:36.585Z"
   },
   {
    "duration": 109,
    "start_time": "2023-10-29T09:01:15.649Z"
   },
   {
    "duration": 124,
    "start_time": "2023-10-29T09:02:20.986Z"
   },
   {
    "duration": 129,
    "start_time": "2023-10-29T09:03:03.894Z"
   },
   {
    "duration": 234,
    "start_time": "2023-10-29T09:04:51.570Z"
   },
   {
    "duration": 147,
    "start_time": "2023-10-29T09:05:01.100Z"
   },
   {
    "duration": 146,
    "start_time": "2023-10-29T09:05:09.872Z"
   },
   {
    "duration": 145,
    "start_time": "2023-10-29T09:05:22.952Z"
   },
   {
    "duration": 9,
    "start_time": "2023-10-29T09:07:46.327Z"
   },
   {
    "duration": 1234,
    "start_time": "2023-10-29T09:08:24.520Z"
   },
   {
    "duration": 143,
    "start_time": "2023-10-29T09:08:47.686Z"
   },
   {
    "duration": 134,
    "start_time": "2023-10-29T09:09:15.529Z"
   },
   {
    "duration": 150,
    "start_time": "2023-10-29T09:09:44.864Z"
   },
   {
    "duration": 413,
    "start_time": "2023-10-29T09:10:57.862Z"
   },
   {
    "duration": 180,
    "start_time": "2023-10-29T09:11:23.618Z"
   },
   {
    "duration": 166,
    "start_time": "2023-10-29T09:11:37.786Z"
   },
   {
    "duration": 206,
    "start_time": "2023-10-29T09:11:42.421Z"
   },
   {
    "duration": 203,
    "start_time": "2023-10-29T09:11:50.190Z"
   },
   {
    "duration": 214,
    "start_time": "2023-10-29T09:12:02.043Z"
   },
   {
    "duration": 345,
    "start_time": "2023-10-29T09:12:08.236Z"
   },
   {
    "duration": 145,
    "start_time": "2023-10-29T09:13:57.825Z"
   },
   {
    "duration": 131,
    "start_time": "2023-10-29T09:16:56.904Z"
   },
   {
    "duration": 109,
    "start_time": "2023-10-29T09:17:19.419Z"
   },
   {
    "duration": 142,
    "start_time": "2023-10-29T09:18:39.966Z"
   },
   {
    "duration": 103,
    "start_time": "2023-10-29T09:19:15.587Z"
   },
   {
    "duration": 138,
    "start_time": "2023-10-29T09:19:29.558Z"
   },
   {
    "duration": 161,
    "start_time": "2023-10-29T09:20:26.689Z"
   },
   {
    "duration": 141,
    "start_time": "2023-10-29T09:21:00.861Z"
   },
   {
    "duration": 137,
    "start_time": "2023-10-29T09:22:30.459Z"
   },
   {
    "duration": 134,
    "start_time": "2023-10-29T09:22:34.887Z"
   },
   {
    "duration": 82,
    "start_time": "2023-10-29T09:27:19.389Z"
   },
   {
    "duration": 678,
    "start_time": "2023-10-29T09:57:20.574Z"
   },
   {
    "duration": 2488,
    "start_time": "2023-10-29T09:57:21.254Z"
   },
   {
    "duration": 26,
    "start_time": "2023-10-29T09:57:23.744Z"
   },
   {
    "duration": 48,
    "start_time": "2023-10-29T09:57:23.772Z"
   },
   {
    "duration": 5,
    "start_time": "2023-10-29T09:57:23.822Z"
   },
   {
    "duration": 36,
    "start_time": "2023-10-29T09:57:23.829Z"
   },
   {
    "duration": 19,
    "start_time": "2023-10-29T09:57:23.866Z"
   },
   {
    "duration": 8,
    "start_time": "2023-10-29T09:57:23.887Z"
   },
   {
    "duration": 8,
    "start_time": "2023-10-29T09:57:23.896Z"
   },
   {
    "duration": 89,
    "start_time": "2023-10-29T09:57:23.906Z"
   },
   {
    "duration": 55,
    "start_time": "2023-10-29T09:57:23.997Z"
   },
   {
    "duration": 24,
    "start_time": "2023-10-29T09:57:24.054Z"
   },
   {
    "duration": 18,
    "start_time": "2023-10-29T09:57:24.079Z"
   },
   {
    "duration": 27,
    "start_time": "2023-10-29T09:57:24.098Z"
   },
   {
    "duration": 38,
    "start_time": "2023-10-29T09:57:24.126Z"
   },
   {
    "duration": 29,
    "start_time": "2023-10-29T09:57:24.166Z"
   },
   {
    "duration": 9,
    "start_time": "2023-10-29T09:57:24.197Z"
   },
   {
    "duration": 16,
    "start_time": "2023-10-29T09:57:24.208Z"
   },
   {
    "duration": 40,
    "start_time": "2023-10-29T09:57:24.225Z"
   },
   {
    "duration": 38,
    "start_time": "2023-10-29T09:57:24.267Z"
   },
   {
    "duration": 44,
    "start_time": "2023-10-29T09:57:24.307Z"
   },
   {
    "duration": 18,
    "start_time": "2023-10-29T09:57:24.353Z"
   },
   {
    "duration": 15,
    "start_time": "2023-10-29T09:57:24.373Z"
   },
   {
    "duration": 31,
    "start_time": "2023-10-29T09:57:24.390Z"
   },
   {
    "duration": 43,
    "start_time": "2023-10-29T09:57:24.422Z"
   },
   {
    "duration": 27,
    "start_time": "2023-10-29T09:57:24.466Z"
   },
   {
    "duration": 29,
    "start_time": "2023-10-29T09:57:24.495Z"
   },
   {
    "duration": 25,
    "start_time": "2023-10-29T09:57:24.528Z"
   },
   {
    "duration": 26,
    "start_time": "2023-10-29T09:57:24.555Z"
   },
   {
    "duration": 13,
    "start_time": "2023-10-29T09:57:24.583Z"
   },
   {
    "duration": 7,
    "start_time": "2023-10-29T09:57:24.598Z"
   },
   {
    "duration": 42,
    "start_time": "2023-10-29T09:57:24.607Z"
   },
   {
    "duration": 30,
    "start_time": "2023-10-29T09:57:24.651Z"
   },
   {
    "duration": 29,
    "start_time": "2023-10-29T09:57:24.683Z"
   },
   {
    "duration": 35,
    "start_time": "2023-10-29T09:57:24.714Z"
   },
   {
    "duration": 263,
    "start_time": "2023-10-29T09:57:24.750Z"
   },
   {
    "duration": 6,
    "start_time": "2023-10-29T09:57:25.014Z"
   },
   {
    "duration": 15,
    "start_time": "2023-10-29T09:57:25.022Z"
   },
   {
    "duration": 23,
    "start_time": "2023-10-29T09:57:25.039Z"
   },
   {
    "duration": 42,
    "start_time": "2023-10-29T09:57:25.064Z"
   },
   {
    "duration": 31,
    "start_time": "2023-10-29T09:57:25.107Z"
   },
   {
    "duration": 7,
    "start_time": "2023-10-29T09:57:25.139Z"
   },
   {
    "duration": 187,
    "start_time": "2023-10-29T09:57:25.148Z"
   },
   {
    "duration": 194,
    "start_time": "2023-10-29T09:57:25.336Z"
   },
   {
    "duration": 192,
    "start_time": "2023-10-29T09:57:25.532Z"
   },
   {
    "duration": 18,
    "start_time": "2023-10-29T09:57:25.726Z"
   },
   {
    "duration": 25,
    "start_time": "2023-10-29T09:57:25.746Z"
   },
   {
    "duration": 245,
    "start_time": "2023-10-29T09:57:25.773Z"
   },
   {
    "duration": 248,
    "start_time": "2023-10-29T09:57:26.020Z"
   },
   {
    "duration": 275,
    "start_time": "2023-10-29T09:57:26.270Z"
   },
   {
    "duration": 10,
    "start_time": "2023-10-29T09:57:26.547Z"
   },
   {
    "duration": 224,
    "start_time": "2023-10-29T09:57:26.559Z"
   },
   {
    "duration": 9,
    "start_time": "2023-10-29T09:57:26.785Z"
   },
   {
    "duration": 9,
    "start_time": "2023-10-29T09:57:26.807Z"
   },
   {
    "duration": 217,
    "start_time": "2023-10-29T09:57:26.818Z"
   },
   {
    "duration": 193,
    "start_time": "2023-10-29T09:57:27.036Z"
   },
   {
    "duration": 199,
    "start_time": "2023-10-29T09:57:27.232Z"
   },
   {
    "duration": 186,
    "start_time": "2023-10-29T09:57:27.433Z"
   },
   {
    "duration": 6,
    "start_time": "2023-10-29T09:57:27.621Z"
   },
   {
    "duration": 24,
    "start_time": "2023-10-29T09:57:27.629Z"
   },
   {
    "duration": 182,
    "start_time": "2023-10-29T09:57:27.655Z"
   },
   {
    "duration": 160,
    "start_time": "2023-10-29T09:57:27.839Z"
   },
   {
    "duration": 197,
    "start_time": "2023-10-29T09:57:28.006Z"
   },
   {
    "duration": 7,
    "start_time": "2023-10-29T09:57:28.206Z"
   },
   {
    "duration": 16,
    "start_time": "2023-10-29T09:57:28.214Z"
   },
   {
    "duration": 178,
    "start_time": "2023-10-29T09:57:28.231Z"
   },
   {
    "duration": 11,
    "start_time": "2023-10-29T09:57:28.411Z"
   },
   {
    "duration": 300,
    "start_time": "2023-10-29T09:57:28.424Z"
   },
   {
    "duration": 245,
    "start_time": "2023-10-29T09:57:28.725Z"
   },
   {
    "duration": 4,
    "start_time": "2023-10-29T09:57:28.971Z"
   },
   {
    "duration": 174,
    "start_time": "2023-10-29T09:57:28.977Z"
   },
   {
    "duration": 165,
    "start_time": "2023-10-29T09:57:29.153Z"
   },
   {
    "duration": 174,
    "start_time": "2023-10-29T09:57:29.320Z"
   },
   {
    "duration": 147,
    "start_time": "2023-10-29T09:57:29.495Z"
   },
   {
    "duration": 205,
    "start_time": "2023-10-29T09:57:29.644Z"
   },
   {
    "duration": 210,
    "start_time": "2023-10-29T09:57:29.851Z"
   },
   {
    "duration": 5,
    "start_time": "2023-10-29T09:57:30.063Z"
   },
   {
    "duration": 260,
    "start_time": "2023-10-29T09:57:30.070Z"
   },
   {
    "duration": 188,
    "start_time": "2023-10-29T09:57:30.332Z"
   },
   {
    "duration": 4,
    "start_time": "2023-10-29T09:57:30.522Z"
   },
   {
    "duration": 215,
    "start_time": "2023-10-29T09:57:30.528Z"
   },
   {
    "duration": 203,
    "start_time": "2023-10-29T09:57:30.749Z"
   },
   {
    "duration": 7,
    "start_time": "2023-10-29T09:57:30.953Z"
   },
   {
    "duration": 258,
    "start_time": "2023-10-29T09:57:30.962Z"
   },
   {
    "duration": 4,
    "start_time": "2023-10-29T09:57:31.222Z"
   },
   {
    "duration": 419,
    "start_time": "2023-10-29T09:57:31.228Z"
   },
   {
    "duration": 5,
    "start_time": "2023-10-29T09:57:31.648Z"
   },
   {
    "duration": 209,
    "start_time": "2023-10-29T09:57:31.654Z"
   },
   {
    "duration": 189,
    "start_time": "2023-10-29T09:57:31.864Z"
   },
   {
    "duration": 5,
    "start_time": "2023-10-29T09:57:32.054Z"
   },
   {
    "duration": 206,
    "start_time": "2023-10-29T09:57:32.060Z"
   },
   {
    "duration": 5,
    "start_time": "2023-10-29T09:57:32.267Z"
   },
   {
    "duration": 40,
    "start_time": "2023-10-29T09:57:32.274Z"
   },
   {
    "duration": 181,
    "start_time": "2023-10-29T09:57:32.315Z"
   },
   {
    "duration": 164,
    "start_time": "2023-10-29T09:57:32.497Z"
   },
   {
    "duration": 4,
    "start_time": "2023-10-29T09:57:32.663Z"
   },
   {
    "duration": 16,
    "start_time": "2023-10-29T09:57:32.668Z"
   },
   {
    "duration": 61,
    "start_time": "2023-10-29T09:57:32.685Z"
   },
   {
    "duration": 3,
    "start_time": "2023-10-29T09:57:32.748Z"
   },
   {
    "duration": 141,
    "start_time": "2023-10-29T09:57:32.753Z"
   },
   {
    "duration": 169,
    "start_time": "2023-10-29T09:57:32.896Z"
   },
   {
    "duration": 17,
    "start_time": "2023-10-29T09:59:26.135Z"
   }
  ],
  "kernelspec": {
   "display_name": "Python 3 (ipykernel)",
   "language": "python",
   "name": "python3"
  },
  "language_info": {
   "codemirror_mode": {
    "name": "ipython",
    "version": 3
   },
   "file_extension": ".py",
   "mimetype": "text/x-python",
   "name": "python",
   "nbconvert_exporter": "python",
   "pygments_lexer": "ipython3",
   "version": "3.11.5"
  },
  "toc": {
   "base_numbering": 1,
   "nav_menu": {},
   "number_sections": true,
   "sideBar": true,
   "skip_h1_title": true,
   "title_cell": "Table of Contents",
   "title_sidebar": "Contents",
   "toc_cell": false,
   "toc_position": {},
   "toc_section_display": true,
   "toc_window_display": false
  }
 },
 "nbformat": 4,
 "nbformat_minor": 2
}
